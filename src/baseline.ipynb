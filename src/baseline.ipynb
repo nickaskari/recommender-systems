{
 "cells": [
  {
   "cell_type": "code",
   "execution_count": 59,
   "metadata": {},
   "outputs": [
    {
     "data": {
      "text/plain": [
       "<module 'lib.models.baseline' from '/Users/mathiasraa/Desktop/ntnu/recommender-systems/lib/models/baseline.py'>"
      ]
     },
     "execution_count": 59,
     "metadata": {},
     "output_type": "execute_result"
    }
   ],
   "source": [
    "import pandas as pd\n",
    "import numpy as np\n",
    "import polars as pl\n",
    "import lib.models.baseline as baseline\n",
    "import lib.eval as eval\n",
    "\n",
    "import importlib\n",
    "importlib.reload(eval)\n",
    "importlib.reload(baseline)"
   ]
  },
  {
   "cell_type": "code",
   "execution_count": 61,
   "metadata": {},
   "outputs": [],
   "source": [
    "behavior_polars_train = pl.read_csv(\"data/MINDlarge_train/behaviors.tsv\", separator='\\t', has_header=False)\n",
    "behavior_polars_dev = pl.read_csv(\"data/MINDlarge_dev/behaviors.tsv\", separator='\\t', has_header=False)\n",
    "behavior_polars_test = pl.read_csv(\"data/MINDlarge_test/behaviors.tsv\", separator='\\t', has_header=False)\n",
    "behavior_polars_test.columns = ['impression_id', 'user_id', 'timestamp', 'history', 'impressions']\n",
    "behavior_polars_train.columns = ['impression_id', 'user_id', 'timestamp', 'history', 'impressions']\n",
    "behavior_polars_dev.columns = ['impression_id', 'user_id', 'timestamp', 'history', 'impressions']"
   ]
  },
  {
   "cell_type": "code",
   "execution_count": 62,
   "metadata": {},
   "outputs": [],
   "source": [
    "baseline_predictions = baseline.create_popularity_baseline(behavior_polars_train, behavior_polars_dev)"
   ]
  },
  {
   "cell_type": "code",
   "execution_count": 63,
   "metadata": {},
   "outputs": [],
   "source": [
    "normalized_predictions = baseline.normalize_scores(baseline_predictions)"
   ]
  },
  {
   "cell_type": "code",
   "execution_count": 64,
   "metadata": {},
   "outputs": [
    {
     "data": {
      "text/html": [
       "<div><style>\n",
       ".dataframe > thead > tr,\n",
       ".dataframe > tbody > tr {\n",
       "  text-align: right;\n",
       "  white-space: pre-wrap;\n",
       "}\n",
       "</style>\n",
       "<small>shape: (14_085_557, 3)</small><table border=\"1\" class=\"dataframe\"><thead><tr><th>impression_id</th><th>news_id</th><th>score</th></tr><tr><td>i64</td><td>str</td><td>f64</td></tr></thead><tbody><tr><td>1</td><td>&quot;N91737&quot;</td><td>9.4516e-8</td></tr><tr><td>1</td><td>&quot;N30206&quot;</td><td>0.000961</td></tr><tr><td>1</td><td>&quot;N54368&quot;</td><td>0.238337</td></tr><tr><td>1</td><td>&quot;N117802&quot;</td><td>0.002433</td></tr><tr><td>1</td><td>&quot;N18190&quot;</td><td>0.150057</td></tr><tr><td>&hellip;</td><td>&hellip;</td><td>&hellip;</td></tr><tr><td>376471</td><td>&quot;N86509&quot;</td><td>0.0</td></tr><tr><td>376471</td><td>&quot;N12384&quot;</td><td>0.003406</td></tr><tr><td>376471</td><td>&quot;N14719&quot;</td><td>0.019876</td></tr><tr><td>376471</td><td>&quot;N48360&quot;</td><td>0.005892</td></tr><tr><td>376471</td><td>&quot;N26122&quot;</td><td>0.371341</td></tr></tbody></table></div>"
      ],
      "text/plain": [
       "shape: (14_085_557, 3)\n",
       "┌───────────────┬─────────┬───────────┐\n",
       "│ impression_id ┆ news_id ┆ score     │\n",
       "│ ---           ┆ ---     ┆ ---       │\n",
       "│ i64           ┆ str     ┆ f64       │\n",
       "╞═══════════════╪═════════╪═══════════╡\n",
       "│ 1             ┆ N91737  ┆ 9.4516e-8 │\n",
       "│ 1             ┆ N30206  ┆ 0.000961  │\n",
       "│ 1             ┆ N54368  ┆ 0.238337  │\n",
       "│ 1             ┆ N117802 ┆ 0.002433  │\n",
       "│ 1             ┆ N18190  ┆ 0.150057  │\n",
       "│ …             ┆ …       ┆ …         │\n",
       "│ 376471        ┆ N86509  ┆ 0.0       │\n",
       "│ 376471        ┆ N12384  ┆ 0.003406  │\n",
       "│ 376471        ┆ N14719  ┆ 0.019876  │\n",
       "│ 376471        ┆ N48360  ┆ 0.005892  │\n",
       "│ 376471        ┆ N26122  ┆ 0.371341  │\n",
       "└───────────────┴─────────┴───────────┘"
      ]
     },
     "execution_count": 64,
     "metadata": {},
     "output_type": "execute_result"
    }
   ],
   "source": [
    "normalized_predictions"
   ]
  },
  {
   "cell_type": "code",
   "execution_count": 65,
   "metadata": {},
   "outputs": [],
   "source": [
    "results = eval.evaluate_mind_predictions(normalized_predictions, behavior_polars_dev)"
   ]
  },
  {
   "cell_type": "code",
   "execution_count": 66,
   "metadata": {},
   "outputs": [
    {
     "data": {
      "text/html": [
       "<div>\n",
       "<style scoped>\n",
       "    .dataframe tbody tr th:only-of-type {\n",
       "        vertical-align: middle;\n",
       "    }\n",
       "\n",
       "    .dataframe tbody tr th {\n",
       "        vertical-align: top;\n",
       "    }\n",
       "\n",
       "    .dataframe thead th {\n",
       "        text-align: right;\n",
       "    }\n",
       "</style>\n",
       "<table border=\"1\" class=\"dataframe\">\n",
       "  <thead>\n",
       "    <tr style=\"text-align: right;\">\n",
       "      <th></th>\n",
       "      <th>auc</th>\n",
       "      <th>mrr</th>\n",
       "      <th>ndcg@5</th>\n",
       "      <th>ndcg@10</th>\n",
       "    </tr>\n",
       "  </thead>\n",
       "  <tbody>\n",
       "    <tr>\n",
       "      <th>0</th>\n",
       "      <td>0.552853</td>\n",
       "      <td>0.261856</td>\n",
       "      <td>0.269713</td>\n",
       "      <td>0.332056</td>\n",
       "    </tr>\n",
       "  </tbody>\n",
       "</table>\n",
       "</div>"
      ],
      "text/plain": [
       "        auc       mrr    ndcg@5   ndcg@10\n",
       "0  0.552853  0.261856  0.269713  0.332056"
      ]
     },
     "execution_count": 66,
     "metadata": {},
     "output_type": "execute_result"
    }
   ],
   "source": [
    "pd.DataFrame(results, index=[0])"
   ]
  }
 ],
 "metadata": {
  "kernelspec": {
   "display_name": ".venv",
   "language": "python",
   "name": "python3"
  },
  "language_info": {
   "codemirror_mode": {
    "name": "ipython",
    "version": 3
   },
   "file_extension": ".py",
   "mimetype": "text/x-python",
   "name": "python",
   "nbconvert_exporter": "python",
   "pygments_lexer": "ipython3",
   "version": "3.12.4"
  }
 },
 "nbformat": 4,
 "nbformat_minor": 2
}
