{
 "cells": [
  {
   "cell_type": "code",
   "execution_count": 43,
   "metadata": {},
   "outputs": [],
   "source": [
    "import pandas as pd\n",
    "import numpy as np\n",
    "import polars as pl"
   ]
  },
  {
   "cell_type": "code",
   "execution_count": 2,
   "metadata": {},
   "outputs": [],
   "source": [
    "def create_popularity_baseline_polars(train_df, test_df):\n",
    "    \"\"\"\n",
    "    Create a popularity-based baseline model for MIND dataset using Polars\n",
    "\n",
    "    Args:\n",
    "        train_df: Polars DataFrame with training data\n",
    "        test_df: Polars DataFrame with test data\n",
    "\n",
    "    Returns:\n",
    "        Polars DataFrame with predictions for test set\n",
    "    \"\"\"\n",
    "    # Extract clicked articles from training set\n",
    "    # First, explode impressions\n",
    "    train_impressions = (\n",
    "        train_df.select(pl.col(\"impressions\"))\n",
    "        .with_columns(pl.col(\"impressions\").str.split(\" \"))\n",
    "        .explode(\"impressions\")\n",
    "    )\n",
    "\n",
    "    # Then parse news_id and click\n",
    "    article_clicks = (\n",
    "        train_impressions.with_columns(\n",
    "            [\n",
    "                pl.col(\"impressions\").str.split(\"-\").list.get(0).alias(\"news_id\"),\n",
    "                pl.col(\"impressions\").str.split(\"-\").list.get(1).alias(\"click\"),\n",
    "            ]\n",
    "        )\n",
    "        .filter(pl.col(\"click\") == \"1\")\n",
    "        .group_by(\"news_id\")\n",
    "        .len()\n",
    "        .rename({\"len\": \"clicks\"})\n",
    "    )\n",
    "\n",
    "    # Calculate global CTR\n",
    "    impressions_count = train_impressions.shape[0]\n",
    "    clicks_count = train_impressions.filter(\n",
    "        pl.col(\"impressions\").str.contains(\"-1$\")\n",
    "    ).shape[0]\n",
    "    global_ctr = clicks_count / impressions_count if impressions_count > 0 else 0.1\n",
    "\n",
    "    # Prepare test data\n",
    "    test_exploded = (\n",
    "        test_df.select(pl.col(\"impression_id\"), pl.col(\"impressions\"))\n",
    "        .with_columns(pl.col(\"impressions\").str.split(\" \"))\n",
    "        .explode(\"impressions\")\n",
    "        .with_columns(\n",
    "            [pl.col(\"impressions\").str.split(\"-\").list.get(0).alias(\"news_id\")]\n",
    "        )\n",
    "    )\n",
    "\n",
    "    # Generate random noise\n",
    "    np.random.seed(42)  # For reproducibility\n",
    "    test_exploded = test_exploded.with_columns(\n",
    "        pl.lit(np.random.random(test_exploded.shape[0]) * 0.001).alias(\"noise\")\n",
    "    )\n",
    "\n",
    "    # Join with article clicks\n",
    "    predictions = (\n",
    "        test_exploded.join(article_clicks, on=\"news_id\", how=\"left\")\n",
    "        .with_columns(\n",
    "            [\n",
    "                pl.when(pl.col(\"clicks\").is_null())\n",
    "                .then(global_ctr + pl.col(\"noise\"))\n",
    "                .otherwise(pl.col(\"clicks\") + pl.col(\"noise\"))\n",
    "                .alias(\"score\")\n",
    "            ]\n",
    "        )\n",
    "        .select(\"impression_id\", \"news_id\", \"score\")\n",
    "    )\n",
    "\n",
    "    return predictions"
   ]
  },
  {
   "cell_type": "code",
   "execution_count": 3,
   "metadata": {},
   "outputs": [],
   "source": [
    "def normalize_scores(predictions_df):\n",
    "    \"\"\"Normalize scores to [0,1] range within each impression using Polars\"\"\"\n",
    "    df = predictions_df\n",
    "    \n",
    "    # Group by impression_id and compute min and max scores\n",
    "    result = df.join(\n",
    "        df.group_by(\"impression_id\").agg([\n",
    "            pl.col(\"score\").min().alias(\"min_score\"),\n",
    "            pl.col(\"score\").max().alias(\"max_score\")\n",
    "        ]),\n",
    "        on=\"impression_id\"\n",
    "    )\n",
    "    \n",
    "    # Apply min-max normalization\n",
    "    result = result.with_columns([\n",
    "        pl.when(pl.col(\"max_score\") > pl.col(\"min_score\"))\n",
    "          .then((pl.col(\"score\") - pl.col(\"min_score\")) / (pl.col(\"max_score\") - pl.col(\"min_score\")))\n",
    "          .otherwise(pl.lit(0.5))\n",
    "          .alias(\"score\")\n",
    "    ])\n",
    "    \n",
    "    # Drop temporary columns and select original columns\n",
    "    result = result.drop([\"min_score\", \"max_score\"])\n",
    "    \n",
    "    return result"
   ]
  },
  {
   "cell_type": "code",
   "execution_count": 15,
   "metadata": {},
   "outputs": [],
   "source": [
    "behavior_polars_train = pl.read_csv(\"data/MINDlarge_train/behaviors.tsv\", separator='\\t', has_header=False)\n",
    "behavior_polars_dev = pl.read_csv(\"data/MINDlarge_dev/behaviors.tsv\", separator='\\t', has_header=False)\n",
    "behavior_polars_train.columns = ['impression_id', 'user_id', 'timestamp', 'history', 'impressions']\n",
    "behavior_polars_dev.columns = ['impression_id', 'user_id', 'timestamp', 'history', 'impressions']"
   ]
  },
  {
   "cell_type": "code",
   "execution_count": 16,
   "metadata": {},
   "outputs": [],
   "source": [
    "baseline_predictions = create_popularity_baseline_polars(behavior_polars_train, behavior_polars_dev)\n"
   ]
  },
  {
   "cell_type": "code",
   "execution_count": null,
   "metadata": {},
   "outputs": [],
   "source": [
    "normalized_predictions = normalize_scores(baseline_predictions)"
   ]
  },
  {
   "cell_type": "code",
   "execution_count": 31,
   "metadata": {},
   "outputs": [
    {
     "data": {
      "text/plain": [
       "<module 'lib.eval' from '/Users/mathiasraa/Desktop/ntnu/recommender-systems/lib/eval.py'>"
      ]
     },
     "execution_count": 31,
     "metadata": {},
     "output_type": "execute_result"
    }
   ],
   "source": [
    "import lib.eval as eval\n",
    "import importlib\n",
    "importlib.reload(eval)"
   ]
  },
  {
   "cell_type": "code",
   "execution_count": 32,
   "metadata": {},
   "outputs": [],
   "source": [
    "results = eval.evaluate_mind_predictions(normalized_predictions, behavior_polars_dev)"
   ]
  },
  {
   "cell_type": "code",
   "execution_count": 36,
   "metadata": {},
   "outputs": [
    {
     "data": {
      "text/html": [
       "<div>\n",
       "<style scoped>\n",
       "    .dataframe tbody tr th:only-of-type {\n",
       "        vertical-align: middle;\n",
       "    }\n",
       "\n",
       "    .dataframe tbody tr th {\n",
       "        vertical-align: top;\n",
       "    }\n",
       "\n",
       "    .dataframe thead th {\n",
       "        text-align: right;\n",
       "    }\n",
       "</style>\n",
       "<table border=\"1\" class=\"dataframe\">\n",
       "  <thead>\n",
       "    <tr style=\"text-align: right;\">\n",
       "      <th></th>\n",
       "      <th>auc</th>\n",
       "      <th>mrr</th>\n",
       "      <th>ndcg@5</th>\n",
       "      <th>ndcg@10</th>\n",
       "    </tr>\n",
       "  </thead>\n",
       "  <tbody>\n",
       "    <tr>\n",
       "      <th>0</th>\n",
       "      <td>0.552853</td>\n",
       "      <td>0.261856</td>\n",
       "      <td>0.269713</td>\n",
       "      <td>0.332056</td>\n",
       "    </tr>\n",
       "  </tbody>\n",
       "</table>\n",
       "</div>"
      ],
      "text/plain": [
       "        auc       mrr    ndcg@5   ndcg@10\n",
       "0  0.552853  0.261856  0.269713  0.332056"
      ]
     },
     "execution_count": 36,
     "metadata": {},
     "output_type": "execute_result"
    }
   ],
   "source": [
    "pd.DataFrame(results, index=[0])"
   ]
  },
  {
   "cell_type": "code",
   "execution_count": 42,
   "metadata": {},
   "outputs": [
    {
     "data": {
      "text/plain": [
       "DatetimeIndex(['2019-11-15 00:00:00', '2019-11-15 00:00:01',\n",
       "               '2019-11-15 00:00:02', '2019-11-15 00:00:04',\n",
       "               '2019-11-15 00:00:05', '2019-11-15 00:00:06',\n",
       "               '2019-11-15 00:00:06', '2019-11-15 00:00:07',\n",
       "               '2019-11-15 00:00:07', '2019-11-15 00:00:09',\n",
       "               ...\n",
       "               '2019-11-15 23:59:17', '2019-11-15 23:59:20',\n",
       "               '2019-11-15 23:59:22', '2019-11-15 23:59:23',\n",
       "               '2019-11-15 23:59:25', '2019-11-15 23:59:39',\n",
       "               '2019-11-15 23:59:39', '2019-11-15 23:59:40',\n",
       "               '2019-11-15 23:59:41', '2019-11-15 23:59:43'],\n",
       "              dtype='datetime64[ns]', length=376471, freq=None)"
      ]
     },
     "execution_count": 42,
     "metadata": {},
     "output_type": "execute_result"
    }
   ],
   "source": [
    "pd.to_datetime(behavior_polars_dev[\"timestamp\"]).sort_values(ascending=True)"
   ]
  },
  {
   "cell_type": "code",
   "execution_count": 41,
   "metadata": {},
   "outputs": [
    {
     "data": {
      "text/plain": [
       "DatetimeIndex(['2019-11-09 00:00:00', '2019-11-09 00:00:02',\n",
       "               '2019-11-09 00:00:03', '2019-11-09 00:00:07',\n",
       "               '2019-11-09 00:00:13', '2019-11-09 00:00:14',\n",
       "               '2019-11-09 00:00:17', '2019-11-09 00:00:19',\n",
       "               '2019-11-09 00:00:24', '2019-11-09 00:00:25',\n",
       "               ...\n",
       "               '2019-11-14 23:59:49', '2019-11-14 23:59:50',\n",
       "               '2019-11-14 23:59:53', '2019-11-14 23:59:53',\n",
       "               '2019-11-14 23:59:53', '2019-11-14 23:59:54',\n",
       "               '2019-11-14 23:59:54', '2019-11-14 23:59:54',\n",
       "               '2019-11-14 23:59:59', '2019-11-14 23:59:59'],\n",
       "              dtype='datetime64[ns]', length=2232748, freq=None)"
      ]
     },
     "execution_count": 41,
     "metadata": {},
     "output_type": "execute_result"
    }
   ],
   "source": [
    "pd.to_datetime(behavior_polars_train[\"timestamp\"]).sort_values(ascending=True)"
   ]
  }
 ],
 "metadata": {
  "kernelspec": {
   "display_name": ".venv",
   "language": "python",
   "name": "python3"
  },
  "language_info": {
   "codemirror_mode": {
    "name": "ipython",
    "version": 3
   },
   "file_extension": ".py",
   "mimetype": "text/x-python",
   "name": "python",
   "nbconvert_exporter": "python",
   "pygments_lexer": "ipython3",
   "version": "3.12.4"
  }
 },
 "nbformat": 4,
 "nbformat_minor": 2
}
