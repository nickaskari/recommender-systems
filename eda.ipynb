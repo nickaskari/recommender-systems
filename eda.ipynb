{
 "cells": [
  {
   "cell_type": "code",
   "execution_count": 11,
   "metadata": {},
   "outputs": [],
   "source": [
    "import pandas as pd\n",
    "import numpy as np\n",
    "import plotly.express as px"
   ]
  },
  {
   "cell_type": "markdown",
   "metadata": {},
   "source": [
    "# This Notebook aims to do EDA on the News Dataset"
   ]
  },
  {
   "cell_type": "code",
   "execution_count": 12,
   "metadata": {},
   "outputs": [],
   "source": [
    "news_data = pd.read_csv('data/MINDlarge_train/news.tsv', sep='\\t', header=None)\n",
    "news_data.columns = ['article_id', 'category', 'subcategory', 'title', 'abstract', 'url', 'title_entities', 'abstract_entities']"
   ]
  },
  {
   "cell_type": "code",
   "execution_count": 13,
   "metadata": {},
   "outputs": [
    {
     "data": {
      "text/html": [
       "<div>\n",
       "<style scoped>\n",
       "    .dataframe tbody tr th:only-of-type {\n",
       "        vertical-align: middle;\n",
       "    }\n",
       "\n",
       "    .dataframe tbody tr th {\n",
       "        vertical-align: top;\n",
       "    }\n",
       "\n",
       "    .dataframe thead th {\n",
       "        text-align: right;\n",
       "    }\n",
       "</style>\n",
       "<table border=\"1\" class=\"dataframe\">\n",
       "  <thead>\n",
       "    <tr style=\"text-align: right;\">\n",
       "      <th></th>\n",
       "      <th>article_id</th>\n",
       "      <th>category</th>\n",
       "      <th>subcategory</th>\n",
       "      <th>title</th>\n",
       "      <th>abstract</th>\n",
       "      <th>url</th>\n",
       "      <th>title_entities</th>\n",
       "      <th>abstract_entities</th>\n",
       "    </tr>\n",
       "  </thead>\n",
       "  <tbody>\n",
       "    <tr>\n",
       "      <th>count</th>\n",
       "      <td>101527</td>\n",
       "      <td>101527</td>\n",
       "      <td>101527</td>\n",
       "      <td>101527</td>\n",
       "      <td>96112</td>\n",
       "      <td>101527</td>\n",
       "      <td>101524</td>\n",
       "      <td>101521</td>\n",
       "    </tr>\n",
       "    <tr>\n",
       "      <th>unique</th>\n",
       "      <td>101527</td>\n",
       "      <td>18</td>\n",
       "      <td>285</td>\n",
       "      <td>98388</td>\n",
       "      <td>91654</td>\n",
       "      <td>101526</td>\n",
       "      <td>66863</td>\n",
       "      <td>72168</td>\n",
       "    </tr>\n",
       "    <tr>\n",
       "      <th>top</th>\n",
       "      <td>N88753</td>\n",
       "      <td>sports</td>\n",
       "      <td>newsus</td>\n",
       "      <td>Powerball Winning Numbers For 10/26/2019 Drawi...</td>\n",
       "      <td>What's the weather today? What's the weather f...</td>\n",
       "      <td>[]</td>\n",
       "      <td>[]</td>\n",
       "      <td>[]</td>\n",
       "    </tr>\n",
       "    <tr>\n",
       "      <th>freq</th>\n",
       "      <td>1</td>\n",
       "      <td>32020</td>\n",
       "      <td>14467</td>\n",
       "      <td>27</td>\n",
       "      <td>435</td>\n",
       "      <td>2</td>\n",
       "      <td>26053</td>\n",
       "      <td>25480</td>\n",
       "    </tr>\n",
       "  </tbody>\n",
       "</table>\n",
       "</div>"
      ],
      "text/plain": [
       "       article_id category subcategory  \\\n",
       "count      101527   101527      101527   \n",
       "unique     101527       18         285   \n",
       "top        N88753   sports      newsus   \n",
       "freq            1    32020       14467   \n",
       "\n",
       "                                                    title  \\\n",
       "count                                              101527   \n",
       "unique                                              98388   \n",
       "top     Powerball Winning Numbers For 10/26/2019 Drawi...   \n",
       "freq                                                   27   \n",
       "\n",
       "                                                 abstract     url  \\\n",
       "count                                               96112  101527   \n",
       "unique                                              91654  101526   \n",
       "top     What's the weather today? What's the weather f...      []   \n",
       "freq                                                  435       2   \n",
       "\n",
       "       title_entities abstract_entities  \n",
       "count          101524            101521  \n",
       "unique          66863             72168  \n",
       "top                []                []  \n",
       "freq            26053             25480  "
      ]
     },
     "execution_count": 13,
     "metadata": {},
     "output_type": "execute_result"
    }
   ],
   "source": [
    "news_data.describe()"
   ]
  },
  {
   "cell_type": "code",
   "execution_count": 14,
   "metadata": {},
   "outputs": [
    {
     "name": "stdout",
     "output_type": "stream",
     "text": [
      "<class 'pandas.core.frame.DataFrame'>\n",
      "RangeIndex: 101527 entries, 0 to 101526\n",
      "Data columns (total 8 columns):\n",
      " #   Column             Non-Null Count   Dtype \n",
      "---  ------             --------------   ----- \n",
      " 0   article_id         101527 non-null  object\n",
      " 1   category           101527 non-null  object\n",
      " 2   subcategory        101527 non-null  object\n",
      " 3   title              101527 non-null  object\n",
      " 4   abstract           96112 non-null   object\n",
      " 5   url                101527 non-null  object\n",
      " 6   title_entities     101524 non-null  object\n",
      " 7   abstract_entities  101521 non-null  object\n",
      "dtypes: object(8)\n",
      "memory usage: 6.2+ MB\n"
     ]
    }
   ],
   "source": [
    "news_data.info()"
   ]
  },
  {
   "cell_type": "markdown",
   "metadata": {},
   "source": [
    "### Missing Values"
   ]
  },
  {
   "cell_type": "code",
   "execution_count": 15,
   "metadata": {},
   "outputs": [
    {
     "data": {
      "text/plain": [
       "article_id              0\n",
       "category                0\n",
       "subcategory             0\n",
       "title                   0\n",
       "abstract             5415\n",
       "url                     0\n",
       "title_entities          3\n",
       "abstract_entities       6\n",
       "dtype: int64"
      ]
     },
     "execution_count": 15,
     "metadata": {},
     "output_type": "execute_result"
    }
   ],
   "source": [
    "news_data.isna().sum()"
   ]
  },
  {
   "cell_type": "markdown",
   "metadata": {},
   "source": [
    "### Categories ranked in order"
   ]
  },
  {
   "cell_type": "code",
   "execution_count": 16,
   "metadata": {},
   "outputs": [
    {
     "data": {
      "text/plain": [
       "category\n",
       "sports           32020\n",
       "news             30478\n",
       "finance           5916\n",
       "travel            4955\n",
       "lifestyle         4570\n",
       "video             4569\n",
       "foodanddrink      4418\n",
       "weather           4255\n",
       "autos             3071\n",
       "health            2929\n",
       "tv                1323\n",
       "music             1263\n",
       "entertainment      837\n",
       "movies             815\n",
       "kids               104\n",
       "middleeast           2\n",
       "games                1\n",
       "northamerica         1\n",
       "Name: count, dtype: int64"
      ]
     },
     "execution_count": 16,
     "metadata": {},
     "output_type": "execute_result"
    }
   ],
   "source": [
    "news_data[\"category\"].value_counts()"
   ]
  },
  {
   "cell_type": "markdown",
   "metadata": {},
   "source": [
    "### Subcategories"
   ]
  },
  {
   "cell_type": "code",
   "execution_count": 17,
   "metadata": {},
   "outputs": [
    {
     "data": {
      "text/plain": [
       "subcategory\n",
       "newsus               14467\n",
       "football_nfl         11813\n",
       "newspolitics          5145\n",
       "weathertopstories     4253\n",
       "newscrime             3676\n",
       "                     ...  \n",
       "cookingschool            1\n",
       "mindandbody              1\n",
       "other                    1\n",
       "healthandfitness         1\n",
       "celebhub                 1\n",
       "Name: count, Length: 285, dtype: int64"
      ]
     },
     "execution_count": 17,
     "metadata": {},
     "output_type": "execute_result"
    }
   ],
   "source": [
    "news_data[\"subcategory\"].value_counts()"
   ]
  },
  {
   "cell_type": "code",
   "execution_count": 18,
   "metadata": {},
   "outputs": [
    {
     "ename": "ValueError",
     "evalue": "Mime type rendering requires nbformat>=4.2.0 but it is not installed",
     "output_type": "error",
     "traceback": [
      "\u001b[0;31m---------------------------------------------------------------------------\u001b[0m",
      "\u001b[0;31mValueError\u001b[0m                                Traceback (most recent call last)",
      "File \u001b[0;32m~/recommender-systems/recommender-systems/.venv/lib/python3.12/site-packages/IPython/core/formatters.py:984\u001b[0m, in \u001b[0;36mIPythonDisplayFormatter.__call__\u001b[0;34m(self, obj)\u001b[0m\n\u001b[1;32m    982\u001b[0m method \u001b[38;5;241m=\u001b[39m get_real_method(obj, \u001b[38;5;28mself\u001b[39m\u001b[38;5;241m.\u001b[39mprint_method)\n\u001b[1;32m    983\u001b[0m \u001b[38;5;28;01mif\u001b[39;00m method \u001b[38;5;129;01mis\u001b[39;00m \u001b[38;5;129;01mnot\u001b[39;00m \u001b[38;5;28;01mNone\u001b[39;00m:\n\u001b[0;32m--> 984\u001b[0m     \u001b[43mmethod\u001b[49m\u001b[43m(\u001b[49m\u001b[43m)\u001b[49m\n\u001b[1;32m    985\u001b[0m     \u001b[38;5;28;01mreturn\u001b[39;00m \u001b[38;5;28;01mTrue\u001b[39;00m\n",
      "File \u001b[0;32m~/recommender-systems/recommender-systems/.venv/lib/python3.12/site-packages/plotly/basedatatypes.py:833\u001b[0m, in \u001b[0;36mBaseFigure._ipython_display_\u001b[0;34m(self)\u001b[0m\n\u001b[1;32m    830\u001b[0m \u001b[38;5;28;01mimport\u001b[39;00m\u001b[38;5;250m \u001b[39m\u001b[38;5;21;01mplotly\u001b[39;00m\u001b[38;5;21;01m.\u001b[39;00m\u001b[38;5;21;01mio\u001b[39;00m\u001b[38;5;250m \u001b[39m\u001b[38;5;28;01mas\u001b[39;00m\u001b[38;5;250m \u001b[39m\u001b[38;5;21;01mpio\u001b[39;00m\n\u001b[1;32m    832\u001b[0m \u001b[38;5;28;01mif\u001b[39;00m pio\u001b[38;5;241m.\u001b[39mrenderers\u001b[38;5;241m.\u001b[39mrender_on_display \u001b[38;5;129;01mand\u001b[39;00m pio\u001b[38;5;241m.\u001b[39mrenderers\u001b[38;5;241m.\u001b[39mdefault:\n\u001b[0;32m--> 833\u001b[0m     \u001b[43mpio\u001b[49m\u001b[38;5;241;43m.\u001b[39;49m\u001b[43mshow\u001b[49m\u001b[43m(\u001b[49m\u001b[38;5;28;43mself\u001b[39;49m\u001b[43m)\u001b[49m\n\u001b[1;32m    834\u001b[0m \u001b[38;5;28;01melse\u001b[39;00m:\n\u001b[1;32m    835\u001b[0m     \u001b[38;5;28mprint\u001b[39m(\u001b[38;5;28mrepr\u001b[39m(\u001b[38;5;28mself\u001b[39m))\n",
      "File \u001b[0;32m~/recommender-systems/recommender-systems/.venv/lib/python3.12/site-packages/plotly/io/_renderers.py:425\u001b[0m, in \u001b[0;36mshow\u001b[0;34m(fig, renderer, validate, **kwargs)\u001b[0m\n\u001b[1;32m    420\u001b[0m     \u001b[38;5;28;01mraise\u001b[39;00m \u001b[38;5;167;01mValueError\u001b[39;00m(\n\u001b[1;32m    421\u001b[0m         \u001b[38;5;124m\"\u001b[39m\u001b[38;5;124mMime type rendering requires ipython but it is not installed\u001b[39m\u001b[38;5;124m\"\u001b[39m\n\u001b[1;32m    422\u001b[0m     )\n\u001b[1;32m    424\u001b[0m \u001b[38;5;28;01mif\u001b[39;00m \u001b[38;5;129;01mnot\u001b[39;00m nbformat \u001b[38;5;129;01mor\u001b[39;00m Version(nbformat\u001b[38;5;241m.\u001b[39m__version__) \u001b[38;5;241m<\u001b[39m Version(\u001b[38;5;124m\"\u001b[39m\u001b[38;5;124m4.2.0\u001b[39m\u001b[38;5;124m\"\u001b[39m):\n\u001b[0;32m--> 425\u001b[0m     \u001b[38;5;28;01mraise\u001b[39;00m \u001b[38;5;167;01mValueError\u001b[39;00m(\n\u001b[1;32m    426\u001b[0m         \u001b[38;5;124m\"\u001b[39m\u001b[38;5;124mMime type rendering requires nbformat>=4.2.0 but it is not installed\u001b[39m\u001b[38;5;124m\"\u001b[39m\n\u001b[1;32m    427\u001b[0m     )\n\u001b[1;32m    429\u001b[0m display_jupyter_version_warnings()\n\u001b[1;32m    431\u001b[0m ipython_display\u001b[38;5;241m.\u001b[39mdisplay(bundle, raw\u001b[38;5;241m=\u001b[39m\u001b[38;5;28;01mTrue\u001b[39;00m)\n",
      "\u001b[0;31mValueError\u001b[0m: Mime type rendering requires nbformat>=4.2.0 but it is not installed"
     ]
    },
    {
     "data": {
      "application/vnd.plotly.v1+json": {
       "config": {
        "plotlyServerURL": "https://plot.ly"
       },
       "data": [
        {
         "hovertemplate": "subcategory=newsus<br>category=%{x}<br>values=%{y}<extra></extra>",
         "legendgroup": "newsus",
         "marker": {
          "color": "#636efa",
          "pattern": {
           "shape": ""
          }
         },
         "name": "newsus",
         "orientation": "v",
         "showlegend": true,
         "textposition": "auto",
         "type": "bar",
         "x": [
          "news"
         ],
         "xaxis": "x",
         "y": {
          "bdata": "gzg=",
          "dtype": "i2"
         },
         "yaxis": "y"
        },
        {
         "hovertemplate": "subcategory=football_nfl<br>category=%{x}<br>values=%{y}<extra></extra>",
         "legendgroup": "football_nfl",
         "marker": {
          "color": "#EF553B",
          "pattern": {
           "shape": ""
          }
         },
         "name": "football_nfl",
         "orientation": "v",
         "showlegend": true,
         "textposition": "auto",
         "type": "bar",
         "x": [
          "sports"
         ],
         "xaxis": "x",
         "y": {
          "bdata": "JS4=",
          "dtype": "i2"
         },
         "yaxis": "y"
        },
        {
         "hovertemplate": "subcategory=newspolitics<br>category=%{x}<br>values=%{y}<extra></extra>",
         "legendgroup": "newspolitics",
         "marker": {
          "color": "#00cc96",
          "pattern": {
           "shape": ""
          }
         },
         "name": "newspolitics",
         "orientation": "v",
         "showlegend": true,
         "textposition": "auto",
         "type": "bar",
         "x": [
          "news"
         ],
         "xaxis": "x",
         "y": {
          "bdata": "GRQ=",
          "dtype": "i2"
         },
         "yaxis": "y"
        },
        {
         "hovertemplate": "subcategory=weathertopstories<br>category=%{x}<br>values=%{y}<extra></extra>",
         "legendgroup": "weathertopstories",
         "marker": {
          "color": "#ab63fa",
          "pattern": {
           "shape": ""
          }
         },
         "name": "weathertopstories",
         "orientation": "v",
         "showlegend": true,
         "textposition": "auto",
         "type": "bar",
         "x": [
          "weather"
         ],
         "xaxis": "x",
         "y": {
          "bdata": "nRA=",
          "dtype": "i2"
         },
         "yaxis": "y"
        },
        {
         "hovertemplate": "subcategory=newscrime<br>category=%{x}<br>values=%{y}<extra></extra>",
         "legendgroup": "newscrime",
         "marker": {
          "color": "#FFA15A",
          "pattern": {
           "shape": ""
          }
         },
         "name": "newscrime",
         "orientation": "v",
         "showlegend": true,
         "textposition": "auto",
         "type": "bar",
         "x": [
          "news"
         ],
         "xaxis": "x",
         "y": {
          "bdata": "XA4=",
          "dtype": "i2"
         },
         "yaxis": "y"
        },
        {
         "hovertemplate": "subcategory=baseball_mlb<br>category=%{x}<br>values=%{y}<extra></extra>",
         "legendgroup": "baseball_mlb",
         "marker": {
          "color": "#19d3f3",
          "pattern": {
           "shape": ""
          }
         },
         "name": "baseball_mlb",
         "orientation": "v",
         "showlegend": true,
         "textposition": "auto",
         "type": "bar",
         "x": [
          "sports"
         ],
         "xaxis": "x",
         "y": {
          "bdata": "IQ4=",
          "dtype": "i2"
         },
         "yaxis": "y"
        },
        {
         "hovertemplate": "subcategory=football_ncaa<br>category=%{x}<br>values=%{y}<extra></extra>",
         "legendgroup": "football_ncaa",
         "marker": {
          "color": "#FF6692",
          "pattern": {
           "shape": ""
          }
         },
         "name": "football_ncaa",
         "orientation": "v",
         "showlegend": true,
         "textposition": "auto",
         "type": "bar",
         "x": [
          "sports"
         ],
         "xaxis": "x",
         "y": {
          "bdata": "eg0=",
          "dtype": "i2"
         },
         "yaxis": "y"
        },
        {
         "hovertemplate": "subcategory=news<br>category=%{x}<br>values=%{y}<extra></extra>",
         "legendgroup": "news",
         "marker": {
          "color": "#B6E880",
          "pattern": {
           "shape": ""
          }
         },
         "name": "news",
         "orientation": "v",
         "showlegend": true,
         "textposition": "auto",
         "type": "bar",
         "x": [
          "video",
          "entertainment"
         ],
         "xaxis": "x",
         "y": {
          "bdata": "9AwjAA==",
          "dtype": "i2"
         },
         "yaxis": "y"
        },
        {
         "hovertemplate": "subcategory=basketball_nba<br>category=%{x}<br>values=%{y}<extra></extra>",
         "legendgroup": "basketball_nba",
         "marker": {
          "color": "#FF97FF",
          "pattern": {
           "shape": ""
          }
         },
         "name": "basketball_nba",
         "orientation": "v",
         "showlegend": true,
         "textposition": "auto",
         "type": "bar",
         "x": [
          "sports"
         ],
         "xaxis": "x",
         "y": {
          "bdata": "mgw=",
          "dtype": "i2"
         },
         "yaxis": "y"
        },
        {
         "hovertemplate": "subcategory=more_sports<br>category=%{x}<br>values=%{y}<extra></extra>",
         "legendgroup": "more_sports",
         "marker": {
          "color": "#FECB52",
          "pattern": {
           "shape": ""
          }
         },
         "name": "more_sports",
         "orientation": "v",
         "showlegend": true,
         "textposition": "auto",
         "type": "bar",
         "x": [
          "sports"
         ],
         "xaxis": "x",
         "y": {
          "bdata": "8Qo=",
          "dtype": "i2"
         },
         "yaxis": "y"
        },
        {
         "hovertemplate": "subcategory=newsscienceandtechnology<br>category=%{x}<br>values=%{y}<extra></extra>",
         "legendgroup": "newsscienceandtechnology",
         "marker": {
          "color": "#636efa",
          "pattern": {
           "shape": ""
          }
         },
         "name": "newsscienceandtechnology",
         "orientation": "v",
         "showlegend": true,
         "textposition": "auto",
         "type": "bar",
         "x": [
          "news"
         ],
         "xaxis": "x",
         "y": {
          "bdata": "0wo=",
          "dtype": "i2"
         },
         "yaxis": "y"
        },
        {
         "hovertemplate": "subcategory=newstrends<br>category=%{x}<br>values=%{y}<extra></extra>",
         "legendgroup": "newstrends",
         "marker": {
          "color": "#EF553B",
          "pattern": {
           "shape": ""
          }
         },
         "name": "newstrends",
         "orientation": "v",
         "showlegend": true,
         "textposition": "auto",
         "type": "bar",
         "x": [
          "foodanddrink",
          "travel"
         ],
         "xaxis": "x",
         "y": {
          "bdata": "mgoBAA==",
          "dtype": "i2"
         },
         "yaxis": "y"
        },
        {
         "hovertemplate": "subcategory=travelarticle<br>category=%{x}<br>values=%{y}<extra></extra>",
         "legendgroup": "travelarticle",
         "marker": {
          "color": "#00cc96",
          "pattern": {
           "shape": ""
          }
         },
         "name": "travelarticle",
         "orientation": "v",
         "showlegend": true,
         "textposition": "auto",
         "type": "bar",
         "x": [
          "travel"
         ],
         "xaxis": "x",
         "y": {
          "bdata": "QAo=",
          "dtype": "i2"
         },
         "yaxis": "y"
        },
        {
         "hovertemplate": "subcategory=newsworld<br>category=%{x}<br>values=%{y}<extra></extra>",
         "legendgroup": "newsworld",
         "marker": {
          "color": "#ab63fa",
          "pattern": {
           "shape": ""
          }
         },
         "name": "newsworld",
         "orientation": "v",
         "showlegend": true,
         "textposition": "auto",
         "type": "bar",
         "x": [
          "news"
         ],
         "xaxis": "x",
         "y": {
          "bdata": "2wk=",
          "dtype": "i2"
         },
         "yaxis": "y"
        },
        {
         "hovertemplate": "subcategory=lifestylebuzz<br>category=%{x}<br>values=%{y}<extra></extra>",
         "legendgroup": "lifestylebuzz",
         "marker": {
          "color": "#FFA15A",
          "pattern": {
           "shape": ""
          }
         },
         "name": "lifestylebuzz",
         "orientation": "v",
         "showlegend": true,
         "textposition": "auto",
         "type": "bar",
         "x": [
          "lifestyle"
         ],
         "xaxis": "x",
         "y": {
          "bdata": "mAc=",
          "dtype": "i2"
         },
         "yaxis": "y"
        },
        {
         "hovertemplate": "subcategory=financenews<br>category=%{x}<br>values=%{y}<extra></extra>",
         "legendgroup": "financenews",
         "marker": {
          "color": "#19d3f3",
          "pattern": {
           "shape": ""
          }
         },
         "name": "financenews",
         "orientation": "v",
         "showlegend": true,
         "textposition": "auto",
         "type": "bar",
         "x": [
          "finance"
         ],
         "xaxis": "x",
         "y": {
          "bdata": "jAc=",
          "dtype": "i2"
         },
         "yaxis": "y"
        },
        {
         "hovertemplate": "subcategory=travelnews<br>category=%{x}<br>values=%{y}<extra></extra>",
         "legendgroup": "travelnews",
         "marker": {
          "color": "#FF6692",
          "pattern": {
           "shape": ""
          }
         },
         "name": "travelnews",
         "orientation": "v",
         "showlegend": true,
         "textposition": "auto",
         "type": "bar",
         "x": [
          "travel"
         ],
         "xaxis": "x",
         "y": {
          "bdata": "FAc=",
          "dtype": "i2"
         },
         "yaxis": "y"
        },
        {
         "hovertemplate": "subcategory=autosnews<br>category=%{x}<br>values=%{y}<extra></extra>",
         "legendgroup": "autosnews",
         "marker": {
          "color": "#B6E880",
          "pattern": {
           "shape": ""
          }
         },
         "name": "autosnews",
         "orientation": "v",
         "showlegend": true,
         "textposition": "auto",
         "type": "bar",
         "x": [
          "autos"
         ],
         "xaxis": "x",
         "y": {
          "bdata": "pwY=",
          "dtype": "i2"
         },
         "yaxis": "y"
        },
        {
         "hovertemplate": "subcategory=basketball_ncaa<br>category=%{x}<br>values=%{y}<extra></extra>",
         "legendgroup": "basketball_ncaa",
         "marker": {
          "color": "#FF97FF",
          "pattern": {
           "shape": ""
          }
         },
         "name": "basketball_ncaa",
         "orientation": "v",
         "showlegend": true,
         "textposition": "auto",
         "type": "bar",
         "x": [
          "sports"
         ],
         "xaxis": "x",
         "y": {
          "bdata": "igY=",
          "dtype": "i2"
         },
         "yaxis": "y"
        },
        {
         "hovertemplate": "subcategory=icehockey_nhl<br>category=%{x}<br>values=%{y}<extra></extra>",
         "legendgroup": "icehockey_nhl",
         "marker": {
          "color": "#FECB52",
          "pattern": {
           "shape": ""
          }
         },
         "name": "icehockey_nhl",
         "orientation": "v",
         "showlegend": true,
         "textposition": "auto",
         "type": "bar",
         "x": [
          "sports"
         ],
         "xaxis": "x",
         "y": {
          "bdata": "9AU=",
          "dtype": "i2"
         },
         "yaxis": "y"
        },
        {
         "hovertemplate": "subcategory=finance-real-estate<br>category=%{x}<br>values=%{y}<extra></extra>",
         "legendgroup": "finance-real-estate",
         "marker": {
          "color": "#636efa",
          "pattern": {
           "shape": ""
          }
         },
         "name": "finance-real-estate",
         "orientation": "v",
         "showlegend": true,
         "textposition": "auto",
         "type": "bar",
         "x": [
          "finance"
         ],
         "xaxis": "x",
         "y": {
          "bdata": "FwU=",
          "dtype": "i2"
         },
         "yaxis": "y"
        },
        {
         "hovertemplate": "subcategory=mma<br>category=%{x}<br>values=%{y}<extra></extra>",
         "legendgroup": "mma",
         "marker": {
          "color": "#EF553B",
          "pattern": {
           "shape": ""
          }
         },
         "name": "mma",
         "orientation": "v",
         "showlegend": true,
         "textposition": "auto",
         "type": "bar",
         "x": [
          "sports"
         ],
         "xaxis": "x",
         "y": {
          "bdata": "HQQ=",
          "dtype": "i2"
         },
         "yaxis": "y"
        },
        {
         "hovertemplate": "subcategory=medical<br>category=%{x}<br>values=%{y}<extra></extra>",
         "legendgroup": "medical",
         "marker": {
          "color": "#00cc96",
          "pattern": {
           "shape": ""
          }
         },
         "name": "medical",
         "orientation": "v",
         "showlegend": true,
         "textposition": "auto",
         "type": "bar",
         "x": [
          "health"
         ],
         "xaxis": "x",
         "y": {
          "bdata": "ugM=",
          "dtype": "i2"
         },
         "yaxis": "y"
        },
        {
         "hovertemplate": "subcategory=newsoffbeat<br>category=%{x}<br>values=%{y}<extra></extra>",
         "legendgroup": "newsoffbeat",
         "marker": {
          "color": "#ab63fa",
          "pattern": {
           "shape": ""
          }
         },
         "name": "newsoffbeat",
         "orientation": "v",
         "showlegend": true,
         "textposition": "auto",
         "type": "bar",
         "x": [
          "news"
         ],
         "xaxis": "x",
         "y": {
          "bdata": "lgM=",
          "dtype": "i2"
         },
         "yaxis": "y"
        },
        {
         "hovertemplate": "subcategory=musicnews<br>category=%{x}<br>values=%{y}<extra></extra>",
         "legendgroup": "musicnews",
         "marker": {
          "color": "#FFA15A",
          "pattern": {
           "shape": ""
          }
         },
         "name": "musicnews",
         "orientation": "v",
         "showlegend": true,
         "textposition": "auto",
         "type": "bar",
         "x": [
          "music"
         ],
         "xaxis": "x",
         "y": {
          "bdata": "agM=",
          "dtype": "i2"
         },
         "yaxis": "y"
        },
        {
         "hovertemplate": "subcategory=tvnews<br>category=%{x}<br>values=%{y}<extra></extra>",
         "legendgroup": "tvnews",
         "marker": {
          "color": "#19d3f3",
          "pattern": {
           "shape": ""
          }
         },
         "name": "tvnews",
         "orientation": "v",
         "showlegend": true,
         "textposition": "auto",
         "type": "bar",
         "x": [
          "tv"
         ],
         "xaxis": "x",
         "y": {
          "bdata": "CQM=",
          "dtype": "i2"
         },
         "yaxis": "y"
        },
        {
         "hovertemplate": "subcategory=golf<br>category=%{x}<br>values=%{y}<extra></extra>",
         "legendgroup": "golf",
         "marker": {
          "color": "#FF6692",
          "pattern": {
           "shape": ""
          }
         },
         "name": "golf",
         "orientation": "v",
         "showlegend": true,
         "textposition": "auto",
         "type": "bar",
         "x": [
          "sports"
         ],
         "xaxis": "x",
         "y": {
          "bdata": "9wI=",
          "dtype": "i2"
         },
         "yaxis": "y"
        },
        {
         "hovertemplate": "subcategory=finance-companies<br>category=%{x}<br>values=%{y}<extra></extra>",
         "legendgroup": "finance-companies",
         "marker": {
          "color": "#B6E880",
          "pattern": {
           "shape": ""
          }
         },
         "name": "finance-companies",
         "orientation": "v",
         "showlegend": true,
         "textposition": "auto",
         "type": "bar",
         "x": [
          "finance"
         ],
         "xaxis": "x",
         "y": {
          "bdata": "zgI=",
          "dtype": "i2"
         },
         "yaxis": "y"
        },
        {
         "hovertemplate": "subcategory=racing<br>category=%{x}<br>values=%{y}<extra></extra>",
         "legendgroup": "racing",
         "marker": {
          "color": "#FF97FF",
          "pattern": {
           "shape": ""
          }
         },
         "name": "racing",
         "orientation": "v",
         "showlegend": true,
         "textposition": "auto",
         "type": "bar",
         "x": [
          "sports"
         ],
         "xaxis": "x",
         "y": {
          "bdata": "ugI=",
          "dtype": "i2"
         },
         "yaxis": "y"
        },
        {
         "hovertemplate": "subcategory=health-news<br>category=%{x}<br>values=%{y}<extra></extra>",
         "legendgroup": "health-news",
         "marker": {
          "color": "#FECB52",
          "pattern": {
           "shape": ""
          }
         },
         "name": "health-news",
         "orientation": "v",
         "showlegend": true,
         "textposition": "auto",
         "type": "bar",
         "x": [
          "health"
         ],
         "xaxis": "x",
         "y": {
          "bdata": "QAI=",
          "dtype": "i2"
         },
         "yaxis": "y"
        },
        {
         "hovertemplate": "subcategory=wellness<br>category=%{x}<br>values=%{y}<extra></extra>",
         "legendgroup": "wellness",
         "marker": {
          "color": "#636efa",
          "pattern": {
           "shape": ""
          }
         },
         "name": "wellness",
         "orientation": "v",
         "showlegend": true,
         "textposition": "auto",
         "type": "bar",
         "x": [
          "health"
         ],
         "xaxis": "x",
         "y": {
          "bdata": "PQI=",
          "dtype": "i2"
         },
         "yaxis": "y"
        },
        {
         "hovertemplate": "subcategory=recipes<br>category=%{x}<br>values=%{y}<extra></extra>",
         "legendgroup": "recipes",
         "marker": {
          "color": "#EF553B",
          "pattern": {
           "shape": ""
          }
         },
         "name": "recipes",
         "orientation": "v",
         "showlegend": true,
         "textposition": "auto",
         "type": "bar",
         "x": [
          "foodanddrink",
          "health"
         ],
         "xaxis": "x",
         "y": {
          "bdata": "HQICAA==",
          "dtype": "i2"
         },
         "yaxis": "y"
        },
        {
         "hovertemplate": "subcategory=soccer<br>category=%{x}<br>values=%{y}<extra></extra>",
         "legendgroup": "soccer",
         "marker": {
          "color": "#00cc96",
          "pattern": {
           "shape": ""
          }
         },
         "name": "soccer",
         "orientation": "v",
         "showlegend": true,
         "textposition": "auto",
         "type": "bar",
         "x": [
          "sports"
         ],
         "xaxis": "x",
         "y": {
          "bdata": "6AE=",
          "dtype": "i2"
         },
         "yaxis": "y"
        },
        {
         "hovertemplate": "subcategory=markets<br>category=%{x}<br>values=%{y}<extra></extra>",
         "legendgroup": "markets",
         "marker": {
          "color": "#ab63fa",
          "pattern": {
           "shape": ""
          }
         },
         "name": "markets",
         "orientation": "v",
         "showlegend": true,
         "textposition": "auto",
         "type": "bar",
         "x": [
          "finance"
         ],
         "xaxis": "x",
         "y": {
          "bdata": "zAE=",
          "dtype": "i2"
         },
         "yaxis": "y"
        },
        {
         "hovertemplate": "subcategory=movienews<br>category=%{x}<br>values=%{y}<extra></extra>",
         "legendgroup": "movienews",
         "marker": {
          "color": "#FFA15A",
          "pattern": {
           "shape": ""
          }
         },
         "name": "movienews",
         "orientation": "v",
         "showlegend": true,
         "textposition": "auto",
         "type": "bar",
         "x": [
          "movies"
         ],
         "xaxis": "x",
         "y": {
          "bdata": "lgE=",
          "dtype": "i2"
         },
         "yaxis": "y"
        },
        {
         "hovertemplate": "subcategory=autosmotorcycles<br>category=%{x}<br>values=%{y}<extra></extra>",
         "legendgroup": "autosmotorcycles",
         "marker": {
          "color": "#19d3f3",
          "pattern": {
           "shape": ""
          }
         },
         "name": "autosmotorcycles",
         "orientation": "v",
         "showlegend": true,
         "textposition": "auto",
         "type": "bar",
         "x": [
          "autos"
         ],
         "xaxis": "x",
         "y": {
          "bdata": "igE=",
          "dtype": "i2"
         },
         "yaxis": "y"
        },
        {
         "hovertemplate": "subcategory=tv-celebrity<br>category=%{x}<br>values=%{y}<extra></extra>",
         "legendgroup": "tv-celebrity",
         "marker": {
          "color": "#FF6692",
          "pattern": {
           "shape": ""
          }
         },
         "name": "tv-celebrity",
         "orientation": "v",
         "showlegend": true,
         "textposition": "auto",
         "type": "bar",
         "x": [
          "tv"
         ],
         "xaxis": "x",
         "y": {
          "bdata": "dwE=",
          "dtype": "i2"
         },
         "yaxis": "y"
        },
        {
         "hovertemplate": "subcategory=newsopinion<br>category=%{x}<br>values=%{y}<extra></extra>",
         "legendgroup": "newsopinion",
         "marker": {
          "color": "#B6E880",
          "pattern": {
           "shape": ""
          }
         },
         "name": "newsopinion",
         "orientation": "v",
         "showlegend": true,
         "textposition": "auto",
         "type": "bar",
         "x": [
          "news"
         ],
         "xaxis": "x",
         "y": {
          "bdata": "VwE=",
          "dtype": "i2"
         },
         "yaxis": "y"
        },
        {
         "hovertemplate": "subcategory=autosenthusiasts<br>category=%{x}<br>values=%{y}<extra></extra>",
         "legendgroup": "autosenthusiasts",
         "marker": {
          "color": "#FF97FF",
          "pattern": {
           "shape": ""
          }
         },
         "name": "autosenthusiasts",
         "orientation": "v",
         "showlegend": true,
         "textposition": "auto",
         "type": "bar",
         "x": [
          "autos"
         ],
         "xaxis": "x",
         "y": {
          "bdata": "TgE=",
          "dtype": "i2"
         },
         "yaxis": "y"
        },
        {
         "hovertemplate": "subcategory=animals<br>category=%{x}<br>values=%{y}<extra></extra>",
         "legendgroup": "animals",
         "marker": {
          "color": "#FECB52",
          "pattern": {
           "shape": ""
          }
         },
         "name": "animals",
         "orientation": "v",
         "showlegend": true,
         "textposition": "auto",
         "type": "bar",
         "x": [
          "video",
          "kids"
         ],
         "xaxis": "x",
         "y": {
          "bdata": "SAEKAA==",
          "dtype": "i2"
         },
         "yaxis": "y"
        },
        {
         "hovertemplate": "subcategory=traveltripideas<br>category=%{x}<br>values=%{y}<extra></extra>",
         "legendgroup": "traveltripideas",
         "marker": {
          "color": "#636efa",
          "pattern": {
           "shape": ""
          }
         },
         "name": "traveltripideas",
         "orientation": "v",
         "showlegend": true,
         "textposition": "auto",
         "type": "bar",
         "x": [
          "travel"
         ],
         "xaxis": "x",
         "y": {
          "bdata": "PgE=",
          "dtype": "i2"
         },
         "yaxis": "y"
        },
        {
         "hovertemplate": "subcategory=foodnews<br>category=%{x}<br>values=%{y}<extra></extra>",
         "legendgroup": "foodnews",
         "marker": {
          "color": "#EF553B",
          "pattern": {
           "shape": ""
          }
         },
         "name": "foodnews",
         "orientation": "v",
         "showlegend": true,
         "textposition": "auto",
         "type": "bar",
         "x": [
          "foodanddrink"
         ],
         "xaxis": "x",
         "y": {
          "bdata": "PgE=",
          "dtype": "i2"
         },
         "yaxis": "y"
        },
        {
         "hovertemplate": "subcategory=tipsandtricks<br>category=%{x}<br>values=%{y}<extra></extra>",
         "legendgroup": "tipsandtricks",
         "marker": {
          "color": "#00cc96",
          "pattern": {
           "shape": ""
          }
         },
         "name": "tipsandtricks",
         "orientation": "v",
         "showlegend": true,
         "textposition": "auto",
         "type": "bar",
         "x": [
          "foodanddrink"
         ],
         "xaxis": "x",
         "y": {
          "bdata": "PAE=",
          "dtype": "i2"
         },
         "yaxis": "y"
        },
        {
         "hovertemplate": "subcategory=finance-career-education<br>category=%{x}<br>values=%{y}<extra></extra>",
         "legendgroup": "finance-career-education",
         "marker": {
          "color": "#ab63fa",
          "pattern": {
           "shape": ""
          }
         },
         "name": "finance-career-education",
         "orientation": "v",
         "showlegend": true,
         "textposition": "auto",
         "type": "bar",
         "x": [
          "finance"
         ],
         "xaxis": "x",
         "y": {
          "bdata": "OgE=",
          "dtype": "i2"
         },
         "yaxis": "y"
        },
        {
         "hovertemplate": "subcategory=lifestylefamily<br>category=%{x}<br>values=%{y}<extra></extra>",
         "legendgroup": "lifestylefamily",
         "marker": {
          "color": "#FFA15A",
          "pattern": {
           "shape": ""
          }
         },
         "name": "lifestylefamily",
         "orientation": "v",
         "showlegend": true,
         "textposition": "auto",
         "type": "bar",
         "x": [
          "lifestyle"
         ],
         "xaxis": "x",
         "y": {
          "bdata": "OgE=",
          "dtype": "i2"
         },
         "yaxis": "y"
        },
        {
         "hovertemplate": "subcategory=nutrition<br>category=%{x}<br>values=%{y}<extra></extra>",
         "legendgroup": "nutrition",
         "marker": {
          "color": "#19d3f3",
          "pattern": {
           "shape": ""
          }
         },
         "name": "nutrition",
         "orientation": "v",
         "showlegend": true,
         "textposition": "auto",
         "type": "bar",
         "x": [
          "health"
         ],
         "xaxis": "x",
         "y": {
          "bdata": "GQE=",
          "dtype": "i2"
         },
         "yaxis": "y"
        },
        {
         "hovertemplate": "subcategory=lifestyleroyals<br>category=%{x}<br>values=%{y}<extra></extra>",
         "legendgroup": "lifestyleroyals",
         "marker": {
          "color": "#FF6692",
          "pattern": {
           "shape": ""
          }
         },
         "name": "lifestyleroyals",
         "orientation": "v",
         "showlegend": true,
         "textposition": "auto",
         "type": "bar",
         "x": [
          "lifestyle"
         ],
         "xaxis": "x",
         "y": {
          "bdata": "EQE=",
          "dtype": "i2"
         },
         "yaxis": "y"
        },
        {
         "hovertemplate": "subcategory=viral<br>category=%{x}<br>values=%{y}<extra></extra>",
         "legendgroup": "viral",
         "marker": {
          "color": "#B6E880",
          "pattern": {
           "shape": ""
          }
         },
         "name": "viral",
         "orientation": "v",
         "showlegend": true,
         "textposition": "auto",
         "type": "bar",
         "x": [
          "video"
         ],
         "xaxis": "x",
         "y": {
          "bdata": "DQE=",
          "dtype": "i2"
         },
         "yaxis": "y"
        },
        {
         "hovertemplate": "subcategory=gaming<br>category=%{x}<br>values=%{y}<extra></extra>",
         "legendgroup": "gaming",
         "marker": {
          "color": "#FF97FF",
          "pattern": {
           "shape": ""
          }
         },
         "name": "gaming",
         "orientation": "v",
         "showlegend": true,
         "textposition": "auto",
         "type": "bar",
         "x": [
          "entertainment"
         ],
         "xaxis": "x",
         "y": {
          "bdata": "AAE=",
          "dtype": "i2"
         },
         "yaxis": "y"
        },
        {
         "hovertemplate": "subcategory=tennis<br>category=%{x}<br>values=%{y}<extra></extra>",
         "legendgroup": "tennis",
         "marker": {
          "color": "#FECB52",
          "pattern": {
           "shape": ""
          }
         },
         "name": "tennis",
         "orientation": "v",
         "showlegend": true,
         "textposition": "auto",
         "type": "bar",
         "x": [
          "sports"
         ],
         "xaxis": "x",
         "y": {
          "bdata": "/wA=",
          "dtype": "i2"
         },
         "yaxis": "y"
        },
        {
         "hovertemplate": "subcategory=lifestylehomeandgarden<br>category=%{x}<br>values=%{y}<extra></extra>",
         "legendgroup": "lifestylehomeandgarden",
         "marker": {
          "color": "#636efa",
          "pattern": {
           "shape": ""
          }
         },
         "name": "lifestylehomeandgarden",
         "orientation": "v",
         "showlegend": true,
         "textposition": "auto",
         "type": "bar",
         "x": [
          "lifestyle"
         ],
         "xaxis": "x",
         "y": {
          "bdata": "7wA=",
          "dtype": "i2"
         },
         "yaxis": "y"
        },
        {
         "hovertemplate": "subcategory=music-celebrity<br>category=%{x}<br>values=%{y}<extra></extra>",
         "legendgroup": "music-celebrity",
         "marker": {
          "color": "#EF553B",
          "pattern": {
           "shape": ""
          }
         },
         "name": "music-celebrity",
         "orientation": "v",
         "showlegend": true,
         "textposition": "auto",
         "type": "bar",
         "x": [
          "music"
         ],
         "xaxis": "x",
         "y": {
          "bdata": "4QA=",
          "dtype": "i2"
         },
         "yaxis": "y"
        },
        {
         "hovertemplate": "subcategory=movies-celebrity<br>category=%{x}<br>values=%{y}<extra></extra>",
         "legendgroup": "movies-celebrity",
         "marker": {
          "color": "#00cc96",
          "pattern": {
           "shape": ""
          }
         },
         "name": "movies-celebrity",
         "orientation": "v",
         "showlegend": true,
         "textposition": "auto",
         "type": "bar",
         "x": [
          "movies"
         ],
         "xaxis": "x",
         "y": {
          "bdata": "4AA=",
          "dtype": "i2"
         },
         "yaxis": "y"
        },
        {
         "hovertemplate": "subcategory=football_nfl_videos<br>category=%{x}<br>values=%{y}<extra></extra>",
         "legendgroup": "football_nfl_videos",
         "marker": {
          "color": "#ab63fa",
          "pattern": {
           "shape": ""
          }
         },
         "name": "football_nfl_videos",
         "orientation": "v",
         "showlegend": true,
         "textposition": "auto",
         "type": "bar",
         "x": [
          "sports"
         ],
         "xaxis": "x",
         "y": {
          "bdata": "2wA=",
          "dtype": "i2"
         },
         "yaxis": "y"
        },
        {
         "hovertemplate": "subcategory=finance-top-stocks<br>category=%{x}<br>values=%{y}<extra></extra>",
         "legendgroup": "finance-top-stocks",
         "marker": {
          "color": "#FFA15A",
          "pattern": {
           "shape": ""
          }
         },
         "name": "finance-top-stocks",
         "orientation": "v",
         "showlegend": true,
         "textposition": "auto",
         "type": "bar",
         "x": [
          "finance"
         ],
         "xaxis": "x",
         "y": {
          "bdata": "1gA=",
          "dtype": "i2"
         },
         "yaxis": "y"
        },
        {
         "hovertemplate": "subcategory=autosclassics<br>category=%{x}<br>values=%{y}<extra></extra>",
         "legendgroup": "autosclassics",
         "marker": {
          "color": "#19d3f3",
          "pattern": {
           "shape": ""
          }
         },
         "name": "autosclassics",
         "orientation": "v",
         "showlegend": true,
         "textposition": "auto",
         "type": "bar",
         "x": [
          "autos"
         ],
         "xaxis": "x",
         "y": {
          "bdata": "0wA=",
          "dtype": "i2"
         },
         "yaxis": "y"
        },
        {
         "hovertemplate": "subcategory=restaurantsandnews<br>category=%{x}<br>values=%{y}<extra></extra>",
         "legendgroup": "restaurantsandnews",
         "marker": {
          "color": "#FF6692",
          "pattern": {
           "shape": ""
          }
         },
         "name": "restaurantsandnews",
         "orientation": "v",
         "showlegend": true,
         "textposition": "auto",
         "type": "bar",
         "x": [
          "foodanddrink"
         ],
         "xaxis": "x",
         "y": {
          "bdata": "yAA=",
          "dtype": "i2"
         },
         "yaxis": "y"
        },
        {
         "hovertemplate": "subcategory=newsgoodnews<br>category=%{x}<br>values=%{y}<extra></extra>",
         "legendgroup": "newsgoodnews",
         "marker": {
          "color": "#B6E880",
          "pattern": {
           "shape": ""
          }
         },
         "name": "newsgoodnews",
         "orientation": "v",
         "showlegend": true,
         "textposition": "auto",
         "type": "bar",
         "x": [
          "news"
         ],
         "xaxis": "x",
         "y": {
          "bdata": "vgA=",
          "dtype": "i2"
         },
         "yaxis": "y"
        },
        {
         "hovertemplate": "subcategory=lifestylepets<br>category=%{x}<br>values=%{y}<extra></extra>",
         "legendgroup": "lifestylepets",
         "marker": {
          "color": "#FF97FF",
          "pattern": {
           "shape": ""
          }
         },
         "name": "lifestylepets",
         "orientation": "v",
         "showlegend": true,
         "textposition": "auto",
         "type": "bar",
         "x": [
          "lifestyle"
         ],
         "xaxis": "x",
         "y": {
          "bdata": "tgA=",
          "dtype": "i2"
         },
         "yaxis": "y"
        },
        {
         "hovertemplate": "subcategory=fitness<br>category=%{x}<br>values=%{y}<extra></extra>",
         "legendgroup": "fitness",
         "marker": {
          "color": "#FECB52",
          "pattern": {
           "shape": ""
          }
         },
         "name": "fitness",
         "orientation": "v",
         "showlegend": true,
         "textposition": "auto",
         "type": "bar",
         "x": [
          "health"
         ],
         "xaxis": "x",
         "y": {
          "bdata": "qwA=",
          "dtype": "i2"
         },
         "yaxis": "y"
        },
        {
         "hovertemplate": "subcategory=lifestyle<br>category=%{x}<br>values=%{y}<extra></extra>",
         "legendgroup": "lifestyle",
         "marker": {
          "color": "#636efa",
          "pattern": {
           "shape": ""
          }
         },
         "name": "lifestyle",
         "orientation": "v",
         "showlegend": true,
         "textposition": "auto",
         "type": "bar",
         "x": [
          "video",
          "lifestyle"
         ],
         "xaxis": "x",
         "y": {
          "bdata": "qgABAA==",
          "dtype": "i2"
         },
         "yaxis": "y"
        },
        {
         "hovertemplate": "subcategory=weightloss<br>category=%{x}<br>values=%{y}<extra></extra>",
         "legendgroup": "weightloss",
         "marker": {
          "color": "#EF553B",
          "pattern": {
           "shape": ""
          }
         },
         "name": "weightloss",
         "orientation": "v",
         "showlegend": true,
         "textposition": "auto",
         "type": "bar",
         "x": [
          "health"
         ],
         "xaxis": "x",
         "y": {
          "bdata": "qAA=",
          "dtype": "i2"
         },
         "yaxis": "y"
        },
        {
         "hovertemplate": "subcategory=entertainment-celebrity<br>category=%{x}<br>values=%{y}<extra></extra>",
         "legendgroup": "entertainment-celebrity",
         "marker": {
          "color": "#00cc96",
          "pattern": {
           "shape": ""
          }
         },
         "name": "entertainment-celebrity",
         "orientation": "v",
         "showlegend": true,
         "textposition": "auto",
         "type": "bar",
         "x": [
          "entertainment"
         ],
         "xaxis": "x",
         "y": {
          "bdata": "qAA=",
          "dtype": "i2"
         },
         "yaxis": "y"
        },
        {
         "hovertemplate": "subcategory=finance-video<br>category=%{x}<br>values=%{y}<extra></extra>",
         "legendgroup": "finance-video",
         "marker": {
          "color": "#ab63fa",
          "pattern": {
           "shape": ""
          }
         },
         "name": "finance-video",
         "orientation": "v",
         "showlegend": true,
         "textposition": "auto",
         "type": "bar",
         "x": [
          "finance"
         ],
         "xaxis": "x",
         "y": {
          "bdata": "pgA=",
          "dtype": "i2"
         },
         "yaxis": "y"
        },
        {
         "hovertemplate": "subcategory=science<br>category=%{x}<br>values=%{y}<extra></extra>",
         "legendgroup": "science",
         "marker": {
          "color": "#FFA15A",
          "pattern": {
           "shape": ""
          }
         },
         "name": "science",
         "orientation": "v",
         "showlegend": true,
         "textposition": "auto",
         "type": "bar",
         "x": [
          "video",
          "kids"
         ],
         "xaxis": "x",
         "y": {
          "bdata": "owATAA==",
          "dtype": "i2"
         },
         "yaxis": "y"
        },
        {
         "hovertemplate": "subcategory=celebrity<br>category=%{x}<br>values=%{y}<extra></extra>",
         "legendgroup": "celebrity",
         "marker": {
          "color": "#19d3f3",
          "pattern": {
           "shape": ""
          }
         },
         "name": "celebrity",
         "orientation": "v",
         "showlegend": true,
         "textposition": "auto",
         "type": "bar",
         "x": [
          "entertainment"
         ],
         "xaxis": "x",
         "y": {
          "bdata": "lwA=",
          "dtype": "i2"
         },
         "yaxis": "y"
        },
        {
         "hovertemplate": "subcategory=peopleandplaces<br>category=%{x}<br>values=%{y}<extra></extra>",
         "legendgroup": "peopleandplaces",
         "marker": {
          "color": "#FF6692",
          "pattern": {
           "shape": ""
          }
         },
         "name": "peopleandplaces",
         "orientation": "v",
         "showlegend": true,
         "textposition": "auto",
         "type": "bar",
         "x": [
          "video"
         ],
         "xaxis": "x",
         "y": {
          "bdata": "lgA=",
          "dtype": "i2"
         },
         "yaxis": "y"
        },
        {
         "hovertemplate": "subcategory=entertainment-books<br>category=%{x}<br>values=%{y}<extra></extra>",
         "legendgroup": "entertainment-books",
         "marker": {
          "color": "#B6E880",
          "pattern": {
           "shape": ""
          }
         },
         "name": "entertainment-books",
         "orientation": "v",
         "showlegend": true,
         "textposition": "auto",
         "type": "bar",
         "x": [
          "entertainment"
         ],
         "xaxis": "x",
         "y": {
          "bdata": "kwA=",
          "dtype": "i2"
         },
         "yaxis": "y"
        },
        {
         "hovertemplate": "subcategory=personalfinance<br>category=%{x}<br>values=%{y}<extra></extra>",
         "legendgroup": "personalfinance",
         "marker": {
          "color": "#FF97FF",
          "pattern": {
           "shape": ""
          }
         },
         "name": "personalfinance",
         "orientation": "v",
         "showlegend": true,
         "textposition": "auto",
         "type": "bar",
         "x": [
          "finance",
          "news"
         ],
         "xaxis": "x",
         "y": {
          "bdata": "iwACAA==",
          "dtype": "i2"
         },
         "yaxis": "y"
        },
        {
         "hovertemplate": "subcategory=newsbusiness<br>category=%{x}<br>values=%{y}<extra></extra>",
         "legendgroup": "newsbusiness",
         "marker": {
          "color": "#FECB52",
          "pattern": {
           "shape": ""
          }
         },
         "name": "newsbusiness",
         "orientation": "v",
         "showlegend": true,
         "textposition": "auto",
         "type": "bar",
         "x": [
          "news"
         ],
         "xaxis": "x",
         "y": {
          "bdata": "igA=",
          "dtype": "i2"
         },
         "yaxis": "y"
        },
        {
         "hovertemplate": "subcategory=elections-2020-us<br>category=%{x}<br>values=%{y}<extra></extra>",
         "legendgroup": "elections-2020-us",
         "marker": {
          "color": "#636efa",
          "pattern": {
           "shape": ""
          }
         },
         "name": "elections-2020-us",
         "orientation": "v",
         "showlegend": true,
         "textposition": "auto",
         "type": "bar",
         "x": [
          "news"
         ],
         "xaxis": "x",
         "y": {
          "bdata": "hwA=",
          "dtype": "i2"
         },
         "yaxis": "y"
        },
        {
         "hovertemplate": "subcategory=lifestyledidyouknow<br>category=%{x}<br>values=%{y}<extra></extra>",
         "legendgroup": "lifestyledidyouknow",
         "marker": {
          "color": "#EF553B",
          "pattern": {
           "shape": ""
          }
         },
         "name": "lifestyledidyouknow",
         "orientation": "v",
         "showlegend": true,
         "textposition": "auto",
         "type": "bar",
         "x": [
          "lifestyle"
         ],
         "xaxis": "x",
         "y": {
          "bdata": "gAA=",
          "dtype": "i2"
         },
         "yaxis": "y"
        },
        {
         "hovertemplate": "subcategory=lifestylehoroscope<br>category=%{x}<br>values=%{y}<extra></extra>",
         "legendgroup": "lifestylehoroscope",
         "marker": {
          "color": "#00cc96",
          "pattern": {
           "shape": ""
          }
         },
         "name": "lifestylehoroscope",
         "orientation": "v",
         "showlegend": true,
         "textposition": "auto",
         "type": "bar",
         "x": [
          "lifestyle"
         ],
         "xaxis": "x",
         "y": {
          "bdata": "fg==",
          "dtype": "i1"
         },
         "yaxis": "y"
        },
        {
         "hovertemplate": "subcategory=lifestylesmartliving<br>category=%{x}<br>values=%{y}<extra></extra>",
         "legendgroup": "lifestylesmartliving",
         "marker": {
          "color": "#ab63fa",
          "pattern": {
           "shape": ""
          }
         },
         "name": "lifestylesmartliving",
         "orientation": "v",
         "showlegend": true,
         "textposition": "auto",
         "type": "bar",
         "x": [
          "lifestyle"
         ],
         "xaxis": "x",
         "y": {
          "bdata": "fQ==",
          "dtype": "i1"
         },
         "yaxis": "y"
        },
        {
         "hovertemplate": "subcategory=lifestylepetsanimals<br>category=%{x}<br>values=%{y}<extra></extra>",
         "legendgroup": "lifestylepetsanimals",
         "marker": {
          "color": "#FFA15A",
          "pattern": {
           "shape": ""
          }
         },
         "name": "lifestylepetsanimals",
         "orientation": "v",
         "showlegend": true,
         "textposition": "auto",
         "type": "bar",
         "x": [
          "lifestyle"
         ],
         "xaxis": "x",
         "y": {
          "bdata": "eg==",
          "dtype": "i1"
         },
         "yaxis": "y"
        },
        {
         "hovertemplate": "subcategory=popculture<br>category=%{x}<br>values=%{y}<extra></extra>",
         "legendgroup": "popculture",
         "marker": {
          "color": "#19d3f3",
          "pattern": {
           "shape": ""
          }
         },
         "name": "popculture",
         "orientation": "v",
         "showlegend": true,
         "textposition": "auto",
         "type": "bar",
         "x": [
          "video"
         ],
         "xaxis": "x",
         "y": {
          "bdata": "eg==",
          "dtype": "i1"
         },
         "yaxis": "y"
        },
        {
         "hovertemplate": "subcategory=videos<br>category=%{x}<br>values=%{y}<extra></extra>",
         "legendgroup": "videos",
         "marker": {
          "color": "#FF6692",
          "pattern": {
           "shape": ""
          }
         },
         "name": "videos",
         "orientation": "v",
         "showlegend": true,
         "textposition": "auto",
         "type": "bar",
         "x": [
          "foodanddrink"
         ],
         "xaxis": "x",
         "y": {
          "bdata": "eg==",
          "dtype": "i1"
         },
         "yaxis": "y"
        },
        {
         "hovertemplate": "subcategory=finance-saving-investing<br>category=%{x}<br>values=%{y}<extra></extra>",
         "legendgroup": "finance-saving-investing",
         "marker": {
          "color": "#B6E880",
          "pattern": {
           "shape": ""
          }
         },
         "name": "finance-saving-investing",
         "orientation": "v",
         "showlegend": true,
         "textposition": "auto",
         "type": "bar",
         "x": [
          "finance"
         ],
         "xaxis": "x",
         "y": {
          "bdata": "cQ==",
          "dtype": "i1"
         },
         "yaxis": "y"
        },
        {
         "hovertemplate": "subcategory=shop-holidays<br>category=%{x}<br>values=%{y}<extra></extra>",
         "legendgroup": "shop-holidays",
         "marker": {
          "color": "#FF97FF",
          "pattern": {
           "shape": ""
          }
         },
         "name": "shop-holidays",
         "orientation": "v",
         "showlegend": true,
         "textposition": "auto",
         "type": "bar",
         "x": [
          "lifestyle"
         ],
         "xaxis": "x",
         "y": {
          "bdata": "bw==",
          "dtype": "i1"
         },
         "yaxis": "y"
        },
        {
         "hovertemplate": "subcategory=voices<br>category=%{x}<br>values=%{y}<extra></extra>",
         "legendgroup": "voices",
         "marker": {
          "color": "#FECB52",
          "pattern": {
           "shape": ""
          }
         },
         "name": "voices",
         "orientation": "v",
         "showlegend": true,
         "textposition": "auto",
         "type": "bar",
         "x": [
          "lifestyle",
          "health",
          "travel"
         ],
         "xaxis": "x",
         "y": {
          "bdata": "bkkI",
          "dtype": "i1"
         },
         "yaxis": "y"
        },
        {
         "hovertemplate": "subcategory=finance-retirement<br>category=%{x}<br>values=%{y}<extra></extra>",
         "legendgroup": "finance-retirement",
         "marker": {
          "color": "#636efa",
          "pattern": {
           "shape": ""
          }
         },
         "name": "finance-retirement",
         "orientation": "v",
         "showlegend": true,
         "textposition": "auto",
         "type": "bar",
         "x": [
          "finance"
         ],
         "xaxis": "x",
         "y": {
          "bdata": "Zw==",
          "dtype": "i1"
         },
         "yaxis": "y"
        },
        {
         "hovertemplate": "subcategory=beverages<br>category=%{x}<br>values=%{y}<extra></extra>",
         "legendgroup": "beverages",
         "marker": {
          "color": "#EF553B",
          "pattern": {
           "shape": ""
          }
         },
         "name": "beverages",
         "orientation": "v",
         "showlegend": true,
         "textposition": "auto",
         "type": "bar",
         "x": [
          "foodanddrink"
         ],
         "xaxis": "x",
         "y": {
          "bdata": "ZA==",
          "dtype": "i1"
         },
         "yaxis": "y"
        },
        {
         "hovertemplate": "subcategory=outdoors<br>category=%{x}<br>values=%{y}<extra></extra>",
         "legendgroup": "outdoors",
         "marker": {
          "color": "#00cc96",
          "pattern": {
           "shape": ""
          }
         },
         "name": "outdoors",
         "orientation": "v",
         "showlegend": true,
         "textposition": "auto",
         "type": "bar",
         "x": [
          "sports"
         ],
         "xaxis": "x",
         "y": {
          "bdata": "Xg==",
          "dtype": "i1"
         },
         "yaxis": "y"
        },
        {
         "hovertemplate": "subcategory=finance-savemoney<br>category=%{x}<br>values=%{y}<extra></extra>",
         "legendgroup": "finance-savemoney",
         "marker": {
          "color": "#ab63fa",
          "pattern": {
           "shape": ""
          }
         },
         "name": "finance-savemoney",
         "orientation": "v",
         "showlegend": true,
         "textposition": "auto",
         "type": "bar",
         "x": [
          "finance"
         ],
         "xaxis": "x",
         "y": {
          "bdata": "XQ==",
          "dtype": "i1"
         },
         "yaxis": "y"
        },
        {
         "hovertemplate": "subcategory=lifestylerelationships<br>category=%{x}<br>values=%{y}<extra></extra>",
         "legendgroup": "lifestylerelationships",
         "marker": {
          "color": "#FFA15A",
          "pattern": {
           "shape": ""
          }
         },
         "name": "lifestylerelationships",
         "orientation": "v",
         "showlegend": true,
         "textposition": "auto",
         "type": "bar",
         "x": [
          "lifestyle"
         ],
         "xaxis": "x",
         "y": {
          "bdata": "Ww==",
          "dtype": "i1"
         },
         "yaxis": "y"
        },
        {
         "hovertemplate": "subcategory=finance-small-business<br>category=%{x}<br>values=%{y}<extra></extra>",
         "legendgroup": "finance-small-business",
         "marker": {
          "color": "#19d3f3",
          "pattern": {
           "shape": ""
          }
         },
         "name": "finance-small-business",
         "orientation": "v",
         "showlegend": true,
         "textposition": "auto",
         "type": "bar",
         "x": [
          "finance"
         ],
         "xaxis": "x",
         "y": {
          "bdata": "WQ==",
          "dtype": "i1"
         },
         "yaxis": "y"
        },
        {
         "hovertemplate": "subcategory=movievideo<br>category=%{x}<br>values=%{y}<extra></extra>",
         "legendgroup": "movievideo",
         "marker": {
          "color": "#FF6692",
          "pattern": {
           "shape": ""
          }
         },
         "name": "movievideo",
         "orientation": "v",
         "showlegend": true,
         "textposition": "auto",
         "type": "bar",
         "x": [
          "movies"
         ],
         "xaxis": "x",
         "y": {
          "bdata": "WQ==",
          "dtype": "i1"
         },
         "yaxis": "y"
        },
        {
         "hovertemplate": "subcategory=soccer_mls<br>category=%{x}<br>values=%{y}<extra></extra>",
         "legendgroup": "soccer_mls",
         "marker": {
          "color": "#B6E880",
          "pattern": {
           "shape": ""
          }
         },
         "name": "soccer_mls",
         "orientation": "v",
         "showlegend": true,
         "textposition": "auto",
         "type": "bar",
         "x": [
          "sports"
         ],
         "xaxis": "x",
         "y": {
          "bdata": "WA==",
          "dtype": "i1"
         },
         "yaxis": "y"
        },
        {
         "hovertemplate": "subcategory=traveltips<br>category=%{x}<br>values=%{y}<extra></extra>",
         "legendgroup": "traveltips",
         "marker": {
          "color": "#FF97FF",
          "pattern": {
           "shape": ""
          }
         },
         "name": "traveltips",
         "orientation": "v",
         "showlegend": true,
         "textposition": "auto",
         "type": "bar",
         "x": [
          "travel"
         ],
         "xaxis": "x",
         "y": {
          "bdata": "Vg==",
          "dtype": "i1"
         },
         "yaxis": "y"
        },
        {
         "hovertemplate": "subcategory=tv-gallery<br>category=%{x}<br>values=%{y}<extra></extra>",
         "legendgroup": "tv-gallery",
         "marker": {
          "color": "#FECB52",
          "pattern": {
           "shape": ""
          }
         },
         "name": "tv-gallery",
         "orientation": "v",
         "showlegend": true,
         "textposition": "auto",
         "type": "bar",
         "x": [
          "tv"
         ],
         "xaxis": "x",
         "y": {
          "bdata": "Uw==",
          "dtype": "i1"
         },
         "yaxis": "y"
        },
        {
         "hovertemplate": "subcategory=autossports<br>category=%{x}<br>values=%{y}<extra></extra>",
         "legendgroup": "autossports",
         "marker": {
          "color": "#636efa",
          "pattern": {
           "shape": ""
          }
         },
         "name": "autossports",
         "orientation": "v",
         "showlegend": true,
         "textposition": "auto",
         "type": "bar",
         "x": [
          "autos"
         ],
         "xaxis": "x",
         "y": {
          "bdata": "UA==",
          "dtype": "i1"
         },
         "yaxis": "y"
        },
        {
         "hovertemplate": "subcategory=autossuvs<br>category=%{x}<br>values=%{y}<extra></extra>",
         "legendgroup": "autossuvs",
         "marker": {
          "color": "#EF553B",
          "pattern": {
           "shape": ""
          }
         },
         "name": "autossuvs",
         "orientation": "v",
         "showlegend": true,
         "textposition": "auto",
         "type": "bar",
         "x": [
          "autos"
         ],
         "xaxis": "x",
         "y": {
          "bdata": "Tw==",
          "dtype": "i1"
         },
         "yaxis": "y"
        },
        {
         "hovertemplate": "subcategory=lifestylemindandsoul<br>category=%{x}<br>values=%{y}<extra></extra>",
         "legendgroup": "lifestylemindandsoul",
         "marker": {
          "color": "#00cc96",
          "pattern": {
           "shape": ""
          }
         },
         "name": "lifestylemindandsoul",
         "orientation": "v",
         "showlegend": true,
         "textposition": "auto",
         "type": "bar",
         "x": [
          "lifestyle"
         ],
         "xaxis": "x",
         "y": {
          "bdata": "Sg==",
          "dtype": "i1"
         },
         "yaxis": "y"
        },
        {
         "hovertemplate": "subcategory=movies-gallery<br>category=%{x}<br>values=%{y}<extra></extra>",
         "legendgroup": "movies-gallery",
         "marker": {
          "color": "#ab63fa",
          "pattern": {
           "shape": ""
          }
         },
         "name": "movies-gallery",
         "orientation": "v",
         "showlegend": true,
         "textposition": "auto",
         "type": "bar",
         "x": [
          "movies"
         ],
         "xaxis": "x",
         "y": {
          "bdata": "SA==",
          "dtype": "i1"
         },
         "yaxis": "y"
        },
        {
         "hovertemplate": "subcategory=lifestylecelebstyle<br>category=%{x}<br>values=%{y}<extra></extra>",
         "legendgroup": "lifestylecelebstyle",
         "marker": {
          "color": "#FFA15A",
          "pattern": {
           "shape": ""
          }
         },
         "name": "lifestylecelebstyle",
         "orientation": "v",
         "showlegend": true,
         "textposition": "auto",
         "type": "bar",
         "x": [
          "lifestyle"
         ],
         "xaxis": "x",
         "y": {
          "bdata": "Rw==",
          "dtype": "i1"
         },
         "yaxis": "y"
        },
        {
         "hovertemplate": "subcategory=lifestylecareer<br>category=%{x}<br>values=%{y}<extra></extra>",
         "legendgroup": "lifestylecareer",
         "marker": {
          "color": "#19d3f3",
          "pattern": {
           "shape": ""
          }
         },
         "name": "lifestylecareer",
         "orientation": "v",
         "showlegend": true,
         "textposition": "auto",
         "type": "bar",
         "x": [
          "lifestyle"
         ],
         "xaxis": "x",
         "y": {
          "bdata": "Rw==",
          "dtype": "i1"
         },
         "yaxis": "y"
        },
        {
         "hovertemplate": "subcategory=video<br>category=%{x}<br>values=%{y}<extra></extra>",
         "legendgroup": "video",
         "marker": {
          "color": "#FF6692",
          "pattern": {
           "shape": ""
          }
         },
         "name": "video",
         "orientation": "v",
         "showlegend": true,
         "textposition": "auto",
         "type": "bar",
         "x": [
          "travel",
          "entertainment",
          "kids",
          "health"
         ],
         "xaxis": "x",
         "y": {
          "bdata": "Qh8YEA==",
          "dtype": "i1"
         },
         "yaxis": "y"
        },
        {
         "hovertemplate": "subcategory=lifestyleparenting<br>category=%{x}<br>values=%{y}<extra></extra>",
         "legendgroup": "lifestyleparenting",
         "marker": {
          "color": "#B6E880",
          "pattern": {
           "shape": ""
          }
         },
         "name": "lifestyleparenting",
         "orientation": "v",
         "showlegend": true,
         "textposition": "auto",
         "type": "bar",
         "x": [
          "lifestyle"
         ],
         "xaxis": "x",
         "y": {
          "bdata": "QA==",
          "dtype": "i1"
         },
         "yaxis": "y"
        },
        {
         "hovertemplate": "subcategory=lifestylebeauty<br>category=%{x}<br>values=%{y}<extra></extra>",
         "legendgroup": "lifestylebeauty",
         "marker": {
          "color": "#FF97FF",
          "pattern": {
           "shape": ""
          }
         },
         "name": "lifestylebeauty",
         "orientation": "v",
         "showlegend": true,
         "textposition": "auto",
         "type": "bar",
         "x": [
          "lifestyle"
         ],
         "xaxis": "x",
         "y": {
          "bdata": "Pg==",
          "dtype": "i1"
         },
         "yaxis": "y"
        },
        {
         "hovertemplate": "subcategory=finance-taxes<br>category=%{x}<br>values=%{y}<extra></extra>",
         "legendgroup": "finance-taxes",
         "marker": {
          "color": "#FECB52",
          "pattern": {
           "shape": ""
          }
         },
         "name": "finance-taxes",
         "orientation": "v",
         "showlegend": true,
         "textposition": "auto",
         "type": "bar",
         "x": [
          "finance"
         ],
         "xaxis": "x",
         "y": {
          "bdata": "PA==",
          "dtype": "i1"
         },
         "yaxis": "y"
        },
        {
         "hovertemplate": "subcategory=soccer_epl<br>category=%{x}<br>values=%{y}<extra></extra>",
         "legendgroup": "soccer_epl",
         "marker": {
          "color": "#636efa",
          "pattern": {
           "shape": ""
          }
         },
         "name": "soccer_epl",
         "orientation": "v",
         "showlegend": true,
         "textposition": "auto",
         "type": "bar",
         "x": [
          "sports"
         ],
         "xaxis": "x",
         "y": {
          "bdata": "OQ==",
          "dtype": "i1"
         },
         "yaxis": "y"
        },
        {
         "hovertemplate": "subcategory=autosbuying<br>category=%{x}<br>values=%{y}<extra></extra>",
         "legendgroup": "autosbuying",
         "marker": {
          "color": "#EF553B",
          "pattern": {
           "shape": ""
          }
         },
         "name": "autosbuying",
         "orientation": "v",
         "showlegend": true,
         "textposition": "auto",
         "type": "bar",
         "x": [
          "autos"
         ],
         "xaxis": "x",
         "y": {
          "bdata": "OA==",
          "dtype": "i1"
         },
         "yaxis": "y"
        },
        {
         "hovertemplate": "subcategory=quickandeasy<br>category=%{x}<br>values=%{y}<extra></extra>",
         "legendgroup": "quickandeasy",
         "marker": {
          "color": "#00cc96",
          "pattern": {
           "shape": ""
          }
         },
         "name": "quickandeasy",
         "orientation": "v",
         "showlegend": true,
         "textposition": "auto",
         "type": "bar",
         "x": [
          "foodanddrink"
         ],
         "xaxis": "x",
         "y": {
          "bdata": "OA==",
          "dtype": "i1"
         },
         "yaxis": "y"
        },
        {
         "hovertemplate": "subcategory=shop-all<br>category=%{x}<br>values=%{y}<extra></extra>",
         "legendgroup": "shop-all",
         "marker": {
          "color": "#ab63fa",
          "pattern": {
           "shape": ""
          }
         },
         "name": "shop-all",
         "orientation": "v",
         "showlegend": true,
         "textposition": "auto",
         "type": "bar",
         "x": [
          "lifestyle"
         ],
         "xaxis": "x",
         "y": {
          "bdata": "Ng==",
          "dtype": "i1"
         },
         "yaxis": "y"
        },
        {
         "hovertemplate": "subcategory=music-gallery<br>category=%{x}<br>values=%{y}<extra></extra>",
         "legendgroup": "music-gallery",
         "marker": {
          "color": "#FFA15A",
          "pattern": {
           "shape": ""
          }
         },
         "name": "music-gallery",
         "orientation": "v",
         "showlegend": true,
         "textposition": "auto",
         "type": "bar",
         "x": [
          "music"
         ],
         "xaxis": "x",
         "y": {
          "bdata": "NQ==",
          "dtype": "i1"
         },
         "yaxis": "y"
        },
        {
         "hovertemplate": "subcategory=baseball_mlb_videos<br>category=%{x}<br>values=%{y}<extra></extra>",
         "legendgroup": "baseball_mlb_videos",
         "marker": {
          "color": "#19d3f3",
          "pattern": {
           "shape": ""
          }
         },
         "name": "baseball_mlb_videos",
         "orientation": "v",
         "showlegend": true,
         "textposition": "auto",
         "type": "bar",
         "x": [
          "sports"
         ],
         "xaxis": "x",
         "y": {
          "bdata": "MQ==",
          "dtype": "i1"
         },
         "yaxis": "y"
        },
        {
         "hovertemplate": "subcategory=football_ncaa_videos<br>category=%{x}<br>values=%{y}<extra></extra>",
         "legendgroup": "football_ncaa_videos",
         "marker": {
          "color": "#FF6692",
          "pattern": {
           "shape": ""
          }
         },
         "name": "football_ncaa_videos",
         "orientation": "v",
         "showlegend": true,
         "textposition": "auto",
         "type": "bar",
         "x": [
          "sports"
         ],
         "xaxis": "x",
         "y": {
          "bdata": "MA==",
          "dtype": "i1"
         },
         "yaxis": "y"
        },
        {
         "hovertemplate": "subcategory=boxing<br>category=%{x}<br>values=%{y}<extra></extra>",
         "legendgroup": "boxing",
         "marker": {
          "color": "#B6E880",
          "pattern": {
           "shape": ""
          }
         },
         "name": "boxing",
         "orientation": "v",
         "showlegend": true,
         "textposition": "auto",
         "type": "bar",
         "x": [
          "sports"
         ],
         "xaxis": "x",
         "y": {
          "bdata": "Lw==",
          "dtype": "i1"
         },
         "yaxis": "y"
        },
        {
         "hovertemplate": "subcategory=healthnews<br>category=%{x}<br>values=%{y}<extra></extra>",
         "legendgroup": "healthnews",
         "marker": {
          "color": "#FF97FF",
          "pattern": {
           "shape": ""
          }
         },
         "name": "healthnews",
         "orientation": "v",
         "showlegend": true,
         "textposition": "auto",
         "type": "bar",
         "x": [
          "health"
         ],
         "xaxis": "x",
         "y": {
          "bdata": "Lg==",
          "dtype": "i1"
         },
         "yaxis": "y"
        },
        {
         "hovertemplate": "subcategory=finance-technology<br>category=%{x}<br>values=%{y}<extra></extra>",
         "legendgroup": "finance-technology",
         "marker": {
          "color": "#FECB52",
          "pattern": {
           "shape": ""
          }
         },
         "name": "finance-technology",
         "orientation": "v",
         "showlegend": true,
         "textposition": "auto",
         "type": "bar",
         "x": [
          "finance"
         ],
         "xaxis": "x",
         "y": {
          "bdata": "LQ==",
          "dtype": "i1"
         },
         "yaxis": "y"
        },
        {
         "hovertemplate": "subcategory=tvvideos<br>category=%{x}<br>values=%{y}<extra></extra>",
         "legendgroup": "tvvideos",
         "marker": {
          "color": "#636efa",
          "pattern": {
           "shape": ""
          }
         },
         "name": "tvvideos",
         "orientation": "v",
         "showlegend": true,
         "textposition": "auto",
         "type": "bar",
         "x": [
          "tv"
         ],
         "xaxis": "x",
         "y": {
          "bdata": "LA==",
          "dtype": "i1"
         },
         "yaxis": "y"
        },
        {
         "hovertemplate": "subcategory=factcheck<br>category=%{x}<br>values=%{y}<extra></extra>",
         "legendgroup": "factcheck",
         "marker": {
          "color": "#EF553B",
          "pattern": {
           "shape": ""
          }
         },
         "name": "factcheck",
         "orientation": "v",
         "showlegend": true,
         "textposition": "auto",
         "type": "bar",
         "x": [
          "news"
         ],
         "xaxis": "x",
         "y": {
          "bdata": "Kg==",
          "dtype": "i1"
         },
         "yaxis": "y"
        },
        {
         "hovertemplate": "subcategory=lifestylecleaningandorganizing<br>category=%{x}<br>values=%{y}<extra></extra>",
         "legendgroup": "lifestylecleaningandorganizing",
         "marker": {
          "color": "#00cc96",
          "pattern": {
           "shape": ""
          }
         },
         "name": "lifestylecleaningandorganizing",
         "orientation": "v",
         "showlegend": true,
         "textposition": "auto",
         "type": "bar",
         "x": [
          "lifestyle"
         ],
         "xaxis": "x",
         "y": {
          "bdata": "KQ==",
          "dtype": "i1"
         },
         "yaxis": "y"
        },
        {
         "hovertemplate": "subcategory=lifestylefashion<br>category=%{x}<br>values=%{y}<extra></extra>",
         "legendgroup": "lifestylefashion",
         "marker": {
          "color": "#ab63fa",
          "pattern": {
           "shape": ""
          }
         },
         "name": "lifestylefashion",
         "orientation": "v",
         "showlegend": true,
         "textposition": "auto",
         "type": "bar",
         "x": [
          "lifestyle"
         ],
         "xaxis": "x",
         "y": {
          "bdata": "KA==",
          "dtype": "i1"
         },
         "yaxis": "y"
        },
        {
         "hovertemplate": "subcategory=cma-awards<br>category=%{x}<br>values=%{y}<extra></extra>",
         "legendgroup": "cma-awards",
         "marker": {
          "color": "#FFA15A",
          "pattern": {
           "shape": ""
          }
         },
         "name": "cma-awards",
         "orientation": "v",
         "showlegend": true,
         "textposition": "auto",
         "type": "bar",
         "x": [
          "music"
         ],
         "xaxis": "x",
         "y": {
          "bdata": "Jg==",
          "dtype": "i1"
         },
         "yaxis": "y"
        },
        {
         "hovertemplate": "subcategory=autostrucks<br>category=%{x}<br>values=%{y}<extra></extra>",
         "legendgroup": "autostrucks",
         "marker": {
          "color": "#19d3f3",
          "pattern": {
           "shape": ""
          }
         },
         "name": "autostrucks",
         "orientation": "v",
         "showlegend": true,
         "textposition": "auto",
         "type": "bar",
         "x": [
          "autos"
         ],
         "xaxis": "x",
         "y": {
          "bdata": "Jg==",
          "dtype": "i1"
         },
         "yaxis": "y"
        },
        {
         "hovertemplate": "subcategory=finance-insurance<br>category=%{x}<br>values=%{y}<extra></extra>",
         "legendgroup": "finance-insurance",
         "marker": {
          "color": "#FF6692",
          "pattern": {
           "shape": ""
          }
         },
         "name": "finance-insurance",
         "orientation": "v",
         "showlegend": true,
         "textposition": "auto",
         "type": "bar",
         "x": [
          "finance"
         ],
         "xaxis": "x",
         "y": {
          "bdata": "Jg==",
          "dtype": "i1"
         },
         "yaxis": "y"
        },
        {
         "hovertemplate": "subcategory=lifestylefamilyandrelationships<br>category=%{x}<br>values=%{y}<extra></extra>",
         "legendgroup": "lifestylefamilyandrelationships",
         "marker": {
          "color": "#B6E880",
          "pattern": {
           "shape": ""
          }
         },
         "name": "lifestylefamilyandrelationships",
         "orientation": "v",
         "showlegend": true,
         "textposition": "auto",
         "type": "bar",
         "x": [
          "lifestyle"
         ],
         "xaxis": "x",
         "y": {
          "bdata": "IQ==",
          "dtype": "i1"
         },
         "yaxis": "y"
        },
        {
         "hovertemplate": "subcategory=awards<br>category=%{x}<br>values=%{y}<extra></extra>",
         "legendgroup": "awards",
         "marker": {
          "color": "#FF97FF",
          "pattern": {
           "shape": ""
          }
         },
         "name": "awards",
         "orientation": "v",
         "showlegend": true,
         "textposition": "auto",
         "type": "bar",
         "x": [
          "entertainment"
         ],
         "xaxis": "x",
         "y": {
          "bdata": "Hw==",
          "dtype": "i1"
         },
         "yaxis": "y"
        },
        {
         "hovertemplate": "subcategory=music-awards<br>category=%{x}<br>values=%{y}<extra></extra>",
         "legendgroup": "music-awards",
         "marker": {
          "color": "#FECB52",
          "pattern": {
           "shape": ""
          }
         },
         "name": "music-awards",
         "orientation": "v",
         "showlegend": true,
         "textposition": "auto",
         "type": "bar",
         "x": [
          "music"
         ],
         "xaxis": "x",
         "y": {
          "bdata": "Hw==",
          "dtype": "i1"
         },
         "yaxis": "y"
        },
        {
         "hovertemplate": "subcategory=autosluxury<br>category=%{x}<br>values=%{y}<extra></extra>",
         "legendgroup": "autosluxury",
         "marker": {
          "color": "#636efa",
          "pattern": {
           "shape": ""
          }
         },
         "name": "autosluxury",
         "orientation": "v",
         "showlegend": true,
         "textposition": "auto",
         "type": "bar",
         "x": [
          "autos"
         ],
         "xaxis": "x",
         "y": {
          "bdata": "Hw==",
          "dtype": "i1"
         },
         "yaxis": "y"
        },
        {
         "hovertemplate": "subcategory=autosownership<br>category=%{x}<br>values=%{y}<extra></extra>",
         "legendgroup": "autosownership",
         "marker": {
          "color": "#EF553B",
          "pattern": {
           "shape": ""
          }
         },
         "name": "autosownership",
         "orientation": "v",
         "showlegend": true,
         "textposition": "auto",
         "type": "bar",
         "x": [
          "autos"
         ],
         "xaxis": "x",
         "y": {
          "bdata": "Hg==",
          "dtype": "i1"
         },
         "yaxis": "y"
        },
        {
         "hovertemplate": "subcategory=advice<br>category=%{x}<br>values=%{y}<extra></extra>",
         "legendgroup": "advice",
         "marker": {
          "color": "#00cc96",
          "pattern": {
           "shape": ""
          }
         },
         "name": "advice",
         "orientation": "v",
         "showlegend": true,
         "textposition": "auto",
         "type": "bar",
         "x": [
          "lifestyle"
         ],
         "xaxis": "x",
         "y": {
          "bdata": "Hg==",
          "dtype": "i1"
         },
         "yaxis": "y"
        },
        {
         "hovertemplate": "subcategory=wines<br>category=%{x}<br>values=%{y}<extra></extra>",
         "legendgroup": "wines",
         "marker": {
          "color": "#ab63fa",
          "pattern": {
           "shape": ""
          }
         },
         "name": "wines",
         "orientation": "v",
         "showlegend": true,
         "textposition": "auto",
         "type": "bar",
         "x": [
          "foodanddrink"
         ],
         "xaxis": "x",
         "y": {
          "bdata": "Hg==",
          "dtype": "i1"
         },
         "yaxis": "y"
        },
        {
         "hovertemplate": "subcategory=lifestyleweddings<br>category=%{x}<br>values=%{y}<extra></extra>",
         "legendgroup": "lifestyleweddings",
         "marker": {
          "color": "#FFA15A",
          "pattern": {
           "shape": ""
          }
         },
         "name": "lifestyleweddings",
         "orientation": "v",
         "showlegend": true,
         "textposition": "auto",
         "type": "bar",
         "x": [
          "lifestyle"
         ],
         "xaxis": "x",
         "y": {
          "bdata": "HQ==",
          "dtype": "i1"
         },
         "yaxis": "y"
        },
        {
         "hovertemplate": "subcategory=finance-credit<br>category=%{x}<br>values=%{y}<extra></extra>",
         "legendgroup": "finance-credit",
         "marker": {
          "color": "#19d3f3",
          "pattern": {
           "shape": ""
          }
         },
         "name": "finance-credit",
         "orientation": "v",
         "showlegend": true,
         "textposition": "auto",
         "type": "bar",
         "x": [
          "finance"
         ],
         "xaxis": "x",
         "y": {
          "bdata": "HA==",
          "dtype": "i1"
         },
         "yaxis": "y"
        },
        {
         "hovertemplate": "subcategory=shop-apparel<br>category=%{x}<br>values=%{y}<extra></extra>",
         "legendgroup": "shop-apparel",
         "marker": {
          "color": "#FF6692",
          "pattern": {
           "shape": ""
          }
         },
         "name": "shop-apparel",
         "orientation": "v",
         "showlegend": true,
         "textposition": "auto",
         "type": "bar",
         "x": [
          "lifestyle"
         ],
         "xaxis": "x",
         "y": {
          "bdata": "Gg==",
          "dtype": "i1"
         },
         "yaxis": "y"
        },
        {
         "hovertemplate": "subcategory=lifestylevideo<br>category=%{x}<br>values=%{y}<extra></extra>",
         "legendgroup": "lifestylevideo",
         "marker": {
          "color": "#B6E880",
          "pattern": {
           "shape": ""
          }
         },
         "name": "lifestylevideo",
         "orientation": "v",
         "showlegend": true,
         "textposition": "auto",
         "type": "bar",
         "x": [
          "lifestyle"
         ],
         "xaxis": "x",
         "y": {
          "bdata": "GQ==",
          "dtype": "i1"
         },
         "yaxis": "y"
        },
        {
         "hovertemplate": "subcategory=lifestylelovesex<br>category=%{x}<br>values=%{y}<extra></extra>",
         "legendgroup": "lifestylelovesex",
         "marker": {
          "color": "#FF97FF",
          "pattern": {
           "shape": ""
          }
         },
         "name": "lifestylelovesex",
         "orientation": "v",
         "showlegend": true,
         "textposition": "auto",
         "type": "bar",
         "x": [
          "lifestyle"
         ],
         "xaxis": "x",
         "y": {
          "bdata": "GQ==",
          "dtype": "i1"
         },
         "yaxis": "y"
        },
        {
         "hovertemplate": "subcategory=autosresearchguides<br>category=%{x}<br>values=%{y}<extra></extra>",
         "legendgroup": "autosresearchguides",
         "marker": {
          "color": "#FECB52",
          "pattern": {
           "shape": ""
          }
         },
         "name": "autosresearchguides",
         "orientation": "v",
         "showlegend": true,
         "textposition": "auto",
         "type": "bar",
         "x": [
          "autos"
         ],
         "xaxis": "x",
         "y": {
          "bdata": "GA==",
          "dtype": "i1"
         },
         "yaxis": "y"
        },
        {
         "hovertemplate": "subcategory=newsphotos<br>category=%{x}<br>values=%{y}<extra></extra>",
         "legendgroup": "newsphotos",
         "marker": {
          "color": "#636efa",
          "pattern": {
           "shape": ""
          }
         },
         "name": "newsphotos",
         "orientation": "v",
         "showlegend": true,
         "textposition": "auto",
         "type": "bar",
         "x": [
          "news"
         ],
         "xaxis": "x",
         "y": {
          "bdata": "GA==",
          "dtype": "i1"
         },
         "yaxis": "y"
        },
        {
         "hovertemplate": "subcategory=people-places<br>category=%{x}<br>values=%{y}<extra></extra>",
         "legendgroup": "people-places",
         "marker": {
          "color": "#EF553B",
          "pattern": {
           "shape": ""
          }
         },
         "name": "people-places",
         "orientation": "v",
         "showlegend": true,
         "textposition": "auto",
         "type": "bar",
         "x": [
          "kids"
         ],
         "xaxis": "x",
         "y": {
          "bdata": "GA==",
          "dtype": "i1"
         },
         "yaxis": "y"
        },
        {
         "hovertemplate": "subcategory=finance-career<br>category=%{x}<br>values=%{y}<extra></extra>",
         "legendgroup": "finance-career",
         "marker": {
          "color": "#00cc96",
          "pattern": {
           "shape": ""
          }
         },
         "name": "finance-career",
         "orientation": "v",
         "showlegend": true,
         "textposition": "auto",
         "type": "bar",
         "x": [
          "finance"
         ],
         "xaxis": "x",
         "y": {
          "bdata": "Fw==",
          "dtype": "i1"
         },
         "yaxis": "y"
        },
        {
         "hovertemplate": "subcategory=autossema<br>category=%{x}<br>values=%{y}<extra></extra>",
         "legendgroup": "autossema",
         "marker": {
          "color": "#ab63fa",
          "pattern": {
           "shape": ""
          }
         },
         "name": "autossema",
         "orientation": "v",
         "showlegend": true,
         "textposition": "auto",
         "type": "bar",
         "x": [
          "autos"
         ],
         "xaxis": "x",
         "y": {
          "bdata": "Fw==",
          "dtype": "i1"
         },
         "yaxis": "y"
        },
        {
         "hovertemplate": "subcategory=fun<br>category=%{x}<br>values=%{y}<extra></extra>",
         "legendgroup": "fun",
         "marker": {
          "color": "#FFA15A",
          "pattern": {
           "shape": ""
          }
         },
         "name": "fun",
         "orientation": "v",
         "showlegend": true,
         "textposition": "auto",
         "type": "bar",
         "x": [
          "kids"
         ],
         "xaxis": "x",
         "y": {
          "bdata": "Fg==",
          "dtype": "i1"
         },
         "yaxis": "y"
        },
        {
         "hovertemplate": "subcategory=lifestyleshopping<br>category=%{x}<br>values=%{y}<extra></extra>",
         "legendgroup": "lifestyleshopping",
         "marker": {
          "color": "#19d3f3",
          "pattern": {
           "shape": ""
          }
         },
         "name": "lifestyleshopping",
         "orientation": "v",
         "showlegend": true,
         "textposition": "auto",
         "type": "bar",
         "x": [
          "lifestyle"
         ],
         "xaxis": "x",
         "y": {
          "bdata": "Fg==",
          "dtype": "i1"
         },
         "yaxis": "y"
        },
        {
         "hovertemplate": "subcategory=tunedin<br>category=%{x}<br>values=%{y}<extra></extra>",
         "legendgroup": "tunedin",
         "marker": {
          "color": "#FF6692",
          "pattern": {
           "shape": ""
          }
         },
         "name": "tunedin",
         "orientation": "v",
         "showlegend": true,
         "textposition": "auto",
         "type": "bar",
         "x": [
          "video"
         ],
         "xaxis": "x",
         "y": {
          "bdata": "FQ==",
          "dtype": "i1"
         },
         "yaxis": "y"
        },
        {
         "hovertemplate": "subcategory=newsfactcheck<br>category=%{x}<br>values=%{y}<extra></extra>",
         "legendgroup": "newsfactcheck",
         "marker": {
          "color": "#B6E880",
          "pattern": {
           "shape": ""
          }
         },
         "name": "newsfactcheck",
         "orientation": "v",
         "showlegend": true,
         "textposition": "auto",
         "type": "bar",
         "x": [
          "news"
         ],
         "xaxis": "x",
         "y": {
          "bdata": "FQ==",
          "dtype": "i1"
         },
         "yaxis": "y"
        },
        {
         "hovertemplate": "subcategory=musicvideos<br>category=%{x}<br>values=%{y}<extra></extra>",
         "legendgroup": "musicvideos",
         "marker": {
          "color": "#FF97FF",
          "pattern": {
           "shape": ""
          }
         },
         "name": "musicvideos",
         "orientation": "v",
         "showlegend": true,
         "textposition": "auto",
         "type": "bar",
         "x": [
          "music"
         ],
         "xaxis": "x",
         "y": {
          "bdata": "FA==",
          "dtype": "i1"
         },
         "yaxis": "y"
        },
        {
         "hovertemplate": "subcategory=newsscience<br>category=%{x}<br>values=%{y}<extra></extra>",
         "legendgroup": "newsscience",
         "marker": {
          "color": "#FECB52",
          "pattern": {
           "shape": ""
          }
         },
         "name": "newsscience",
         "orientation": "v",
         "showlegend": true,
         "textposition": "auto",
         "type": "bar",
         "x": [
          "news"
         ],
         "xaxis": "x",
         "y": {
          "bdata": "Eg==",
          "dtype": "i1"
         },
         "yaxis": "y"
        },
        {
         "hovertemplate": "subcategory=autosresearch<br>category=%{x}<br>values=%{y}<extra></extra>",
         "legendgroup": "autosresearch",
         "marker": {
          "color": "#636efa",
          "pattern": {
           "shape": ""
          }
         },
         "name": "autosresearch",
         "orientation": "v",
         "showlegend": true,
         "textposition": "auto",
         "type": "bar",
         "x": [
          "autos"
         ],
         "xaxis": "x",
         "y": {
          "bdata": "Eg==",
          "dtype": "i1"
         },
         "yaxis": "y"
        },
        {
         "hovertemplate": "subcategory=tv-recaps<br>category=%{x}<br>values=%{y}<extra></extra>",
         "legendgroup": "tv-recaps",
         "marker": {
          "color": "#EF553B",
          "pattern": {
           "shape": ""
          }
         },
         "name": "tv-recaps",
         "orientation": "v",
         "showlegend": true,
         "textposition": "auto",
         "type": "bar",
         "x": [
          "tv"
         ],
         "xaxis": "x",
         "y": {
          "bdata": "Eg==",
          "dtype": "i1"
         },
         "yaxis": "y"
        },
        {
         "hovertemplate": "subcategory=humor<br>category=%{x}<br>values=%{y}<extra></extra>",
         "legendgroup": "humor",
         "marker": {
          "color": "#00cc96",
          "pattern": {
           "shape": ""
          }
         },
         "name": "humor",
         "orientation": "v",
         "showlegend": true,
         "textposition": "auto",
         "type": "bar",
         "x": [
          "tv",
          "entertainment",
          "music"
         ],
         "xaxis": "x",
         "y": {
          "bdata": "EgoB",
          "dtype": "i1"
         },
         "yaxis": "y"
        },
        {
         "hovertemplate": "subcategory=causes-animals<br>category=%{x}<br>values=%{y}<extra></extra>",
         "legendgroup": "causes-animals",
         "marker": {
          "color": "#ab63fa",
          "pattern": {
           "shape": ""
          }
         },
         "name": "causes-animals",
         "orientation": "v",
         "showlegend": true,
         "textposition": "auto",
         "type": "bar",
         "x": [
          "lifestyle"
         ],
         "xaxis": "x",
         "y": {
          "bdata": "EQ==",
          "dtype": "i1"
         },
         "yaxis": "y"
        },
        {
         "hovertemplate": "subcategory=newsweather<br>category=%{x}<br>values=%{y}<extra></extra>",
         "legendgroup": "newsweather",
         "marker": {
          "color": "#FFA15A",
          "pattern": {
           "shape": ""
          }
         },
         "name": "newsweather",
         "orientation": "v",
         "showlegend": true,
         "textposition": "auto",
         "type": "bar",
         "x": [
          "news"
         ],
         "xaxis": "x",
         "y": {
          "bdata": "EQ==",
          "dtype": "i1"
         },
         "yaxis": "y"
        },
        {
         "hovertemplate": "subcategory=lifestylediy<br>category=%{x}<br>values=%{y}<extra></extra>",
         "legendgroup": "lifestylediy",
         "marker": {
          "color": "#19d3f3",
          "pattern": {
           "shape": ""
          }
         },
         "name": "lifestylediy",
         "orientation": "v",
         "showlegend": true,
         "textposition": "auto",
         "type": "bar",
         "x": [
          "lifestyle"
         ],
         "xaxis": "x",
         "y": {
          "bdata": "EQ==",
          "dtype": "i1"
         },
         "yaxis": "y"
        },
        {
         "hovertemplate": "subcategory=basketball_ncaa_videos<br>category=%{x}<br>values=%{y}<extra></extra>",
         "legendgroup": "basketball_ncaa_videos",
         "marker": {
          "color": "#FF6692",
          "pattern": {
           "shape": ""
          }
         },
         "name": "basketball_ncaa_videos",
         "orientation": "v",
         "showlegend": true,
         "textposition": "auto",
         "type": "bar",
         "x": [
          "sports"
         ],
         "xaxis": "x",
         "y": {
          "bdata": "EQ==",
          "dtype": "i1"
         },
         "yaxis": "y"
        },
        {
         "hovertemplate": "subcategory=lifestyle-news-feature<br>category=%{x}<br>values=%{y}<extra></extra>",
         "legendgroup": "lifestyle-news-feature",
         "marker": {
          "color": "#B6E880",
          "pattern": {
           "shape": ""
          }
         },
         "name": "lifestyle-news-feature",
         "orientation": "v",
         "showlegend": true,
         "textposition": "auto",
         "type": "bar",
         "x": [
          "lifestyle"
         ],
         "xaxis": "x",
         "y": {
          "bdata": "EQ==",
          "dtype": "i1"
         },
         "yaxis": "y"
        },
        {
         "hovertemplate": "subcategory=causes<br>category=%{x}<br>values=%{y}<extra></extra>",
         "legendgroup": "causes",
         "marker": {
          "color": "#FF97FF",
          "pattern": {
           "shape": ""
          }
         },
         "name": "causes",
         "orientation": "v",
         "showlegend": true,
         "textposition": "auto",
         "type": "bar",
         "x": [
          "lifestyle",
          "health",
          "finance",
          "news",
          "travel"
         ],
         "xaxis": "x",
         "y": {
          "bdata": "EA8GAwE=",
          "dtype": "i1"
         },
         "yaxis": "y"
        },
        {
         "hovertemplate": "subcategory=lifestyledecor<br>category=%{x}<br>values=%{y}<extra></extra>",
         "legendgroup": "lifestyledecor",
         "marker": {
          "color": "#FECB52",
          "pattern": {
           "shape": ""
          }
         },
         "name": "lifestyledecor",
         "orientation": "v",
         "showlegend": true,
         "textposition": "auto",
         "type": "bar",
         "x": [
          "lifestyle"
         ],
         "xaxis": "x",
         "y": {
          "bdata": "EA==",
          "dtype": "i1"
         },
         "yaxis": "y"
        },
        {
         "hovertemplate": "subcategory=finance-healthcare<br>category=%{x}<br>values=%{y}<extra></extra>",
         "legendgroup": "finance-healthcare",
         "marker": {
          "color": "#636efa",
          "pattern": {
           "shape": ""
          }
         },
         "name": "finance-healthcare",
         "orientation": "v",
         "showlegend": true,
         "textposition": "auto",
         "type": "bar",
         "x": [
          "finance"
         ],
         "xaxis": "x",
         "y": {
          "bdata": "Dg==",
          "dtype": "i1"
         },
         "yaxis": "y"
        },
        {
         "hovertemplate": "subcategory=autosvideonew<br>category=%{x}<br>values=%{y}<extra></extra>",
         "legendgroup": "autosvideonew",
         "marker": {
          "color": "#EF553B",
          "pattern": {
           "shape": ""
          }
         },
         "name": "autosvideonew",
         "orientation": "v",
         "showlegend": true,
         "textposition": "auto",
         "type": "bar",
         "x": [
          "autos"
         ],
         "xaxis": "x",
         "y": {
          "bdata": "Dg==",
          "dtype": "i1"
         },
         "yaxis": "y"
        },
        {
         "hovertemplate": "subcategory=pregnancyparenting<br>category=%{x}<br>values=%{y}<extra></extra>",
         "legendgroup": "pregnancyparenting",
         "marker": {
          "color": "#00cc96",
          "pattern": {
           "shape": ""
          }
         },
         "name": "pregnancyparenting",
         "orientation": "v",
         "showlegend": true,
         "textposition": "auto",
         "type": "bar",
         "x": [
          "health",
          "lifestyle"
         ],
         "xaxis": "x",
         "y": {
          "bdata": "DQE=",
          "dtype": "i1"
         },
         "yaxis": "y"
        },
        {
         "hovertemplate": "subcategory=finance-education<br>category=%{x}<br>values=%{y}<extra></extra>",
         "legendgroup": "finance-education",
         "marker": {
          "color": "#ab63fa",
          "pattern": {
           "shape": ""
          }
         },
         "name": "finance-education",
         "orientation": "v",
         "showlegend": true,
         "textposition": "auto",
         "type": "bar",
         "x": [
          "finance"
         ],
         "xaxis": "x",
         "y": {
          "bdata": "DQ==",
          "dtype": "i1"
         },
         "yaxis": "y"
        },
        {
         "hovertemplate": "subcategory=finance-billstopay<br>category=%{x}<br>values=%{y}<extra></extra>",
         "legendgroup": "finance-billstopay",
         "marker": {
          "color": "#FFA15A",
          "pattern": {
           "shape": ""
          }
         },
         "name": "finance-billstopay",
         "orientation": "v",
         "showlegend": true,
         "textposition": "auto",
         "type": "bar",
         "x": [
          "finance"
         ],
         "xaxis": "x",
         "y": {
          "bdata": "DQ==",
          "dtype": "i1"
         },
         "yaxis": "y"
        },
        {
         "hovertemplate": "subcategory=movies-awards<br>category=%{x}<br>values=%{y}<extra></extra>",
         "legendgroup": "movies-awards",
         "marker": {
          "color": "#19d3f3",
          "pattern": {
           "shape": ""
          }
         },
         "name": "movies-awards",
         "orientation": "v",
         "showlegend": true,
         "textposition": "auto",
         "type": "bar",
         "x": [
          "movies"
         ],
         "xaxis": "x",
         "y": {
          "bdata": "DA==",
          "dtype": "i1"
         },
         "yaxis": "y"
        },
        {
         "hovertemplate": "subcategory=basketball_nba_videos<br>category=%{x}<br>values=%{y}<extra></extra>",
         "legendgroup": "basketball_nba_videos",
         "marker": {
          "color": "#FF6692",
          "pattern": {
           "shape": ""
          }
         },
         "name": "basketball_nba_videos",
         "orientation": "v",
         "showlegend": true,
         "textposition": "auto",
         "type": "bar",
         "x": [
          "sports"
         ],
         "xaxis": "x",
         "y": {
          "bdata": "DA==",
          "dtype": "i1"
         },
         "yaxis": "y"
        },
        {
         "hovertemplate": "subcategory=awardstyle<br>category=%{x}<br>values=%{y}<extra></extra>",
         "legendgroup": "awardstyle",
         "marker": {
          "color": "#B6E880",
          "pattern": {
           "shape": ""
          }
         },
         "name": "awardstyle",
         "orientation": "v",
         "showlegend": true,
         "textposition": "auto",
         "type": "bar",
         "x": [
          "lifestyle"
         ],
         "xaxis": "x",
         "y": {
          "bdata": "DA==",
          "dtype": "i1"
         },
         "yaxis": "y"
        },
        {
         "hovertemplate": "subcategory=travel-points-rewards<br>category=%{x}<br>values=%{y}<extra></extra>",
         "legendgroup": "travel-points-rewards",
         "marker": {
          "color": "#FF97FF",
          "pattern": {
           "shape": ""
          }
         },
         "name": "travel-points-rewards",
         "orientation": "v",
         "showlegend": true,
         "textposition": "auto",
         "type": "bar",
         "x": [
          "travel"
         ],
         "xaxis": "x",
         "y": {
          "bdata": "Cw==",
          "dtype": "i1"
         },
         "yaxis": "y"
        },
        {
         "hovertemplate": "subcategory=mentalhealth<br>category=%{x}<br>values=%{y}<extra></extra>",
         "legendgroup": "mentalhealth",
         "marker": {
          "color": "#FECB52",
          "pattern": {
           "shape": ""
          }
         },
         "name": "mentalhealth",
         "orientation": "v",
         "showlegend": true,
         "textposition": "auto",
         "type": "bar",
         "x": [
          "health"
         ],
         "xaxis": "x",
         "y": {
          "bdata": "Cw==",
          "dtype": "i1"
         },
         "yaxis": "y"
        },
        {
         "hovertemplate": "subcategory=ads-lung-health<br>category=%{x}<br>values=%{y}<extra></extra>",
         "legendgroup": "ads-lung-health",
         "marker": {
          "color": "#636efa",
          "pattern": {
           "shape": ""
          }
         },
         "name": "ads-lung-health",
         "orientation": "v",
         "showlegend": true,
         "textposition": "auto",
         "type": "bar",
         "x": [
          "health"
         ],
         "xaxis": "x",
         "y": {
          "bdata": "Cw==",
          "dtype": "i1"
         },
         "yaxis": "y"
        },
        {
         "hovertemplate": "subcategory=retirement<br>category=%{x}<br>values=%{y}<extra></extra>",
         "legendgroup": "retirement",
         "marker": {
          "color": "#EF553B",
          "pattern": {
           "shape": ""
          }
         },
         "name": "retirement",
         "orientation": "v",
         "showlegend": true,
         "textposition": "auto",
         "type": "bar",
         "x": [
          "finance"
         ],
         "xaxis": "x",
         "y": {
          "bdata": "Cg==",
          "dtype": "i1"
         },
         "yaxis": "y"
        },
        {
         "hovertemplate": "subcategory=travel-adventure-travel<br>category=%{x}<br>values=%{y}<extra></extra>",
         "legendgroup": "travel-adventure-travel",
         "marker": {
          "color": "#00cc96",
          "pattern": {
           "shape": ""
          }
         },
         "name": "travel-adventure-travel",
         "orientation": "v",
         "showlegend": true,
         "textposition": "auto",
         "type": "bar",
         "x": [
          "travel"
         ],
         "xaxis": "x",
         "y": {
          "bdata": "Cg==",
          "dtype": "i1"
         },
         "yaxis": "y"
        },
        {
         "hovertemplate": "subcategory=newselection2020<br>category=%{x}<br>values=%{y}<extra></extra>",
         "legendgroup": "newselection2020",
         "marker": {
          "color": "#ab63fa",
          "pattern": {
           "shape": ""
          }
         },
         "name": "newselection2020",
         "orientation": "v",
         "showlegend": true,
         "textposition": "auto",
         "type": "bar",
         "x": [
          "news"
         ],
         "xaxis": "x",
         "y": {
          "bdata": "Cg==",
          "dtype": "i1"
         },
         "yaxis": "y"
        },
        {
         "hovertemplate": "subcategory=wonder<br>category=%{x}<br>values=%{y}<extra></extra>",
         "legendgroup": "wonder",
         "marker": {
          "color": "#FFA15A",
          "pattern": {
           "shape": ""
          }
         },
         "name": "wonder",
         "orientation": "v",
         "showlegend": true,
         "textposition": "auto",
         "type": "bar",
         "x": [
          "video"
         ],
         "xaxis": "x",
         "y": {
          "bdata": "Cg==",
          "dtype": "i1"
         },
         "yaxis": "y"
        },
        {
         "hovertemplate": "subcategory=ads-latingrammys<br>category=%{x}<br>values=%{y}<extra></extra>",
         "legendgroup": "ads-latingrammys",
         "marker": {
          "color": "#19d3f3",
          "pattern": {
           "shape": ""
          }
         },
         "name": "ads-latingrammys",
         "orientation": "v",
         "showlegend": true,
         "textposition": "auto",
         "type": "bar",
         "x": [
          "music"
         ],
         "xaxis": "x",
         "y": {
          "bdata": "Cg==",
          "dtype": "i1"
         },
         "yaxis": "y"
        },
        {
         "hovertemplate": "subcategory=shop-home-goods<br>category=%{x}<br>values=%{y}<extra></extra>",
         "legendgroup": "shop-home-goods",
         "marker": {
          "color": "#FF6692",
          "pattern": {
           "shape": ""
          }
         },
         "name": "shop-home-goods",
         "orientation": "v",
         "showlegend": true,
         "textposition": "auto",
         "type": "bar",
         "x": [
          "lifestyle"
         ],
         "xaxis": "x",
         "y": {
          "bdata": "CQ==",
          "dtype": "i1"
         },
         "yaxis": "y"
        },
        {
         "hovertemplate": "subcategory=boxing-mma<br>category=%{x}<br>values=%{y}<extra></extra>",
         "legendgroup": "boxing-mma",
         "marker": {
          "color": "#B6E880",
          "pattern": {
           "shape": ""
          }
         },
         "name": "boxing-mma",
         "orientation": "v",
         "showlegend": true,
         "textposition": "auto",
         "type": "bar",
         "x": [
          "sports"
         ],
         "xaxis": "x",
         "y": {
          "bdata": "CQ==",
          "dtype": "i1"
         },
         "yaxis": "y"
        },
        {
         "hovertemplate": "subcategory=basketball_wnba<br>category=%{x}<br>values=%{y}<extra></extra>",
         "legendgroup": "basketball_wnba",
         "marker": {
          "color": "#FF97FF",
          "pattern": {
           "shape": ""
          }
         },
         "name": "basketball_wnba",
         "orientation": "v",
         "showlegend": true,
         "textposition": "auto",
         "type": "bar",
         "x": [
          "sports"
         ],
         "xaxis": "x",
         "y": {
          "bdata": "CA==",
          "dtype": "i1"
         },
         "yaxis": "y"
        },
        {
         "hovertemplate": "subcategory=autoshybrids<br>category=%{x}<br>values=%{y}<extra></extra>",
         "legendgroup": "autoshybrids",
         "marker": {
          "color": "#FECB52",
          "pattern": {
           "shape": ""
          }
         },
         "name": "autoshybrids",
         "orientation": "v",
         "showlegend": true,
         "textposition": "auto",
         "type": "bar",
         "x": [
          "autos"
         ],
         "xaxis": "x",
         "y": {
          "bdata": "CA==",
          "dtype": "i1"
         },
         "yaxis": "y"
        },
        {
         "hovertemplate": "subcategory=causes-green-living<br>category=%{x}<br>values=%{y}<extra></extra>",
         "legendgroup": "causes-green-living",
         "marker": {
          "color": "#636efa",
          "pattern": {
           "shape": ""
          }
         },
         "name": "causes-green-living",
         "orientation": "v",
         "showlegend": true,
         "textposition": "auto",
         "type": "bar",
         "x": [
          "lifestyle"
         ],
         "xaxis": "x",
         "y": {
          "bdata": "CA==",
          "dtype": "i1"
         },
         "yaxis": "y"
        },
        {
         "hovertemplate": "subcategory=weight-loss<br>category=%{x}<br>values=%{y}<extra></extra>",
         "legendgroup": "weight-loss",
         "marker": {
          "color": "#EF553B",
          "pattern": {
           "shape": ""
          }
         },
         "name": "weight-loss",
         "orientation": "v",
         "showlegend": true,
         "textposition": "auto",
         "type": "bar",
         "x": [
          "health"
         ],
         "xaxis": "x",
         "y": {
          "bdata": "Bw==",
          "dtype": "i1"
         },
         "yaxis": "y"
        },
        {
         "hovertemplate": "subcategory=movies-oscars<br>category=%{x}<br>values=%{y}<extra></extra>",
         "legendgroup": "movies-oscars",
         "marker": {
          "color": "#00cc96",
          "pattern": {
           "shape": ""
          }
         },
         "name": "movies-oscars",
         "orientation": "v",
         "showlegend": true,
         "textposition": "auto",
         "type": "bar",
         "x": [
          "movies"
         ],
         "xaxis": "x",
         "y": {
          "bdata": "Bw==",
          "dtype": "i1"
         },
         "yaxis": "y"
        },
        {
         "hovertemplate": "subcategory=sports<br>category=%{x}<br>values=%{y}<extra></extra>",
         "legendgroup": "sports",
         "marker": {
          "color": "#ab63fa",
          "pattern": {
           "shape": ""
          }
         },
         "name": "sports",
         "orientation": "v",
         "showlegend": true,
         "textposition": "auto",
         "type": "bar",
         "x": [
          "video",
          "kids"
         ],
         "xaxis": "x",
         "y": {
          "bdata": "BwU=",
          "dtype": "i1"
         },
         "yaxis": "y"
        },
        {
         "hovertemplate": "subcategory=autostokyo<br>category=%{x}<br>values=%{y}<extra></extra>",
         "legendgroup": "autostokyo",
         "marker": {
          "color": "#FFA15A",
          "pattern": {
           "shape": ""
          }
         },
         "name": "autostokyo",
         "orientation": "v",
         "showlegend": true,
         "textposition": "auto",
         "type": "bar",
         "x": [
          "autos"
         ],
         "xaxis": "x",
         "y": {
          "bdata": "Bw==",
          "dtype": "i1"
         },
         "yaxis": "y"
        },
        {
         "hovertemplate": "subcategory=music-reviews<br>category=%{x}<br>values=%{y}<extra></extra>",
         "legendgroup": "music-reviews",
         "marker": {
          "color": "#19d3f3",
          "pattern": {
           "shape": ""
          }
         },
         "name": "music-reviews",
         "orientation": "v",
         "showlegend": true,
         "textposition": "auto",
         "type": "bar",
         "x": [
          "music"
         ],
         "xaxis": "x",
         "y": {
          "bdata": "Bg==",
          "dtype": "i1"
         },
         "yaxis": "y"
        },
        {
         "hovertemplate": "subcategory=downtime<br>category=%{x}<br>values=%{y}<extra></extra>",
         "legendgroup": "downtime",
         "marker": {
          "color": "#FF6692",
          "pattern": {
           "shape": ""
          }
         },
         "name": "downtime",
         "orientation": "v",
         "showlegend": true,
         "textposition": "auto",
         "type": "bar",
         "x": [
          "video"
         ],
         "xaxis": "x",
         "y": {
          "bdata": "Bg==",
          "dtype": "i1"
         },
         "yaxis": "y"
        },
        {
         "hovertemplate": "subcategory=autospassenger<br>category=%{x}<br>values=%{y}<extra></extra>",
         "legendgroup": "autospassenger",
         "marker": {
          "color": "#B6E880",
          "pattern": {
           "shape": ""
          }
         },
         "name": "autospassenger",
         "orientation": "v",
         "showlegend": true,
         "textposition": "auto",
         "type": "bar",
         "x": [
          "autos"
         ],
         "xaxis": "x",
         "y": {
          "bdata": "Bg==",
          "dtype": "i1"
         },
         "yaxis": "y"
        },
        {
         "hovertemplate": "subcategory=technologyinvesting<br>category=%{x}<br>values=%{y}<extra></extra>",
         "legendgroup": "technologyinvesting",
         "marker": {
          "color": "#FF97FF",
          "pattern": {
           "shape": ""
          }
         },
         "name": "technologyinvesting",
         "orientation": "v",
         "showlegend": true,
         "textposition": "auto",
         "type": "bar",
         "x": [
          "finance"
         ],
         "xaxis": "x",
         "y": {
          "bdata": "Bg==",
          "dtype": "i1"
         },
         "yaxis": "y"
        },
        {
         "hovertemplate": "subcategory=ustravel<br>category=%{x}<br>values=%{y}<extra></extra>",
         "legendgroup": "ustravel",
         "marker": {
          "color": "#FECB52",
          "pattern": {
           "shape": ""
          }
         },
         "name": "ustravel",
         "orientation": "v",
         "showlegend": true,
         "textposition": "auto",
         "type": "bar",
         "x": [
          "travel"
         ],
         "xaxis": "x",
         "y": {
          "bdata": "Bg==",
          "dtype": "i1"
         },
         "yaxis": "y"
        },
        {
         "hovertemplate": "subcategory=newsworldpolitics<br>category=%{x}<br>values=%{y}<extra></extra>",
         "legendgroup": "newsworldpolitics",
         "marker": {
          "color": "#636efa",
          "pattern": {
           "shape": ""
          }
         },
         "name": "newsworldpolitics",
         "orientation": "v",
         "showlegend": true,
         "textposition": "auto",
         "type": "bar",
         "x": [
          "news"
         ],
         "xaxis": "x",
         "y": {
          "bdata": "BQ==",
          "dtype": "i1"
         },
         "yaxis": "y"
        },
        {
         "hovertemplate": "subcategory=autosvideos<br>category=%{x}<br>values=%{y}<extra></extra>",
         "legendgroup": "autosvideos",
         "marker": {
          "color": "#EF553B",
          "pattern": {
           "shape": ""
          }
         },
         "name": "autosvideos",
         "orientation": "v",
         "showlegend": true,
         "textposition": "auto",
         "type": "bar",
         "x": [
          "autos"
         ],
         "xaxis": "x",
         "y": {
          "bdata": "BQ==",
          "dtype": "i1"
         },
         "yaxis": "y"
        },
        {
         "hovertemplate": "subcategory=internationaltravel<br>category=%{x}<br>values=%{y}<extra></extra>",
         "legendgroup": "internationaltravel",
         "marker": {
          "color": "#00cc96",
          "pattern": {
           "shape": ""
          }
         },
         "name": "internationaltravel",
         "orientation": "v",
         "showlegend": true,
         "textposition": "auto",
         "type": "bar",
         "x": [
          "travel"
         ],
         "xaxis": "x",
         "y": {
          "bdata": "BQ==",
          "dtype": "i1"
         },
         "yaxis": "y"
        },
        {
         "hovertemplate": "subcategory=reviews<br>category=%{x}<br>values=%{y}<extra></extra>",
         "legendgroup": "reviews",
         "marker": {
          "color": "#ab63fa",
          "pattern": {
           "shape": ""
          }
         },
         "name": "reviews",
         "orientation": "v",
         "showlegend": true,
         "textposition": "auto",
         "type": "bar",
         "x": [
          "movies"
         ],
         "xaxis": "x",
         "y": {
          "bdata": "BQ==",
          "dtype": "i1"
         },
         "yaxis": "y"
        },
        {
         "hovertemplate": "subcategory=causes-food-insecurity<br>category=%{x}<br>values=%{y}<extra></extra>",
         "legendgroup": "causes-food-insecurity",
         "marker": {
          "color": "#FFA15A",
          "pattern": {
           "shape": ""
          }
         },
         "name": "causes-food-insecurity",
         "orientation": "v",
         "showlegend": true,
         "textposition": "auto",
         "type": "bar",
         "x": [
          "foodanddrink"
         ],
         "xaxis": "x",
         "y": {
          "bdata": "BQ==",
          "dtype": "i1"
         },
         "yaxis": "y"
        },
        {
         "hovertemplate": "subcategory=finance-mutual-funds<br>category=%{x}<br>values=%{y}<extra></extra>",
         "legendgroup": "finance-mutual-funds",
         "marker": {
          "color": "#19d3f3",
          "pattern": {
           "shape": ""
          }
         },
         "name": "finance-mutual-funds",
         "orientation": "v",
         "showlegend": true,
         "textposition": "auto",
         "type": "bar",
         "x": [
          "finance"
         ],
         "xaxis": "x",
         "y": {
          "bdata": "BQ==",
          "dtype": "i1"
         },
         "yaxis": "y"
        },
        {
         "hovertemplate": "subcategory=cocktails<br>category=%{x}<br>values=%{y}<extra></extra>",
         "legendgroup": "cocktails",
         "marker": {
          "color": "#FF6692",
          "pattern": {
           "shape": ""
          }
         },
         "name": "cocktails",
         "orientation": "v",
         "showlegend": true,
         "textposition": "auto",
         "type": "bar",
         "x": [
          "foodanddrink"
         ],
         "xaxis": "x",
         "y": {
          "bdata": "BQ==",
          "dtype": "i1"
         },
         "yaxis": "y"
        },
        {
         "hovertemplate": "subcategory=foodrecipes<br>category=%{x}<br>values=%{y}<extra></extra>",
         "legendgroup": "foodrecipes",
         "marker": {
          "color": "#B6E880",
          "pattern": {
           "shape": ""
          }
         },
         "name": "foodrecipes",
         "orientation": "v",
         "showlegend": true,
         "textposition": "auto",
         "type": "bar",
         "x": [
          "foodanddrink"
         ],
         "xaxis": "x",
         "y": {
          "bdata": "BA==",
          "dtype": "i1"
         },
         "yaxis": "y"
        },
        {
         "hovertemplate": "subcategory=lifestylemarriage<br>category=%{x}<br>values=%{y}<extra></extra>",
         "legendgroup": "lifestylemarriage",
         "marker": {
          "color": "#FF97FF",
          "pattern": {
           "shape": ""
          }
         },
         "name": "lifestylemarriage",
         "orientation": "v",
         "showlegend": true,
         "textposition": "auto",
         "type": "bar",
         "x": [
          "lifestyle"
         ],
         "xaxis": "x",
         "y": {
          "bdata": "BA==",
          "dtype": "i1"
         },
         "yaxis": "y"
        },
        {
         "hovertemplate": "subcategory=music-grammys<br>category=%{x}<br>values=%{y}<extra></extra>",
         "legendgroup": "music-grammys",
         "marker": {
          "color": "#FECB52",
          "pattern": {
           "shape": ""
          }
         },
         "name": "music-grammys",
         "orientation": "v",
         "showlegend": true,
         "textposition": "auto",
         "type": "bar",
         "x": [
          "music"
         ],
         "xaxis": "x",
         "y": {
          "bdata": "BA==",
          "dtype": "i1"
         },
         "yaxis": "y"
        },
        {
         "hovertemplate": "subcategory=tv-golden-globes<br>category=%{x}<br>values=%{y}<extra></extra>",
         "legendgroup": "tv-golden-globes",
         "marker": {
          "color": "#636efa",
          "pattern": {
           "shape": ""
          }
         },
         "name": "tv-golden-globes",
         "orientation": "v",
         "showlegend": true,
         "textposition": "auto",
         "type": "bar",
         "x": [
          "tv"
         ],
         "xaxis": "x",
         "y": {
          "bdata": "BA==",
          "dtype": "i1"
         },
         "yaxis": "y"
        },
        {
         "hovertemplate": "subcategory=sports_news<br>category=%{x}<br>values=%{y}<extra></extra>",
         "legendgroup": "sports_news",
         "marker": {
          "color": "#EF553B",
          "pattern": {
           "shape": ""
          }
         },
         "name": "sports_news",
         "orientation": "v",
         "showlegend": true,
         "textposition": "auto",
         "type": "bar",
         "x": [
          "sports"
         ],
         "xaxis": "x",
         "y": {
          "bdata": "BA==",
          "dtype": "i1"
         },
         "yaxis": "y"
        },
        {
         "hovertemplate": "subcategory=autosreview<br>category=%{x}<br>values=%{y}<extra></extra>",
         "legendgroup": "autosreview",
         "marker": {
          "color": "#00cc96",
          "pattern": {
           "shape": ""
          }
         },
         "name": "autosreview",
         "orientation": "v",
         "showlegend": true,
         "textposition": "auto",
         "type": "bar",
         "x": [
          "autos"
         ],
         "xaxis": "x",
         "y": {
          "bdata": "Aw==",
          "dtype": "i1"
         },
         "yaxis": "y"
        },
        {
         "hovertemplate": "subcategory=watch<br>category=%{x}<br>values=%{y}<extra></extra>",
         "legendgroup": "watch",
         "marker": {
          "color": "#ab63fa",
          "pattern": {
           "shape": ""
          }
         },
         "name": "watch",
         "orientation": "v",
         "showlegend": true,
         "textposition": "auto",
         "type": "bar",
         "x": [
          "video"
         ],
         "xaxis": "x",
         "y": {
          "bdata": "Aw==",
          "dtype": "i1"
         },
         "yaxis": "y"
        },
        {
         "hovertemplate": "subcategory=cooking<br>category=%{x}<br>values=%{y}<extra></extra>",
         "legendgroup": "cooking",
         "marker": {
          "color": "#FFA15A",
          "pattern": {
           "shape": ""
          }
         },
         "name": "cooking",
         "orientation": "v",
         "showlegend": true,
         "textposition": "auto",
         "type": "bar",
         "x": [
          "foodanddrink"
         ],
         "xaxis": "x",
         "y": {
          "bdata": "Aw==",
          "dtype": "i1"
         },
         "yaxis": "y"
        },
        {
         "hovertemplate": "subcategory=causes-environment<br>category=%{x}<br>values=%{y}<extra></extra>",
         "legendgroup": "causes-environment",
         "marker": {
          "color": "#19d3f3",
          "pattern": {
           "shape": ""
          }
         },
         "name": "causes-environment",
         "orientation": "v",
         "showlegend": true,
         "textposition": "auto",
         "type": "bar",
         "x": [
          "news"
         ],
         "xaxis": "x",
         "y": {
          "bdata": "Aw==",
          "dtype": "i1"
         },
         "yaxis": "y"
        },
        {
         "hovertemplate": "subcategory=travel-videos<br>category=%{x}<br>values=%{y}<extra></extra>",
         "legendgroup": "travel-videos",
         "marker": {
          "color": "#FF6692",
          "pattern": {
           "shape": ""
          }
         },
         "name": "travel-videos",
         "orientation": "v",
         "showlegend": true,
         "textposition": "auto",
         "type": "bar",
         "x": [
          "travel"
         ],
         "xaxis": "x",
         "y": {
          "bdata": "Aw==",
          "dtype": "i1"
         },
         "yaxis": "y"
        },
        {
         "hovertemplate": "subcategory=career-news<br>category=%{x}<br>values=%{y}<extra></extra>",
         "legendgroup": "career-news",
         "marker": {
          "color": "#B6E880",
          "pattern": {
           "shape": ""
          }
         },
         "name": "career-news",
         "orientation": "v",
         "showlegend": true,
         "textposition": "auto",
         "type": "bar",
         "x": [
          "finance"
         ],
         "xaxis": "x",
         "y": {
          "bdata": "Aw==",
          "dtype": "i1"
         },
         "yaxis": "y"
        },
        {
         "hovertemplate": "subcategory=newsvideo<br>category=%{x}<br>values=%{y}<extra></extra>",
         "legendgroup": "newsvideo",
         "marker": {
          "color": "#FF97FF",
          "pattern": {
           "shape": ""
          }
         },
         "name": "newsvideo",
         "orientation": "v",
         "showlegend": true,
         "textposition": "auto",
         "type": "bar",
         "x": [
          "news"
         ],
         "xaxis": "x",
         "y": {
          "bdata": "Aw==",
          "dtype": "i1"
         },
         "yaxis": "y"
        },
        {
         "hovertemplate": "subcategory=newstechnology<br>category=%{x}<br>values=%{y}<extra></extra>",
         "legendgroup": "newstechnology",
         "marker": {
          "color": "#FECB52",
          "pattern": {
           "shape": ""
          }
         },
         "name": "newstechnology",
         "orientation": "v",
         "showlegend": true,
         "textposition": "auto",
         "type": "bar",
         "x": [
          "news"
         ],
         "xaxis": "x",
         "y": {
          "bdata": "Aw==",
          "dtype": "i1"
         },
         "yaxis": "y"
        },
        {
         "hovertemplate": "subcategory=strength<br>category=%{x}<br>values=%{y}<extra></extra>",
         "legendgroup": "strength",
         "marker": {
          "color": "#636efa",
          "pattern": {
           "shape": ""
          }
         },
         "name": "strength",
         "orientation": "v",
         "showlegend": true,
         "textposition": "auto",
         "type": "bar",
         "x": [
          "health"
         ],
         "xaxis": "x",
         "y": {
          "bdata": "Ag==",
          "dtype": "i1"
         },
         "yaxis": "y"
        },
        {
         "hovertemplate": "subcategory=yearinoffbeatgoodnews<br>category=%{x}<br>values=%{y}<extra></extra>",
         "legendgroup": "yearinoffbeatgoodnews",
         "marker": {
          "color": "#EF553B",
          "pattern": {
           "shape": ""
          }
         },
         "name": "yearinoffbeatgoodnews",
         "orientation": "v",
         "showlegend": true,
         "textposition": "auto",
         "type": "bar",
         "x": [
          "news"
         ],
         "xaxis": "x",
         "y": {
          "bdata": "Ag==",
          "dtype": "i1"
         },
         "yaxis": "y"
        },
        {
         "hovertemplate": "subcategory=celebritynews<br>category=%{x}<br>values=%{y}<extra></extra>",
         "legendgroup": "celebritynews",
         "marker": {
          "color": "#00cc96",
          "pattern": {
           "shape": ""
          }
         },
         "name": "celebritynews",
         "orientation": "v",
         "showlegend": true,
         "textposition": "auto",
         "type": "bar",
         "x": [
          "entertainment"
         ],
         "xaxis": "x",
         "y": {
          "bdata": "Ag==",
          "dtype": "i1"
         },
         "yaxis": "y"
        },
        {
         "hovertemplate": "subcategory=lifestylehoroscopefish<br>category=%{x}<br>values=%{y}<extra></extra>",
         "legendgroup": "lifestylehoroscopefish",
         "marker": {
          "color": "#ab63fa",
          "pattern": {
           "shape": ""
          }
         },
         "name": "lifestylehoroscopefish",
         "orientation": "v",
         "showlegend": true,
         "textposition": "auto",
         "type": "bar",
         "x": [
          "lifestyle"
         ],
         "xaxis": "x",
         "y": {
          "bdata": "Ag==",
          "dtype": "i1"
         },
         "yaxis": "y"
        },
        {
         "hovertemplate": "subcategory=seasonal<br>category=%{x}<br>values=%{y}<extra></extra>",
         "legendgroup": "seasonal",
         "marker": {
          "color": "#FFA15A",
          "pattern": {
           "shape": ""
          }
         },
         "name": "seasonal",
         "orientation": "v",
         "showlegend": true,
         "textposition": "auto",
         "type": "bar",
         "x": [
          "foodanddrink"
         ],
         "xaxis": "x",
         "y": {
          "bdata": "Ag==",
          "dtype": "i1"
         },
         "yaxis": "y"
        },
        {
         "hovertemplate": "subcategory=holidays<br>category=%{x}<br>values=%{y}<extra></extra>",
         "legendgroup": "holidays",
         "marker": {
          "color": "#19d3f3",
          "pattern": {
           "shape": ""
          }
         },
         "name": "holidays",
         "orientation": "v",
         "showlegend": true,
         "textposition": "auto",
         "type": "bar",
         "x": [
          "travel",
          "lifestyle"
         ],
         "xaxis": "x",
         "y": {
          "bdata": "AgI=",
          "dtype": "i1"
         },
         "yaxis": "y"
        },
        {
         "hovertemplate": "subcategory=cardio<br>category=%{x}<br>values=%{y}<extra></extra>",
         "legendgroup": "cardio",
         "marker": {
          "color": "#FF6692",
          "pattern": {
           "shape": ""
          }
         },
         "name": "cardio",
         "orientation": "v",
         "showlegend": true,
         "textposition": "auto",
         "type": "bar",
         "x": [
          "health"
         ],
         "xaxis": "x",
         "y": {
          "bdata": "Ag==",
          "dtype": "i1"
         },
         "yaxis": "y"
        },
        {
         "hovertemplate": "subcategory=familyhealth<br>category=%{x}<br>values=%{y}<extra></extra>",
         "legendgroup": "familyhealth",
         "marker": {
          "color": "#B6E880",
          "pattern": {
           "shape": ""
          }
         },
         "name": "familyhealth",
         "orientation": "v",
         "showlegend": true,
         "textposition": "auto",
         "type": "bar",
         "x": [
          "health"
         ],
         "xaxis": "x",
         "y": {
          "bdata": "Ag==",
          "dtype": "i1"
         },
         "yaxis": "y"
        },
        {
         "hovertemplate": "subcategory=healthagingwell<br>category=%{x}<br>values=%{y}<extra></extra>",
         "legendgroup": "healthagingwell",
         "marker": {
          "color": "#FF97FF",
          "pattern": {
           "shape": ""
          }
         },
         "name": "healthagingwell",
         "orientation": "v",
         "showlegend": true,
         "textposition": "auto",
         "type": "bar",
         "x": [
          "health"
         ],
         "xaxis": "x",
         "y": {
          "bdata": "Ag==",
          "dtype": "i1"
         },
         "yaxis": "y"
        },
        {
         "hovertemplate": "subcategory=photos<br>category=%{x}<br>values=%{y}<extra></extra>",
         "legendgroup": "photos",
         "marker": {
          "color": "#FECB52",
          "pattern": {
           "shape": ""
          }
         },
         "name": "photos",
         "orientation": "v",
         "showlegend": true,
         "textposition": "auto",
         "type": "bar",
         "x": [
          "news",
          "weather"
         ],
         "xaxis": "x",
         "y": {
          "bdata": "AgE=",
          "dtype": "i1"
         },
         "yaxis": "y"
        },
        {
         "hovertemplate": "subcategory=middleeast-top-stories<br>category=%{x}<br>values=%{y}<extra></extra>",
         "legendgroup": "middleeast-top-stories",
         "marker": {
          "color": "#636efa",
          "pattern": {
           "shape": ""
          }
         },
         "name": "middleeast-top-stories",
         "orientation": "v",
         "showlegend": true,
         "textposition": "auto",
         "type": "bar",
         "x": [
          "middleeast"
         ],
         "xaxis": "x",
         "y": {
          "bdata": "Ag==",
          "dtype": "i1"
         },
         "yaxis": "y"
        },
        {
         "hovertemplate": "subcategory=indepth<br>category=%{x}<br>values=%{y}<extra></extra>",
         "legendgroup": "indepth",
         "marker": {
          "color": "#EF553B",
          "pattern": {
           "shape": ""
          }
         },
         "name": "indepth",
         "orientation": "v",
         "showlegend": true,
         "textposition": "auto",
         "type": "bar",
         "x": [
          "news"
         ],
         "xaxis": "x",
         "y": {
          "bdata": "Ag==",
          "dtype": "i1"
         },
         "yaxis": "y"
        },
        {
         "hovertemplate": "subcategory=autoscartech<br>category=%{x}<br>values=%{y}<extra></extra>",
         "legendgroup": "autoscartech",
         "marker": {
          "color": "#00cc96",
          "pattern": {
           "shape": ""
          }
         },
         "name": "autoscartech",
         "orientation": "v",
         "showlegend": true,
         "textposition": "auto",
         "type": "bar",
         "x": [
          "autos"
         ],
         "xaxis": "x",
         "y": {
          "bdata": "Ag==",
          "dtype": "i1"
         },
         "yaxis": "y"
        },
        {
         "hovertemplate": "subcategory=comedy<br>category=%{x}<br>values=%{y}<extra></extra>",
         "legendgroup": "comedy",
         "marker": {
          "color": "#ab63fa",
          "pattern": {
           "shape": ""
          }
         },
         "name": "comedy",
         "orientation": "v",
         "showlegend": true,
         "textposition": "auto",
         "type": "bar",
         "x": [
          "video"
         ],
         "xaxis": "x",
         "y": {
          "bdata": "Ag==",
          "dtype": "i1"
         },
         "yaxis": "y"
        },
        {
         "hovertemplate": "subcategory=shop-computers-electronics<br>category=%{x}<br>values=%{y}<extra></extra>",
         "legendgroup": "shop-computers-electronics",
         "marker": {
          "color": "#FFA15A",
          "pattern": {
           "shape": ""
          }
         },
         "name": "shop-computers-electronics",
         "orientation": "v",
         "showlegend": true,
         "textposition": "auto",
         "type": "bar",
         "x": [
          "lifestyle"
         ],
         "xaxis": "x",
         "y": {
          "bdata": "Ag==",
          "dtype": "i1"
         },
         "yaxis": "y"
        },
        {
         "hovertemplate": "subcategory=shop-books-movies-tv<br>category=%{x}<br>values=%{y}<extra></extra>",
         "legendgroup": "shop-books-movies-tv",
         "marker": {
          "color": "#19d3f3",
          "pattern": {
           "shape": ""
          }
         },
         "name": "shop-books-movies-tv",
         "orientation": "v",
         "showlegend": true,
         "textposition": "auto",
         "type": "bar",
         "x": [
          "lifestyle"
         ],
         "xaxis": "x",
         "y": {
          "bdata": "Ag==",
          "dtype": "i1"
         },
         "yaxis": "y"
        },
        {
         "hovertemplate": "subcategory=tv-reviews<br>category=%{x}<br>values=%{y}<extra></extra>",
         "legendgroup": "tv-reviews",
         "marker": {
          "color": "#FF6692",
          "pattern": {
           "shape": ""
          }
         },
         "name": "tv-reviews",
         "orientation": "v",
         "showlegend": true,
         "textposition": "auto",
         "type": "bar",
         "x": [
          "tv"
         ],
         "xaxis": "x",
         "y": {
          "bdata": "Ag==",
          "dtype": "i1"
         },
         "yaxis": "y"
        },
        {
         "hovertemplate": "subcategory=causes-disaster-relief<br>category=%{x}<br>values=%{y}<extra></extra>",
         "legendgroup": "causes-disaster-relief",
         "marker": {
          "color": "#B6E880",
          "pattern": {
           "shape": ""
          }
         },
         "name": "causes-disaster-relief",
         "orientation": "v",
         "showlegend": true,
         "textposition": "auto",
         "type": "bar",
         "x": [
          "news"
         ],
         "xaxis": "x",
         "y": {
          "bdata": "Ag==",
          "dtype": "i1"
         },
         "yaxis": "y"
        },
        {
         "hovertemplate": "subcategory=lifestyletravel<br>category=%{x}<br>values=%{y}<extra></extra>",
         "legendgroup": "lifestyletravel",
         "marker": {
          "color": "#FF97FF",
          "pattern": {
           "shape": ""
          }
         },
         "name": "lifestyletravel",
         "orientation": "v",
         "showlegend": true,
         "textposition": "auto",
         "type": "bar",
         "x": [
          "lifestyle"
         ],
         "xaxis": "x",
         "y": {
          "bdata": "Ag==",
          "dtype": "i1"
         },
         "yaxis": "y"
        },
        {
         "hovertemplate": "subcategory=empowering-the-planet<br>category=%{x}<br>values=%{y}<extra></extra>",
         "legendgroup": "empowering-the-planet",
         "marker": {
          "color": "#FECB52",
          "pattern": {
           "shape": ""
          }
         },
         "name": "empowering-the-planet",
         "orientation": "v",
         "showlegend": true,
         "textposition": "auto",
         "type": "bar",
         "x": [
          "news"
         ],
         "xaxis": "x",
         "y": {
          "bdata": "Ag==",
          "dtype": "i1"
         },
         "yaxis": "y"
        },
        {
         "hovertemplate": "subcategory=soccer_videos<br>category=%{x}<br>values=%{y}<extra></extra>",
         "legendgroup": "soccer_videos",
         "marker": {
          "color": "#636efa",
          "pattern": {
           "shape": ""
          }
         },
         "name": "soccer_videos",
         "orientation": "v",
         "showlegend": true,
         "textposition": "auto",
         "type": "bar",
         "x": [
          "sports"
         ],
         "xaxis": "x",
         "y": {
          "bdata": "AQ==",
          "dtype": "i1"
         },
         "yaxis": "y"
        },
        {
         "hovertemplate": "subcategory=weatherfullscreenmaps<br>category=%{x}<br>values=%{y}<extra></extra>",
         "legendgroup": "weatherfullscreenmaps",
         "marker": {
          "color": "#EF553B",
          "pattern": {
           "shape": ""
          }
         },
         "name": "weatherfullscreenmaps",
         "orientation": "v",
         "showlegend": true,
         "textposition": "auto",
         "type": "bar",
         "x": [
          "weather"
         ],
         "xaxis": "x",
         "y": {
          "bdata": "AQ==",
          "dtype": "i1"
         },
         "yaxis": "y"
        },
        {
         "hovertemplate": "subcategory=soccer_fifa_wwc<br>category=%{x}<br>values=%{y}<extra></extra>",
         "legendgroup": "soccer_fifa_wwc",
         "marker": {
          "color": "#00cc96",
          "pattern": {
           "shape": ""
          }
         },
         "name": "soccer_fifa_wwc",
         "orientation": "v",
         "showlegend": true,
         "textposition": "auto",
         "type": "bar",
         "x": [
          "sports"
         ],
         "xaxis": "x",
         "y": {
          "bdata": "AQ==",
          "dtype": "i1"
         },
         "yaxis": "y"
        },
        {
         "hovertemplate": "subcategory=topnews<br>category=%{x}<br>values=%{y}<extra></extra>",
         "legendgroup": "topnews",
         "marker": {
          "color": "#ab63fa",
          "pattern": {
           "shape": ""
          }
         },
         "name": "topnews",
         "orientation": "v",
         "showlegend": true,
         "textposition": "auto",
         "type": "bar",
         "x": [
          "tv",
          "music"
         ],
         "xaxis": "x",
         "y": {
          "bdata": "AQE=",
          "dtype": "i1"
         },
         "yaxis": "y"
        },
        {
         "hovertemplate": "subcategory=tv-golden-globes-video<br>category=%{x}<br>values=%{y}<extra></extra>",
         "legendgroup": "tv-golden-globes-video",
         "marker": {
          "color": "#FFA15A",
          "pattern": {
           "shape": ""
          }
         },
         "name": "tv-golden-globes-video",
         "orientation": "v",
         "showlegend": true,
         "textposition": "auto",
         "type": "bar",
         "x": [
          "tv"
         ],
         "xaxis": "x",
         "y": {
          "bdata": "AQ==",
          "dtype": "i1"
         },
         "yaxis": "y"
        },
        {
         "hovertemplate": "subcategory=tennis_intl<br>category=%{x}<br>values=%{y}<extra></extra>",
         "legendgroup": "tennis_intl",
         "marker": {
          "color": "#19d3f3",
          "pattern": {
           "shape": ""
          }
         },
         "name": "tennis_intl",
         "orientation": "v",
         "showlegend": true,
         "textposition": "auto",
         "type": "bar",
         "x": [
          "sports"
         ],
         "xaxis": "x",
         "y": {
          "bdata": "AQ==",
          "dtype": "i1"
         },
         "yaxis": "y"
        },
        {
         "hovertemplate": "subcategory=autosvans<br>category=%{x}<br>values=%{y}<extra></extra>",
         "legendgroup": "autosvans",
         "marker": {
          "color": "#FF6692",
          "pattern": {
           "shape": ""
          }
         },
         "name": "autosvans",
         "orientation": "v",
         "showlegend": true,
         "textposition": "auto",
         "type": "bar",
         "x": [
          "autos"
         ],
         "xaxis": "x",
         "y": {
          "bdata": "AQ==",
          "dtype": "i1"
         },
         "yaxis": "y"
        },
        {
         "hovertemplate": "subcategory=soccer_bund<br>category=%{x}<br>values=%{y}<extra></extra>",
         "legendgroup": "soccer_bund",
         "marker": {
          "color": "#B6E880",
          "pattern": {
           "shape": ""
          }
         },
         "name": "soccer_bund",
         "orientation": "v",
         "showlegend": true,
         "textposition": "auto",
         "type": "bar",
         "x": [
          "sports"
         ],
         "xaxis": "x",
         "y": {
          "bdata": "AQ==",
          "dtype": "i1"
         },
         "yaxis": "y"
        },
        {
         "hovertemplate": "subcategory=autoscompact<br>category=%{x}<br>values=%{y}<extra></extra>",
         "legendgroup": "autoscompact",
         "marker": {
          "color": "#FF97FF",
          "pattern": {
           "shape": ""
          }
         },
         "name": "autoscompact",
         "orientation": "v",
         "showlegend": true,
         "textposition": "auto",
         "type": "bar",
         "x": [
          "autos"
         ],
         "xaxis": "x",
         "y": {
          "bdata": "AQ==",
          "dtype": "i1"
         },
         "yaxis": "y"
        },
        {
         "hovertemplate": "subcategory=autosconvertibles<br>category=%{x}<br>values=%{y}<extra></extra>",
         "legendgroup": "autosconvertibles",
         "marker": {
          "color": "#FECB52",
          "pattern": {
           "shape": ""
          }
         },
         "name": "autosconvertibles",
         "orientation": "v",
         "showlegend": true,
         "textposition": "auto",
         "type": "bar",
         "x": [
          "autos"
         ],
         "xaxis": "x",
         "y": {
          "bdata": "AQ==",
          "dtype": "i1"
         },
         "yaxis": "y"
        },
        {
         "hovertemplate": "subcategory=traveltrivia<br>category=%{x}<br>values=%{y}<extra></extra>",
         "legendgroup": "traveltrivia",
         "marker": {
          "color": "#636efa",
          "pattern": {
           "shape": ""
          }
         },
         "name": "traveltrivia",
         "orientation": "v",
         "showlegend": true,
         "textposition": "auto",
         "type": "bar",
         "x": [
          "travel"
         ],
         "xaxis": "x",
         "y": {
          "bdata": "AQ==",
          "dtype": "i1"
         },
         "yaxis": "y"
        },
        {
         "hovertemplate": "subcategory=foodanddrink<br>category=%{x}<br>values=%{y}<extra></extra>",
         "legendgroup": "foodanddrink",
         "marker": {
          "color": "#EF553B",
          "pattern": {
           "shape": ""
          }
         },
         "name": "foodanddrink",
         "orientation": "v",
         "showlegend": true,
         "textposition": "auto",
         "type": "bar",
         "x": [
          "video"
         ],
         "xaxis": "x",
         "y": {
          "bdata": "AQ==",
          "dtype": "i1"
         },
         "yaxis": "y"
        },
        {
         "hovertemplate": "subcategory=healthandfitness<br>category=%{x}<br>values=%{y}<extra></extra>",
         "legendgroup": "healthandfitness",
         "marker": {
          "color": "#00cc96",
          "pattern": {
           "shape": ""
          }
         },
         "name": "healthandfitness",
         "orientation": "v",
         "showlegend": true,
         "textposition": "auto",
         "type": "bar",
         "x": [
          "video"
         ],
         "xaxis": "x",
         "y": {
          "bdata": "AQ==",
          "dtype": "i1"
         },
         "yaxis": "y"
        },
        {
         "hovertemplate": "subcategory=travel-accessible<br>category=%{x}<br>values=%{y}<extra></extra>",
         "legendgroup": "travel-accessible",
         "marker": {
          "color": "#ab63fa",
          "pattern": {
           "shape": ""
          }
         },
         "name": "travel-accessible",
         "orientation": "v",
         "showlegend": true,
         "textposition": "auto",
         "type": "bar",
         "x": [
          "travel"
         ],
         "xaxis": "x",
         "y": {
          "bdata": "AQ==",
          "dtype": "i1"
         },
         "yaxis": "y"
        },
        {
         "hovertemplate": "subcategory=autoslosangeles<br>category=%{x}<br>values=%{y}<extra></extra>",
         "legendgroup": "autoslosangeles",
         "marker": {
          "color": "#FFA15A",
          "pattern": {
           "shape": ""
          }
         },
         "name": "autoslosangeles",
         "orientation": "v",
         "showlegend": true,
         "textposition": "auto",
         "type": "bar",
         "x": [
          "autos"
         ],
         "xaxis": "x",
         "y": {
          "bdata": "AQ==",
          "dtype": "i1"
         },
         "yaxis": "y"
        },
        {
         "hovertemplate": "subcategory=autosmidsize<br>category=%{x}<br>values=%{y}<extra></extra>",
         "legendgroup": "autosmidsize",
         "marker": {
          "color": "#19d3f3",
          "pattern": {
           "shape": ""
          }
         },
         "name": "autosmidsize",
         "orientation": "v",
         "showlegend": true,
         "textposition": "auto",
         "type": "bar",
         "x": [
          "autos"
         ],
         "xaxis": "x",
         "y": {
          "bdata": "AQ==",
          "dtype": "i1"
         },
         "yaxis": "y"
        },
        {
         "hovertemplate": "subcategory=mindandbody<br>category=%{x}<br>values=%{y}<extra></extra>",
         "legendgroup": "mindandbody",
         "marker": {
          "color": "#FF6692",
          "pattern": {
           "shape": ""
          }
         },
         "name": "mindandbody",
         "orientation": "v",
         "showlegend": true,
         "textposition": "auto",
         "type": "bar",
         "x": [
          "health"
         ],
         "xaxis": "x",
         "y": {
          "bdata": "AQ==",
          "dtype": "i1"
         },
         "yaxis": "y"
        },
        {
         "hovertemplate": "subcategory=finance-home-loans<br>category=%{x}<br>values=%{y}<extra></extra>",
         "legendgroup": "finance-home-loans",
         "marker": {
          "color": "#B6E880",
          "pattern": {
           "shape": ""
          }
         },
         "name": "finance-home-loans",
         "orientation": "v",
         "showlegend": true,
         "textposition": "auto",
         "type": "bar",
         "x": [
          "finance"
         ],
         "xaxis": "x",
         "y": {
          "bdata": "AQ==",
          "dtype": "i1"
         },
         "yaxis": "y"
        },
        {
         "hovertemplate": "subcategory=celebhub<br>category=%{x}<br>values=%{y}<extra></extra>",
         "legendgroup": "celebhub",
         "marker": {
          "color": "#FF97FF",
          "pattern": {
           "shape": ""
          }
         },
         "name": "celebhub",
         "orientation": "v",
         "showlegend": true,
         "textposition": "auto",
         "type": "bar",
         "x": [
          "entertainment"
         ],
         "xaxis": "x",
         "y": {
          "bdata": "AQ==",
          "dtype": "i1"
         },
         "yaxis": "y"
        },
        {
         "hovertemplate": "subcategory=lifestylestyle<br>category=%{x}<br>values=%{y}<extra></extra>",
         "legendgroup": "lifestylestyle",
         "marker": {
          "color": "#FECB52",
          "pattern": {
           "shape": ""
          }
         },
         "name": "lifestylestyle",
         "orientation": "v",
         "showlegend": true,
         "textposition": "auto",
         "type": "bar",
         "x": [
          "lifestyle"
         ],
         "xaxis": "x",
         "y": {
          "bdata": "AQ==",
          "dtype": "i1"
         },
         "yaxis": "y"
        },
        {
         "hovertemplate": "subcategory=finance-savingsrates<br>category=%{x}<br>values=%{y}<extra></extra>",
         "legendgroup": "finance-savingsrates",
         "marker": {
          "color": "#636efa",
          "pattern": {
           "shape": ""
          }
         },
         "name": "finance-savingsrates",
         "orientation": "v",
         "showlegend": true,
         "textposition": "auto",
         "type": "bar",
         "x": [
          "finance"
         ],
         "xaxis": "x",
         "y": {
          "bdata": "AQ==",
          "dtype": "i1"
         },
         "yaxis": "y"
        },
        {
         "hovertemplate": "subcategory=finance-startinvesting<br>category=%{x}<br>values=%{y}<extra></extra>",
         "legendgroup": "finance-startinvesting",
         "marker": {
          "color": "#EF553B",
          "pattern": {
           "shape": ""
          }
         },
         "name": "finance-startinvesting",
         "orientation": "v",
         "showlegend": true,
         "textposition": "auto",
         "type": "bar",
         "x": [
          "finance"
         ],
         "xaxis": "x",
         "y": {
          "bdata": "AQ==",
          "dtype": "i1"
         },
         "yaxis": "y"
        },
        {
         "hovertemplate": "subcategory=spendingandborrowing<br>category=%{x}<br>values=%{y}<extra></extra>",
         "legendgroup": "spendingandborrowing",
         "marker": {
          "color": "#00cc96",
          "pattern": {
           "shape": ""
          }
         },
         "name": "spendingandborrowing",
         "orientation": "v",
         "showlegend": true,
         "textposition": "auto",
         "type": "bar",
         "x": [
          "finance"
         ],
         "xaxis": "x",
         "y": {
          "bdata": "AQ==",
          "dtype": "i1"
         },
         "yaxis": "y"
        },
        {
         "hovertemplate": "subcategory=travel<br>category=%{x}<br>values=%{y}<extra></extra>",
         "legendgroup": "travel",
         "marker": {
          "color": "#ab63fa",
          "pattern": {
           "shape": ""
          }
         },
         "name": "travel",
         "orientation": "v",
         "showlegend": true,
         "textposition": "auto",
         "type": "bar",
         "x": [
          "lifestyle"
         ],
         "xaxis": "x",
         "y": {
          "bdata": "AQ==",
          "dtype": "i1"
         },
         "yaxis": "y"
        },
        {
         "hovertemplate": "subcategory=shop-toys<br>category=%{x}<br>values=%{y}<extra></extra>",
         "legendgroup": "shop-toys",
         "marker": {
          "color": "#FFA15A",
          "pattern": {
           "shape": ""
          }
         },
         "name": "shop-toys",
         "orientation": "v",
         "showlegend": true,
         "textposition": "auto",
         "type": "bar",
         "x": [
          "lifestyle"
         ],
         "xaxis": "x",
         "y": {
          "bdata": "AQ==",
          "dtype": "i1"
         },
         "yaxis": "y"
        },
        {
         "hovertemplate": "subcategory=relationships<br>category=%{x}<br>values=%{y}<extra></extra>",
         "legendgroup": "relationships",
         "marker": {
          "color": "#19d3f3",
          "pattern": {
           "shape": ""
          }
         },
         "name": "relationships",
         "orientation": "v",
         "showlegend": true,
         "textposition": "auto",
         "type": "bar",
         "x": [
          "lifestyle"
         ],
         "xaxis": "x",
         "y": {
          "bdata": "AQ==",
          "dtype": "i1"
         },
         "yaxis": "y"
        },
        {
         "hovertemplate": "subcategory=lifestylewhatshot<br>category=%{x}<br>values=%{y}<extra></extra>",
         "legendgroup": "lifestylewhatshot",
         "marker": {
          "color": "#FF6692",
          "pattern": {
           "shape": ""
          }
         },
         "name": "lifestylewhatshot",
         "orientation": "v",
         "showlegend": true,
         "textposition": "auto",
         "type": "bar",
         "x": [
          "lifestyle"
         ],
         "xaxis": "x",
         "y": {
          "bdata": "AQ==",
          "dtype": "i1"
         },
         "yaxis": "y"
        },
        {
         "hovertemplate": "subcategory=cookingschool<br>category=%{x}<br>values=%{y}<extra></extra>",
         "legendgroup": "cookingschool",
         "marker": {
          "color": "#B6E880",
          "pattern": {
           "shape": ""
          }
         },
         "name": "cookingschool",
         "orientation": "v",
         "showlegend": true,
         "textposition": "auto",
         "type": "bar",
         "x": [
          "foodanddrink"
         ],
         "xaxis": "x",
         "y": {
          "bdata": "AQ==",
          "dtype": "i1"
         },
         "yaxis": "y"
        },
        {
         "hovertemplate": "subcategory=causes-poverty<br>category=%{x}<br>values=%{y}<extra></extra>",
         "legendgroup": "causes-poverty",
         "marker": {
          "color": "#FF97FF",
          "pattern": {
           "shape": ""
          }
         },
         "name": "causes-poverty",
         "orientation": "v",
         "showlegend": true,
         "textposition": "auto",
         "type": "bar",
         "x": [
          "news"
         ],
         "xaxis": "x",
         "y": {
          "bdata": "AQ==",
          "dtype": "i1"
         },
         "yaxis": "y"
        },
        {
         "hovertemplate": "subcategory=foodtips<br>category=%{x}<br>values=%{y}<extra></extra>",
         "legendgroup": "foodtips",
         "marker": {
          "color": "#FECB52",
          "pattern": {
           "shape": ""
          }
         },
         "name": "foodtips",
         "orientation": "v",
         "showlegend": true,
         "textposition": "auto",
         "type": "bar",
         "x": [
          "foodanddrink"
         ],
         "xaxis": "x",
         "y": {
          "bdata": "AQ==",
          "dtype": "i1"
         },
         "yaxis": "y"
        },
        {
         "hovertemplate": "subcategory=games-news<br>category=%{x}<br>values=%{y}<extra></extra>",
         "legendgroup": "games-news",
         "marker": {
          "color": "#636efa",
          "pattern": {
           "shape": ""
          }
         },
         "name": "games-news",
         "orientation": "v",
         "showlegend": true,
         "textposition": "auto",
         "type": "bar",
         "x": [
          "games"
         ],
         "xaxis": "x",
         "y": {
          "bdata": "AQ==",
          "dtype": "i1"
         },
         "yaxis": "y"
        },
        {
         "hovertemplate": "subcategory=lifestyledesign<br>category=%{x}<br>values=%{y}<extra></extra>",
         "legendgroup": "lifestyledesign",
         "marker": {
          "color": "#EF553B",
          "pattern": {
           "shape": ""
          }
         },
         "name": "lifestyledesign",
         "orientation": "v",
         "showlegend": true,
         "textposition": "auto",
         "type": "bar",
         "x": [
          "lifestyle"
         ],
         "xaxis": "x",
         "y": {
          "bdata": "AQ==",
          "dtype": "i1"
         },
         "yaxis": "y"
        },
        {
         "hovertemplate": "subcategory=health-cancer<br>category=%{x}<br>values=%{y}<extra></extra>",
         "legendgroup": "health-cancer",
         "marker": {
          "color": "#00cc96",
          "pattern": {
           "shape": ""
          }
         },
         "name": "health-cancer",
         "orientation": "v",
         "showlegend": true,
         "textposition": "auto",
         "type": "bar",
         "x": [
          "health"
         ],
         "xaxis": "x",
         "y": {
          "bdata": "AQ==",
          "dtype": "i1"
         },
         "yaxis": "y"
        },
        {
         "hovertemplate": "subcategory=lifestyleanimals<br>category=%{x}<br>values=%{y}<extra></extra>",
         "legendgroup": "lifestyleanimals",
         "marker": {
          "color": "#ab63fa",
          "pattern": {
           "shape": ""
          }
         },
         "name": "lifestyleanimals",
         "orientation": "v",
         "showlegend": true,
         "textposition": "auto",
         "type": "bar",
         "x": [
          "lifestyle"
         ],
         "xaxis": "x",
         "y": {
          "bdata": "AQ==",
          "dtype": "i1"
         },
         "yaxis": "y"
        },
        {
         "hovertemplate": "subcategory=lifestyle-wedding<br>category=%{x}<br>values=%{y}<extra></extra>",
         "legendgroup": "lifestyle-wedding",
         "marker": {
          "color": "#FFA15A",
          "pattern": {
           "shape": ""
          }
         },
         "name": "lifestyle-wedding",
         "orientation": "v",
         "showlegend": true,
         "textposition": "auto",
         "type": "bar",
         "x": [
          "lifestyle"
         ],
         "xaxis": "x",
         "y": {
          "bdata": "AQ==",
          "dtype": "i1"
         },
         "yaxis": "y"
        },
        {
         "hovertemplate": "subcategory=halloween<br>category=%{x}<br>values=%{y}<extra></extra>",
         "legendgroup": "halloween",
         "marker": {
          "color": "#19d3f3",
          "pattern": {
           "shape": ""
          }
         },
         "name": "halloween",
         "orientation": "v",
         "showlegend": true,
         "textposition": "auto",
         "type": "bar",
         "x": [
          "lifestyle"
         ],
         "xaxis": "x",
         "y": {
          "bdata": "AQ==",
          "dtype": "i1"
         },
         "yaxis": "y"
        },
        {
         "hovertemplate": "subcategory=healthyliving<br>category=%{x}<br>values=%{y}<extra></extra>",
         "legendgroup": "healthyliving",
         "marker": {
          "color": "#FF6692",
          "pattern": {
           "shape": ""
          }
         },
         "name": "healthyliving",
         "orientation": "v",
         "showlegend": true,
         "textposition": "auto",
         "type": "bar",
         "x": [
          "health"
         ],
         "xaxis": "x",
         "y": {
          "bdata": "AQ==",
          "dtype": "i1"
         },
         "yaxis": "y"
        },
        {
         "hovertemplate": "subcategory=smartliving<br>category=%{x}<br>values=%{y}<extra></extra>",
         "legendgroup": "smartliving",
         "marker": {
          "color": "#B6E880",
          "pattern": {
           "shape": ""
          }
         },
         "name": "smartliving",
         "orientation": "v",
         "showlegend": true,
         "textposition": "auto",
         "type": "bar",
         "x": [
          "health"
         ],
         "xaxis": "x",
         "y": {
          "bdata": "AQ==",
          "dtype": "i1"
         },
         "yaxis": "y"
        },
        {
         "hovertemplate": "subcategory=causes-military-appreciation<br>category=%{x}<br>values=%{y}<extra></extra>",
         "legendgroup": "causes-military-appreciation",
         "marker": {
          "color": "#FF97FF",
          "pattern": {
           "shape": ""
          }
         },
         "name": "causes-military-appreciation",
         "orientation": "v",
         "showlegend": true,
         "textposition": "auto",
         "type": "bar",
         "x": [
          "news"
         ],
         "xaxis": "x",
         "y": {
          "bdata": "AQ==",
          "dtype": "i1"
         },
         "yaxis": "y"
        },
        {
         "hovertemplate": "subcategory=narendramodi_opinion<br>category=%{x}<br>values=%{y}<extra></extra>",
         "legendgroup": "narendramodi_opinion",
         "marker": {
          "color": "#FECB52",
          "pattern": {
           "shape": ""
          }
         },
         "name": "narendramodi_opinion",
         "orientation": "v",
         "showlegend": true,
         "textposition": "auto",
         "type": "bar",
         "x": [
          "news"
         ],
         "xaxis": "x",
         "y": {
          "bdata": "AQ==",
          "dtype": "i1"
         },
         "yaxis": "y"
        },
        {
         "hovertemplate": "subcategory=entertainmentmusic<br>category=%{x}<br>values=%{y}<extra></extra>",
         "legendgroup": "entertainmentmusic",
         "marker": {
          "color": "#636efa",
          "pattern": {
           "shape": ""
          }
         },
         "name": "entertainmentmusic",
         "orientation": "v",
         "showlegend": true,
         "textposition": "auto",
         "type": "bar",
         "x": [
          "entertainment"
         ],
         "xaxis": "x",
         "y": {
          "bdata": "AQ==",
          "dtype": "i1"
         },
         "yaxis": "y"
        },
        {
         "hovertemplate": "subcategory=baseball<br>category=%{x}<br>values=%{y}<extra></extra>",
         "legendgroup": "baseball",
         "marker": {
          "color": "#EF553B",
          "pattern": {
           "shape": ""
          }
         },
         "name": "baseball",
         "orientation": "v",
         "showlegend": true,
         "textposition": "auto",
         "type": "bar",
         "x": [
          "sports"
         ],
         "xaxis": "x",
         "y": {
          "bdata": "AQ==",
          "dtype": "i1"
         },
         "yaxis": "y"
        },
        {
         "hovertemplate": "subcategory=othersports<br>category=%{x}<br>values=%{y}<extra></extra>",
         "legendgroup": "othersports",
         "marker": {
          "color": "#00cc96",
          "pattern": {
           "shape": ""
          }
         },
         "name": "othersports",
         "orientation": "v",
         "showlegend": true,
         "textposition": "auto",
         "type": "bar",
         "x": [
          "sports"
         ],
         "xaxis": "x",
         "y": {
          "bdata": "AQ==",
          "dtype": "i1"
         },
         "yaxis": "y"
        },
        {
         "hovertemplate": "subcategory=olympics-videos<br>category=%{x}<br>values=%{y}<extra></extra>",
         "legendgroup": "olympics-videos",
         "marker": {
          "color": "#ab63fa",
          "pattern": {
           "shape": ""
          }
         },
         "name": "olympics-videos",
         "orientation": "v",
         "showlegend": true,
         "textposition": "auto",
         "type": "bar",
         "x": [
          "sports"
         ],
         "xaxis": "x",
         "y": {
          "bdata": "AQ==",
          "dtype": "i1"
         },
         "yaxis": "y"
        },
        {
         "hovertemplate": "subcategory=entertainmenttv<br>category=%{x}<br>values=%{y}<extra></extra>",
         "legendgroup": "entertainmenttv",
         "marker": {
          "color": "#FFA15A",
          "pattern": {
           "shape": ""
          }
         },
         "name": "entertainmenttv",
         "orientation": "v",
         "showlegend": true,
         "textposition": "auto",
         "type": "bar",
         "x": [
          "entertainment"
         ],
         "xaxis": "x",
         "y": {
          "bdata": "AQ==",
          "dtype": "i1"
         },
         "yaxis": "y"
        },
        {
         "hovertemplate": "subcategory=mmaufc<br>category=%{x}<br>values=%{y}<extra></extra>",
         "legendgroup": "mmaufc",
         "marker": {
          "color": "#19d3f3",
          "pattern": {
           "shape": ""
          }
         },
         "name": "mmaufc",
         "orientation": "v",
         "showlegend": true,
         "textposition": "auto",
         "type": "bar",
         "x": [
          "sports"
         ],
         "xaxis": "x",
         "y": {
          "bdata": "AQ==",
          "dtype": "i1"
         },
         "yaxis": "y"
        },
        {
         "hovertemplate": "subcategory=games<br>category=%{x}<br>values=%{y}<extra></extra>",
         "legendgroup": "games",
         "marker": {
          "color": "#FF6692",
          "pattern": {
           "shape": ""
          }
         },
         "name": "games",
         "orientation": "v",
         "showlegend": true,
         "textposition": "auto",
         "type": "bar",
         "x": [
          "entertainment"
         ],
         "xaxis": "x",
         "y": {
          "bdata": "AQ==",
          "dtype": "i1"
         },
         "yaxis": "y"
        },
        {
         "hovertemplate": "subcategory=hollywood<br>category=%{x}<br>values=%{y}<extra></extra>",
         "legendgroup": "hollywood",
         "marker": {
          "color": "#B6E880",
          "pattern": {
           "shape": ""
          }
         },
         "name": "hollywood",
         "orientation": "v",
         "showlegend": true,
         "textposition": "auto",
         "type": "bar",
         "x": [
          "entertainment"
         ],
         "xaxis": "x",
         "y": {
          "bdata": "AQ==",
          "dtype": "i1"
         },
         "yaxis": "y"
        },
        {
         "hovertemplate": "subcategory=golfvideos<br>category=%{x}<br>values=%{y}<extra></extra>",
         "legendgroup": "golfvideos",
         "marker": {
          "color": "#FF97FF",
          "pattern": {
           "shape": ""
          }
         },
         "name": "golfvideos",
         "orientation": "v",
         "showlegend": true,
         "textposition": "auto",
         "type": "bar",
         "x": [
          "sports"
         ],
         "xaxis": "x",
         "y": {
          "bdata": "AQ==",
          "dtype": "i1"
         },
         "yaxis": "y"
        },
        {
         "hovertemplate": "subcategory=tv<br>category=%{x}<br>values=%{y}<extra></extra>",
         "legendgroup": "tv",
         "marker": {
          "color": "#FECB52",
          "pattern": {
           "shape": ""
          }
         },
         "name": "tv",
         "orientation": "v",
         "showlegend": true,
         "textposition": "auto",
         "type": "bar",
         "x": [
          "entertainment"
         ],
         "xaxis": "x",
         "y": {
          "bdata": "AQ==",
          "dtype": "i1"
         },
         "yaxis": "y"
        },
        {
         "hovertemplate": "subcategory=basketball<br>category=%{x}<br>values=%{y}<extra></extra>",
         "legendgroup": "basketball",
         "marker": {
          "color": "#636efa",
          "pattern": {
           "shape": ""
          }
         },
         "name": "basketball",
         "orientation": "v",
         "showlegend": true,
         "textposition": "auto",
         "type": "bar",
         "x": [
          "sports"
         ],
         "xaxis": "x",
         "y": {
          "bdata": "AQ==",
          "dtype": "i1"
         },
         "yaxis": "y"
        },
        {
         "hovertemplate": "subcategory=company-news<br>category=%{x}<br>values=%{y}<extra></extra>",
         "legendgroup": "company-news",
         "marker": {
          "color": "#EF553B",
          "pattern": {
           "shape": ""
          }
         },
         "name": "company-news",
         "orientation": "v",
         "showlegend": true,
         "textposition": "auto",
         "type": "bar",
         "x": [
          "finance"
         ],
         "xaxis": "x",
         "y": {
          "bdata": "AQ==",
          "dtype": "i1"
         },
         "yaxis": "y"
        },
        {
         "hovertemplate": "subcategory=northamerica-video<br>category=%{x}<br>values=%{y}<extra></extra>",
         "legendgroup": "northamerica-video",
         "marker": {
          "color": "#00cc96",
          "pattern": {
           "shape": ""
          }
         },
         "name": "northamerica-video",
         "orientation": "v",
         "showlegend": true,
         "textposition": "auto",
         "type": "bar",
         "x": [
          "northamerica"
         ],
         "xaxis": "x",
         "y": {
          "bdata": "AQ==",
          "dtype": "i1"
         },
         "yaxis": "y"
        },
        {
         "hovertemplate": "subcategory=finance-insidetheticker<br>category=%{x}<br>values=%{y}<extra></extra>",
         "legendgroup": "finance-insidetheticker",
         "marker": {
          "color": "#ab63fa",
          "pattern": {
           "shape": ""
          }
         },
         "name": "finance-insidetheticker",
         "orientation": "v",
         "showlegend": true,
         "textposition": "auto",
         "type": "bar",
         "x": [
          "finance"
         ],
         "xaxis": "x",
         "y": {
          "bdata": "AQ==",
          "dtype": "i1"
         },
         "yaxis": "y"
        },
        {
         "hovertemplate": "subcategory=technology<br>category=%{x}<br>values=%{y}<extra></extra>",
         "legendgroup": "technology",
         "marker": {
          "color": "#FFA15A",
          "pattern": {
           "shape": ""
          }
         },
         "name": "technology",
         "orientation": "v",
         "showlegend": true,
         "textposition": "auto",
         "type": "bar",
         "x": [
          "news"
         ],
         "xaxis": "x",
         "y": {
          "bdata": "AQ==",
          "dtype": "i1"
         },
         "yaxis": "y"
        },
        {
         "hovertemplate": "subcategory=other<br>category=%{x}<br>values=%{y}<extra></extra>",
         "legendgroup": "other",
         "marker": {
          "color": "#19d3f3",
          "pattern": {
           "shape": ""
          }
         },
         "name": "other",
         "orientation": "v",
         "showlegend": true,
         "textposition": "auto",
         "type": "bar",
         "x": [
          "news"
         ],
         "xaxis": "x",
         "y": {
          "bdata": "AQ==",
          "dtype": "i1"
         },
         "yaxis": "y"
        },
        {
         "hovertemplate": "subcategory=finance-auto-insurance<br>category=%{x}<br>values=%{y}<extra></extra>",
         "legendgroup": "finance-auto-insurance",
         "marker": {
          "color": "#FF6692",
          "pattern": {
           "shape": ""
          }
         },
         "name": "finance-auto-insurance",
         "orientation": "v",
         "showlegend": true,
         "textposition": "auto",
         "type": "bar",
         "x": [
          "finance"
         ],
         "xaxis": "x",
         "y": {
          "bdata": "AQ==",
          "dtype": "i1"
         },
         "yaxis": "y"
        },
        {
         "hovertemplate": "subcategory=newsvideos<br>category=%{x}<br>values=%{y}<extra></extra>",
         "legendgroup": "newsvideos",
         "marker": {
          "color": "#B6E880",
          "pattern": {
           "shape": ""
          }
         },
         "name": "newsvideos",
         "orientation": "v",
         "showlegend": true,
         "textposition": "auto",
         "type": "bar",
         "x": [
          "news"
         ],
         "xaxis": "x",
         "y": {
          "bdata": "AQ==",
          "dtype": "i1"
         },
         "yaxis": "y"
        },
        {
         "hovertemplate": "subcategory=newstvmedia<br>category=%{x}<br>values=%{y}<extra></extra>",
         "legendgroup": "newstvmedia",
         "marker": {
          "color": "#FF97FF",
          "pattern": {
           "shape": ""
          }
         },
         "name": "newstvmedia",
         "orientation": "v",
         "showlegend": true,
         "textposition": "auto",
         "type": "bar",
         "x": [
          "news"
         ],
         "xaxis": "x",
         "y": {
          "bdata": "AQ==",
          "dtype": "i1"
         },
         "yaxis": "y"
        },
        {
         "hovertemplate": "subcategory=newsrealestate<br>category=%{x}<br>values=%{y}<extra></extra>",
         "legendgroup": "newsrealestate",
         "marker": {
          "color": "#FECB52",
          "pattern": {
           "shape": ""
          }
         },
         "name": "newsrealestate",
         "orientation": "v",
         "showlegend": true,
         "textposition": "auto",
         "type": "bar",
         "x": [
          "news"
         ],
         "xaxis": "x",
         "y": {
          "bdata": "AQ==",
          "dtype": "i1"
         },
         "yaxis": "y"
        },
        {
         "hovertemplate": "subcategory=newsother<br>category=%{x}<br>values=%{y}<extra></extra>",
         "legendgroup": "newsother",
         "marker": {
          "color": "#636efa",
          "pattern": {
           "shape": ""
          }
         },
         "name": "newsother",
         "orientation": "v",
         "showlegend": true,
         "textposition": "auto",
         "type": "bar",
         "x": [
          "news"
         ],
         "xaxis": "x",
         "y": {
          "bdata": "AQ==",
          "dtype": "i1"
         },
         "yaxis": "y"
        },
        {
         "hovertemplate": "subcategory=newsnational<br>category=%{x}<br>values=%{y}<extra></extra>",
         "legendgroup": "newsnational",
         "marker": {
          "color": "#EF553B",
          "pattern": {
           "shape": ""
          }
         },
         "name": "newsnational",
         "orientation": "v",
         "showlegend": true,
         "textposition": "auto",
         "type": "bar",
         "x": [
          "news"
         ],
         "xaxis": "x",
         "y": {
          "bdata": "AQ==",
          "dtype": "i1"
         },
         "yaxis": "y"
        },
        {
         "hovertemplate": "subcategory=newslocalpolitics<br>category=%{x}<br>values=%{y}<extra></extra>",
         "legendgroup": "newslocalpolitics",
         "marker": {
          "color": "#00cc96",
          "pattern": {
           "shape": ""
          }
         },
         "name": "newslocalpolitics",
         "orientation": "v",
         "showlegend": true,
         "textposition": "auto",
         "type": "bar",
         "x": [
          "news"
         ],
         "xaxis": "x",
         "y": {
          "bdata": "AQ==",
          "dtype": "i1"
         },
         "yaxis": "y"
        },
        {
         "hovertemplate": "subcategory=finance-homesandpropertysection<br>category=%{x}<br>values=%{y}<extra></extra>",
         "legendgroup": "finance-homesandpropertysection",
         "marker": {
          "color": "#ab63fa",
          "pattern": {
           "shape": ""
          }
         },
         "name": "finance-homesandpropertysection",
         "orientation": "v",
         "showlegend": true,
         "textposition": "auto",
         "type": "bar",
         "x": [
          "finance"
         ],
         "xaxis": "x",
         "y": {
          "bdata": "AQ==",
          "dtype": "i1"
         },
         "yaxis": "y"
        },
        {
         "hovertemplate": "subcategory=lifestyleshoppinghomegarden<br>category=%{x}<br>values=%{y}<extra></extra>",
         "legendgroup": "lifestyleshoppinghomegarden",
         "marker": {
          "color": "#FFA15A",
          "pattern": {
           "shape": ""
          }
         },
         "name": "lifestyleshoppinghomegarden",
         "orientation": "v",
         "showlegend": true,
         "textposition": "auto",
         "type": "bar",
         "x": [
          "lifestyle"
         ],
         "xaxis": "x",
         "y": {
          "bdata": "AQ==",
          "dtype": "i1"
         },
         "yaxis": "y"
        }
       ],
       "layout": {
        "barmode": "relative",
        "legend": {
         "title": {
          "text": "subcategory"
         },
         "tracegroupgap": 0
        },
        "margin": {
         "t": 60
        },
        "template": {
         "data": {
          "bar": [
           {
            "error_x": {
             "color": "#2a3f5f"
            },
            "error_y": {
             "color": "#2a3f5f"
            },
            "marker": {
             "line": {
              "color": "#E5ECF6",
              "width": 0.5
             },
             "pattern": {
              "fillmode": "overlay",
              "size": 10,
              "solidity": 0.2
             }
            },
            "type": "bar"
           }
          ],
          "barpolar": [
           {
            "marker": {
             "line": {
              "color": "#E5ECF6",
              "width": 0.5
             },
             "pattern": {
              "fillmode": "overlay",
              "size": 10,
              "solidity": 0.2
             }
            },
            "type": "barpolar"
           }
          ],
          "carpet": [
           {
            "aaxis": {
             "endlinecolor": "#2a3f5f",
             "gridcolor": "white",
             "linecolor": "white",
             "minorgridcolor": "white",
             "startlinecolor": "#2a3f5f"
            },
            "baxis": {
             "endlinecolor": "#2a3f5f",
             "gridcolor": "white",
             "linecolor": "white",
             "minorgridcolor": "white",
             "startlinecolor": "#2a3f5f"
            },
            "type": "carpet"
           }
          ],
          "choropleth": [
           {
            "colorbar": {
             "outlinewidth": 0,
             "ticks": ""
            },
            "type": "choropleth"
           }
          ],
          "contour": [
           {
            "colorbar": {
             "outlinewidth": 0,
             "ticks": ""
            },
            "colorscale": [
             [
              0,
              "#0d0887"
             ],
             [
              0.1111111111111111,
              "#46039f"
             ],
             [
              0.2222222222222222,
              "#7201a8"
             ],
             [
              0.3333333333333333,
              "#9c179e"
             ],
             [
              0.4444444444444444,
              "#bd3786"
             ],
             [
              0.5555555555555556,
              "#d8576b"
             ],
             [
              0.6666666666666666,
              "#ed7953"
             ],
             [
              0.7777777777777778,
              "#fb9f3a"
             ],
             [
              0.8888888888888888,
              "#fdca26"
             ],
             [
              1,
              "#f0f921"
             ]
            ],
            "type": "contour"
           }
          ],
          "contourcarpet": [
           {
            "colorbar": {
             "outlinewidth": 0,
             "ticks": ""
            },
            "type": "contourcarpet"
           }
          ],
          "heatmap": [
           {
            "colorbar": {
             "outlinewidth": 0,
             "ticks": ""
            },
            "colorscale": [
             [
              0,
              "#0d0887"
             ],
             [
              0.1111111111111111,
              "#46039f"
             ],
             [
              0.2222222222222222,
              "#7201a8"
             ],
             [
              0.3333333333333333,
              "#9c179e"
             ],
             [
              0.4444444444444444,
              "#bd3786"
             ],
             [
              0.5555555555555556,
              "#d8576b"
             ],
             [
              0.6666666666666666,
              "#ed7953"
             ],
             [
              0.7777777777777778,
              "#fb9f3a"
             ],
             [
              0.8888888888888888,
              "#fdca26"
             ],
             [
              1,
              "#f0f921"
             ]
            ],
            "type": "heatmap"
           }
          ],
          "histogram": [
           {
            "marker": {
             "pattern": {
              "fillmode": "overlay",
              "size": 10,
              "solidity": 0.2
             }
            },
            "type": "histogram"
           }
          ],
          "histogram2d": [
           {
            "colorbar": {
             "outlinewidth": 0,
             "ticks": ""
            },
            "colorscale": [
             [
              0,
              "#0d0887"
             ],
             [
              0.1111111111111111,
              "#46039f"
             ],
             [
              0.2222222222222222,
              "#7201a8"
             ],
             [
              0.3333333333333333,
              "#9c179e"
             ],
             [
              0.4444444444444444,
              "#bd3786"
             ],
             [
              0.5555555555555556,
              "#d8576b"
             ],
             [
              0.6666666666666666,
              "#ed7953"
             ],
             [
              0.7777777777777778,
              "#fb9f3a"
             ],
             [
              0.8888888888888888,
              "#fdca26"
             ],
             [
              1,
              "#f0f921"
             ]
            ],
            "type": "histogram2d"
           }
          ],
          "histogram2dcontour": [
           {
            "colorbar": {
             "outlinewidth": 0,
             "ticks": ""
            },
            "colorscale": [
             [
              0,
              "#0d0887"
             ],
             [
              0.1111111111111111,
              "#46039f"
             ],
             [
              0.2222222222222222,
              "#7201a8"
             ],
             [
              0.3333333333333333,
              "#9c179e"
             ],
             [
              0.4444444444444444,
              "#bd3786"
             ],
             [
              0.5555555555555556,
              "#d8576b"
             ],
             [
              0.6666666666666666,
              "#ed7953"
             ],
             [
              0.7777777777777778,
              "#fb9f3a"
             ],
             [
              0.8888888888888888,
              "#fdca26"
             ],
             [
              1,
              "#f0f921"
             ]
            ],
            "type": "histogram2dcontour"
           }
          ],
          "mesh3d": [
           {
            "colorbar": {
             "outlinewidth": 0,
             "ticks": ""
            },
            "type": "mesh3d"
           }
          ],
          "parcoords": [
           {
            "line": {
             "colorbar": {
              "outlinewidth": 0,
              "ticks": ""
             }
            },
            "type": "parcoords"
           }
          ],
          "pie": [
           {
            "automargin": true,
            "type": "pie"
           }
          ],
          "scatter": [
           {
            "fillpattern": {
             "fillmode": "overlay",
             "size": 10,
             "solidity": 0.2
            },
            "type": "scatter"
           }
          ],
          "scatter3d": [
           {
            "line": {
             "colorbar": {
              "outlinewidth": 0,
              "ticks": ""
             }
            },
            "marker": {
             "colorbar": {
              "outlinewidth": 0,
              "ticks": ""
             }
            },
            "type": "scatter3d"
           }
          ],
          "scattercarpet": [
           {
            "marker": {
             "colorbar": {
              "outlinewidth": 0,
              "ticks": ""
             }
            },
            "type": "scattercarpet"
           }
          ],
          "scattergeo": [
           {
            "marker": {
             "colorbar": {
              "outlinewidth": 0,
              "ticks": ""
             }
            },
            "type": "scattergeo"
           }
          ],
          "scattergl": [
           {
            "marker": {
             "colorbar": {
              "outlinewidth": 0,
              "ticks": ""
             }
            },
            "type": "scattergl"
           }
          ],
          "scattermap": [
           {
            "marker": {
             "colorbar": {
              "outlinewidth": 0,
              "ticks": ""
             }
            },
            "type": "scattermap"
           }
          ],
          "scattermapbox": [
           {
            "marker": {
             "colorbar": {
              "outlinewidth": 0,
              "ticks": ""
             }
            },
            "type": "scattermapbox"
           }
          ],
          "scatterpolar": [
           {
            "marker": {
             "colorbar": {
              "outlinewidth": 0,
              "ticks": ""
             }
            },
            "type": "scatterpolar"
           }
          ],
          "scatterpolargl": [
           {
            "marker": {
             "colorbar": {
              "outlinewidth": 0,
              "ticks": ""
             }
            },
            "type": "scatterpolargl"
           }
          ],
          "scatterternary": [
           {
            "marker": {
             "colorbar": {
              "outlinewidth": 0,
              "ticks": ""
             }
            },
            "type": "scatterternary"
           }
          ],
          "surface": [
           {
            "colorbar": {
             "outlinewidth": 0,
             "ticks": ""
            },
            "colorscale": [
             [
              0,
              "#0d0887"
             ],
             [
              0.1111111111111111,
              "#46039f"
             ],
             [
              0.2222222222222222,
              "#7201a8"
             ],
             [
              0.3333333333333333,
              "#9c179e"
             ],
             [
              0.4444444444444444,
              "#bd3786"
             ],
             [
              0.5555555555555556,
              "#d8576b"
             ],
             [
              0.6666666666666666,
              "#ed7953"
             ],
             [
              0.7777777777777778,
              "#fb9f3a"
             ],
             [
              0.8888888888888888,
              "#fdca26"
             ],
             [
              1,
              "#f0f921"
             ]
            ],
            "type": "surface"
           }
          ],
          "table": [
           {
            "cells": {
             "fill": {
              "color": "#EBF0F8"
             },
             "line": {
              "color": "white"
             }
            },
            "header": {
             "fill": {
              "color": "#C8D4E3"
             },
             "line": {
              "color": "white"
             }
            },
            "type": "table"
           }
          ]
         },
         "layout": {
          "annotationdefaults": {
           "arrowcolor": "#2a3f5f",
           "arrowhead": 0,
           "arrowwidth": 1
          },
          "autotypenumbers": "strict",
          "coloraxis": {
           "colorbar": {
            "outlinewidth": 0,
            "ticks": ""
           }
          },
          "colorscale": {
           "diverging": [
            [
             0,
             "#8e0152"
            ],
            [
             0.1,
             "#c51b7d"
            ],
            [
             0.2,
             "#de77ae"
            ],
            [
             0.3,
             "#f1b6da"
            ],
            [
             0.4,
             "#fde0ef"
            ],
            [
             0.5,
             "#f7f7f7"
            ],
            [
             0.6,
             "#e6f5d0"
            ],
            [
             0.7,
             "#b8e186"
            ],
            [
             0.8,
             "#7fbc41"
            ],
            [
             0.9,
             "#4d9221"
            ],
            [
             1,
             "#276419"
            ]
           ],
           "sequential": [
            [
             0,
             "#0d0887"
            ],
            [
             0.1111111111111111,
             "#46039f"
            ],
            [
             0.2222222222222222,
             "#7201a8"
            ],
            [
             0.3333333333333333,
             "#9c179e"
            ],
            [
             0.4444444444444444,
             "#bd3786"
            ],
            [
             0.5555555555555556,
             "#d8576b"
            ],
            [
             0.6666666666666666,
             "#ed7953"
            ],
            [
             0.7777777777777778,
             "#fb9f3a"
            ],
            [
             0.8888888888888888,
             "#fdca26"
            ],
            [
             1,
             "#f0f921"
            ]
           ],
           "sequentialminus": [
            [
             0,
             "#0d0887"
            ],
            [
             0.1111111111111111,
             "#46039f"
            ],
            [
             0.2222222222222222,
             "#7201a8"
            ],
            [
             0.3333333333333333,
             "#9c179e"
            ],
            [
             0.4444444444444444,
             "#bd3786"
            ],
            [
             0.5555555555555556,
             "#d8576b"
            ],
            [
             0.6666666666666666,
             "#ed7953"
            ],
            [
             0.7777777777777778,
             "#fb9f3a"
            ],
            [
             0.8888888888888888,
             "#fdca26"
            ],
            [
             1,
             "#f0f921"
            ]
           ]
          },
          "colorway": [
           "#636efa",
           "#EF553B",
           "#00cc96",
           "#ab63fa",
           "#FFA15A",
           "#19d3f3",
           "#FF6692",
           "#B6E880",
           "#FF97FF",
           "#FECB52"
          ],
          "font": {
           "color": "#2a3f5f"
          },
          "geo": {
           "bgcolor": "white",
           "lakecolor": "white",
           "landcolor": "#E5ECF6",
           "showlakes": true,
           "showland": true,
           "subunitcolor": "white"
          },
          "hoverlabel": {
           "align": "left"
          },
          "hovermode": "closest",
          "mapbox": {
           "style": "light"
          },
          "paper_bgcolor": "white",
          "plot_bgcolor": "#E5ECF6",
          "polar": {
           "angularaxis": {
            "gridcolor": "white",
            "linecolor": "white",
            "ticks": ""
           },
           "bgcolor": "#E5ECF6",
           "radialaxis": {
            "gridcolor": "white",
            "linecolor": "white",
            "ticks": ""
           }
          },
          "scene": {
           "xaxis": {
            "backgroundcolor": "#E5ECF6",
            "gridcolor": "white",
            "gridwidth": 2,
            "linecolor": "white",
            "showbackground": true,
            "ticks": "",
            "zerolinecolor": "white"
           },
           "yaxis": {
            "backgroundcolor": "#E5ECF6",
            "gridcolor": "white",
            "gridwidth": 2,
            "linecolor": "white",
            "showbackground": true,
            "ticks": "",
            "zerolinecolor": "white"
           },
           "zaxis": {
            "backgroundcolor": "#E5ECF6",
            "gridcolor": "white",
            "gridwidth": 2,
            "linecolor": "white",
            "showbackground": true,
            "ticks": "",
            "zerolinecolor": "white"
           }
          },
          "shapedefaults": {
           "line": {
            "color": "#2a3f5f"
           }
          },
          "ternary": {
           "aaxis": {
            "gridcolor": "white",
            "linecolor": "white",
            "ticks": ""
           },
           "baxis": {
            "gridcolor": "white",
            "linecolor": "white",
            "ticks": ""
           },
           "bgcolor": "#E5ECF6",
           "caxis": {
            "gridcolor": "white",
            "linecolor": "white",
            "ticks": ""
           }
          },
          "title": {
           "x": 0.05
          },
          "xaxis": {
           "automargin": true,
           "gridcolor": "white",
           "linecolor": "white",
           "ticks": "",
           "title": {
            "standoff": 15
           },
           "zerolinecolor": "white",
           "zerolinewidth": 2
          },
          "yaxis": {
           "automargin": true,
           "gridcolor": "white",
           "linecolor": "white",
           "ticks": "",
           "title": {
            "standoff": 15
           },
           "zerolinecolor": "white",
           "zerolinewidth": 2
          }
         }
        },
        "xaxis": {
         "anchor": "y",
         "domain": [
          0,
          1
         ],
         "title": {
          "text": "category"
         }
        },
        "yaxis": {
         "anchor": "x",
         "domain": [
          0,
          1
         ],
         "title": {
          "text": "values"
         }
        }
       }
      },
      "text/html": [
       "<div>                        <script type=\"text/javascript\">window.PlotlyConfig = {MathJaxConfig: 'local'};</script>\n",
       "        <script charset=\"utf-8\" src=\"https://cdn.plot.ly/plotly-3.0.0.min.js\"></script>                <div id=\"070d6939-dee5-48ef-ad7f-d20a2003fea0\" class=\"plotly-graph-div\" style=\"height:100%; width:100%;\"></div>            <script type=\"text/javascript\">                window.PLOTLYENV=window.PLOTLYENV || {};                                if (document.getElementById(\"070d6939-dee5-48ef-ad7f-d20a2003fea0\")) {                    Plotly.newPlot(                        \"070d6939-dee5-48ef-ad7f-d20a2003fea0\",                        [{\"hovertemplate\":\"subcategory=newsus\\u003cbr\\u003ecategory=%{x}\\u003cbr\\u003evalues=%{y}\\u003cextra\\u003e\\u003c\\u002fextra\\u003e\",\"legendgroup\":\"newsus\",\"marker\":{\"color\":\"#636efa\",\"pattern\":{\"shape\":\"\"}},\"name\":\"newsus\",\"orientation\":\"v\",\"showlegend\":true,\"textposition\":\"auto\",\"x\":[\"news\"],\"xaxis\":\"x\",\"y\":{\"dtype\":\"i2\",\"bdata\":\"gzg=\"},\"yaxis\":\"y\",\"type\":\"bar\"},{\"hovertemplate\":\"subcategory=football_nfl\\u003cbr\\u003ecategory=%{x}\\u003cbr\\u003evalues=%{y}\\u003cextra\\u003e\\u003c\\u002fextra\\u003e\",\"legendgroup\":\"football_nfl\",\"marker\":{\"color\":\"#EF553B\",\"pattern\":{\"shape\":\"\"}},\"name\":\"football_nfl\",\"orientation\":\"v\",\"showlegend\":true,\"textposition\":\"auto\",\"x\":[\"sports\"],\"xaxis\":\"x\",\"y\":{\"dtype\":\"i2\",\"bdata\":\"JS4=\"},\"yaxis\":\"y\",\"type\":\"bar\"},{\"hovertemplate\":\"subcategory=newspolitics\\u003cbr\\u003ecategory=%{x}\\u003cbr\\u003evalues=%{y}\\u003cextra\\u003e\\u003c\\u002fextra\\u003e\",\"legendgroup\":\"newspolitics\",\"marker\":{\"color\":\"#00cc96\",\"pattern\":{\"shape\":\"\"}},\"name\":\"newspolitics\",\"orientation\":\"v\",\"showlegend\":true,\"textposition\":\"auto\",\"x\":[\"news\"],\"xaxis\":\"x\",\"y\":{\"dtype\":\"i2\",\"bdata\":\"GRQ=\"},\"yaxis\":\"y\",\"type\":\"bar\"},{\"hovertemplate\":\"subcategory=weathertopstories\\u003cbr\\u003ecategory=%{x}\\u003cbr\\u003evalues=%{y}\\u003cextra\\u003e\\u003c\\u002fextra\\u003e\",\"legendgroup\":\"weathertopstories\",\"marker\":{\"color\":\"#ab63fa\",\"pattern\":{\"shape\":\"\"}},\"name\":\"weathertopstories\",\"orientation\":\"v\",\"showlegend\":true,\"textposition\":\"auto\",\"x\":[\"weather\"],\"xaxis\":\"x\",\"y\":{\"dtype\":\"i2\",\"bdata\":\"nRA=\"},\"yaxis\":\"y\",\"type\":\"bar\"},{\"hovertemplate\":\"subcategory=newscrime\\u003cbr\\u003ecategory=%{x}\\u003cbr\\u003evalues=%{y}\\u003cextra\\u003e\\u003c\\u002fextra\\u003e\",\"legendgroup\":\"newscrime\",\"marker\":{\"color\":\"#FFA15A\",\"pattern\":{\"shape\":\"\"}},\"name\":\"newscrime\",\"orientation\":\"v\",\"showlegend\":true,\"textposition\":\"auto\",\"x\":[\"news\"],\"xaxis\":\"x\",\"y\":{\"dtype\":\"i2\",\"bdata\":\"XA4=\"},\"yaxis\":\"y\",\"type\":\"bar\"},{\"hovertemplate\":\"subcategory=baseball_mlb\\u003cbr\\u003ecategory=%{x}\\u003cbr\\u003evalues=%{y}\\u003cextra\\u003e\\u003c\\u002fextra\\u003e\",\"legendgroup\":\"baseball_mlb\",\"marker\":{\"color\":\"#19d3f3\",\"pattern\":{\"shape\":\"\"}},\"name\":\"baseball_mlb\",\"orientation\":\"v\",\"showlegend\":true,\"textposition\":\"auto\",\"x\":[\"sports\"],\"xaxis\":\"x\",\"y\":{\"dtype\":\"i2\",\"bdata\":\"IQ4=\"},\"yaxis\":\"y\",\"type\":\"bar\"},{\"hovertemplate\":\"subcategory=football_ncaa\\u003cbr\\u003ecategory=%{x}\\u003cbr\\u003evalues=%{y}\\u003cextra\\u003e\\u003c\\u002fextra\\u003e\",\"legendgroup\":\"football_ncaa\",\"marker\":{\"color\":\"#FF6692\",\"pattern\":{\"shape\":\"\"}},\"name\":\"football_ncaa\",\"orientation\":\"v\",\"showlegend\":true,\"textposition\":\"auto\",\"x\":[\"sports\"],\"xaxis\":\"x\",\"y\":{\"dtype\":\"i2\",\"bdata\":\"eg0=\"},\"yaxis\":\"y\",\"type\":\"bar\"},{\"hovertemplate\":\"subcategory=news\\u003cbr\\u003ecategory=%{x}\\u003cbr\\u003evalues=%{y}\\u003cextra\\u003e\\u003c\\u002fextra\\u003e\",\"legendgroup\":\"news\",\"marker\":{\"color\":\"#B6E880\",\"pattern\":{\"shape\":\"\"}},\"name\":\"news\",\"orientation\":\"v\",\"showlegend\":true,\"textposition\":\"auto\",\"x\":[\"video\",\"entertainment\"],\"xaxis\":\"x\",\"y\":{\"dtype\":\"i2\",\"bdata\":\"9AwjAA==\"},\"yaxis\":\"y\",\"type\":\"bar\"},{\"hovertemplate\":\"subcategory=basketball_nba\\u003cbr\\u003ecategory=%{x}\\u003cbr\\u003evalues=%{y}\\u003cextra\\u003e\\u003c\\u002fextra\\u003e\",\"legendgroup\":\"basketball_nba\",\"marker\":{\"color\":\"#FF97FF\",\"pattern\":{\"shape\":\"\"}},\"name\":\"basketball_nba\",\"orientation\":\"v\",\"showlegend\":true,\"textposition\":\"auto\",\"x\":[\"sports\"],\"xaxis\":\"x\",\"y\":{\"dtype\":\"i2\",\"bdata\":\"mgw=\"},\"yaxis\":\"y\",\"type\":\"bar\"},{\"hovertemplate\":\"subcategory=more_sports\\u003cbr\\u003ecategory=%{x}\\u003cbr\\u003evalues=%{y}\\u003cextra\\u003e\\u003c\\u002fextra\\u003e\",\"legendgroup\":\"more_sports\",\"marker\":{\"color\":\"#FECB52\",\"pattern\":{\"shape\":\"\"}},\"name\":\"more_sports\",\"orientation\":\"v\",\"showlegend\":true,\"textposition\":\"auto\",\"x\":[\"sports\"],\"xaxis\":\"x\",\"y\":{\"dtype\":\"i2\",\"bdata\":\"8Qo=\"},\"yaxis\":\"y\",\"type\":\"bar\"},{\"hovertemplate\":\"subcategory=newsscienceandtechnology\\u003cbr\\u003ecategory=%{x}\\u003cbr\\u003evalues=%{y}\\u003cextra\\u003e\\u003c\\u002fextra\\u003e\",\"legendgroup\":\"newsscienceandtechnology\",\"marker\":{\"color\":\"#636efa\",\"pattern\":{\"shape\":\"\"}},\"name\":\"newsscienceandtechnology\",\"orientation\":\"v\",\"showlegend\":true,\"textposition\":\"auto\",\"x\":[\"news\"],\"xaxis\":\"x\",\"y\":{\"dtype\":\"i2\",\"bdata\":\"0wo=\"},\"yaxis\":\"y\",\"type\":\"bar\"},{\"hovertemplate\":\"subcategory=newstrends\\u003cbr\\u003ecategory=%{x}\\u003cbr\\u003evalues=%{y}\\u003cextra\\u003e\\u003c\\u002fextra\\u003e\",\"legendgroup\":\"newstrends\",\"marker\":{\"color\":\"#EF553B\",\"pattern\":{\"shape\":\"\"}},\"name\":\"newstrends\",\"orientation\":\"v\",\"showlegend\":true,\"textposition\":\"auto\",\"x\":[\"foodanddrink\",\"travel\"],\"xaxis\":\"x\",\"y\":{\"dtype\":\"i2\",\"bdata\":\"mgoBAA==\"},\"yaxis\":\"y\",\"type\":\"bar\"},{\"hovertemplate\":\"subcategory=travelarticle\\u003cbr\\u003ecategory=%{x}\\u003cbr\\u003evalues=%{y}\\u003cextra\\u003e\\u003c\\u002fextra\\u003e\",\"legendgroup\":\"travelarticle\",\"marker\":{\"color\":\"#00cc96\",\"pattern\":{\"shape\":\"\"}},\"name\":\"travelarticle\",\"orientation\":\"v\",\"showlegend\":true,\"textposition\":\"auto\",\"x\":[\"travel\"],\"xaxis\":\"x\",\"y\":{\"dtype\":\"i2\",\"bdata\":\"QAo=\"},\"yaxis\":\"y\",\"type\":\"bar\"},{\"hovertemplate\":\"subcategory=newsworld\\u003cbr\\u003ecategory=%{x}\\u003cbr\\u003evalues=%{y}\\u003cextra\\u003e\\u003c\\u002fextra\\u003e\",\"legendgroup\":\"newsworld\",\"marker\":{\"color\":\"#ab63fa\",\"pattern\":{\"shape\":\"\"}},\"name\":\"newsworld\",\"orientation\":\"v\",\"showlegend\":true,\"textposition\":\"auto\",\"x\":[\"news\"],\"xaxis\":\"x\",\"y\":{\"dtype\":\"i2\",\"bdata\":\"2wk=\"},\"yaxis\":\"y\",\"type\":\"bar\"},{\"hovertemplate\":\"subcategory=lifestylebuzz\\u003cbr\\u003ecategory=%{x}\\u003cbr\\u003evalues=%{y}\\u003cextra\\u003e\\u003c\\u002fextra\\u003e\",\"legendgroup\":\"lifestylebuzz\",\"marker\":{\"color\":\"#FFA15A\",\"pattern\":{\"shape\":\"\"}},\"name\":\"lifestylebuzz\",\"orientation\":\"v\",\"showlegend\":true,\"textposition\":\"auto\",\"x\":[\"lifestyle\"],\"xaxis\":\"x\",\"y\":{\"dtype\":\"i2\",\"bdata\":\"mAc=\"},\"yaxis\":\"y\",\"type\":\"bar\"},{\"hovertemplate\":\"subcategory=financenews\\u003cbr\\u003ecategory=%{x}\\u003cbr\\u003evalues=%{y}\\u003cextra\\u003e\\u003c\\u002fextra\\u003e\",\"legendgroup\":\"financenews\",\"marker\":{\"color\":\"#19d3f3\",\"pattern\":{\"shape\":\"\"}},\"name\":\"financenews\",\"orientation\":\"v\",\"showlegend\":true,\"textposition\":\"auto\",\"x\":[\"finance\"],\"xaxis\":\"x\",\"y\":{\"dtype\":\"i2\",\"bdata\":\"jAc=\"},\"yaxis\":\"y\",\"type\":\"bar\"},{\"hovertemplate\":\"subcategory=travelnews\\u003cbr\\u003ecategory=%{x}\\u003cbr\\u003evalues=%{y}\\u003cextra\\u003e\\u003c\\u002fextra\\u003e\",\"legendgroup\":\"travelnews\",\"marker\":{\"color\":\"#FF6692\",\"pattern\":{\"shape\":\"\"}},\"name\":\"travelnews\",\"orientation\":\"v\",\"showlegend\":true,\"textposition\":\"auto\",\"x\":[\"travel\"],\"xaxis\":\"x\",\"y\":{\"dtype\":\"i2\",\"bdata\":\"FAc=\"},\"yaxis\":\"y\",\"type\":\"bar\"},{\"hovertemplate\":\"subcategory=autosnews\\u003cbr\\u003ecategory=%{x}\\u003cbr\\u003evalues=%{y}\\u003cextra\\u003e\\u003c\\u002fextra\\u003e\",\"legendgroup\":\"autosnews\",\"marker\":{\"color\":\"#B6E880\",\"pattern\":{\"shape\":\"\"}},\"name\":\"autosnews\",\"orientation\":\"v\",\"showlegend\":true,\"textposition\":\"auto\",\"x\":[\"autos\"],\"xaxis\":\"x\",\"y\":{\"dtype\":\"i2\",\"bdata\":\"pwY=\"},\"yaxis\":\"y\",\"type\":\"bar\"},{\"hovertemplate\":\"subcategory=basketball_ncaa\\u003cbr\\u003ecategory=%{x}\\u003cbr\\u003evalues=%{y}\\u003cextra\\u003e\\u003c\\u002fextra\\u003e\",\"legendgroup\":\"basketball_ncaa\",\"marker\":{\"color\":\"#FF97FF\",\"pattern\":{\"shape\":\"\"}},\"name\":\"basketball_ncaa\",\"orientation\":\"v\",\"showlegend\":true,\"textposition\":\"auto\",\"x\":[\"sports\"],\"xaxis\":\"x\",\"y\":{\"dtype\":\"i2\",\"bdata\":\"igY=\"},\"yaxis\":\"y\",\"type\":\"bar\"},{\"hovertemplate\":\"subcategory=icehockey_nhl\\u003cbr\\u003ecategory=%{x}\\u003cbr\\u003evalues=%{y}\\u003cextra\\u003e\\u003c\\u002fextra\\u003e\",\"legendgroup\":\"icehockey_nhl\",\"marker\":{\"color\":\"#FECB52\",\"pattern\":{\"shape\":\"\"}},\"name\":\"icehockey_nhl\",\"orientation\":\"v\",\"showlegend\":true,\"textposition\":\"auto\",\"x\":[\"sports\"],\"xaxis\":\"x\",\"y\":{\"dtype\":\"i2\",\"bdata\":\"9AU=\"},\"yaxis\":\"y\",\"type\":\"bar\"},{\"hovertemplate\":\"subcategory=finance-real-estate\\u003cbr\\u003ecategory=%{x}\\u003cbr\\u003evalues=%{y}\\u003cextra\\u003e\\u003c\\u002fextra\\u003e\",\"legendgroup\":\"finance-real-estate\",\"marker\":{\"color\":\"#636efa\",\"pattern\":{\"shape\":\"\"}},\"name\":\"finance-real-estate\",\"orientation\":\"v\",\"showlegend\":true,\"textposition\":\"auto\",\"x\":[\"finance\"],\"xaxis\":\"x\",\"y\":{\"dtype\":\"i2\",\"bdata\":\"FwU=\"},\"yaxis\":\"y\",\"type\":\"bar\"},{\"hovertemplate\":\"subcategory=mma\\u003cbr\\u003ecategory=%{x}\\u003cbr\\u003evalues=%{y}\\u003cextra\\u003e\\u003c\\u002fextra\\u003e\",\"legendgroup\":\"mma\",\"marker\":{\"color\":\"#EF553B\",\"pattern\":{\"shape\":\"\"}},\"name\":\"mma\",\"orientation\":\"v\",\"showlegend\":true,\"textposition\":\"auto\",\"x\":[\"sports\"],\"xaxis\":\"x\",\"y\":{\"dtype\":\"i2\",\"bdata\":\"HQQ=\"},\"yaxis\":\"y\",\"type\":\"bar\"},{\"hovertemplate\":\"subcategory=medical\\u003cbr\\u003ecategory=%{x}\\u003cbr\\u003evalues=%{y}\\u003cextra\\u003e\\u003c\\u002fextra\\u003e\",\"legendgroup\":\"medical\",\"marker\":{\"color\":\"#00cc96\",\"pattern\":{\"shape\":\"\"}},\"name\":\"medical\",\"orientation\":\"v\",\"showlegend\":true,\"textposition\":\"auto\",\"x\":[\"health\"],\"xaxis\":\"x\",\"y\":{\"dtype\":\"i2\",\"bdata\":\"ugM=\"},\"yaxis\":\"y\",\"type\":\"bar\"},{\"hovertemplate\":\"subcategory=newsoffbeat\\u003cbr\\u003ecategory=%{x}\\u003cbr\\u003evalues=%{y}\\u003cextra\\u003e\\u003c\\u002fextra\\u003e\",\"legendgroup\":\"newsoffbeat\",\"marker\":{\"color\":\"#ab63fa\",\"pattern\":{\"shape\":\"\"}},\"name\":\"newsoffbeat\",\"orientation\":\"v\",\"showlegend\":true,\"textposition\":\"auto\",\"x\":[\"news\"],\"xaxis\":\"x\",\"y\":{\"dtype\":\"i2\",\"bdata\":\"lgM=\"},\"yaxis\":\"y\",\"type\":\"bar\"},{\"hovertemplate\":\"subcategory=musicnews\\u003cbr\\u003ecategory=%{x}\\u003cbr\\u003evalues=%{y}\\u003cextra\\u003e\\u003c\\u002fextra\\u003e\",\"legendgroup\":\"musicnews\",\"marker\":{\"color\":\"#FFA15A\",\"pattern\":{\"shape\":\"\"}},\"name\":\"musicnews\",\"orientation\":\"v\",\"showlegend\":true,\"textposition\":\"auto\",\"x\":[\"music\"],\"xaxis\":\"x\",\"y\":{\"dtype\":\"i2\",\"bdata\":\"agM=\"},\"yaxis\":\"y\",\"type\":\"bar\"},{\"hovertemplate\":\"subcategory=tvnews\\u003cbr\\u003ecategory=%{x}\\u003cbr\\u003evalues=%{y}\\u003cextra\\u003e\\u003c\\u002fextra\\u003e\",\"legendgroup\":\"tvnews\",\"marker\":{\"color\":\"#19d3f3\",\"pattern\":{\"shape\":\"\"}},\"name\":\"tvnews\",\"orientation\":\"v\",\"showlegend\":true,\"textposition\":\"auto\",\"x\":[\"tv\"],\"xaxis\":\"x\",\"y\":{\"dtype\":\"i2\",\"bdata\":\"CQM=\"},\"yaxis\":\"y\",\"type\":\"bar\"},{\"hovertemplate\":\"subcategory=golf\\u003cbr\\u003ecategory=%{x}\\u003cbr\\u003evalues=%{y}\\u003cextra\\u003e\\u003c\\u002fextra\\u003e\",\"legendgroup\":\"golf\",\"marker\":{\"color\":\"#FF6692\",\"pattern\":{\"shape\":\"\"}},\"name\":\"golf\",\"orientation\":\"v\",\"showlegend\":true,\"textposition\":\"auto\",\"x\":[\"sports\"],\"xaxis\":\"x\",\"y\":{\"dtype\":\"i2\",\"bdata\":\"9wI=\"},\"yaxis\":\"y\",\"type\":\"bar\"},{\"hovertemplate\":\"subcategory=finance-companies\\u003cbr\\u003ecategory=%{x}\\u003cbr\\u003evalues=%{y}\\u003cextra\\u003e\\u003c\\u002fextra\\u003e\",\"legendgroup\":\"finance-companies\",\"marker\":{\"color\":\"#B6E880\",\"pattern\":{\"shape\":\"\"}},\"name\":\"finance-companies\",\"orientation\":\"v\",\"showlegend\":true,\"textposition\":\"auto\",\"x\":[\"finance\"],\"xaxis\":\"x\",\"y\":{\"dtype\":\"i2\",\"bdata\":\"zgI=\"},\"yaxis\":\"y\",\"type\":\"bar\"},{\"hovertemplate\":\"subcategory=racing\\u003cbr\\u003ecategory=%{x}\\u003cbr\\u003evalues=%{y}\\u003cextra\\u003e\\u003c\\u002fextra\\u003e\",\"legendgroup\":\"racing\",\"marker\":{\"color\":\"#FF97FF\",\"pattern\":{\"shape\":\"\"}},\"name\":\"racing\",\"orientation\":\"v\",\"showlegend\":true,\"textposition\":\"auto\",\"x\":[\"sports\"],\"xaxis\":\"x\",\"y\":{\"dtype\":\"i2\",\"bdata\":\"ugI=\"},\"yaxis\":\"y\",\"type\":\"bar\"},{\"hovertemplate\":\"subcategory=health-news\\u003cbr\\u003ecategory=%{x}\\u003cbr\\u003evalues=%{y}\\u003cextra\\u003e\\u003c\\u002fextra\\u003e\",\"legendgroup\":\"health-news\",\"marker\":{\"color\":\"#FECB52\",\"pattern\":{\"shape\":\"\"}},\"name\":\"health-news\",\"orientation\":\"v\",\"showlegend\":true,\"textposition\":\"auto\",\"x\":[\"health\"],\"xaxis\":\"x\",\"y\":{\"dtype\":\"i2\",\"bdata\":\"QAI=\"},\"yaxis\":\"y\",\"type\":\"bar\"},{\"hovertemplate\":\"subcategory=wellness\\u003cbr\\u003ecategory=%{x}\\u003cbr\\u003evalues=%{y}\\u003cextra\\u003e\\u003c\\u002fextra\\u003e\",\"legendgroup\":\"wellness\",\"marker\":{\"color\":\"#636efa\",\"pattern\":{\"shape\":\"\"}},\"name\":\"wellness\",\"orientation\":\"v\",\"showlegend\":true,\"textposition\":\"auto\",\"x\":[\"health\"],\"xaxis\":\"x\",\"y\":{\"dtype\":\"i2\",\"bdata\":\"PQI=\"},\"yaxis\":\"y\",\"type\":\"bar\"},{\"hovertemplate\":\"subcategory=recipes\\u003cbr\\u003ecategory=%{x}\\u003cbr\\u003evalues=%{y}\\u003cextra\\u003e\\u003c\\u002fextra\\u003e\",\"legendgroup\":\"recipes\",\"marker\":{\"color\":\"#EF553B\",\"pattern\":{\"shape\":\"\"}},\"name\":\"recipes\",\"orientation\":\"v\",\"showlegend\":true,\"textposition\":\"auto\",\"x\":[\"foodanddrink\",\"health\"],\"xaxis\":\"x\",\"y\":{\"dtype\":\"i2\",\"bdata\":\"HQICAA==\"},\"yaxis\":\"y\",\"type\":\"bar\"},{\"hovertemplate\":\"subcategory=soccer\\u003cbr\\u003ecategory=%{x}\\u003cbr\\u003evalues=%{y}\\u003cextra\\u003e\\u003c\\u002fextra\\u003e\",\"legendgroup\":\"soccer\",\"marker\":{\"color\":\"#00cc96\",\"pattern\":{\"shape\":\"\"}},\"name\":\"soccer\",\"orientation\":\"v\",\"showlegend\":true,\"textposition\":\"auto\",\"x\":[\"sports\"],\"xaxis\":\"x\",\"y\":{\"dtype\":\"i2\",\"bdata\":\"6AE=\"},\"yaxis\":\"y\",\"type\":\"bar\"},{\"hovertemplate\":\"subcategory=markets\\u003cbr\\u003ecategory=%{x}\\u003cbr\\u003evalues=%{y}\\u003cextra\\u003e\\u003c\\u002fextra\\u003e\",\"legendgroup\":\"markets\",\"marker\":{\"color\":\"#ab63fa\",\"pattern\":{\"shape\":\"\"}},\"name\":\"markets\",\"orientation\":\"v\",\"showlegend\":true,\"textposition\":\"auto\",\"x\":[\"finance\"],\"xaxis\":\"x\",\"y\":{\"dtype\":\"i2\",\"bdata\":\"zAE=\"},\"yaxis\":\"y\",\"type\":\"bar\"},{\"hovertemplate\":\"subcategory=movienews\\u003cbr\\u003ecategory=%{x}\\u003cbr\\u003evalues=%{y}\\u003cextra\\u003e\\u003c\\u002fextra\\u003e\",\"legendgroup\":\"movienews\",\"marker\":{\"color\":\"#FFA15A\",\"pattern\":{\"shape\":\"\"}},\"name\":\"movienews\",\"orientation\":\"v\",\"showlegend\":true,\"textposition\":\"auto\",\"x\":[\"movies\"],\"xaxis\":\"x\",\"y\":{\"dtype\":\"i2\",\"bdata\":\"lgE=\"},\"yaxis\":\"y\",\"type\":\"bar\"},{\"hovertemplate\":\"subcategory=autosmotorcycles\\u003cbr\\u003ecategory=%{x}\\u003cbr\\u003evalues=%{y}\\u003cextra\\u003e\\u003c\\u002fextra\\u003e\",\"legendgroup\":\"autosmotorcycles\",\"marker\":{\"color\":\"#19d3f3\",\"pattern\":{\"shape\":\"\"}},\"name\":\"autosmotorcycles\",\"orientation\":\"v\",\"showlegend\":true,\"textposition\":\"auto\",\"x\":[\"autos\"],\"xaxis\":\"x\",\"y\":{\"dtype\":\"i2\",\"bdata\":\"igE=\"},\"yaxis\":\"y\",\"type\":\"bar\"},{\"hovertemplate\":\"subcategory=tv-celebrity\\u003cbr\\u003ecategory=%{x}\\u003cbr\\u003evalues=%{y}\\u003cextra\\u003e\\u003c\\u002fextra\\u003e\",\"legendgroup\":\"tv-celebrity\",\"marker\":{\"color\":\"#FF6692\",\"pattern\":{\"shape\":\"\"}},\"name\":\"tv-celebrity\",\"orientation\":\"v\",\"showlegend\":true,\"textposition\":\"auto\",\"x\":[\"tv\"],\"xaxis\":\"x\",\"y\":{\"dtype\":\"i2\",\"bdata\":\"dwE=\"},\"yaxis\":\"y\",\"type\":\"bar\"},{\"hovertemplate\":\"subcategory=newsopinion\\u003cbr\\u003ecategory=%{x}\\u003cbr\\u003evalues=%{y}\\u003cextra\\u003e\\u003c\\u002fextra\\u003e\",\"legendgroup\":\"newsopinion\",\"marker\":{\"color\":\"#B6E880\",\"pattern\":{\"shape\":\"\"}},\"name\":\"newsopinion\",\"orientation\":\"v\",\"showlegend\":true,\"textposition\":\"auto\",\"x\":[\"news\"],\"xaxis\":\"x\",\"y\":{\"dtype\":\"i2\",\"bdata\":\"VwE=\"},\"yaxis\":\"y\",\"type\":\"bar\"},{\"hovertemplate\":\"subcategory=autosenthusiasts\\u003cbr\\u003ecategory=%{x}\\u003cbr\\u003evalues=%{y}\\u003cextra\\u003e\\u003c\\u002fextra\\u003e\",\"legendgroup\":\"autosenthusiasts\",\"marker\":{\"color\":\"#FF97FF\",\"pattern\":{\"shape\":\"\"}},\"name\":\"autosenthusiasts\",\"orientation\":\"v\",\"showlegend\":true,\"textposition\":\"auto\",\"x\":[\"autos\"],\"xaxis\":\"x\",\"y\":{\"dtype\":\"i2\",\"bdata\":\"TgE=\"},\"yaxis\":\"y\",\"type\":\"bar\"},{\"hovertemplate\":\"subcategory=animals\\u003cbr\\u003ecategory=%{x}\\u003cbr\\u003evalues=%{y}\\u003cextra\\u003e\\u003c\\u002fextra\\u003e\",\"legendgroup\":\"animals\",\"marker\":{\"color\":\"#FECB52\",\"pattern\":{\"shape\":\"\"}},\"name\":\"animals\",\"orientation\":\"v\",\"showlegend\":true,\"textposition\":\"auto\",\"x\":[\"video\",\"kids\"],\"xaxis\":\"x\",\"y\":{\"dtype\":\"i2\",\"bdata\":\"SAEKAA==\"},\"yaxis\":\"y\",\"type\":\"bar\"},{\"hovertemplate\":\"subcategory=traveltripideas\\u003cbr\\u003ecategory=%{x}\\u003cbr\\u003evalues=%{y}\\u003cextra\\u003e\\u003c\\u002fextra\\u003e\",\"legendgroup\":\"traveltripideas\",\"marker\":{\"color\":\"#636efa\",\"pattern\":{\"shape\":\"\"}},\"name\":\"traveltripideas\",\"orientation\":\"v\",\"showlegend\":true,\"textposition\":\"auto\",\"x\":[\"travel\"],\"xaxis\":\"x\",\"y\":{\"dtype\":\"i2\",\"bdata\":\"PgE=\"},\"yaxis\":\"y\",\"type\":\"bar\"},{\"hovertemplate\":\"subcategory=foodnews\\u003cbr\\u003ecategory=%{x}\\u003cbr\\u003evalues=%{y}\\u003cextra\\u003e\\u003c\\u002fextra\\u003e\",\"legendgroup\":\"foodnews\",\"marker\":{\"color\":\"#EF553B\",\"pattern\":{\"shape\":\"\"}},\"name\":\"foodnews\",\"orientation\":\"v\",\"showlegend\":true,\"textposition\":\"auto\",\"x\":[\"foodanddrink\"],\"xaxis\":\"x\",\"y\":{\"dtype\":\"i2\",\"bdata\":\"PgE=\"},\"yaxis\":\"y\",\"type\":\"bar\"},{\"hovertemplate\":\"subcategory=tipsandtricks\\u003cbr\\u003ecategory=%{x}\\u003cbr\\u003evalues=%{y}\\u003cextra\\u003e\\u003c\\u002fextra\\u003e\",\"legendgroup\":\"tipsandtricks\",\"marker\":{\"color\":\"#00cc96\",\"pattern\":{\"shape\":\"\"}},\"name\":\"tipsandtricks\",\"orientation\":\"v\",\"showlegend\":true,\"textposition\":\"auto\",\"x\":[\"foodanddrink\"],\"xaxis\":\"x\",\"y\":{\"dtype\":\"i2\",\"bdata\":\"PAE=\"},\"yaxis\":\"y\",\"type\":\"bar\"},{\"hovertemplate\":\"subcategory=finance-career-education\\u003cbr\\u003ecategory=%{x}\\u003cbr\\u003evalues=%{y}\\u003cextra\\u003e\\u003c\\u002fextra\\u003e\",\"legendgroup\":\"finance-career-education\",\"marker\":{\"color\":\"#ab63fa\",\"pattern\":{\"shape\":\"\"}},\"name\":\"finance-career-education\",\"orientation\":\"v\",\"showlegend\":true,\"textposition\":\"auto\",\"x\":[\"finance\"],\"xaxis\":\"x\",\"y\":{\"dtype\":\"i2\",\"bdata\":\"OgE=\"},\"yaxis\":\"y\",\"type\":\"bar\"},{\"hovertemplate\":\"subcategory=lifestylefamily\\u003cbr\\u003ecategory=%{x}\\u003cbr\\u003evalues=%{y}\\u003cextra\\u003e\\u003c\\u002fextra\\u003e\",\"legendgroup\":\"lifestylefamily\",\"marker\":{\"color\":\"#FFA15A\",\"pattern\":{\"shape\":\"\"}},\"name\":\"lifestylefamily\",\"orientation\":\"v\",\"showlegend\":true,\"textposition\":\"auto\",\"x\":[\"lifestyle\"],\"xaxis\":\"x\",\"y\":{\"dtype\":\"i2\",\"bdata\":\"OgE=\"},\"yaxis\":\"y\",\"type\":\"bar\"},{\"hovertemplate\":\"subcategory=nutrition\\u003cbr\\u003ecategory=%{x}\\u003cbr\\u003evalues=%{y}\\u003cextra\\u003e\\u003c\\u002fextra\\u003e\",\"legendgroup\":\"nutrition\",\"marker\":{\"color\":\"#19d3f3\",\"pattern\":{\"shape\":\"\"}},\"name\":\"nutrition\",\"orientation\":\"v\",\"showlegend\":true,\"textposition\":\"auto\",\"x\":[\"health\"],\"xaxis\":\"x\",\"y\":{\"dtype\":\"i2\",\"bdata\":\"GQE=\"},\"yaxis\":\"y\",\"type\":\"bar\"},{\"hovertemplate\":\"subcategory=lifestyleroyals\\u003cbr\\u003ecategory=%{x}\\u003cbr\\u003evalues=%{y}\\u003cextra\\u003e\\u003c\\u002fextra\\u003e\",\"legendgroup\":\"lifestyleroyals\",\"marker\":{\"color\":\"#FF6692\",\"pattern\":{\"shape\":\"\"}},\"name\":\"lifestyleroyals\",\"orientation\":\"v\",\"showlegend\":true,\"textposition\":\"auto\",\"x\":[\"lifestyle\"],\"xaxis\":\"x\",\"y\":{\"dtype\":\"i2\",\"bdata\":\"EQE=\"},\"yaxis\":\"y\",\"type\":\"bar\"},{\"hovertemplate\":\"subcategory=viral\\u003cbr\\u003ecategory=%{x}\\u003cbr\\u003evalues=%{y}\\u003cextra\\u003e\\u003c\\u002fextra\\u003e\",\"legendgroup\":\"viral\",\"marker\":{\"color\":\"#B6E880\",\"pattern\":{\"shape\":\"\"}},\"name\":\"viral\",\"orientation\":\"v\",\"showlegend\":true,\"textposition\":\"auto\",\"x\":[\"video\"],\"xaxis\":\"x\",\"y\":{\"dtype\":\"i2\",\"bdata\":\"DQE=\"},\"yaxis\":\"y\",\"type\":\"bar\"},{\"hovertemplate\":\"subcategory=gaming\\u003cbr\\u003ecategory=%{x}\\u003cbr\\u003evalues=%{y}\\u003cextra\\u003e\\u003c\\u002fextra\\u003e\",\"legendgroup\":\"gaming\",\"marker\":{\"color\":\"#FF97FF\",\"pattern\":{\"shape\":\"\"}},\"name\":\"gaming\",\"orientation\":\"v\",\"showlegend\":true,\"textposition\":\"auto\",\"x\":[\"entertainment\"],\"xaxis\":\"x\",\"y\":{\"dtype\":\"i2\",\"bdata\":\"AAE=\"},\"yaxis\":\"y\",\"type\":\"bar\"},{\"hovertemplate\":\"subcategory=tennis\\u003cbr\\u003ecategory=%{x}\\u003cbr\\u003evalues=%{y}\\u003cextra\\u003e\\u003c\\u002fextra\\u003e\",\"legendgroup\":\"tennis\",\"marker\":{\"color\":\"#FECB52\",\"pattern\":{\"shape\":\"\"}},\"name\":\"tennis\",\"orientation\":\"v\",\"showlegend\":true,\"textposition\":\"auto\",\"x\":[\"sports\"],\"xaxis\":\"x\",\"y\":{\"dtype\":\"i2\",\"bdata\":\"\\u002fwA=\"},\"yaxis\":\"y\",\"type\":\"bar\"},{\"hovertemplate\":\"subcategory=lifestylehomeandgarden\\u003cbr\\u003ecategory=%{x}\\u003cbr\\u003evalues=%{y}\\u003cextra\\u003e\\u003c\\u002fextra\\u003e\",\"legendgroup\":\"lifestylehomeandgarden\",\"marker\":{\"color\":\"#636efa\",\"pattern\":{\"shape\":\"\"}},\"name\":\"lifestylehomeandgarden\",\"orientation\":\"v\",\"showlegend\":true,\"textposition\":\"auto\",\"x\":[\"lifestyle\"],\"xaxis\":\"x\",\"y\":{\"dtype\":\"i2\",\"bdata\":\"7wA=\"},\"yaxis\":\"y\",\"type\":\"bar\"},{\"hovertemplate\":\"subcategory=music-celebrity\\u003cbr\\u003ecategory=%{x}\\u003cbr\\u003evalues=%{y}\\u003cextra\\u003e\\u003c\\u002fextra\\u003e\",\"legendgroup\":\"music-celebrity\",\"marker\":{\"color\":\"#EF553B\",\"pattern\":{\"shape\":\"\"}},\"name\":\"music-celebrity\",\"orientation\":\"v\",\"showlegend\":true,\"textposition\":\"auto\",\"x\":[\"music\"],\"xaxis\":\"x\",\"y\":{\"dtype\":\"i2\",\"bdata\":\"4QA=\"},\"yaxis\":\"y\",\"type\":\"bar\"},{\"hovertemplate\":\"subcategory=movies-celebrity\\u003cbr\\u003ecategory=%{x}\\u003cbr\\u003evalues=%{y}\\u003cextra\\u003e\\u003c\\u002fextra\\u003e\",\"legendgroup\":\"movies-celebrity\",\"marker\":{\"color\":\"#00cc96\",\"pattern\":{\"shape\":\"\"}},\"name\":\"movies-celebrity\",\"orientation\":\"v\",\"showlegend\":true,\"textposition\":\"auto\",\"x\":[\"movies\"],\"xaxis\":\"x\",\"y\":{\"dtype\":\"i2\",\"bdata\":\"4AA=\"},\"yaxis\":\"y\",\"type\":\"bar\"},{\"hovertemplate\":\"subcategory=football_nfl_videos\\u003cbr\\u003ecategory=%{x}\\u003cbr\\u003evalues=%{y}\\u003cextra\\u003e\\u003c\\u002fextra\\u003e\",\"legendgroup\":\"football_nfl_videos\",\"marker\":{\"color\":\"#ab63fa\",\"pattern\":{\"shape\":\"\"}},\"name\":\"football_nfl_videos\",\"orientation\":\"v\",\"showlegend\":true,\"textposition\":\"auto\",\"x\":[\"sports\"],\"xaxis\":\"x\",\"y\":{\"dtype\":\"i2\",\"bdata\":\"2wA=\"},\"yaxis\":\"y\",\"type\":\"bar\"},{\"hovertemplate\":\"subcategory=finance-top-stocks\\u003cbr\\u003ecategory=%{x}\\u003cbr\\u003evalues=%{y}\\u003cextra\\u003e\\u003c\\u002fextra\\u003e\",\"legendgroup\":\"finance-top-stocks\",\"marker\":{\"color\":\"#FFA15A\",\"pattern\":{\"shape\":\"\"}},\"name\":\"finance-top-stocks\",\"orientation\":\"v\",\"showlegend\":true,\"textposition\":\"auto\",\"x\":[\"finance\"],\"xaxis\":\"x\",\"y\":{\"dtype\":\"i2\",\"bdata\":\"1gA=\"},\"yaxis\":\"y\",\"type\":\"bar\"},{\"hovertemplate\":\"subcategory=autosclassics\\u003cbr\\u003ecategory=%{x}\\u003cbr\\u003evalues=%{y}\\u003cextra\\u003e\\u003c\\u002fextra\\u003e\",\"legendgroup\":\"autosclassics\",\"marker\":{\"color\":\"#19d3f3\",\"pattern\":{\"shape\":\"\"}},\"name\":\"autosclassics\",\"orientation\":\"v\",\"showlegend\":true,\"textposition\":\"auto\",\"x\":[\"autos\"],\"xaxis\":\"x\",\"y\":{\"dtype\":\"i2\",\"bdata\":\"0wA=\"},\"yaxis\":\"y\",\"type\":\"bar\"},{\"hovertemplate\":\"subcategory=restaurantsandnews\\u003cbr\\u003ecategory=%{x}\\u003cbr\\u003evalues=%{y}\\u003cextra\\u003e\\u003c\\u002fextra\\u003e\",\"legendgroup\":\"restaurantsandnews\",\"marker\":{\"color\":\"#FF6692\",\"pattern\":{\"shape\":\"\"}},\"name\":\"restaurantsandnews\",\"orientation\":\"v\",\"showlegend\":true,\"textposition\":\"auto\",\"x\":[\"foodanddrink\"],\"xaxis\":\"x\",\"y\":{\"dtype\":\"i2\",\"bdata\":\"yAA=\"},\"yaxis\":\"y\",\"type\":\"bar\"},{\"hovertemplate\":\"subcategory=newsgoodnews\\u003cbr\\u003ecategory=%{x}\\u003cbr\\u003evalues=%{y}\\u003cextra\\u003e\\u003c\\u002fextra\\u003e\",\"legendgroup\":\"newsgoodnews\",\"marker\":{\"color\":\"#B6E880\",\"pattern\":{\"shape\":\"\"}},\"name\":\"newsgoodnews\",\"orientation\":\"v\",\"showlegend\":true,\"textposition\":\"auto\",\"x\":[\"news\"],\"xaxis\":\"x\",\"y\":{\"dtype\":\"i2\",\"bdata\":\"vgA=\"},\"yaxis\":\"y\",\"type\":\"bar\"},{\"hovertemplate\":\"subcategory=lifestylepets\\u003cbr\\u003ecategory=%{x}\\u003cbr\\u003evalues=%{y}\\u003cextra\\u003e\\u003c\\u002fextra\\u003e\",\"legendgroup\":\"lifestylepets\",\"marker\":{\"color\":\"#FF97FF\",\"pattern\":{\"shape\":\"\"}},\"name\":\"lifestylepets\",\"orientation\":\"v\",\"showlegend\":true,\"textposition\":\"auto\",\"x\":[\"lifestyle\"],\"xaxis\":\"x\",\"y\":{\"dtype\":\"i2\",\"bdata\":\"tgA=\"},\"yaxis\":\"y\",\"type\":\"bar\"},{\"hovertemplate\":\"subcategory=fitness\\u003cbr\\u003ecategory=%{x}\\u003cbr\\u003evalues=%{y}\\u003cextra\\u003e\\u003c\\u002fextra\\u003e\",\"legendgroup\":\"fitness\",\"marker\":{\"color\":\"#FECB52\",\"pattern\":{\"shape\":\"\"}},\"name\":\"fitness\",\"orientation\":\"v\",\"showlegend\":true,\"textposition\":\"auto\",\"x\":[\"health\"],\"xaxis\":\"x\",\"y\":{\"dtype\":\"i2\",\"bdata\":\"qwA=\"},\"yaxis\":\"y\",\"type\":\"bar\"},{\"hovertemplate\":\"subcategory=lifestyle\\u003cbr\\u003ecategory=%{x}\\u003cbr\\u003evalues=%{y}\\u003cextra\\u003e\\u003c\\u002fextra\\u003e\",\"legendgroup\":\"lifestyle\",\"marker\":{\"color\":\"#636efa\",\"pattern\":{\"shape\":\"\"}},\"name\":\"lifestyle\",\"orientation\":\"v\",\"showlegend\":true,\"textposition\":\"auto\",\"x\":[\"video\",\"lifestyle\"],\"xaxis\":\"x\",\"y\":{\"dtype\":\"i2\",\"bdata\":\"qgABAA==\"},\"yaxis\":\"y\",\"type\":\"bar\"},{\"hovertemplate\":\"subcategory=weightloss\\u003cbr\\u003ecategory=%{x}\\u003cbr\\u003evalues=%{y}\\u003cextra\\u003e\\u003c\\u002fextra\\u003e\",\"legendgroup\":\"weightloss\",\"marker\":{\"color\":\"#EF553B\",\"pattern\":{\"shape\":\"\"}},\"name\":\"weightloss\",\"orientation\":\"v\",\"showlegend\":true,\"textposition\":\"auto\",\"x\":[\"health\"],\"xaxis\":\"x\",\"y\":{\"dtype\":\"i2\",\"bdata\":\"qAA=\"},\"yaxis\":\"y\",\"type\":\"bar\"},{\"hovertemplate\":\"subcategory=entertainment-celebrity\\u003cbr\\u003ecategory=%{x}\\u003cbr\\u003evalues=%{y}\\u003cextra\\u003e\\u003c\\u002fextra\\u003e\",\"legendgroup\":\"entertainment-celebrity\",\"marker\":{\"color\":\"#00cc96\",\"pattern\":{\"shape\":\"\"}},\"name\":\"entertainment-celebrity\",\"orientation\":\"v\",\"showlegend\":true,\"textposition\":\"auto\",\"x\":[\"entertainment\"],\"xaxis\":\"x\",\"y\":{\"dtype\":\"i2\",\"bdata\":\"qAA=\"},\"yaxis\":\"y\",\"type\":\"bar\"},{\"hovertemplate\":\"subcategory=finance-video\\u003cbr\\u003ecategory=%{x}\\u003cbr\\u003evalues=%{y}\\u003cextra\\u003e\\u003c\\u002fextra\\u003e\",\"legendgroup\":\"finance-video\",\"marker\":{\"color\":\"#ab63fa\",\"pattern\":{\"shape\":\"\"}},\"name\":\"finance-video\",\"orientation\":\"v\",\"showlegend\":true,\"textposition\":\"auto\",\"x\":[\"finance\"],\"xaxis\":\"x\",\"y\":{\"dtype\":\"i2\",\"bdata\":\"pgA=\"},\"yaxis\":\"y\",\"type\":\"bar\"},{\"hovertemplate\":\"subcategory=science\\u003cbr\\u003ecategory=%{x}\\u003cbr\\u003evalues=%{y}\\u003cextra\\u003e\\u003c\\u002fextra\\u003e\",\"legendgroup\":\"science\",\"marker\":{\"color\":\"#FFA15A\",\"pattern\":{\"shape\":\"\"}},\"name\":\"science\",\"orientation\":\"v\",\"showlegend\":true,\"textposition\":\"auto\",\"x\":[\"video\",\"kids\"],\"xaxis\":\"x\",\"y\":{\"dtype\":\"i2\",\"bdata\":\"owATAA==\"},\"yaxis\":\"y\",\"type\":\"bar\"},{\"hovertemplate\":\"subcategory=celebrity\\u003cbr\\u003ecategory=%{x}\\u003cbr\\u003evalues=%{y}\\u003cextra\\u003e\\u003c\\u002fextra\\u003e\",\"legendgroup\":\"celebrity\",\"marker\":{\"color\":\"#19d3f3\",\"pattern\":{\"shape\":\"\"}},\"name\":\"celebrity\",\"orientation\":\"v\",\"showlegend\":true,\"textposition\":\"auto\",\"x\":[\"entertainment\"],\"xaxis\":\"x\",\"y\":{\"dtype\":\"i2\",\"bdata\":\"lwA=\"},\"yaxis\":\"y\",\"type\":\"bar\"},{\"hovertemplate\":\"subcategory=peopleandplaces\\u003cbr\\u003ecategory=%{x}\\u003cbr\\u003evalues=%{y}\\u003cextra\\u003e\\u003c\\u002fextra\\u003e\",\"legendgroup\":\"peopleandplaces\",\"marker\":{\"color\":\"#FF6692\",\"pattern\":{\"shape\":\"\"}},\"name\":\"peopleandplaces\",\"orientation\":\"v\",\"showlegend\":true,\"textposition\":\"auto\",\"x\":[\"video\"],\"xaxis\":\"x\",\"y\":{\"dtype\":\"i2\",\"bdata\":\"lgA=\"},\"yaxis\":\"y\",\"type\":\"bar\"},{\"hovertemplate\":\"subcategory=entertainment-books\\u003cbr\\u003ecategory=%{x}\\u003cbr\\u003evalues=%{y}\\u003cextra\\u003e\\u003c\\u002fextra\\u003e\",\"legendgroup\":\"entertainment-books\",\"marker\":{\"color\":\"#B6E880\",\"pattern\":{\"shape\":\"\"}},\"name\":\"entertainment-books\",\"orientation\":\"v\",\"showlegend\":true,\"textposition\":\"auto\",\"x\":[\"entertainment\"],\"xaxis\":\"x\",\"y\":{\"dtype\":\"i2\",\"bdata\":\"kwA=\"},\"yaxis\":\"y\",\"type\":\"bar\"},{\"hovertemplate\":\"subcategory=personalfinance\\u003cbr\\u003ecategory=%{x}\\u003cbr\\u003evalues=%{y}\\u003cextra\\u003e\\u003c\\u002fextra\\u003e\",\"legendgroup\":\"personalfinance\",\"marker\":{\"color\":\"#FF97FF\",\"pattern\":{\"shape\":\"\"}},\"name\":\"personalfinance\",\"orientation\":\"v\",\"showlegend\":true,\"textposition\":\"auto\",\"x\":[\"finance\",\"news\"],\"xaxis\":\"x\",\"y\":{\"dtype\":\"i2\",\"bdata\":\"iwACAA==\"},\"yaxis\":\"y\",\"type\":\"bar\"},{\"hovertemplate\":\"subcategory=newsbusiness\\u003cbr\\u003ecategory=%{x}\\u003cbr\\u003evalues=%{y}\\u003cextra\\u003e\\u003c\\u002fextra\\u003e\",\"legendgroup\":\"newsbusiness\",\"marker\":{\"color\":\"#FECB52\",\"pattern\":{\"shape\":\"\"}},\"name\":\"newsbusiness\",\"orientation\":\"v\",\"showlegend\":true,\"textposition\":\"auto\",\"x\":[\"news\"],\"xaxis\":\"x\",\"y\":{\"dtype\":\"i2\",\"bdata\":\"igA=\"},\"yaxis\":\"y\",\"type\":\"bar\"},{\"hovertemplate\":\"subcategory=elections-2020-us\\u003cbr\\u003ecategory=%{x}\\u003cbr\\u003evalues=%{y}\\u003cextra\\u003e\\u003c\\u002fextra\\u003e\",\"legendgroup\":\"elections-2020-us\",\"marker\":{\"color\":\"#636efa\",\"pattern\":{\"shape\":\"\"}},\"name\":\"elections-2020-us\",\"orientation\":\"v\",\"showlegend\":true,\"textposition\":\"auto\",\"x\":[\"news\"],\"xaxis\":\"x\",\"y\":{\"dtype\":\"i2\",\"bdata\":\"hwA=\"},\"yaxis\":\"y\",\"type\":\"bar\"},{\"hovertemplate\":\"subcategory=lifestyledidyouknow\\u003cbr\\u003ecategory=%{x}\\u003cbr\\u003evalues=%{y}\\u003cextra\\u003e\\u003c\\u002fextra\\u003e\",\"legendgroup\":\"lifestyledidyouknow\",\"marker\":{\"color\":\"#EF553B\",\"pattern\":{\"shape\":\"\"}},\"name\":\"lifestyledidyouknow\",\"orientation\":\"v\",\"showlegend\":true,\"textposition\":\"auto\",\"x\":[\"lifestyle\"],\"xaxis\":\"x\",\"y\":{\"dtype\":\"i2\",\"bdata\":\"gAA=\"},\"yaxis\":\"y\",\"type\":\"bar\"},{\"hovertemplate\":\"subcategory=lifestylehoroscope\\u003cbr\\u003ecategory=%{x}\\u003cbr\\u003evalues=%{y}\\u003cextra\\u003e\\u003c\\u002fextra\\u003e\",\"legendgroup\":\"lifestylehoroscope\",\"marker\":{\"color\":\"#00cc96\",\"pattern\":{\"shape\":\"\"}},\"name\":\"lifestylehoroscope\",\"orientation\":\"v\",\"showlegend\":true,\"textposition\":\"auto\",\"x\":[\"lifestyle\"],\"xaxis\":\"x\",\"y\":{\"dtype\":\"i1\",\"bdata\":\"fg==\"},\"yaxis\":\"y\",\"type\":\"bar\"},{\"hovertemplate\":\"subcategory=lifestylesmartliving\\u003cbr\\u003ecategory=%{x}\\u003cbr\\u003evalues=%{y}\\u003cextra\\u003e\\u003c\\u002fextra\\u003e\",\"legendgroup\":\"lifestylesmartliving\",\"marker\":{\"color\":\"#ab63fa\",\"pattern\":{\"shape\":\"\"}},\"name\":\"lifestylesmartliving\",\"orientation\":\"v\",\"showlegend\":true,\"textposition\":\"auto\",\"x\":[\"lifestyle\"],\"xaxis\":\"x\",\"y\":{\"dtype\":\"i1\",\"bdata\":\"fQ==\"},\"yaxis\":\"y\",\"type\":\"bar\"},{\"hovertemplate\":\"subcategory=lifestylepetsanimals\\u003cbr\\u003ecategory=%{x}\\u003cbr\\u003evalues=%{y}\\u003cextra\\u003e\\u003c\\u002fextra\\u003e\",\"legendgroup\":\"lifestylepetsanimals\",\"marker\":{\"color\":\"#FFA15A\",\"pattern\":{\"shape\":\"\"}},\"name\":\"lifestylepetsanimals\",\"orientation\":\"v\",\"showlegend\":true,\"textposition\":\"auto\",\"x\":[\"lifestyle\"],\"xaxis\":\"x\",\"y\":{\"dtype\":\"i1\",\"bdata\":\"eg==\"},\"yaxis\":\"y\",\"type\":\"bar\"},{\"hovertemplate\":\"subcategory=popculture\\u003cbr\\u003ecategory=%{x}\\u003cbr\\u003evalues=%{y}\\u003cextra\\u003e\\u003c\\u002fextra\\u003e\",\"legendgroup\":\"popculture\",\"marker\":{\"color\":\"#19d3f3\",\"pattern\":{\"shape\":\"\"}},\"name\":\"popculture\",\"orientation\":\"v\",\"showlegend\":true,\"textposition\":\"auto\",\"x\":[\"video\"],\"xaxis\":\"x\",\"y\":{\"dtype\":\"i1\",\"bdata\":\"eg==\"},\"yaxis\":\"y\",\"type\":\"bar\"},{\"hovertemplate\":\"subcategory=videos\\u003cbr\\u003ecategory=%{x}\\u003cbr\\u003evalues=%{y}\\u003cextra\\u003e\\u003c\\u002fextra\\u003e\",\"legendgroup\":\"videos\",\"marker\":{\"color\":\"#FF6692\",\"pattern\":{\"shape\":\"\"}},\"name\":\"videos\",\"orientation\":\"v\",\"showlegend\":true,\"textposition\":\"auto\",\"x\":[\"foodanddrink\"],\"xaxis\":\"x\",\"y\":{\"dtype\":\"i1\",\"bdata\":\"eg==\"},\"yaxis\":\"y\",\"type\":\"bar\"},{\"hovertemplate\":\"subcategory=finance-saving-investing\\u003cbr\\u003ecategory=%{x}\\u003cbr\\u003evalues=%{y}\\u003cextra\\u003e\\u003c\\u002fextra\\u003e\",\"legendgroup\":\"finance-saving-investing\",\"marker\":{\"color\":\"#B6E880\",\"pattern\":{\"shape\":\"\"}},\"name\":\"finance-saving-investing\",\"orientation\":\"v\",\"showlegend\":true,\"textposition\":\"auto\",\"x\":[\"finance\"],\"xaxis\":\"x\",\"y\":{\"dtype\":\"i1\",\"bdata\":\"cQ==\"},\"yaxis\":\"y\",\"type\":\"bar\"},{\"hovertemplate\":\"subcategory=shop-holidays\\u003cbr\\u003ecategory=%{x}\\u003cbr\\u003evalues=%{y}\\u003cextra\\u003e\\u003c\\u002fextra\\u003e\",\"legendgroup\":\"shop-holidays\",\"marker\":{\"color\":\"#FF97FF\",\"pattern\":{\"shape\":\"\"}},\"name\":\"shop-holidays\",\"orientation\":\"v\",\"showlegend\":true,\"textposition\":\"auto\",\"x\":[\"lifestyle\"],\"xaxis\":\"x\",\"y\":{\"dtype\":\"i1\",\"bdata\":\"bw==\"},\"yaxis\":\"y\",\"type\":\"bar\"},{\"hovertemplate\":\"subcategory=voices\\u003cbr\\u003ecategory=%{x}\\u003cbr\\u003evalues=%{y}\\u003cextra\\u003e\\u003c\\u002fextra\\u003e\",\"legendgroup\":\"voices\",\"marker\":{\"color\":\"#FECB52\",\"pattern\":{\"shape\":\"\"}},\"name\":\"voices\",\"orientation\":\"v\",\"showlegend\":true,\"textposition\":\"auto\",\"x\":[\"lifestyle\",\"health\",\"travel\"],\"xaxis\":\"x\",\"y\":{\"dtype\":\"i1\",\"bdata\":\"bkkI\"},\"yaxis\":\"y\",\"type\":\"bar\"},{\"hovertemplate\":\"subcategory=finance-retirement\\u003cbr\\u003ecategory=%{x}\\u003cbr\\u003evalues=%{y}\\u003cextra\\u003e\\u003c\\u002fextra\\u003e\",\"legendgroup\":\"finance-retirement\",\"marker\":{\"color\":\"#636efa\",\"pattern\":{\"shape\":\"\"}},\"name\":\"finance-retirement\",\"orientation\":\"v\",\"showlegend\":true,\"textposition\":\"auto\",\"x\":[\"finance\"],\"xaxis\":\"x\",\"y\":{\"dtype\":\"i1\",\"bdata\":\"Zw==\"},\"yaxis\":\"y\",\"type\":\"bar\"},{\"hovertemplate\":\"subcategory=beverages\\u003cbr\\u003ecategory=%{x}\\u003cbr\\u003evalues=%{y}\\u003cextra\\u003e\\u003c\\u002fextra\\u003e\",\"legendgroup\":\"beverages\",\"marker\":{\"color\":\"#EF553B\",\"pattern\":{\"shape\":\"\"}},\"name\":\"beverages\",\"orientation\":\"v\",\"showlegend\":true,\"textposition\":\"auto\",\"x\":[\"foodanddrink\"],\"xaxis\":\"x\",\"y\":{\"dtype\":\"i1\",\"bdata\":\"ZA==\"},\"yaxis\":\"y\",\"type\":\"bar\"},{\"hovertemplate\":\"subcategory=outdoors\\u003cbr\\u003ecategory=%{x}\\u003cbr\\u003evalues=%{y}\\u003cextra\\u003e\\u003c\\u002fextra\\u003e\",\"legendgroup\":\"outdoors\",\"marker\":{\"color\":\"#00cc96\",\"pattern\":{\"shape\":\"\"}},\"name\":\"outdoors\",\"orientation\":\"v\",\"showlegend\":true,\"textposition\":\"auto\",\"x\":[\"sports\"],\"xaxis\":\"x\",\"y\":{\"dtype\":\"i1\",\"bdata\":\"Xg==\"},\"yaxis\":\"y\",\"type\":\"bar\"},{\"hovertemplate\":\"subcategory=finance-savemoney\\u003cbr\\u003ecategory=%{x}\\u003cbr\\u003evalues=%{y}\\u003cextra\\u003e\\u003c\\u002fextra\\u003e\",\"legendgroup\":\"finance-savemoney\",\"marker\":{\"color\":\"#ab63fa\",\"pattern\":{\"shape\":\"\"}},\"name\":\"finance-savemoney\",\"orientation\":\"v\",\"showlegend\":true,\"textposition\":\"auto\",\"x\":[\"finance\"],\"xaxis\":\"x\",\"y\":{\"dtype\":\"i1\",\"bdata\":\"XQ==\"},\"yaxis\":\"y\",\"type\":\"bar\"},{\"hovertemplate\":\"subcategory=lifestylerelationships\\u003cbr\\u003ecategory=%{x}\\u003cbr\\u003evalues=%{y}\\u003cextra\\u003e\\u003c\\u002fextra\\u003e\",\"legendgroup\":\"lifestylerelationships\",\"marker\":{\"color\":\"#FFA15A\",\"pattern\":{\"shape\":\"\"}},\"name\":\"lifestylerelationships\",\"orientation\":\"v\",\"showlegend\":true,\"textposition\":\"auto\",\"x\":[\"lifestyle\"],\"xaxis\":\"x\",\"y\":{\"dtype\":\"i1\",\"bdata\":\"Ww==\"},\"yaxis\":\"y\",\"type\":\"bar\"},{\"hovertemplate\":\"subcategory=finance-small-business\\u003cbr\\u003ecategory=%{x}\\u003cbr\\u003evalues=%{y}\\u003cextra\\u003e\\u003c\\u002fextra\\u003e\",\"legendgroup\":\"finance-small-business\",\"marker\":{\"color\":\"#19d3f3\",\"pattern\":{\"shape\":\"\"}},\"name\":\"finance-small-business\",\"orientation\":\"v\",\"showlegend\":true,\"textposition\":\"auto\",\"x\":[\"finance\"],\"xaxis\":\"x\",\"y\":{\"dtype\":\"i1\",\"bdata\":\"WQ==\"},\"yaxis\":\"y\",\"type\":\"bar\"},{\"hovertemplate\":\"subcategory=movievideo\\u003cbr\\u003ecategory=%{x}\\u003cbr\\u003evalues=%{y}\\u003cextra\\u003e\\u003c\\u002fextra\\u003e\",\"legendgroup\":\"movievideo\",\"marker\":{\"color\":\"#FF6692\",\"pattern\":{\"shape\":\"\"}},\"name\":\"movievideo\",\"orientation\":\"v\",\"showlegend\":true,\"textposition\":\"auto\",\"x\":[\"movies\"],\"xaxis\":\"x\",\"y\":{\"dtype\":\"i1\",\"bdata\":\"WQ==\"},\"yaxis\":\"y\",\"type\":\"bar\"},{\"hovertemplate\":\"subcategory=soccer_mls\\u003cbr\\u003ecategory=%{x}\\u003cbr\\u003evalues=%{y}\\u003cextra\\u003e\\u003c\\u002fextra\\u003e\",\"legendgroup\":\"soccer_mls\",\"marker\":{\"color\":\"#B6E880\",\"pattern\":{\"shape\":\"\"}},\"name\":\"soccer_mls\",\"orientation\":\"v\",\"showlegend\":true,\"textposition\":\"auto\",\"x\":[\"sports\"],\"xaxis\":\"x\",\"y\":{\"dtype\":\"i1\",\"bdata\":\"WA==\"},\"yaxis\":\"y\",\"type\":\"bar\"},{\"hovertemplate\":\"subcategory=traveltips\\u003cbr\\u003ecategory=%{x}\\u003cbr\\u003evalues=%{y}\\u003cextra\\u003e\\u003c\\u002fextra\\u003e\",\"legendgroup\":\"traveltips\",\"marker\":{\"color\":\"#FF97FF\",\"pattern\":{\"shape\":\"\"}},\"name\":\"traveltips\",\"orientation\":\"v\",\"showlegend\":true,\"textposition\":\"auto\",\"x\":[\"travel\"],\"xaxis\":\"x\",\"y\":{\"dtype\":\"i1\",\"bdata\":\"Vg==\"},\"yaxis\":\"y\",\"type\":\"bar\"},{\"hovertemplate\":\"subcategory=tv-gallery\\u003cbr\\u003ecategory=%{x}\\u003cbr\\u003evalues=%{y}\\u003cextra\\u003e\\u003c\\u002fextra\\u003e\",\"legendgroup\":\"tv-gallery\",\"marker\":{\"color\":\"#FECB52\",\"pattern\":{\"shape\":\"\"}},\"name\":\"tv-gallery\",\"orientation\":\"v\",\"showlegend\":true,\"textposition\":\"auto\",\"x\":[\"tv\"],\"xaxis\":\"x\",\"y\":{\"dtype\":\"i1\",\"bdata\":\"Uw==\"},\"yaxis\":\"y\",\"type\":\"bar\"},{\"hovertemplate\":\"subcategory=autossports\\u003cbr\\u003ecategory=%{x}\\u003cbr\\u003evalues=%{y}\\u003cextra\\u003e\\u003c\\u002fextra\\u003e\",\"legendgroup\":\"autossports\",\"marker\":{\"color\":\"#636efa\",\"pattern\":{\"shape\":\"\"}},\"name\":\"autossports\",\"orientation\":\"v\",\"showlegend\":true,\"textposition\":\"auto\",\"x\":[\"autos\"],\"xaxis\":\"x\",\"y\":{\"dtype\":\"i1\",\"bdata\":\"UA==\"},\"yaxis\":\"y\",\"type\":\"bar\"},{\"hovertemplate\":\"subcategory=autossuvs\\u003cbr\\u003ecategory=%{x}\\u003cbr\\u003evalues=%{y}\\u003cextra\\u003e\\u003c\\u002fextra\\u003e\",\"legendgroup\":\"autossuvs\",\"marker\":{\"color\":\"#EF553B\",\"pattern\":{\"shape\":\"\"}},\"name\":\"autossuvs\",\"orientation\":\"v\",\"showlegend\":true,\"textposition\":\"auto\",\"x\":[\"autos\"],\"xaxis\":\"x\",\"y\":{\"dtype\":\"i1\",\"bdata\":\"Tw==\"},\"yaxis\":\"y\",\"type\":\"bar\"},{\"hovertemplate\":\"subcategory=lifestylemindandsoul\\u003cbr\\u003ecategory=%{x}\\u003cbr\\u003evalues=%{y}\\u003cextra\\u003e\\u003c\\u002fextra\\u003e\",\"legendgroup\":\"lifestylemindandsoul\",\"marker\":{\"color\":\"#00cc96\",\"pattern\":{\"shape\":\"\"}},\"name\":\"lifestylemindandsoul\",\"orientation\":\"v\",\"showlegend\":true,\"textposition\":\"auto\",\"x\":[\"lifestyle\"],\"xaxis\":\"x\",\"y\":{\"dtype\":\"i1\",\"bdata\":\"Sg==\"},\"yaxis\":\"y\",\"type\":\"bar\"},{\"hovertemplate\":\"subcategory=movies-gallery\\u003cbr\\u003ecategory=%{x}\\u003cbr\\u003evalues=%{y}\\u003cextra\\u003e\\u003c\\u002fextra\\u003e\",\"legendgroup\":\"movies-gallery\",\"marker\":{\"color\":\"#ab63fa\",\"pattern\":{\"shape\":\"\"}},\"name\":\"movies-gallery\",\"orientation\":\"v\",\"showlegend\":true,\"textposition\":\"auto\",\"x\":[\"movies\"],\"xaxis\":\"x\",\"y\":{\"dtype\":\"i1\",\"bdata\":\"SA==\"},\"yaxis\":\"y\",\"type\":\"bar\"},{\"hovertemplate\":\"subcategory=lifestylecelebstyle\\u003cbr\\u003ecategory=%{x}\\u003cbr\\u003evalues=%{y}\\u003cextra\\u003e\\u003c\\u002fextra\\u003e\",\"legendgroup\":\"lifestylecelebstyle\",\"marker\":{\"color\":\"#FFA15A\",\"pattern\":{\"shape\":\"\"}},\"name\":\"lifestylecelebstyle\",\"orientation\":\"v\",\"showlegend\":true,\"textposition\":\"auto\",\"x\":[\"lifestyle\"],\"xaxis\":\"x\",\"y\":{\"dtype\":\"i1\",\"bdata\":\"Rw==\"},\"yaxis\":\"y\",\"type\":\"bar\"},{\"hovertemplate\":\"subcategory=lifestylecareer\\u003cbr\\u003ecategory=%{x}\\u003cbr\\u003evalues=%{y}\\u003cextra\\u003e\\u003c\\u002fextra\\u003e\",\"legendgroup\":\"lifestylecareer\",\"marker\":{\"color\":\"#19d3f3\",\"pattern\":{\"shape\":\"\"}},\"name\":\"lifestylecareer\",\"orientation\":\"v\",\"showlegend\":true,\"textposition\":\"auto\",\"x\":[\"lifestyle\"],\"xaxis\":\"x\",\"y\":{\"dtype\":\"i1\",\"bdata\":\"Rw==\"},\"yaxis\":\"y\",\"type\":\"bar\"},{\"hovertemplate\":\"subcategory=video\\u003cbr\\u003ecategory=%{x}\\u003cbr\\u003evalues=%{y}\\u003cextra\\u003e\\u003c\\u002fextra\\u003e\",\"legendgroup\":\"video\",\"marker\":{\"color\":\"#FF6692\",\"pattern\":{\"shape\":\"\"}},\"name\":\"video\",\"orientation\":\"v\",\"showlegend\":true,\"textposition\":\"auto\",\"x\":[\"travel\",\"entertainment\",\"kids\",\"health\"],\"xaxis\":\"x\",\"y\":{\"dtype\":\"i1\",\"bdata\":\"Qh8YEA==\"},\"yaxis\":\"y\",\"type\":\"bar\"},{\"hovertemplate\":\"subcategory=lifestyleparenting\\u003cbr\\u003ecategory=%{x}\\u003cbr\\u003evalues=%{y}\\u003cextra\\u003e\\u003c\\u002fextra\\u003e\",\"legendgroup\":\"lifestyleparenting\",\"marker\":{\"color\":\"#B6E880\",\"pattern\":{\"shape\":\"\"}},\"name\":\"lifestyleparenting\",\"orientation\":\"v\",\"showlegend\":true,\"textposition\":\"auto\",\"x\":[\"lifestyle\"],\"xaxis\":\"x\",\"y\":{\"dtype\":\"i1\",\"bdata\":\"QA==\"},\"yaxis\":\"y\",\"type\":\"bar\"},{\"hovertemplate\":\"subcategory=lifestylebeauty\\u003cbr\\u003ecategory=%{x}\\u003cbr\\u003evalues=%{y}\\u003cextra\\u003e\\u003c\\u002fextra\\u003e\",\"legendgroup\":\"lifestylebeauty\",\"marker\":{\"color\":\"#FF97FF\",\"pattern\":{\"shape\":\"\"}},\"name\":\"lifestylebeauty\",\"orientation\":\"v\",\"showlegend\":true,\"textposition\":\"auto\",\"x\":[\"lifestyle\"],\"xaxis\":\"x\",\"y\":{\"dtype\":\"i1\",\"bdata\":\"Pg==\"},\"yaxis\":\"y\",\"type\":\"bar\"},{\"hovertemplate\":\"subcategory=finance-taxes\\u003cbr\\u003ecategory=%{x}\\u003cbr\\u003evalues=%{y}\\u003cextra\\u003e\\u003c\\u002fextra\\u003e\",\"legendgroup\":\"finance-taxes\",\"marker\":{\"color\":\"#FECB52\",\"pattern\":{\"shape\":\"\"}},\"name\":\"finance-taxes\",\"orientation\":\"v\",\"showlegend\":true,\"textposition\":\"auto\",\"x\":[\"finance\"],\"xaxis\":\"x\",\"y\":{\"dtype\":\"i1\",\"bdata\":\"PA==\"},\"yaxis\":\"y\",\"type\":\"bar\"},{\"hovertemplate\":\"subcategory=soccer_epl\\u003cbr\\u003ecategory=%{x}\\u003cbr\\u003evalues=%{y}\\u003cextra\\u003e\\u003c\\u002fextra\\u003e\",\"legendgroup\":\"soccer_epl\",\"marker\":{\"color\":\"#636efa\",\"pattern\":{\"shape\":\"\"}},\"name\":\"soccer_epl\",\"orientation\":\"v\",\"showlegend\":true,\"textposition\":\"auto\",\"x\":[\"sports\"],\"xaxis\":\"x\",\"y\":{\"dtype\":\"i1\",\"bdata\":\"OQ==\"},\"yaxis\":\"y\",\"type\":\"bar\"},{\"hovertemplate\":\"subcategory=autosbuying\\u003cbr\\u003ecategory=%{x}\\u003cbr\\u003evalues=%{y}\\u003cextra\\u003e\\u003c\\u002fextra\\u003e\",\"legendgroup\":\"autosbuying\",\"marker\":{\"color\":\"#EF553B\",\"pattern\":{\"shape\":\"\"}},\"name\":\"autosbuying\",\"orientation\":\"v\",\"showlegend\":true,\"textposition\":\"auto\",\"x\":[\"autos\"],\"xaxis\":\"x\",\"y\":{\"dtype\":\"i1\",\"bdata\":\"OA==\"},\"yaxis\":\"y\",\"type\":\"bar\"},{\"hovertemplate\":\"subcategory=quickandeasy\\u003cbr\\u003ecategory=%{x}\\u003cbr\\u003evalues=%{y}\\u003cextra\\u003e\\u003c\\u002fextra\\u003e\",\"legendgroup\":\"quickandeasy\",\"marker\":{\"color\":\"#00cc96\",\"pattern\":{\"shape\":\"\"}},\"name\":\"quickandeasy\",\"orientation\":\"v\",\"showlegend\":true,\"textposition\":\"auto\",\"x\":[\"foodanddrink\"],\"xaxis\":\"x\",\"y\":{\"dtype\":\"i1\",\"bdata\":\"OA==\"},\"yaxis\":\"y\",\"type\":\"bar\"},{\"hovertemplate\":\"subcategory=shop-all\\u003cbr\\u003ecategory=%{x}\\u003cbr\\u003evalues=%{y}\\u003cextra\\u003e\\u003c\\u002fextra\\u003e\",\"legendgroup\":\"shop-all\",\"marker\":{\"color\":\"#ab63fa\",\"pattern\":{\"shape\":\"\"}},\"name\":\"shop-all\",\"orientation\":\"v\",\"showlegend\":true,\"textposition\":\"auto\",\"x\":[\"lifestyle\"],\"xaxis\":\"x\",\"y\":{\"dtype\":\"i1\",\"bdata\":\"Ng==\"},\"yaxis\":\"y\",\"type\":\"bar\"},{\"hovertemplate\":\"subcategory=music-gallery\\u003cbr\\u003ecategory=%{x}\\u003cbr\\u003evalues=%{y}\\u003cextra\\u003e\\u003c\\u002fextra\\u003e\",\"legendgroup\":\"music-gallery\",\"marker\":{\"color\":\"#FFA15A\",\"pattern\":{\"shape\":\"\"}},\"name\":\"music-gallery\",\"orientation\":\"v\",\"showlegend\":true,\"textposition\":\"auto\",\"x\":[\"music\"],\"xaxis\":\"x\",\"y\":{\"dtype\":\"i1\",\"bdata\":\"NQ==\"},\"yaxis\":\"y\",\"type\":\"bar\"},{\"hovertemplate\":\"subcategory=baseball_mlb_videos\\u003cbr\\u003ecategory=%{x}\\u003cbr\\u003evalues=%{y}\\u003cextra\\u003e\\u003c\\u002fextra\\u003e\",\"legendgroup\":\"baseball_mlb_videos\",\"marker\":{\"color\":\"#19d3f3\",\"pattern\":{\"shape\":\"\"}},\"name\":\"baseball_mlb_videos\",\"orientation\":\"v\",\"showlegend\":true,\"textposition\":\"auto\",\"x\":[\"sports\"],\"xaxis\":\"x\",\"y\":{\"dtype\":\"i1\",\"bdata\":\"MQ==\"},\"yaxis\":\"y\",\"type\":\"bar\"},{\"hovertemplate\":\"subcategory=football_ncaa_videos\\u003cbr\\u003ecategory=%{x}\\u003cbr\\u003evalues=%{y}\\u003cextra\\u003e\\u003c\\u002fextra\\u003e\",\"legendgroup\":\"football_ncaa_videos\",\"marker\":{\"color\":\"#FF6692\",\"pattern\":{\"shape\":\"\"}},\"name\":\"football_ncaa_videos\",\"orientation\":\"v\",\"showlegend\":true,\"textposition\":\"auto\",\"x\":[\"sports\"],\"xaxis\":\"x\",\"y\":{\"dtype\":\"i1\",\"bdata\":\"MA==\"},\"yaxis\":\"y\",\"type\":\"bar\"},{\"hovertemplate\":\"subcategory=boxing\\u003cbr\\u003ecategory=%{x}\\u003cbr\\u003evalues=%{y}\\u003cextra\\u003e\\u003c\\u002fextra\\u003e\",\"legendgroup\":\"boxing\",\"marker\":{\"color\":\"#B6E880\",\"pattern\":{\"shape\":\"\"}},\"name\":\"boxing\",\"orientation\":\"v\",\"showlegend\":true,\"textposition\":\"auto\",\"x\":[\"sports\"],\"xaxis\":\"x\",\"y\":{\"dtype\":\"i1\",\"bdata\":\"Lw==\"},\"yaxis\":\"y\",\"type\":\"bar\"},{\"hovertemplate\":\"subcategory=healthnews\\u003cbr\\u003ecategory=%{x}\\u003cbr\\u003evalues=%{y}\\u003cextra\\u003e\\u003c\\u002fextra\\u003e\",\"legendgroup\":\"healthnews\",\"marker\":{\"color\":\"#FF97FF\",\"pattern\":{\"shape\":\"\"}},\"name\":\"healthnews\",\"orientation\":\"v\",\"showlegend\":true,\"textposition\":\"auto\",\"x\":[\"health\"],\"xaxis\":\"x\",\"y\":{\"dtype\":\"i1\",\"bdata\":\"Lg==\"},\"yaxis\":\"y\",\"type\":\"bar\"},{\"hovertemplate\":\"subcategory=finance-technology\\u003cbr\\u003ecategory=%{x}\\u003cbr\\u003evalues=%{y}\\u003cextra\\u003e\\u003c\\u002fextra\\u003e\",\"legendgroup\":\"finance-technology\",\"marker\":{\"color\":\"#FECB52\",\"pattern\":{\"shape\":\"\"}},\"name\":\"finance-technology\",\"orientation\":\"v\",\"showlegend\":true,\"textposition\":\"auto\",\"x\":[\"finance\"],\"xaxis\":\"x\",\"y\":{\"dtype\":\"i1\",\"bdata\":\"LQ==\"},\"yaxis\":\"y\",\"type\":\"bar\"},{\"hovertemplate\":\"subcategory=tvvideos\\u003cbr\\u003ecategory=%{x}\\u003cbr\\u003evalues=%{y}\\u003cextra\\u003e\\u003c\\u002fextra\\u003e\",\"legendgroup\":\"tvvideos\",\"marker\":{\"color\":\"#636efa\",\"pattern\":{\"shape\":\"\"}},\"name\":\"tvvideos\",\"orientation\":\"v\",\"showlegend\":true,\"textposition\":\"auto\",\"x\":[\"tv\"],\"xaxis\":\"x\",\"y\":{\"dtype\":\"i1\",\"bdata\":\"LA==\"},\"yaxis\":\"y\",\"type\":\"bar\"},{\"hovertemplate\":\"subcategory=factcheck\\u003cbr\\u003ecategory=%{x}\\u003cbr\\u003evalues=%{y}\\u003cextra\\u003e\\u003c\\u002fextra\\u003e\",\"legendgroup\":\"factcheck\",\"marker\":{\"color\":\"#EF553B\",\"pattern\":{\"shape\":\"\"}},\"name\":\"factcheck\",\"orientation\":\"v\",\"showlegend\":true,\"textposition\":\"auto\",\"x\":[\"news\"],\"xaxis\":\"x\",\"y\":{\"dtype\":\"i1\",\"bdata\":\"Kg==\"},\"yaxis\":\"y\",\"type\":\"bar\"},{\"hovertemplate\":\"subcategory=lifestylecleaningandorganizing\\u003cbr\\u003ecategory=%{x}\\u003cbr\\u003evalues=%{y}\\u003cextra\\u003e\\u003c\\u002fextra\\u003e\",\"legendgroup\":\"lifestylecleaningandorganizing\",\"marker\":{\"color\":\"#00cc96\",\"pattern\":{\"shape\":\"\"}},\"name\":\"lifestylecleaningandorganizing\",\"orientation\":\"v\",\"showlegend\":true,\"textposition\":\"auto\",\"x\":[\"lifestyle\"],\"xaxis\":\"x\",\"y\":{\"dtype\":\"i1\",\"bdata\":\"KQ==\"},\"yaxis\":\"y\",\"type\":\"bar\"},{\"hovertemplate\":\"subcategory=lifestylefashion\\u003cbr\\u003ecategory=%{x}\\u003cbr\\u003evalues=%{y}\\u003cextra\\u003e\\u003c\\u002fextra\\u003e\",\"legendgroup\":\"lifestylefashion\",\"marker\":{\"color\":\"#ab63fa\",\"pattern\":{\"shape\":\"\"}},\"name\":\"lifestylefashion\",\"orientation\":\"v\",\"showlegend\":true,\"textposition\":\"auto\",\"x\":[\"lifestyle\"],\"xaxis\":\"x\",\"y\":{\"dtype\":\"i1\",\"bdata\":\"KA==\"},\"yaxis\":\"y\",\"type\":\"bar\"},{\"hovertemplate\":\"subcategory=cma-awards\\u003cbr\\u003ecategory=%{x}\\u003cbr\\u003evalues=%{y}\\u003cextra\\u003e\\u003c\\u002fextra\\u003e\",\"legendgroup\":\"cma-awards\",\"marker\":{\"color\":\"#FFA15A\",\"pattern\":{\"shape\":\"\"}},\"name\":\"cma-awards\",\"orientation\":\"v\",\"showlegend\":true,\"textposition\":\"auto\",\"x\":[\"music\"],\"xaxis\":\"x\",\"y\":{\"dtype\":\"i1\",\"bdata\":\"Jg==\"},\"yaxis\":\"y\",\"type\":\"bar\"},{\"hovertemplate\":\"subcategory=autostrucks\\u003cbr\\u003ecategory=%{x}\\u003cbr\\u003evalues=%{y}\\u003cextra\\u003e\\u003c\\u002fextra\\u003e\",\"legendgroup\":\"autostrucks\",\"marker\":{\"color\":\"#19d3f3\",\"pattern\":{\"shape\":\"\"}},\"name\":\"autostrucks\",\"orientation\":\"v\",\"showlegend\":true,\"textposition\":\"auto\",\"x\":[\"autos\"],\"xaxis\":\"x\",\"y\":{\"dtype\":\"i1\",\"bdata\":\"Jg==\"},\"yaxis\":\"y\",\"type\":\"bar\"},{\"hovertemplate\":\"subcategory=finance-insurance\\u003cbr\\u003ecategory=%{x}\\u003cbr\\u003evalues=%{y}\\u003cextra\\u003e\\u003c\\u002fextra\\u003e\",\"legendgroup\":\"finance-insurance\",\"marker\":{\"color\":\"#FF6692\",\"pattern\":{\"shape\":\"\"}},\"name\":\"finance-insurance\",\"orientation\":\"v\",\"showlegend\":true,\"textposition\":\"auto\",\"x\":[\"finance\"],\"xaxis\":\"x\",\"y\":{\"dtype\":\"i1\",\"bdata\":\"Jg==\"},\"yaxis\":\"y\",\"type\":\"bar\"},{\"hovertemplate\":\"subcategory=lifestylefamilyandrelationships\\u003cbr\\u003ecategory=%{x}\\u003cbr\\u003evalues=%{y}\\u003cextra\\u003e\\u003c\\u002fextra\\u003e\",\"legendgroup\":\"lifestylefamilyandrelationships\",\"marker\":{\"color\":\"#B6E880\",\"pattern\":{\"shape\":\"\"}},\"name\":\"lifestylefamilyandrelationships\",\"orientation\":\"v\",\"showlegend\":true,\"textposition\":\"auto\",\"x\":[\"lifestyle\"],\"xaxis\":\"x\",\"y\":{\"dtype\":\"i1\",\"bdata\":\"IQ==\"},\"yaxis\":\"y\",\"type\":\"bar\"},{\"hovertemplate\":\"subcategory=awards\\u003cbr\\u003ecategory=%{x}\\u003cbr\\u003evalues=%{y}\\u003cextra\\u003e\\u003c\\u002fextra\\u003e\",\"legendgroup\":\"awards\",\"marker\":{\"color\":\"#FF97FF\",\"pattern\":{\"shape\":\"\"}},\"name\":\"awards\",\"orientation\":\"v\",\"showlegend\":true,\"textposition\":\"auto\",\"x\":[\"entertainment\"],\"xaxis\":\"x\",\"y\":{\"dtype\":\"i1\",\"bdata\":\"Hw==\"},\"yaxis\":\"y\",\"type\":\"bar\"},{\"hovertemplate\":\"subcategory=music-awards\\u003cbr\\u003ecategory=%{x}\\u003cbr\\u003evalues=%{y}\\u003cextra\\u003e\\u003c\\u002fextra\\u003e\",\"legendgroup\":\"music-awards\",\"marker\":{\"color\":\"#FECB52\",\"pattern\":{\"shape\":\"\"}},\"name\":\"music-awards\",\"orientation\":\"v\",\"showlegend\":true,\"textposition\":\"auto\",\"x\":[\"music\"],\"xaxis\":\"x\",\"y\":{\"dtype\":\"i1\",\"bdata\":\"Hw==\"},\"yaxis\":\"y\",\"type\":\"bar\"},{\"hovertemplate\":\"subcategory=autosluxury\\u003cbr\\u003ecategory=%{x}\\u003cbr\\u003evalues=%{y}\\u003cextra\\u003e\\u003c\\u002fextra\\u003e\",\"legendgroup\":\"autosluxury\",\"marker\":{\"color\":\"#636efa\",\"pattern\":{\"shape\":\"\"}},\"name\":\"autosluxury\",\"orientation\":\"v\",\"showlegend\":true,\"textposition\":\"auto\",\"x\":[\"autos\"],\"xaxis\":\"x\",\"y\":{\"dtype\":\"i1\",\"bdata\":\"Hw==\"},\"yaxis\":\"y\",\"type\":\"bar\"},{\"hovertemplate\":\"subcategory=autosownership\\u003cbr\\u003ecategory=%{x}\\u003cbr\\u003evalues=%{y}\\u003cextra\\u003e\\u003c\\u002fextra\\u003e\",\"legendgroup\":\"autosownership\",\"marker\":{\"color\":\"#EF553B\",\"pattern\":{\"shape\":\"\"}},\"name\":\"autosownership\",\"orientation\":\"v\",\"showlegend\":true,\"textposition\":\"auto\",\"x\":[\"autos\"],\"xaxis\":\"x\",\"y\":{\"dtype\":\"i1\",\"bdata\":\"Hg==\"},\"yaxis\":\"y\",\"type\":\"bar\"},{\"hovertemplate\":\"subcategory=advice\\u003cbr\\u003ecategory=%{x}\\u003cbr\\u003evalues=%{y}\\u003cextra\\u003e\\u003c\\u002fextra\\u003e\",\"legendgroup\":\"advice\",\"marker\":{\"color\":\"#00cc96\",\"pattern\":{\"shape\":\"\"}},\"name\":\"advice\",\"orientation\":\"v\",\"showlegend\":true,\"textposition\":\"auto\",\"x\":[\"lifestyle\"],\"xaxis\":\"x\",\"y\":{\"dtype\":\"i1\",\"bdata\":\"Hg==\"},\"yaxis\":\"y\",\"type\":\"bar\"},{\"hovertemplate\":\"subcategory=wines\\u003cbr\\u003ecategory=%{x}\\u003cbr\\u003evalues=%{y}\\u003cextra\\u003e\\u003c\\u002fextra\\u003e\",\"legendgroup\":\"wines\",\"marker\":{\"color\":\"#ab63fa\",\"pattern\":{\"shape\":\"\"}},\"name\":\"wines\",\"orientation\":\"v\",\"showlegend\":true,\"textposition\":\"auto\",\"x\":[\"foodanddrink\"],\"xaxis\":\"x\",\"y\":{\"dtype\":\"i1\",\"bdata\":\"Hg==\"},\"yaxis\":\"y\",\"type\":\"bar\"},{\"hovertemplate\":\"subcategory=lifestyleweddings\\u003cbr\\u003ecategory=%{x}\\u003cbr\\u003evalues=%{y}\\u003cextra\\u003e\\u003c\\u002fextra\\u003e\",\"legendgroup\":\"lifestyleweddings\",\"marker\":{\"color\":\"#FFA15A\",\"pattern\":{\"shape\":\"\"}},\"name\":\"lifestyleweddings\",\"orientation\":\"v\",\"showlegend\":true,\"textposition\":\"auto\",\"x\":[\"lifestyle\"],\"xaxis\":\"x\",\"y\":{\"dtype\":\"i1\",\"bdata\":\"HQ==\"},\"yaxis\":\"y\",\"type\":\"bar\"},{\"hovertemplate\":\"subcategory=finance-credit\\u003cbr\\u003ecategory=%{x}\\u003cbr\\u003evalues=%{y}\\u003cextra\\u003e\\u003c\\u002fextra\\u003e\",\"legendgroup\":\"finance-credit\",\"marker\":{\"color\":\"#19d3f3\",\"pattern\":{\"shape\":\"\"}},\"name\":\"finance-credit\",\"orientation\":\"v\",\"showlegend\":true,\"textposition\":\"auto\",\"x\":[\"finance\"],\"xaxis\":\"x\",\"y\":{\"dtype\":\"i1\",\"bdata\":\"HA==\"},\"yaxis\":\"y\",\"type\":\"bar\"},{\"hovertemplate\":\"subcategory=shop-apparel\\u003cbr\\u003ecategory=%{x}\\u003cbr\\u003evalues=%{y}\\u003cextra\\u003e\\u003c\\u002fextra\\u003e\",\"legendgroup\":\"shop-apparel\",\"marker\":{\"color\":\"#FF6692\",\"pattern\":{\"shape\":\"\"}},\"name\":\"shop-apparel\",\"orientation\":\"v\",\"showlegend\":true,\"textposition\":\"auto\",\"x\":[\"lifestyle\"],\"xaxis\":\"x\",\"y\":{\"dtype\":\"i1\",\"bdata\":\"Gg==\"},\"yaxis\":\"y\",\"type\":\"bar\"},{\"hovertemplate\":\"subcategory=lifestylevideo\\u003cbr\\u003ecategory=%{x}\\u003cbr\\u003evalues=%{y}\\u003cextra\\u003e\\u003c\\u002fextra\\u003e\",\"legendgroup\":\"lifestylevideo\",\"marker\":{\"color\":\"#B6E880\",\"pattern\":{\"shape\":\"\"}},\"name\":\"lifestylevideo\",\"orientation\":\"v\",\"showlegend\":true,\"textposition\":\"auto\",\"x\":[\"lifestyle\"],\"xaxis\":\"x\",\"y\":{\"dtype\":\"i1\",\"bdata\":\"GQ==\"},\"yaxis\":\"y\",\"type\":\"bar\"},{\"hovertemplate\":\"subcategory=lifestylelovesex\\u003cbr\\u003ecategory=%{x}\\u003cbr\\u003evalues=%{y}\\u003cextra\\u003e\\u003c\\u002fextra\\u003e\",\"legendgroup\":\"lifestylelovesex\",\"marker\":{\"color\":\"#FF97FF\",\"pattern\":{\"shape\":\"\"}},\"name\":\"lifestylelovesex\",\"orientation\":\"v\",\"showlegend\":true,\"textposition\":\"auto\",\"x\":[\"lifestyle\"],\"xaxis\":\"x\",\"y\":{\"dtype\":\"i1\",\"bdata\":\"GQ==\"},\"yaxis\":\"y\",\"type\":\"bar\"},{\"hovertemplate\":\"subcategory=autosresearchguides\\u003cbr\\u003ecategory=%{x}\\u003cbr\\u003evalues=%{y}\\u003cextra\\u003e\\u003c\\u002fextra\\u003e\",\"legendgroup\":\"autosresearchguides\",\"marker\":{\"color\":\"#FECB52\",\"pattern\":{\"shape\":\"\"}},\"name\":\"autosresearchguides\",\"orientation\":\"v\",\"showlegend\":true,\"textposition\":\"auto\",\"x\":[\"autos\"],\"xaxis\":\"x\",\"y\":{\"dtype\":\"i1\",\"bdata\":\"GA==\"},\"yaxis\":\"y\",\"type\":\"bar\"},{\"hovertemplate\":\"subcategory=newsphotos\\u003cbr\\u003ecategory=%{x}\\u003cbr\\u003evalues=%{y}\\u003cextra\\u003e\\u003c\\u002fextra\\u003e\",\"legendgroup\":\"newsphotos\",\"marker\":{\"color\":\"#636efa\",\"pattern\":{\"shape\":\"\"}},\"name\":\"newsphotos\",\"orientation\":\"v\",\"showlegend\":true,\"textposition\":\"auto\",\"x\":[\"news\"],\"xaxis\":\"x\",\"y\":{\"dtype\":\"i1\",\"bdata\":\"GA==\"},\"yaxis\":\"y\",\"type\":\"bar\"},{\"hovertemplate\":\"subcategory=people-places\\u003cbr\\u003ecategory=%{x}\\u003cbr\\u003evalues=%{y}\\u003cextra\\u003e\\u003c\\u002fextra\\u003e\",\"legendgroup\":\"people-places\",\"marker\":{\"color\":\"#EF553B\",\"pattern\":{\"shape\":\"\"}},\"name\":\"people-places\",\"orientation\":\"v\",\"showlegend\":true,\"textposition\":\"auto\",\"x\":[\"kids\"],\"xaxis\":\"x\",\"y\":{\"dtype\":\"i1\",\"bdata\":\"GA==\"},\"yaxis\":\"y\",\"type\":\"bar\"},{\"hovertemplate\":\"subcategory=finance-career\\u003cbr\\u003ecategory=%{x}\\u003cbr\\u003evalues=%{y}\\u003cextra\\u003e\\u003c\\u002fextra\\u003e\",\"legendgroup\":\"finance-career\",\"marker\":{\"color\":\"#00cc96\",\"pattern\":{\"shape\":\"\"}},\"name\":\"finance-career\",\"orientation\":\"v\",\"showlegend\":true,\"textposition\":\"auto\",\"x\":[\"finance\"],\"xaxis\":\"x\",\"y\":{\"dtype\":\"i1\",\"bdata\":\"Fw==\"},\"yaxis\":\"y\",\"type\":\"bar\"},{\"hovertemplate\":\"subcategory=autossema\\u003cbr\\u003ecategory=%{x}\\u003cbr\\u003evalues=%{y}\\u003cextra\\u003e\\u003c\\u002fextra\\u003e\",\"legendgroup\":\"autossema\",\"marker\":{\"color\":\"#ab63fa\",\"pattern\":{\"shape\":\"\"}},\"name\":\"autossema\",\"orientation\":\"v\",\"showlegend\":true,\"textposition\":\"auto\",\"x\":[\"autos\"],\"xaxis\":\"x\",\"y\":{\"dtype\":\"i1\",\"bdata\":\"Fw==\"},\"yaxis\":\"y\",\"type\":\"bar\"},{\"hovertemplate\":\"subcategory=fun\\u003cbr\\u003ecategory=%{x}\\u003cbr\\u003evalues=%{y}\\u003cextra\\u003e\\u003c\\u002fextra\\u003e\",\"legendgroup\":\"fun\",\"marker\":{\"color\":\"#FFA15A\",\"pattern\":{\"shape\":\"\"}},\"name\":\"fun\",\"orientation\":\"v\",\"showlegend\":true,\"textposition\":\"auto\",\"x\":[\"kids\"],\"xaxis\":\"x\",\"y\":{\"dtype\":\"i1\",\"bdata\":\"Fg==\"},\"yaxis\":\"y\",\"type\":\"bar\"},{\"hovertemplate\":\"subcategory=lifestyleshopping\\u003cbr\\u003ecategory=%{x}\\u003cbr\\u003evalues=%{y}\\u003cextra\\u003e\\u003c\\u002fextra\\u003e\",\"legendgroup\":\"lifestyleshopping\",\"marker\":{\"color\":\"#19d3f3\",\"pattern\":{\"shape\":\"\"}},\"name\":\"lifestyleshopping\",\"orientation\":\"v\",\"showlegend\":true,\"textposition\":\"auto\",\"x\":[\"lifestyle\"],\"xaxis\":\"x\",\"y\":{\"dtype\":\"i1\",\"bdata\":\"Fg==\"},\"yaxis\":\"y\",\"type\":\"bar\"},{\"hovertemplate\":\"subcategory=tunedin\\u003cbr\\u003ecategory=%{x}\\u003cbr\\u003evalues=%{y}\\u003cextra\\u003e\\u003c\\u002fextra\\u003e\",\"legendgroup\":\"tunedin\",\"marker\":{\"color\":\"#FF6692\",\"pattern\":{\"shape\":\"\"}},\"name\":\"tunedin\",\"orientation\":\"v\",\"showlegend\":true,\"textposition\":\"auto\",\"x\":[\"video\"],\"xaxis\":\"x\",\"y\":{\"dtype\":\"i1\",\"bdata\":\"FQ==\"},\"yaxis\":\"y\",\"type\":\"bar\"},{\"hovertemplate\":\"subcategory=newsfactcheck\\u003cbr\\u003ecategory=%{x}\\u003cbr\\u003evalues=%{y}\\u003cextra\\u003e\\u003c\\u002fextra\\u003e\",\"legendgroup\":\"newsfactcheck\",\"marker\":{\"color\":\"#B6E880\",\"pattern\":{\"shape\":\"\"}},\"name\":\"newsfactcheck\",\"orientation\":\"v\",\"showlegend\":true,\"textposition\":\"auto\",\"x\":[\"news\"],\"xaxis\":\"x\",\"y\":{\"dtype\":\"i1\",\"bdata\":\"FQ==\"},\"yaxis\":\"y\",\"type\":\"bar\"},{\"hovertemplate\":\"subcategory=musicvideos\\u003cbr\\u003ecategory=%{x}\\u003cbr\\u003evalues=%{y}\\u003cextra\\u003e\\u003c\\u002fextra\\u003e\",\"legendgroup\":\"musicvideos\",\"marker\":{\"color\":\"#FF97FF\",\"pattern\":{\"shape\":\"\"}},\"name\":\"musicvideos\",\"orientation\":\"v\",\"showlegend\":true,\"textposition\":\"auto\",\"x\":[\"music\"],\"xaxis\":\"x\",\"y\":{\"dtype\":\"i1\",\"bdata\":\"FA==\"},\"yaxis\":\"y\",\"type\":\"bar\"},{\"hovertemplate\":\"subcategory=newsscience\\u003cbr\\u003ecategory=%{x}\\u003cbr\\u003evalues=%{y}\\u003cextra\\u003e\\u003c\\u002fextra\\u003e\",\"legendgroup\":\"newsscience\",\"marker\":{\"color\":\"#FECB52\",\"pattern\":{\"shape\":\"\"}},\"name\":\"newsscience\",\"orientation\":\"v\",\"showlegend\":true,\"textposition\":\"auto\",\"x\":[\"news\"],\"xaxis\":\"x\",\"y\":{\"dtype\":\"i1\",\"bdata\":\"Eg==\"},\"yaxis\":\"y\",\"type\":\"bar\"},{\"hovertemplate\":\"subcategory=autosresearch\\u003cbr\\u003ecategory=%{x}\\u003cbr\\u003evalues=%{y}\\u003cextra\\u003e\\u003c\\u002fextra\\u003e\",\"legendgroup\":\"autosresearch\",\"marker\":{\"color\":\"#636efa\",\"pattern\":{\"shape\":\"\"}},\"name\":\"autosresearch\",\"orientation\":\"v\",\"showlegend\":true,\"textposition\":\"auto\",\"x\":[\"autos\"],\"xaxis\":\"x\",\"y\":{\"dtype\":\"i1\",\"bdata\":\"Eg==\"},\"yaxis\":\"y\",\"type\":\"bar\"},{\"hovertemplate\":\"subcategory=tv-recaps\\u003cbr\\u003ecategory=%{x}\\u003cbr\\u003evalues=%{y}\\u003cextra\\u003e\\u003c\\u002fextra\\u003e\",\"legendgroup\":\"tv-recaps\",\"marker\":{\"color\":\"#EF553B\",\"pattern\":{\"shape\":\"\"}},\"name\":\"tv-recaps\",\"orientation\":\"v\",\"showlegend\":true,\"textposition\":\"auto\",\"x\":[\"tv\"],\"xaxis\":\"x\",\"y\":{\"dtype\":\"i1\",\"bdata\":\"Eg==\"},\"yaxis\":\"y\",\"type\":\"bar\"},{\"hovertemplate\":\"subcategory=humor\\u003cbr\\u003ecategory=%{x}\\u003cbr\\u003evalues=%{y}\\u003cextra\\u003e\\u003c\\u002fextra\\u003e\",\"legendgroup\":\"humor\",\"marker\":{\"color\":\"#00cc96\",\"pattern\":{\"shape\":\"\"}},\"name\":\"humor\",\"orientation\":\"v\",\"showlegend\":true,\"textposition\":\"auto\",\"x\":[\"tv\",\"entertainment\",\"music\"],\"xaxis\":\"x\",\"y\":{\"dtype\":\"i1\",\"bdata\":\"EgoB\"},\"yaxis\":\"y\",\"type\":\"bar\"},{\"hovertemplate\":\"subcategory=causes-animals\\u003cbr\\u003ecategory=%{x}\\u003cbr\\u003evalues=%{y}\\u003cextra\\u003e\\u003c\\u002fextra\\u003e\",\"legendgroup\":\"causes-animals\",\"marker\":{\"color\":\"#ab63fa\",\"pattern\":{\"shape\":\"\"}},\"name\":\"causes-animals\",\"orientation\":\"v\",\"showlegend\":true,\"textposition\":\"auto\",\"x\":[\"lifestyle\"],\"xaxis\":\"x\",\"y\":{\"dtype\":\"i1\",\"bdata\":\"EQ==\"},\"yaxis\":\"y\",\"type\":\"bar\"},{\"hovertemplate\":\"subcategory=newsweather\\u003cbr\\u003ecategory=%{x}\\u003cbr\\u003evalues=%{y}\\u003cextra\\u003e\\u003c\\u002fextra\\u003e\",\"legendgroup\":\"newsweather\",\"marker\":{\"color\":\"#FFA15A\",\"pattern\":{\"shape\":\"\"}},\"name\":\"newsweather\",\"orientation\":\"v\",\"showlegend\":true,\"textposition\":\"auto\",\"x\":[\"news\"],\"xaxis\":\"x\",\"y\":{\"dtype\":\"i1\",\"bdata\":\"EQ==\"},\"yaxis\":\"y\",\"type\":\"bar\"},{\"hovertemplate\":\"subcategory=lifestylediy\\u003cbr\\u003ecategory=%{x}\\u003cbr\\u003evalues=%{y}\\u003cextra\\u003e\\u003c\\u002fextra\\u003e\",\"legendgroup\":\"lifestylediy\",\"marker\":{\"color\":\"#19d3f3\",\"pattern\":{\"shape\":\"\"}},\"name\":\"lifestylediy\",\"orientation\":\"v\",\"showlegend\":true,\"textposition\":\"auto\",\"x\":[\"lifestyle\"],\"xaxis\":\"x\",\"y\":{\"dtype\":\"i1\",\"bdata\":\"EQ==\"},\"yaxis\":\"y\",\"type\":\"bar\"},{\"hovertemplate\":\"subcategory=basketball_ncaa_videos\\u003cbr\\u003ecategory=%{x}\\u003cbr\\u003evalues=%{y}\\u003cextra\\u003e\\u003c\\u002fextra\\u003e\",\"legendgroup\":\"basketball_ncaa_videos\",\"marker\":{\"color\":\"#FF6692\",\"pattern\":{\"shape\":\"\"}},\"name\":\"basketball_ncaa_videos\",\"orientation\":\"v\",\"showlegend\":true,\"textposition\":\"auto\",\"x\":[\"sports\"],\"xaxis\":\"x\",\"y\":{\"dtype\":\"i1\",\"bdata\":\"EQ==\"},\"yaxis\":\"y\",\"type\":\"bar\"},{\"hovertemplate\":\"subcategory=lifestyle-news-feature\\u003cbr\\u003ecategory=%{x}\\u003cbr\\u003evalues=%{y}\\u003cextra\\u003e\\u003c\\u002fextra\\u003e\",\"legendgroup\":\"lifestyle-news-feature\",\"marker\":{\"color\":\"#B6E880\",\"pattern\":{\"shape\":\"\"}},\"name\":\"lifestyle-news-feature\",\"orientation\":\"v\",\"showlegend\":true,\"textposition\":\"auto\",\"x\":[\"lifestyle\"],\"xaxis\":\"x\",\"y\":{\"dtype\":\"i1\",\"bdata\":\"EQ==\"},\"yaxis\":\"y\",\"type\":\"bar\"},{\"hovertemplate\":\"subcategory=causes\\u003cbr\\u003ecategory=%{x}\\u003cbr\\u003evalues=%{y}\\u003cextra\\u003e\\u003c\\u002fextra\\u003e\",\"legendgroup\":\"causes\",\"marker\":{\"color\":\"#FF97FF\",\"pattern\":{\"shape\":\"\"}},\"name\":\"causes\",\"orientation\":\"v\",\"showlegend\":true,\"textposition\":\"auto\",\"x\":[\"lifestyle\",\"health\",\"finance\",\"news\",\"travel\"],\"xaxis\":\"x\",\"y\":{\"dtype\":\"i1\",\"bdata\":\"EA8GAwE=\"},\"yaxis\":\"y\",\"type\":\"bar\"},{\"hovertemplate\":\"subcategory=lifestyledecor\\u003cbr\\u003ecategory=%{x}\\u003cbr\\u003evalues=%{y}\\u003cextra\\u003e\\u003c\\u002fextra\\u003e\",\"legendgroup\":\"lifestyledecor\",\"marker\":{\"color\":\"#FECB52\",\"pattern\":{\"shape\":\"\"}},\"name\":\"lifestyledecor\",\"orientation\":\"v\",\"showlegend\":true,\"textposition\":\"auto\",\"x\":[\"lifestyle\"],\"xaxis\":\"x\",\"y\":{\"dtype\":\"i1\",\"bdata\":\"EA==\"},\"yaxis\":\"y\",\"type\":\"bar\"},{\"hovertemplate\":\"subcategory=finance-healthcare\\u003cbr\\u003ecategory=%{x}\\u003cbr\\u003evalues=%{y}\\u003cextra\\u003e\\u003c\\u002fextra\\u003e\",\"legendgroup\":\"finance-healthcare\",\"marker\":{\"color\":\"#636efa\",\"pattern\":{\"shape\":\"\"}},\"name\":\"finance-healthcare\",\"orientation\":\"v\",\"showlegend\":true,\"textposition\":\"auto\",\"x\":[\"finance\"],\"xaxis\":\"x\",\"y\":{\"dtype\":\"i1\",\"bdata\":\"Dg==\"},\"yaxis\":\"y\",\"type\":\"bar\"},{\"hovertemplate\":\"subcategory=autosvideonew\\u003cbr\\u003ecategory=%{x}\\u003cbr\\u003evalues=%{y}\\u003cextra\\u003e\\u003c\\u002fextra\\u003e\",\"legendgroup\":\"autosvideonew\",\"marker\":{\"color\":\"#EF553B\",\"pattern\":{\"shape\":\"\"}},\"name\":\"autosvideonew\",\"orientation\":\"v\",\"showlegend\":true,\"textposition\":\"auto\",\"x\":[\"autos\"],\"xaxis\":\"x\",\"y\":{\"dtype\":\"i1\",\"bdata\":\"Dg==\"},\"yaxis\":\"y\",\"type\":\"bar\"},{\"hovertemplate\":\"subcategory=pregnancyparenting\\u003cbr\\u003ecategory=%{x}\\u003cbr\\u003evalues=%{y}\\u003cextra\\u003e\\u003c\\u002fextra\\u003e\",\"legendgroup\":\"pregnancyparenting\",\"marker\":{\"color\":\"#00cc96\",\"pattern\":{\"shape\":\"\"}},\"name\":\"pregnancyparenting\",\"orientation\":\"v\",\"showlegend\":true,\"textposition\":\"auto\",\"x\":[\"health\",\"lifestyle\"],\"xaxis\":\"x\",\"y\":{\"dtype\":\"i1\",\"bdata\":\"DQE=\"},\"yaxis\":\"y\",\"type\":\"bar\"},{\"hovertemplate\":\"subcategory=finance-education\\u003cbr\\u003ecategory=%{x}\\u003cbr\\u003evalues=%{y}\\u003cextra\\u003e\\u003c\\u002fextra\\u003e\",\"legendgroup\":\"finance-education\",\"marker\":{\"color\":\"#ab63fa\",\"pattern\":{\"shape\":\"\"}},\"name\":\"finance-education\",\"orientation\":\"v\",\"showlegend\":true,\"textposition\":\"auto\",\"x\":[\"finance\"],\"xaxis\":\"x\",\"y\":{\"dtype\":\"i1\",\"bdata\":\"DQ==\"},\"yaxis\":\"y\",\"type\":\"bar\"},{\"hovertemplate\":\"subcategory=finance-billstopay\\u003cbr\\u003ecategory=%{x}\\u003cbr\\u003evalues=%{y}\\u003cextra\\u003e\\u003c\\u002fextra\\u003e\",\"legendgroup\":\"finance-billstopay\",\"marker\":{\"color\":\"#FFA15A\",\"pattern\":{\"shape\":\"\"}},\"name\":\"finance-billstopay\",\"orientation\":\"v\",\"showlegend\":true,\"textposition\":\"auto\",\"x\":[\"finance\"],\"xaxis\":\"x\",\"y\":{\"dtype\":\"i1\",\"bdata\":\"DQ==\"},\"yaxis\":\"y\",\"type\":\"bar\"},{\"hovertemplate\":\"subcategory=movies-awards\\u003cbr\\u003ecategory=%{x}\\u003cbr\\u003evalues=%{y}\\u003cextra\\u003e\\u003c\\u002fextra\\u003e\",\"legendgroup\":\"movies-awards\",\"marker\":{\"color\":\"#19d3f3\",\"pattern\":{\"shape\":\"\"}},\"name\":\"movies-awards\",\"orientation\":\"v\",\"showlegend\":true,\"textposition\":\"auto\",\"x\":[\"movies\"],\"xaxis\":\"x\",\"y\":{\"dtype\":\"i1\",\"bdata\":\"DA==\"},\"yaxis\":\"y\",\"type\":\"bar\"},{\"hovertemplate\":\"subcategory=basketball_nba_videos\\u003cbr\\u003ecategory=%{x}\\u003cbr\\u003evalues=%{y}\\u003cextra\\u003e\\u003c\\u002fextra\\u003e\",\"legendgroup\":\"basketball_nba_videos\",\"marker\":{\"color\":\"#FF6692\",\"pattern\":{\"shape\":\"\"}},\"name\":\"basketball_nba_videos\",\"orientation\":\"v\",\"showlegend\":true,\"textposition\":\"auto\",\"x\":[\"sports\"],\"xaxis\":\"x\",\"y\":{\"dtype\":\"i1\",\"bdata\":\"DA==\"},\"yaxis\":\"y\",\"type\":\"bar\"},{\"hovertemplate\":\"subcategory=awardstyle\\u003cbr\\u003ecategory=%{x}\\u003cbr\\u003evalues=%{y}\\u003cextra\\u003e\\u003c\\u002fextra\\u003e\",\"legendgroup\":\"awardstyle\",\"marker\":{\"color\":\"#B6E880\",\"pattern\":{\"shape\":\"\"}},\"name\":\"awardstyle\",\"orientation\":\"v\",\"showlegend\":true,\"textposition\":\"auto\",\"x\":[\"lifestyle\"],\"xaxis\":\"x\",\"y\":{\"dtype\":\"i1\",\"bdata\":\"DA==\"},\"yaxis\":\"y\",\"type\":\"bar\"},{\"hovertemplate\":\"subcategory=travel-points-rewards\\u003cbr\\u003ecategory=%{x}\\u003cbr\\u003evalues=%{y}\\u003cextra\\u003e\\u003c\\u002fextra\\u003e\",\"legendgroup\":\"travel-points-rewards\",\"marker\":{\"color\":\"#FF97FF\",\"pattern\":{\"shape\":\"\"}},\"name\":\"travel-points-rewards\",\"orientation\":\"v\",\"showlegend\":true,\"textposition\":\"auto\",\"x\":[\"travel\"],\"xaxis\":\"x\",\"y\":{\"dtype\":\"i1\",\"bdata\":\"Cw==\"},\"yaxis\":\"y\",\"type\":\"bar\"},{\"hovertemplate\":\"subcategory=mentalhealth\\u003cbr\\u003ecategory=%{x}\\u003cbr\\u003evalues=%{y}\\u003cextra\\u003e\\u003c\\u002fextra\\u003e\",\"legendgroup\":\"mentalhealth\",\"marker\":{\"color\":\"#FECB52\",\"pattern\":{\"shape\":\"\"}},\"name\":\"mentalhealth\",\"orientation\":\"v\",\"showlegend\":true,\"textposition\":\"auto\",\"x\":[\"health\"],\"xaxis\":\"x\",\"y\":{\"dtype\":\"i1\",\"bdata\":\"Cw==\"},\"yaxis\":\"y\",\"type\":\"bar\"},{\"hovertemplate\":\"subcategory=ads-lung-health\\u003cbr\\u003ecategory=%{x}\\u003cbr\\u003evalues=%{y}\\u003cextra\\u003e\\u003c\\u002fextra\\u003e\",\"legendgroup\":\"ads-lung-health\",\"marker\":{\"color\":\"#636efa\",\"pattern\":{\"shape\":\"\"}},\"name\":\"ads-lung-health\",\"orientation\":\"v\",\"showlegend\":true,\"textposition\":\"auto\",\"x\":[\"health\"],\"xaxis\":\"x\",\"y\":{\"dtype\":\"i1\",\"bdata\":\"Cw==\"},\"yaxis\":\"y\",\"type\":\"bar\"},{\"hovertemplate\":\"subcategory=retirement\\u003cbr\\u003ecategory=%{x}\\u003cbr\\u003evalues=%{y}\\u003cextra\\u003e\\u003c\\u002fextra\\u003e\",\"legendgroup\":\"retirement\",\"marker\":{\"color\":\"#EF553B\",\"pattern\":{\"shape\":\"\"}},\"name\":\"retirement\",\"orientation\":\"v\",\"showlegend\":true,\"textposition\":\"auto\",\"x\":[\"finance\"],\"xaxis\":\"x\",\"y\":{\"dtype\":\"i1\",\"bdata\":\"Cg==\"},\"yaxis\":\"y\",\"type\":\"bar\"},{\"hovertemplate\":\"subcategory=travel-adventure-travel\\u003cbr\\u003ecategory=%{x}\\u003cbr\\u003evalues=%{y}\\u003cextra\\u003e\\u003c\\u002fextra\\u003e\",\"legendgroup\":\"travel-adventure-travel\",\"marker\":{\"color\":\"#00cc96\",\"pattern\":{\"shape\":\"\"}},\"name\":\"travel-adventure-travel\",\"orientation\":\"v\",\"showlegend\":true,\"textposition\":\"auto\",\"x\":[\"travel\"],\"xaxis\":\"x\",\"y\":{\"dtype\":\"i1\",\"bdata\":\"Cg==\"},\"yaxis\":\"y\",\"type\":\"bar\"},{\"hovertemplate\":\"subcategory=newselection2020\\u003cbr\\u003ecategory=%{x}\\u003cbr\\u003evalues=%{y}\\u003cextra\\u003e\\u003c\\u002fextra\\u003e\",\"legendgroup\":\"newselection2020\",\"marker\":{\"color\":\"#ab63fa\",\"pattern\":{\"shape\":\"\"}},\"name\":\"newselection2020\",\"orientation\":\"v\",\"showlegend\":true,\"textposition\":\"auto\",\"x\":[\"news\"],\"xaxis\":\"x\",\"y\":{\"dtype\":\"i1\",\"bdata\":\"Cg==\"},\"yaxis\":\"y\",\"type\":\"bar\"},{\"hovertemplate\":\"subcategory=wonder\\u003cbr\\u003ecategory=%{x}\\u003cbr\\u003evalues=%{y}\\u003cextra\\u003e\\u003c\\u002fextra\\u003e\",\"legendgroup\":\"wonder\",\"marker\":{\"color\":\"#FFA15A\",\"pattern\":{\"shape\":\"\"}},\"name\":\"wonder\",\"orientation\":\"v\",\"showlegend\":true,\"textposition\":\"auto\",\"x\":[\"video\"],\"xaxis\":\"x\",\"y\":{\"dtype\":\"i1\",\"bdata\":\"Cg==\"},\"yaxis\":\"y\",\"type\":\"bar\"},{\"hovertemplate\":\"subcategory=ads-latingrammys\\u003cbr\\u003ecategory=%{x}\\u003cbr\\u003evalues=%{y}\\u003cextra\\u003e\\u003c\\u002fextra\\u003e\",\"legendgroup\":\"ads-latingrammys\",\"marker\":{\"color\":\"#19d3f3\",\"pattern\":{\"shape\":\"\"}},\"name\":\"ads-latingrammys\",\"orientation\":\"v\",\"showlegend\":true,\"textposition\":\"auto\",\"x\":[\"music\"],\"xaxis\":\"x\",\"y\":{\"dtype\":\"i1\",\"bdata\":\"Cg==\"},\"yaxis\":\"y\",\"type\":\"bar\"},{\"hovertemplate\":\"subcategory=shop-home-goods\\u003cbr\\u003ecategory=%{x}\\u003cbr\\u003evalues=%{y}\\u003cextra\\u003e\\u003c\\u002fextra\\u003e\",\"legendgroup\":\"shop-home-goods\",\"marker\":{\"color\":\"#FF6692\",\"pattern\":{\"shape\":\"\"}},\"name\":\"shop-home-goods\",\"orientation\":\"v\",\"showlegend\":true,\"textposition\":\"auto\",\"x\":[\"lifestyle\"],\"xaxis\":\"x\",\"y\":{\"dtype\":\"i1\",\"bdata\":\"CQ==\"},\"yaxis\":\"y\",\"type\":\"bar\"},{\"hovertemplate\":\"subcategory=boxing-mma\\u003cbr\\u003ecategory=%{x}\\u003cbr\\u003evalues=%{y}\\u003cextra\\u003e\\u003c\\u002fextra\\u003e\",\"legendgroup\":\"boxing-mma\",\"marker\":{\"color\":\"#B6E880\",\"pattern\":{\"shape\":\"\"}},\"name\":\"boxing-mma\",\"orientation\":\"v\",\"showlegend\":true,\"textposition\":\"auto\",\"x\":[\"sports\"],\"xaxis\":\"x\",\"y\":{\"dtype\":\"i1\",\"bdata\":\"CQ==\"},\"yaxis\":\"y\",\"type\":\"bar\"},{\"hovertemplate\":\"subcategory=basketball_wnba\\u003cbr\\u003ecategory=%{x}\\u003cbr\\u003evalues=%{y}\\u003cextra\\u003e\\u003c\\u002fextra\\u003e\",\"legendgroup\":\"basketball_wnba\",\"marker\":{\"color\":\"#FF97FF\",\"pattern\":{\"shape\":\"\"}},\"name\":\"basketball_wnba\",\"orientation\":\"v\",\"showlegend\":true,\"textposition\":\"auto\",\"x\":[\"sports\"],\"xaxis\":\"x\",\"y\":{\"dtype\":\"i1\",\"bdata\":\"CA==\"},\"yaxis\":\"y\",\"type\":\"bar\"},{\"hovertemplate\":\"subcategory=autoshybrids\\u003cbr\\u003ecategory=%{x}\\u003cbr\\u003evalues=%{y}\\u003cextra\\u003e\\u003c\\u002fextra\\u003e\",\"legendgroup\":\"autoshybrids\",\"marker\":{\"color\":\"#FECB52\",\"pattern\":{\"shape\":\"\"}},\"name\":\"autoshybrids\",\"orientation\":\"v\",\"showlegend\":true,\"textposition\":\"auto\",\"x\":[\"autos\"],\"xaxis\":\"x\",\"y\":{\"dtype\":\"i1\",\"bdata\":\"CA==\"},\"yaxis\":\"y\",\"type\":\"bar\"},{\"hovertemplate\":\"subcategory=causes-green-living\\u003cbr\\u003ecategory=%{x}\\u003cbr\\u003evalues=%{y}\\u003cextra\\u003e\\u003c\\u002fextra\\u003e\",\"legendgroup\":\"causes-green-living\",\"marker\":{\"color\":\"#636efa\",\"pattern\":{\"shape\":\"\"}},\"name\":\"causes-green-living\",\"orientation\":\"v\",\"showlegend\":true,\"textposition\":\"auto\",\"x\":[\"lifestyle\"],\"xaxis\":\"x\",\"y\":{\"dtype\":\"i1\",\"bdata\":\"CA==\"},\"yaxis\":\"y\",\"type\":\"bar\"},{\"hovertemplate\":\"subcategory=weight-loss\\u003cbr\\u003ecategory=%{x}\\u003cbr\\u003evalues=%{y}\\u003cextra\\u003e\\u003c\\u002fextra\\u003e\",\"legendgroup\":\"weight-loss\",\"marker\":{\"color\":\"#EF553B\",\"pattern\":{\"shape\":\"\"}},\"name\":\"weight-loss\",\"orientation\":\"v\",\"showlegend\":true,\"textposition\":\"auto\",\"x\":[\"health\"],\"xaxis\":\"x\",\"y\":{\"dtype\":\"i1\",\"bdata\":\"Bw==\"},\"yaxis\":\"y\",\"type\":\"bar\"},{\"hovertemplate\":\"subcategory=movies-oscars\\u003cbr\\u003ecategory=%{x}\\u003cbr\\u003evalues=%{y}\\u003cextra\\u003e\\u003c\\u002fextra\\u003e\",\"legendgroup\":\"movies-oscars\",\"marker\":{\"color\":\"#00cc96\",\"pattern\":{\"shape\":\"\"}},\"name\":\"movies-oscars\",\"orientation\":\"v\",\"showlegend\":true,\"textposition\":\"auto\",\"x\":[\"movies\"],\"xaxis\":\"x\",\"y\":{\"dtype\":\"i1\",\"bdata\":\"Bw==\"},\"yaxis\":\"y\",\"type\":\"bar\"},{\"hovertemplate\":\"subcategory=sports\\u003cbr\\u003ecategory=%{x}\\u003cbr\\u003evalues=%{y}\\u003cextra\\u003e\\u003c\\u002fextra\\u003e\",\"legendgroup\":\"sports\",\"marker\":{\"color\":\"#ab63fa\",\"pattern\":{\"shape\":\"\"}},\"name\":\"sports\",\"orientation\":\"v\",\"showlegend\":true,\"textposition\":\"auto\",\"x\":[\"video\",\"kids\"],\"xaxis\":\"x\",\"y\":{\"dtype\":\"i1\",\"bdata\":\"BwU=\"},\"yaxis\":\"y\",\"type\":\"bar\"},{\"hovertemplate\":\"subcategory=autostokyo\\u003cbr\\u003ecategory=%{x}\\u003cbr\\u003evalues=%{y}\\u003cextra\\u003e\\u003c\\u002fextra\\u003e\",\"legendgroup\":\"autostokyo\",\"marker\":{\"color\":\"#FFA15A\",\"pattern\":{\"shape\":\"\"}},\"name\":\"autostokyo\",\"orientation\":\"v\",\"showlegend\":true,\"textposition\":\"auto\",\"x\":[\"autos\"],\"xaxis\":\"x\",\"y\":{\"dtype\":\"i1\",\"bdata\":\"Bw==\"},\"yaxis\":\"y\",\"type\":\"bar\"},{\"hovertemplate\":\"subcategory=music-reviews\\u003cbr\\u003ecategory=%{x}\\u003cbr\\u003evalues=%{y}\\u003cextra\\u003e\\u003c\\u002fextra\\u003e\",\"legendgroup\":\"music-reviews\",\"marker\":{\"color\":\"#19d3f3\",\"pattern\":{\"shape\":\"\"}},\"name\":\"music-reviews\",\"orientation\":\"v\",\"showlegend\":true,\"textposition\":\"auto\",\"x\":[\"music\"],\"xaxis\":\"x\",\"y\":{\"dtype\":\"i1\",\"bdata\":\"Bg==\"},\"yaxis\":\"y\",\"type\":\"bar\"},{\"hovertemplate\":\"subcategory=downtime\\u003cbr\\u003ecategory=%{x}\\u003cbr\\u003evalues=%{y}\\u003cextra\\u003e\\u003c\\u002fextra\\u003e\",\"legendgroup\":\"downtime\",\"marker\":{\"color\":\"#FF6692\",\"pattern\":{\"shape\":\"\"}},\"name\":\"downtime\",\"orientation\":\"v\",\"showlegend\":true,\"textposition\":\"auto\",\"x\":[\"video\"],\"xaxis\":\"x\",\"y\":{\"dtype\":\"i1\",\"bdata\":\"Bg==\"},\"yaxis\":\"y\",\"type\":\"bar\"},{\"hovertemplate\":\"subcategory=autospassenger\\u003cbr\\u003ecategory=%{x}\\u003cbr\\u003evalues=%{y}\\u003cextra\\u003e\\u003c\\u002fextra\\u003e\",\"legendgroup\":\"autospassenger\",\"marker\":{\"color\":\"#B6E880\",\"pattern\":{\"shape\":\"\"}},\"name\":\"autospassenger\",\"orientation\":\"v\",\"showlegend\":true,\"textposition\":\"auto\",\"x\":[\"autos\"],\"xaxis\":\"x\",\"y\":{\"dtype\":\"i1\",\"bdata\":\"Bg==\"},\"yaxis\":\"y\",\"type\":\"bar\"},{\"hovertemplate\":\"subcategory=technologyinvesting\\u003cbr\\u003ecategory=%{x}\\u003cbr\\u003evalues=%{y}\\u003cextra\\u003e\\u003c\\u002fextra\\u003e\",\"legendgroup\":\"technologyinvesting\",\"marker\":{\"color\":\"#FF97FF\",\"pattern\":{\"shape\":\"\"}},\"name\":\"technologyinvesting\",\"orientation\":\"v\",\"showlegend\":true,\"textposition\":\"auto\",\"x\":[\"finance\"],\"xaxis\":\"x\",\"y\":{\"dtype\":\"i1\",\"bdata\":\"Bg==\"},\"yaxis\":\"y\",\"type\":\"bar\"},{\"hovertemplate\":\"subcategory=ustravel\\u003cbr\\u003ecategory=%{x}\\u003cbr\\u003evalues=%{y}\\u003cextra\\u003e\\u003c\\u002fextra\\u003e\",\"legendgroup\":\"ustravel\",\"marker\":{\"color\":\"#FECB52\",\"pattern\":{\"shape\":\"\"}},\"name\":\"ustravel\",\"orientation\":\"v\",\"showlegend\":true,\"textposition\":\"auto\",\"x\":[\"travel\"],\"xaxis\":\"x\",\"y\":{\"dtype\":\"i1\",\"bdata\":\"Bg==\"},\"yaxis\":\"y\",\"type\":\"bar\"},{\"hovertemplate\":\"subcategory=newsworldpolitics\\u003cbr\\u003ecategory=%{x}\\u003cbr\\u003evalues=%{y}\\u003cextra\\u003e\\u003c\\u002fextra\\u003e\",\"legendgroup\":\"newsworldpolitics\",\"marker\":{\"color\":\"#636efa\",\"pattern\":{\"shape\":\"\"}},\"name\":\"newsworldpolitics\",\"orientation\":\"v\",\"showlegend\":true,\"textposition\":\"auto\",\"x\":[\"news\"],\"xaxis\":\"x\",\"y\":{\"dtype\":\"i1\",\"bdata\":\"BQ==\"},\"yaxis\":\"y\",\"type\":\"bar\"},{\"hovertemplate\":\"subcategory=autosvideos\\u003cbr\\u003ecategory=%{x}\\u003cbr\\u003evalues=%{y}\\u003cextra\\u003e\\u003c\\u002fextra\\u003e\",\"legendgroup\":\"autosvideos\",\"marker\":{\"color\":\"#EF553B\",\"pattern\":{\"shape\":\"\"}},\"name\":\"autosvideos\",\"orientation\":\"v\",\"showlegend\":true,\"textposition\":\"auto\",\"x\":[\"autos\"],\"xaxis\":\"x\",\"y\":{\"dtype\":\"i1\",\"bdata\":\"BQ==\"},\"yaxis\":\"y\",\"type\":\"bar\"},{\"hovertemplate\":\"subcategory=internationaltravel\\u003cbr\\u003ecategory=%{x}\\u003cbr\\u003evalues=%{y}\\u003cextra\\u003e\\u003c\\u002fextra\\u003e\",\"legendgroup\":\"internationaltravel\",\"marker\":{\"color\":\"#00cc96\",\"pattern\":{\"shape\":\"\"}},\"name\":\"internationaltravel\",\"orientation\":\"v\",\"showlegend\":true,\"textposition\":\"auto\",\"x\":[\"travel\"],\"xaxis\":\"x\",\"y\":{\"dtype\":\"i1\",\"bdata\":\"BQ==\"},\"yaxis\":\"y\",\"type\":\"bar\"},{\"hovertemplate\":\"subcategory=reviews\\u003cbr\\u003ecategory=%{x}\\u003cbr\\u003evalues=%{y}\\u003cextra\\u003e\\u003c\\u002fextra\\u003e\",\"legendgroup\":\"reviews\",\"marker\":{\"color\":\"#ab63fa\",\"pattern\":{\"shape\":\"\"}},\"name\":\"reviews\",\"orientation\":\"v\",\"showlegend\":true,\"textposition\":\"auto\",\"x\":[\"movies\"],\"xaxis\":\"x\",\"y\":{\"dtype\":\"i1\",\"bdata\":\"BQ==\"},\"yaxis\":\"y\",\"type\":\"bar\"},{\"hovertemplate\":\"subcategory=causes-food-insecurity\\u003cbr\\u003ecategory=%{x}\\u003cbr\\u003evalues=%{y}\\u003cextra\\u003e\\u003c\\u002fextra\\u003e\",\"legendgroup\":\"causes-food-insecurity\",\"marker\":{\"color\":\"#FFA15A\",\"pattern\":{\"shape\":\"\"}},\"name\":\"causes-food-insecurity\",\"orientation\":\"v\",\"showlegend\":true,\"textposition\":\"auto\",\"x\":[\"foodanddrink\"],\"xaxis\":\"x\",\"y\":{\"dtype\":\"i1\",\"bdata\":\"BQ==\"},\"yaxis\":\"y\",\"type\":\"bar\"},{\"hovertemplate\":\"subcategory=finance-mutual-funds\\u003cbr\\u003ecategory=%{x}\\u003cbr\\u003evalues=%{y}\\u003cextra\\u003e\\u003c\\u002fextra\\u003e\",\"legendgroup\":\"finance-mutual-funds\",\"marker\":{\"color\":\"#19d3f3\",\"pattern\":{\"shape\":\"\"}},\"name\":\"finance-mutual-funds\",\"orientation\":\"v\",\"showlegend\":true,\"textposition\":\"auto\",\"x\":[\"finance\"],\"xaxis\":\"x\",\"y\":{\"dtype\":\"i1\",\"bdata\":\"BQ==\"},\"yaxis\":\"y\",\"type\":\"bar\"},{\"hovertemplate\":\"subcategory=cocktails\\u003cbr\\u003ecategory=%{x}\\u003cbr\\u003evalues=%{y}\\u003cextra\\u003e\\u003c\\u002fextra\\u003e\",\"legendgroup\":\"cocktails\",\"marker\":{\"color\":\"#FF6692\",\"pattern\":{\"shape\":\"\"}},\"name\":\"cocktails\",\"orientation\":\"v\",\"showlegend\":true,\"textposition\":\"auto\",\"x\":[\"foodanddrink\"],\"xaxis\":\"x\",\"y\":{\"dtype\":\"i1\",\"bdata\":\"BQ==\"},\"yaxis\":\"y\",\"type\":\"bar\"},{\"hovertemplate\":\"subcategory=foodrecipes\\u003cbr\\u003ecategory=%{x}\\u003cbr\\u003evalues=%{y}\\u003cextra\\u003e\\u003c\\u002fextra\\u003e\",\"legendgroup\":\"foodrecipes\",\"marker\":{\"color\":\"#B6E880\",\"pattern\":{\"shape\":\"\"}},\"name\":\"foodrecipes\",\"orientation\":\"v\",\"showlegend\":true,\"textposition\":\"auto\",\"x\":[\"foodanddrink\"],\"xaxis\":\"x\",\"y\":{\"dtype\":\"i1\",\"bdata\":\"BA==\"},\"yaxis\":\"y\",\"type\":\"bar\"},{\"hovertemplate\":\"subcategory=lifestylemarriage\\u003cbr\\u003ecategory=%{x}\\u003cbr\\u003evalues=%{y}\\u003cextra\\u003e\\u003c\\u002fextra\\u003e\",\"legendgroup\":\"lifestylemarriage\",\"marker\":{\"color\":\"#FF97FF\",\"pattern\":{\"shape\":\"\"}},\"name\":\"lifestylemarriage\",\"orientation\":\"v\",\"showlegend\":true,\"textposition\":\"auto\",\"x\":[\"lifestyle\"],\"xaxis\":\"x\",\"y\":{\"dtype\":\"i1\",\"bdata\":\"BA==\"},\"yaxis\":\"y\",\"type\":\"bar\"},{\"hovertemplate\":\"subcategory=music-grammys\\u003cbr\\u003ecategory=%{x}\\u003cbr\\u003evalues=%{y}\\u003cextra\\u003e\\u003c\\u002fextra\\u003e\",\"legendgroup\":\"music-grammys\",\"marker\":{\"color\":\"#FECB52\",\"pattern\":{\"shape\":\"\"}},\"name\":\"music-grammys\",\"orientation\":\"v\",\"showlegend\":true,\"textposition\":\"auto\",\"x\":[\"music\"],\"xaxis\":\"x\",\"y\":{\"dtype\":\"i1\",\"bdata\":\"BA==\"},\"yaxis\":\"y\",\"type\":\"bar\"},{\"hovertemplate\":\"subcategory=tv-golden-globes\\u003cbr\\u003ecategory=%{x}\\u003cbr\\u003evalues=%{y}\\u003cextra\\u003e\\u003c\\u002fextra\\u003e\",\"legendgroup\":\"tv-golden-globes\",\"marker\":{\"color\":\"#636efa\",\"pattern\":{\"shape\":\"\"}},\"name\":\"tv-golden-globes\",\"orientation\":\"v\",\"showlegend\":true,\"textposition\":\"auto\",\"x\":[\"tv\"],\"xaxis\":\"x\",\"y\":{\"dtype\":\"i1\",\"bdata\":\"BA==\"},\"yaxis\":\"y\",\"type\":\"bar\"},{\"hovertemplate\":\"subcategory=sports_news\\u003cbr\\u003ecategory=%{x}\\u003cbr\\u003evalues=%{y}\\u003cextra\\u003e\\u003c\\u002fextra\\u003e\",\"legendgroup\":\"sports_news\",\"marker\":{\"color\":\"#EF553B\",\"pattern\":{\"shape\":\"\"}},\"name\":\"sports_news\",\"orientation\":\"v\",\"showlegend\":true,\"textposition\":\"auto\",\"x\":[\"sports\"],\"xaxis\":\"x\",\"y\":{\"dtype\":\"i1\",\"bdata\":\"BA==\"},\"yaxis\":\"y\",\"type\":\"bar\"},{\"hovertemplate\":\"subcategory=autosreview\\u003cbr\\u003ecategory=%{x}\\u003cbr\\u003evalues=%{y}\\u003cextra\\u003e\\u003c\\u002fextra\\u003e\",\"legendgroup\":\"autosreview\",\"marker\":{\"color\":\"#00cc96\",\"pattern\":{\"shape\":\"\"}},\"name\":\"autosreview\",\"orientation\":\"v\",\"showlegend\":true,\"textposition\":\"auto\",\"x\":[\"autos\"],\"xaxis\":\"x\",\"y\":{\"dtype\":\"i1\",\"bdata\":\"Aw==\"},\"yaxis\":\"y\",\"type\":\"bar\"},{\"hovertemplate\":\"subcategory=watch\\u003cbr\\u003ecategory=%{x}\\u003cbr\\u003evalues=%{y}\\u003cextra\\u003e\\u003c\\u002fextra\\u003e\",\"legendgroup\":\"watch\",\"marker\":{\"color\":\"#ab63fa\",\"pattern\":{\"shape\":\"\"}},\"name\":\"watch\",\"orientation\":\"v\",\"showlegend\":true,\"textposition\":\"auto\",\"x\":[\"video\"],\"xaxis\":\"x\",\"y\":{\"dtype\":\"i1\",\"bdata\":\"Aw==\"},\"yaxis\":\"y\",\"type\":\"bar\"},{\"hovertemplate\":\"subcategory=cooking\\u003cbr\\u003ecategory=%{x}\\u003cbr\\u003evalues=%{y}\\u003cextra\\u003e\\u003c\\u002fextra\\u003e\",\"legendgroup\":\"cooking\",\"marker\":{\"color\":\"#FFA15A\",\"pattern\":{\"shape\":\"\"}},\"name\":\"cooking\",\"orientation\":\"v\",\"showlegend\":true,\"textposition\":\"auto\",\"x\":[\"foodanddrink\"],\"xaxis\":\"x\",\"y\":{\"dtype\":\"i1\",\"bdata\":\"Aw==\"},\"yaxis\":\"y\",\"type\":\"bar\"},{\"hovertemplate\":\"subcategory=causes-environment\\u003cbr\\u003ecategory=%{x}\\u003cbr\\u003evalues=%{y}\\u003cextra\\u003e\\u003c\\u002fextra\\u003e\",\"legendgroup\":\"causes-environment\",\"marker\":{\"color\":\"#19d3f3\",\"pattern\":{\"shape\":\"\"}},\"name\":\"causes-environment\",\"orientation\":\"v\",\"showlegend\":true,\"textposition\":\"auto\",\"x\":[\"news\"],\"xaxis\":\"x\",\"y\":{\"dtype\":\"i1\",\"bdata\":\"Aw==\"},\"yaxis\":\"y\",\"type\":\"bar\"},{\"hovertemplate\":\"subcategory=travel-videos\\u003cbr\\u003ecategory=%{x}\\u003cbr\\u003evalues=%{y}\\u003cextra\\u003e\\u003c\\u002fextra\\u003e\",\"legendgroup\":\"travel-videos\",\"marker\":{\"color\":\"#FF6692\",\"pattern\":{\"shape\":\"\"}},\"name\":\"travel-videos\",\"orientation\":\"v\",\"showlegend\":true,\"textposition\":\"auto\",\"x\":[\"travel\"],\"xaxis\":\"x\",\"y\":{\"dtype\":\"i1\",\"bdata\":\"Aw==\"},\"yaxis\":\"y\",\"type\":\"bar\"},{\"hovertemplate\":\"subcategory=career-news\\u003cbr\\u003ecategory=%{x}\\u003cbr\\u003evalues=%{y}\\u003cextra\\u003e\\u003c\\u002fextra\\u003e\",\"legendgroup\":\"career-news\",\"marker\":{\"color\":\"#B6E880\",\"pattern\":{\"shape\":\"\"}},\"name\":\"career-news\",\"orientation\":\"v\",\"showlegend\":true,\"textposition\":\"auto\",\"x\":[\"finance\"],\"xaxis\":\"x\",\"y\":{\"dtype\":\"i1\",\"bdata\":\"Aw==\"},\"yaxis\":\"y\",\"type\":\"bar\"},{\"hovertemplate\":\"subcategory=newsvideo\\u003cbr\\u003ecategory=%{x}\\u003cbr\\u003evalues=%{y}\\u003cextra\\u003e\\u003c\\u002fextra\\u003e\",\"legendgroup\":\"newsvideo\",\"marker\":{\"color\":\"#FF97FF\",\"pattern\":{\"shape\":\"\"}},\"name\":\"newsvideo\",\"orientation\":\"v\",\"showlegend\":true,\"textposition\":\"auto\",\"x\":[\"news\"],\"xaxis\":\"x\",\"y\":{\"dtype\":\"i1\",\"bdata\":\"Aw==\"},\"yaxis\":\"y\",\"type\":\"bar\"},{\"hovertemplate\":\"subcategory=newstechnology\\u003cbr\\u003ecategory=%{x}\\u003cbr\\u003evalues=%{y}\\u003cextra\\u003e\\u003c\\u002fextra\\u003e\",\"legendgroup\":\"newstechnology\",\"marker\":{\"color\":\"#FECB52\",\"pattern\":{\"shape\":\"\"}},\"name\":\"newstechnology\",\"orientation\":\"v\",\"showlegend\":true,\"textposition\":\"auto\",\"x\":[\"news\"],\"xaxis\":\"x\",\"y\":{\"dtype\":\"i1\",\"bdata\":\"Aw==\"},\"yaxis\":\"y\",\"type\":\"bar\"},{\"hovertemplate\":\"subcategory=strength\\u003cbr\\u003ecategory=%{x}\\u003cbr\\u003evalues=%{y}\\u003cextra\\u003e\\u003c\\u002fextra\\u003e\",\"legendgroup\":\"strength\",\"marker\":{\"color\":\"#636efa\",\"pattern\":{\"shape\":\"\"}},\"name\":\"strength\",\"orientation\":\"v\",\"showlegend\":true,\"textposition\":\"auto\",\"x\":[\"health\"],\"xaxis\":\"x\",\"y\":{\"dtype\":\"i1\",\"bdata\":\"Ag==\"},\"yaxis\":\"y\",\"type\":\"bar\"},{\"hovertemplate\":\"subcategory=yearinoffbeatgoodnews\\u003cbr\\u003ecategory=%{x}\\u003cbr\\u003evalues=%{y}\\u003cextra\\u003e\\u003c\\u002fextra\\u003e\",\"legendgroup\":\"yearinoffbeatgoodnews\",\"marker\":{\"color\":\"#EF553B\",\"pattern\":{\"shape\":\"\"}},\"name\":\"yearinoffbeatgoodnews\",\"orientation\":\"v\",\"showlegend\":true,\"textposition\":\"auto\",\"x\":[\"news\"],\"xaxis\":\"x\",\"y\":{\"dtype\":\"i1\",\"bdata\":\"Ag==\"},\"yaxis\":\"y\",\"type\":\"bar\"},{\"hovertemplate\":\"subcategory=celebritynews\\u003cbr\\u003ecategory=%{x}\\u003cbr\\u003evalues=%{y}\\u003cextra\\u003e\\u003c\\u002fextra\\u003e\",\"legendgroup\":\"celebritynews\",\"marker\":{\"color\":\"#00cc96\",\"pattern\":{\"shape\":\"\"}},\"name\":\"celebritynews\",\"orientation\":\"v\",\"showlegend\":true,\"textposition\":\"auto\",\"x\":[\"entertainment\"],\"xaxis\":\"x\",\"y\":{\"dtype\":\"i1\",\"bdata\":\"Ag==\"},\"yaxis\":\"y\",\"type\":\"bar\"},{\"hovertemplate\":\"subcategory=lifestylehoroscopefish\\u003cbr\\u003ecategory=%{x}\\u003cbr\\u003evalues=%{y}\\u003cextra\\u003e\\u003c\\u002fextra\\u003e\",\"legendgroup\":\"lifestylehoroscopefish\",\"marker\":{\"color\":\"#ab63fa\",\"pattern\":{\"shape\":\"\"}},\"name\":\"lifestylehoroscopefish\",\"orientation\":\"v\",\"showlegend\":true,\"textposition\":\"auto\",\"x\":[\"lifestyle\"],\"xaxis\":\"x\",\"y\":{\"dtype\":\"i1\",\"bdata\":\"Ag==\"},\"yaxis\":\"y\",\"type\":\"bar\"},{\"hovertemplate\":\"subcategory=seasonal\\u003cbr\\u003ecategory=%{x}\\u003cbr\\u003evalues=%{y}\\u003cextra\\u003e\\u003c\\u002fextra\\u003e\",\"legendgroup\":\"seasonal\",\"marker\":{\"color\":\"#FFA15A\",\"pattern\":{\"shape\":\"\"}},\"name\":\"seasonal\",\"orientation\":\"v\",\"showlegend\":true,\"textposition\":\"auto\",\"x\":[\"foodanddrink\"],\"xaxis\":\"x\",\"y\":{\"dtype\":\"i1\",\"bdata\":\"Ag==\"},\"yaxis\":\"y\",\"type\":\"bar\"},{\"hovertemplate\":\"subcategory=holidays\\u003cbr\\u003ecategory=%{x}\\u003cbr\\u003evalues=%{y}\\u003cextra\\u003e\\u003c\\u002fextra\\u003e\",\"legendgroup\":\"holidays\",\"marker\":{\"color\":\"#19d3f3\",\"pattern\":{\"shape\":\"\"}},\"name\":\"holidays\",\"orientation\":\"v\",\"showlegend\":true,\"textposition\":\"auto\",\"x\":[\"travel\",\"lifestyle\"],\"xaxis\":\"x\",\"y\":{\"dtype\":\"i1\",\"bdata\":\"AgI=\"},\"yaxis\":\"y\",\"type\":\"bar\"},{\"hovertemplate\":\"subcategory=cardio\\u003cbr\\u003ecategory=%{x}\\u003cbr\\u003evalues=%{y}\\u003cextra\\u003e\\u003c\\u002fextra\\u003e\",\"legendgroup\":\"cardio\",\"marker\":{\"color\":\"#FF6692\",\"pattern\":{\"shape\":\"\"}},\"name\":\"cardio\",\"orientation\":\"v\",\"showlegend\":true,\"textposition\":\"auto\",\"x\":[\"health\"],\"xaxis\":\"x\",\"y\":{\"dtype\":\"i1\",\"bdata\":\"Ag==\"},\"yaxis\":\"y\",\"type\":\"bar\"},{\"hovertemplate\":\"subcategory=familyhealth\\u003cbr\\u003ecategory=%{x}\\u003cbr\\u003evalues=%{y}\\u003cextra\\u003e\\u003c\\u002fextra\\u003e\",\"legendgroup\":\"familyhealth\",\"marker\":{\"color\":\"#B6E880\",\"pattern\":{\"shape\":\"\"}},\"name\":\"familyhealth\",\"orientation\":\"v\",\"showlegend\":true,\"textposition\":\"auto\",\"x\":[\"health\"],\"xaxis\":\"x\",\"y\":{\"dtype\":\"i1\",\"bdata\":\"Ag==\"},\"yaxis\":\"y\",\"type\":\"bar\"},{\"hovertemplate\":\"subcategory=healthagingwell\\u003cbr\\u003ecategory=%{x}\\u003cbr\\u003evalues=%{y}\\u003cextra\\u003e\\u003c\\u002fextra\\u003e\",\"legendgroup\":\"healthagingwell\",\"marker\":{\"color\":\"#FF97FF\",\"pattern\":{\"shape\":\"\"}},\"name\":\"healthagingwell\",\"orientation\":\"v\",\"showlegend\":true,\"textposition\":\"auto\",\"x\":[\"health\"],\"xaxis\":\"x\",\"y\":{\"dtype\":\"i1\",\"bdata\":\"Ag==\"},\"yaxis\":\"y\",\"type\":\"bar\"},{\"hovertemplate\":\"subcategory=photos\\u003cbr\\u003ecategory=%{x}\\u003cbr\\u003evalues=%{y}\\u003cextra\\u003e\\u003c\\u002fextra\\u003e\",\"legendgroup\":\"photos\",\"marker\":{\"color\":\"#FECB52\",\"pattern\":{\"shape\":\"\"}},\"name\":\"photos\",\"orientation\":\"v\",\"showlegend\":true,\"textposition\":\"auto\",\"x\":[\"news\",\"weather\"],\"xaxis\":\"x\",\"y\":{\"dtype\":\"i1\",\"bdata\":\"AgE=\"},\"yaxis\":\"y\",\"type\":\"bar\"},{\"hovertemplate\":\"subcategory=middleeast-top-stories\\u003cbr\\u003ecategory=%{x}\\u003cbr\\u003evalues=%{y}\\u003cextra\\u003e\\u003c\\u002fextra\\u003e\",\"legendgroup\":\"middleeast-top-stories\",\"marker\":{\"color\":\"#636efa\",\"pattern\":{\"shape\":\"\"}},\"name\":\"middleeast-top-stories\",\"orientation\":\"v\",\"showlegend\":true,\"textposition\":\"auto\",\"x\":[\"middleeast\"],\"xaxis\":\"x\",\"y\":{\"dtype\":\"i1\",\"bdata\":\"Ag==\"},\"yaxis\":\"y\",\"type\":\"bar\"},{\"hovertemplate\":\"subcategory=indepth\\u003cbr\\u003ecategory=%{x}\\u003cbr\\u003evalues=%{y}\\u003cextra\\u003e\\u003c\\u002fextra\\u003e\",\"legendgroup\":\"indepth\",\"marker\":{\"color\":\"#EF553B\",\"pattern\":{\"shape\":\"\"}},\"name\":\"indepth\",\"orientation\":\"v\",\"showlegend\":true,\"textposition\":\"auto\",\"x\":[\"news\"],\"xaxis\":\"x\",\"y\":{\"dtype\":\"i1\",\"bdata\":\"Ag==\"},\"yaxis\":\"y\",\"type\":\"bar\"},{\"hovertemplate\":\"subcategory=autoscartech\\u003cbr\\u003ecategory=%{x}\\u003cbr\\u003evalues=%{y}\\u003cextra\\u003e\\u003c\\u002fextra\\u003e\",\"legendgroup\":\"autoscartech\",\"marker\":{\"color\":\"#00cc96\",\"pattern\":{\"shape\":\"\"}},\"name\":\"autoscartech\",\"orientation\":\"v\",\"showlegend\":true,\"textposition\":\"auto\",\"x\":[\"autos\"],\"xaxis\":\"x\",\"y\":{\"dtype\":\"i1\",\"bdata\":\"Ag==\"},\"yaxis\":\"y\",\"type\":\"bar\"},{\"hovertemplate\":\"subcategory=comedy\\u003cbr\\u003ecategory=%{x}\\u003cbr\\u003evalues=%{y}\\u003cextra\\u003e\\u003c\\u002fextra\\u003e\",\"legendgroup\":\"comedy\",\"marker\":{\"color\":\"#ab63fa\",\"pattern\":{\"shape\":\"\"}},\"name\":\"comedy\",\"orientation\":\"v\",\"showlegend\":true,\"textposition\":\"auto\",\"x\":[\"video\"],\"xaxis\":\"x\",\"y\":{\"dtype\":\"i1\",\"bdata\":\"Ag==\"},\"yaxis\":\"y\",\"type\":\"bar\"},{\"hovertemplate\":\"subcategory=shop-computers-electronics\\u003cbr\\u003ecategory=%{x}\\u003cbr\\u003evalues=%{y}\\u003cextra\\u003e\\u003c\\u002fextra\\u003e\",\"legendgroup\":\"shop-computers-electronics\",\"marker\":{\"color\":\"#FFA15A\",\"pattern\":{\"shape\":\"\"}},\"name\":\"shop-computers-electronics\",\"orientation\":\"v\",\"showlegend\":true,\"textposition\":\"auto\",\"x\":[\"lifestyle\"],\"xaxis\":\"x\",\"y\":{\"dtype\":\"i1\",\"bdata\":\"Ag==\"},\"yaxis\":\"y\",\"type\":\"bar\"},{\"hovertemplate\":\"subcategory=shop-books-movies-tv\\u003cbr\\u003ecategory=%{x}\\u003cbr\\u003evalues=%{y}\\u003cextra\\u003e\\u003c\\u002fextra\\u003e\",\"legendgroup\":\"shop-books-movies-tv\",\"marker\":{\"color\":\"#19d3f3\",\"pattern\":{\"shape\":\"\"}},\"name\":\"shop-books-movies-tv\",\"orientation\":\"v\",\"showlegend\":true,\"textposition\":\"auto\",\"x\":[\"lifestyle\"],\"xaxis\":\"x\",\"y\":{\"dtype\":\"i1\",\"bdata\":\"Ag==\"},\"yaxis\":\"y\",\"type\":\"bar\"},{\"hovertemplate\":\"subcategory=tv-reviews\\u003cbr\\u003ecategory=%{x}\\u003cbr\\u003evalues=%{y}\\u003cextra\\u003e\\u003c\\u002fextra\\u003e\",\"legendgroup\":\"tv-reviews\",\"marker\":{\"color\":\"#FF6692\",\"pattern\":{\"shape\":\"\"}},\"name\":\"tv-reviews\",\"orientation\":\"v\",\"showlegend\":true,\"textposition\":\"auto\",\"x\":[\"tv\"],\"xaxis\":\"x\",\"y\":{\"dtype\":\"i1\",\"bdata\":\"Ag==\"},\"yaxis\":\"y\",\"type\":\"bar\"},{\"hovertemplate\":\"subcategory=causes-disaster-relief\\u003cbr\\u003ecategory=%{x}\\u003cbr\\u003evalues=%{y}\\u003cextra\\u003e\\u003c\\u002fextra\\u003e\",\"legendgroup\":\"causes-disaster-relief\",\"marker\":{\"color\":\"#B6E880\",\"pattern\":{\"shape\":\"\"}},\"name\":\"causes-disaster-relief\",\"orientation\":\"v\",\"showlegend\":true,\"textposition\":\"auto\",\"x\":[\"news\"],\"xaxis\":\"x\",\"y\":{\"dtype\":\"i1\",\"bdata\":\"Ag==\"},\"yaxis\":\"y\",\"type\":\"bar\"},{\"hovertemplate\":\"subcategory=lifestyletravel\\u003cbr\\u003ecategory=%{x}\\u003cbr\\u003evalues=%{y}\\u003cextra\\u003e\\u003c\\u002fextra\\u003e\",\"legendgroup\":\"lifestyletravel\",\"marker\":{\"color\":\"#FF97FF\",\"pattern\":{\"shape\":\"\"}},\"name\":\"lifestyletravel\",\"orientation\":\"v\",\"showlegend\":true,\"textposition\":\"auto\",\"x\":[\"lifestyle\"],\"xaxis\":\"x\",\"y\":{\"dtype\":\"i1\",\"bdata\":\"Ag==\"},\"yaxis\":\"y\",\"type\":\"bar\"},{\"hovertemplate\":\"subcategory=empowering-the-planet\\u003cbr\\u003ecategory=%{x}\\u003cbr\\u003evalues=%{y}\\u003cextra\\u003e\\u003c\\u002fextra\\u003e\",\"legendgroup\":\"empowering-the-planet\",\"marker\":{\"color\":\"#FECB52\",\"pattern\":{\"shape\":\"\"}},\"name\":\"empowering-the-planet\",\"orientation\":\"v\",\"showlegend\":true,\"textposition\":\"auto\",\"x\":[\"news\"],\"xaxis\":\"x\",\"y\":{\"dtype\":\"i1\",\"bdata\":\"Ag==\"},\"yaxis\":\"y\",\"type\":\"bar\"},{\"hovertemplate\":\"subcategory=soccer_videos\\u003cbr\\u003ecategory=%{x}\\u003cbr\\u003evalues=%{y}\\u003cextra\\u003e\\u003c\\u002fextra\\u003e\",\"legendgroup\":\"soccer_videos\",\"marker\":{\"color\":\"#636efa\",\"pattern\":{\"shape\":\"\"}},\"name\":\"soccer_videos\",\"orientation\":\"v\",\"showlegend\":true,\"textposition\":\"auto\",\"x\":[\"sports\"],\"xaxis\":\"x\",\"y\":{\"dtype\":\"i1\",\"bdata\":\"AQ==\"},\"yaxis\":\"y\",\"type\":\"bar\"},{\"hovertemplate\":\"subcategory=weatherfullscreenmaps\\u003cbr\\u003ecategory=%{x}\\u003cbr\\u003evalues=%{y}\\u003cextra\\u003e\\u003c\\u002fextra\\u003e\",\"legendgroup\":\"weatherfullscreenmaps\",\"marker\":{\"color\":\"#EF553B\",\"pattern\":{\"shape\":\"\"}},\"name\":\"weatherfullscreenmaps\",\"orientation\":\"v\",\"showlegend\":true,\"textposition\":\"auto\",\"x\":[\"weather\"],\"xaxis\":\"x\",\"y\":{\"dtype\":\"i1\",\"bdata\":\"AQ==\"},\"yaxis\":\"y\",\"type\":\"bar\"},{\"hovertemplate\":\"subcategory=soccer_fifa_wwc\\u003cbr\\u003ecategory=%{x}\\u003cbr\\u003evalues=%{y}\\u003cextra\\u003e\\u003c\\u002fextra\\u003e\",\"legendgroup\":\"soccer_fifa_wwc\",\"marker\":{\"color\":\"#00cc96\",\"pattern\":{\"shape\":\"\"}},\"name\":\"soccer_fifa_wwc\",\"orientation\":\"v\",\"showlegend\":true,\"textposition\":\"auto\",\"x\":[\"sports\"],\"xaxis\":\"x\",\"y\":{\"dtype\":\"i1\",\"bdata\":\"AQ==\"},\"yaxis\":\"y\",\"type\":\"bar\"},{\"hovertemplate\":\"subcategory=topnews\\u003cbr\\u003ecategory=%{x}\\u003cbr\\u003evalues=%{y}\\u003cextra\\u003e\\u003c\\u002fextra\\u003e\",\"legendgroup\":\"topnews\",\"marker\":{\"color\":\"#ab63fa\",\"pattern\":{\"shape\":\"\"}},\"name\":\"topnews\",\"orientation\":\"v\",\"showlegend\":true,\"textposition\":\"auto\",\"x\":[\"tv\",\"music\"],\"xaxis\":\"x\",\"y\":{\"dtype\":\"i1\",\"bdata\":\"AQE=\"},\"yaxis\":\"y\",\"type\":\"bar\"},{\"hovertemplate\":\"subcategory=tv-golden-globes-video\\u003cbr\\u003ecategory=%{x}\\u003cbr\\u003evalues=%{y}\\u003cextra\\u003e\\u003c\\u002fextra\\u003e\",\"legendgroup\":\"tv-golden-globes-video\",\"marker\":{\"color\":\"#FFA15A\",\"pattern\":{\"shape\":\"\"}},\"name\":\"tv-golden-globes-video\",\"orientation\":\"v\",\"showlegend\":true,\"textposition\":\"auto\",\"x\":[\"tv\"],\"xaxis\":\"x\",\"y\":{\"dtype\":\"i1\",\"bdata\":\"AQ==\"},\"yaxis\":\"y\",\"type\":\"bar\"},{\"hovertemplate\":\"subcategory=tennis_intl\\u003cbr\\u003ecategory=%{x}\\u003cbr\\u003evalues=%{y}\\u003cextra\\u003e\\u003c\\u002fextra\\u003e\",\"legendgroup\":\"tennis_intl\",\"marker\":{\"color\":\"#19d3f3\",\"pattern\":{\"shape\":\"\"}},\"name\":\"tennis_intl\",\"orientation\":\"v\",\"showlegend\":true,\"textposition\":\"auto\",\"x\":[\"sports\"],\"xaxis\":\"x\",\"y\":{\"dtype\":\"i1\",\"bdata\":\"AQ==\"},\"yaxis\":\"y\",\"type\":\"bar\"},{\"hovertemplate\":\"subcategory=autosvans\\u003cbr\\u003ecategory=%{x}\\u003cbr\\u003evalues=%{y}\\u003cextra\\u003e\\u003c\\u002fextra\\u003e\",\"legendgroup\":\"autosvans\",\"marker\":{\"color\":\"#FF6692\",\"pattern\":{\"shape\":\"\"}},\"name\":\"autosvans\",\"orientation\":\"v\",\"showlegend\":true,\"textposition\":\"auto\",\"x\":[\"autos\"],\"xaxis\":\"x\",\"y\":{\"dtype\":\"i1\",\"bdata\":\"AQ==\"},\"yaxis\":\"y\",\"type\":\"bar\"},{\"hovertemplate\":\"subcategory=soccer_bund\\u003cbr\\u003ecategory=%{x}\\u003cbr\\u003evalues=%{y}\\u003cextra\\u003e\\u003c\\u002fextra\\u003e\",\"legendgroup\":\"soccer_bund\",\"marker\":{\"color\":\"#B6E880\",\"pattern\":{\"shape\":\"\"}},\"name\":\"soccer_bund\",\"orientation\":\"v\",\"showlegend\":true,\"textposition\":\"auto\",\"x\":[\"sports\"],\"xaxis\":\"x\",\"y\":{\"dtype\":\"i1\",\"bdata\":\"AQ==\"},\"yaxis\":\"y\",\"type\":\"bar\"},{\"hovertemplate\":\"subcategory=autoscompact\\u003cbr\\u003ecategory=%{x}\\u003cbr\\u003evalues=%{y}\\u003cextra\\u003e\\u003c\\u002fextra\\u003e\",\"legendgroup\":\"autoscompact\",\"marker\":{\"color\":\"#FF97FF\",\"pattern\":{\"shape\":\"\"}},\"name\":\"autoscompact\",\"orientation\":\"v\",\"showlegend\":true,\"textposition\":\"auto\",\"x\":[\"autos\"],\"xaxis\":\"x\",\"y\":{\"dtype\":\"i1\",\"bdata\":\"AQ==\"},\"yaxis\":\"y\",\"type\":\"bar\"},{\"hovertemplate\":\"subcategory=autosconvertibles\\u003cbr\\u003ecategory=%{x}\\u003cbr\\u003evalues=%{y}\\u003cextra\\u003e\\u003c\\u002fextra\\u003e\",\"legendgroup\":\"autosconvertibles\",\"marker\":{\"color\":\"#FECB52\",\"pattern\":{\"shape\":\"\"}},\"name\":\"autosconvertibles\",\"orientation\":\"v\",\"showlegend\":true,\"textposition\":\"auto\",\"x\":[\"autos\"],\"xaxis\":\"x\",\"y\":{\"dtype\":\"i1\",\"bdata\":\"AQ==\"},\"yaxis\":\"y\",\"type\":\"bar\"},{\"hovertemplate\":\"subcategory=traveltrivia\\u003cbr\\u003ecategory=%{x}\\u003cbr\\u003evalues=%{y}\\u003cextra\\u003e\\u003c\\u002fextra\\u003e\",\"legendgroup\":\"traveltrivia\",\"marker\":{\"color\":\"#636efa\",\"pattern\":{\"shape\":\"\"}},\"name\":\"traveltrivia\",\"orientation\":\"v\",\"showlegend\":true,\"textposition\":\"auto\",\"x\":[\"travel\"],\"xaxis\":\"x\",\"y\":{\"dtype\":\"i1\",\"bdata\":\"AQ==\"},\"yaxis\":\"y\",\"type\":\"bar\"},{\"hovertemplate\":\"subcategory=foodanddrink\\u003cbr\\u003ecategory=%{x}\\u003cbr\\u003evalues=%{y}\\u003cextra\\u003e\\u003c\\u002fextra\\u003e\",\"legendgroup\":\"foodanddrink\",\"marker\":{\"color\":\"#EF553B\",\"pattern\":{\"shape\":\"\"}},\"name\":\"foodanddrink\",\"orientation\":\"v\",\"showlegend\":true,\"textposition\":\"auto\",\"x\":[\"video\"],\"xaxis\":\"x\",\"y\":{\"dtype\":\"i1\",\"bdata\":\"AQ==\"},\"yaxis\":\"y\",\"type\":\"bar\"},{\"hovertemplate\":\"subcategory=healthandfitness\\u003cbr\\u003ecategory=%{x}\\u003cbr\\u003evalues=%{y}\\u003cextra\\u003e\\u003c\\u002fextra\\u003e\",\"legendgroup\":\"healthandfitness\",\"marker\":{\"color\":\"#00cc96\",\"pattern\":{\"shape\":\"\"}},\"name\":\"healthandfitness\",\"orientation\":\"v\",\"showlegend\":true,\"textposition\":\"auto\",\"x\":[\"video\"],\"xaxis\":\"x\",\"y\":{\"dtype\":\"i1\",\"bdata\":\"AQ==\"},\"yaxis\":\"y\",\"type\":\"bar\"},{\"hovertemplate\":\"subcategory=travel-accessible\\u003cbr\\u003ecategory=%{x}\\u003cbr\\u003evalues=%{y}\\u003cextra\\u003e\\u003c\\u002fextra\\u003e\",\"legendgroup\":\"travel-accessible\",\"marker\":{\"color\":\"#ab63fa\",\"pattern\":{\"shape\":\"\"}},\"name\":\"travel-accessible\",\"orientation\":\"v\",\"showlegend\":true,\"textposition\":\"auto\",\"x\":[\"travel\"],\"xaxis\":\"x\",\"y\":{\"dtype\":\"i1\",\"bdata\":\"AQ==\"},\"yaxis\":\"y\",\"type\":\"bar\"},{\"hovertemplate\":\"subcategory=autoslosangeles\\u003cbr\\u003ecategory=%{x}\\u003cbr\\u003evalues=%{y}\\u003cextra\\u003e\\u003c\\u002fextra\\u003e\",\"legendgroup\":\"autoslosangeles\",\"marker\":{\"color\":\"#FFA15A\",\"pattern\":{\"shape\":\"\"}},\"name\":\"autoslosangeles\",\"orientation\":\"v\",\"showlegend\":true,\"textposition\":\"auto\",\"x\":[\"autos\"],\"xaxis\":\"x\",\"y\":{\"dtype\":\"i1\",\"bdata\":\"AQ==\"},\"yaxis\":\"y\",\"type\":\"bar\"},{\"hovertemplate\":\"subcategory=autosmidsize\\u003cbr\\u003ecategory=%{x}\\u003cbr\\u003evalues=%{y}\\u003cextra\\u003e\\u003c\\u002fextra\\u003e\",\"legendgroup\":\"autosmidsize\",\"marker\":{\"color\":\"#19d3f3\",\"pattern\":{\"shape\":\"\"}},\"name\":\"autosmidsize\",\"orientation\":\"v\",\"showlegend\":true,\"textposition\":\"auto\",\"x\":[\"autos\"],\"xaxis\":\"x\",\"y\":{\"dtype\":\"i1\",\"bdata\":\"AQ==\"},\"yaxis\":\"y\",\"type\":\"bar\"},{\"hovertemplate\":\"subcategory=mindandbody\\u003cbr\\u003ecategory=%{x}\\u003cbr\\u003evalues=%{y}\\u003cextra\\u003e\\u003c\\u002fextra\\u003e\",\"legendgroup\":\"mindandbody\",\"marker\":{\"color\":\"#FF6692\",\"pattern\":{\"shape\":\"\"}},\"name\":\"mindandbody\",\"orientation\":\"v\",\"showlegend\":true,\"textposition\":\"auto\",\"x\":[\"health\"],\"xaxis\":\"x\",\"y\":{\"dtype\":\"i1\",\"bdata\":\"AQ==\"},\"yaxis\":\"y\",\"type\":\"bar\"},{\"hovertemplate\":\"subcategory=finance-home-loans\\u003cbr\\u003ecategory=%{x}\\u003cbr\\u003evalues=%{y}\\u003cextra\\u003e\\u003c\\u002fextra\\u003e\",\"legendgroup\":\"finance-home-loans\",\"marker\":{\"color\":\"#B6E880\",\"pattern\":{\"shape\":\"\"}},\"name\":\"finance-home-loans\",\"orientation\":\"v\",\"showlegend\":true,\"textposition\":\"auto\",\"x\":[\"finance\"],\"xaxis\":\"x\",\"y\":{\"dtype\":\"i1\",\"bdata\":\"AQ==\"},\"yaxis\":\"y\",\"type\":\"bar\"},{\"hovertemplate\":\"subcategory=celebhub\\u003cbr\\u003ecategory=%{x}\\u003cbr\\u003evalues=%{y}\\u003cextra\\u003e\\u003c\\u002fextra\\u003e\",\"legendgroup\":\"celebhub\",\"marker\":{\"color\":\"#FF97FF\",\"pattern\":{\"shape\":\"\"}},\"name\":\"celebhub\",\"orientation\":\"v\",\"showlegend\":true,\"textposition\":\"auto\",\"x\":[\"entertainment\"],\"xaxis\":\"x\",\"y\":{\"dtype\":\"i1\",\"bdata\":\"AQ==\"},\"yaxis\":\"y\",\"type\":\"bar\"},{\"hovertemplate\":\"subcategory=lifestylestyle\\u003cbr\\u003ecategory=%{x}\\u003cbr\\u003evalues=%{y}\\u003cextra\\u003e\\u003c\\u002fextra\\u003e\",\"legendgroup\":\"lifestylestyle\",\"marker\":{\"color\":\"#FECB52\",\"pattern\":{\"shape\":\"\"}},\"name\":\"lifestylestyle\",\"orientation\":\"v\",\"showlegend\":true,\"textposition\":\"auto\",\"x\":[\"lifestyle\"],\"xaxis\":\"x\",\"y\":{\"dtype\":\"i1\",\"bdata\":\"AQ==\"},\"yaxis\":\"y\",\"type\":\"bar\"},{\"hovertemplate\":\"subcategory=finance-savingsrates\\u003cbr\\u003ecategory=%{x}\\u003cbr\\u003evalues=%{y}\\u003cextra\\u003e\\u003c\\u002fextra\\u003e\",\"legendgroup\":\"finance-savingsrates\",\"marker\":{\"color\":\"#636efa\",\"pattern\":{\"shape\":\"\"}},\"name\":\"finance-savingsrates\",\"orientation\":\"v\",\"showlegend\":true,\"textposition\":\"auto\",\"x\":[\"finance\"],\"xaxis\":\"x\",\"y\":{\"dtype\":\"i1\",\"bdata\":\"AQ==\"},\"yaxis\":\"y\",\"type\":\"bar\"},{\"hovertemplate\":\"subcategory=finance-startinvesting\\u003cbr\\u003ecategory=%{x}\\u003cbr\\u003evalues=%{y}\\u003cextra\\u003e\\u003c\\u002fextra\\u003e\",\"legendgroup\":\"finance-startinvesting\",\"marker\":{\"color\":\"#EF553B\",\"pattern\":{\"shape\":\"\"}},\"name\":\"finance-startinvesting\",\"orientation\":\"v\",\"showlegend\":true,\"textposition\":\"auto\",\"x\":[\"finance\"],\"xaxis\":\"x\",\"y\":{\"dtype\":\"i1\",\"bdata\":\"AQ==\"},\"yaxis\":\"y\",\"type\":\"bar\"},{\"hovertemplate\":\"subcategory=spendingandborrowing\\u003cbr\\u003ecategory=%{x}\\u003cbr\\u003evalues=%{y}\\u003cextra\\u003e\\u003c\\u002fextra\\u003e\",\"legendgroup\":\"spendingandborrowing\",\"marker\":{\"color\":\"#00cc96\",\"pattern\":{\"shape\":\"\"}},\"name\":\"spendingandborrowing\",\"orientation\":\"v\",\"showlegend\":true,\"textposition\":\"auto\",\"x\":[\"finance\"],\"xaxis\":\"x\",\"y\":{\"dtype\":\"i1\",\"bdata\":\"AQ==\"},\"yaxis\":\"y\",\"type\":\"bar\"},{\"hovertemplate\":\"subcategory=travel\\u003cbr\\u003ecategory=%{x}\\u003cbr\\u003evalues=%{y}\\u003cextra\\u003e\\u003c\\u002fextra\\u003e\",\"legendgroup\":\"travel\",\"marker\":{\"color\":\"#ab63fa\",\"pattern\":{\"shape\":\"\"}},\"name\":\"travel\",\"orientation\":\"v\",\"showlegend\":true,\"textposition\":\"auto\",\"x\":[\"lifestyle\"],\"xaxis\":\"x\",\"y\":{\"dtype\":\"i1\",\"bdata\":\"AQ==\"},\"yaxis\":\"y\",\"type\":\"bar\"},{\"hovertemplate\":\"subcategory=shop-toys\\u003cbr\\u003ecategory=%{x}\\u003cbr\\u003evalues=%{y}\\u003cextra\\u003e\\u003c\\u002fextra\\u003e\",\"legendgroup\":\"shop-toys\",\"marker\":{\"color\":\"#FFA15A\",\"pattern\":{\"shape\":\"\"}},\"name\":\"shop-toys\",\"orientation\":\"v\",\"showlegend\":true,\"textposition\":\"auto\",\"x\":[\"lifestyle\"],\"xaxis\":\"x\",\"y\":{\"dtype\":\"i1\",\"bdata\":\"AQ==\"},\"yaxis\":\"y\",\"type\":\"bar\"},{\"hovertemplate\":\"subcategory=relationships\\u003cbr\\u003ecategory=%{x}\\u003cbr\\u003evalues=%{y}\\u003cextra\\u003e\\u003c\\u002fextra\\u003e\",\"legendgroup\":\"relationships\",\"marker\":{\"color\":\"#19d3f3\",\"pattern\":{\"shape\":\"\"}},\"name\":\"relationships\",\"orientation\":\"v\",\"showlegend\":true,\"textposition\":\"auto\",\"x\":[\"lifestyle\"],\"xaxis\":\"x\",\"y\":{\"dtype\":\"i1\",\"bdata\":\"AQ==\"},\"yaxis\":\"y\",\"type\":\"bar\"},{\"hovertemplate\":\"subcategory=lifestylewhatshot\\u003cbr\\u003ecategory=%{x}\\u003cbr\\u003evalues=%{y}\\u003cextra\\u003e\\u003c\\u002fextra\\u003e\",\"legendgroup\":\"lifestylewhatshot\",\"marker\":{\"color\":\"#FF6692\",\"pattern\":{\"shape\":\"\"}},\"name\":\"lifestylewhatshot\",\"orientation\":\"v\",\"showlegend\":true,\"textposition\":\"auto\",\"x\":[\"lifestyle\"],\"xaxis\":\"x\",\"y\":{\"dtype\":\"i1\",\"bdata\":\"AQ==\"},\"yaxis\":\"y\",\"type\":\"bar\"},{\"hovertemplate\":\"subcategory=cookingschool\\u003cbr\\u003ecategory=%{x}\\u003cbr\\u003evalues=%{y}\\u003cextra\\u003e\\u003c\\u002fextra\\u003e\",\"legendgroup\":\"cookingschool\",\"marker\":{\"color\":\"#B6E880\",\"pattern\":{\"shape\":\"\"}},\"name\":\"cookingschool\",\"orientation\":\"v\",\"showlegend\":true,\"textposition\":\"auto\",\"x\":[\"foodanddrink\"],\"xaxis\":\"x\",\"y\":{\"dtype\":\"i1\",\"bdata\":\"AQ==\"},\"yaxis\":\"y\",\"type\":\"bar\"},{\"hovertemplate\":\"subcategory=causes-poverty\\u003cbr\\u003ecategory=%{x}\\u003cbr\\u003evalues=%{y}\\u003cextra\\u003e\\u003c\\u002fextra\\u003e\",\"legendgroup\":\"causes-poverty\",\"marker\":{\"color\":\"#FF97FF\",\"pattern\":{\"shape\":\"\"}},\"name\":\"causes-poverty\",\"orientation\":\"v\",\"showlegend\":true,\"textposition\":\"auto\",\"x\":[\"news\"],\"xaxis\":\"x\",\"y\":{\"dtype\":\"i1\",\"bdata\":\"AQ==\"},\"yaxis\":\"y\",\"type\":\"bar\"},{\"hovertemplate\":\"subcategory=foodtips\\u003cbr\\u003ecategory=%{x}\\u003cbr\\u003evalues=%{y}\\u003cextra\\u003e\\u003c\\u002fextra\\u003e\",\"legendgroup\":\"foodtips\",\"marker\":{\"color\":\"#FECB52\",\"pattern\":{\"shape\":\"\"}},\"name\":\"foodtips\",\"orientation\":\"v\",\"showlegend\":true,\"textposition\":\"auto\",\"x\":[\"foodanddrink\"],\"xaxis\":\"x\",\"y\":{\"dtype\":\"i1\",\"bdata\":\"AQ==\"},\"yaxis\":\"y\",\"type\":\"bar\"},{\"hovertemplate\":\"subcategory=games-news\\u003cbr\\u003ecategory=%{x}\\u003cbr\\u003evalues=%{y}\\u003cextra\\u003e\\u003c\\u002fextra\\u003e\",\"legendgroup\":\"games-news\",\"marker\":{\"color\":\"#636efa\",\"pattern\":{\"shape\":\"\"}},\"name\":\"games-news\",\"orientation\":\"v\",\"showlegend\":true,\"textposition\":\"auto\",\"x\":[\"games\"],\"xaxis\":\"x\",\"y\":{\"dtype\":\"i1\",\"bdata\":\"AQ==\"},\"yaxis\":\"y\",\"type\":\"bar\"},{\"hovertemplate\":\"subcategory=lifestyledesign\\u003cbr\\u003ecategory=%{x}\\u003cbr\\u003evalues=%{y}\\u003cextra\\u003e\\u003c\\u002fextra\\u003e\",\"legendgroup\":\"lifestyledesign\",\"marker\":{\"color\":\"#EF553B\",\"pattern\":{\"shape\":\"\"}},\"name\":\"lifestyledesign\",\"orientation\":\"v\",\"showlegend\":true,\"textposition\":\"auto\",\"x\":[\"lifestyle\"],\"xaxis\":\"x\",\"y\":{\"dtype\":\"i1\",\"bdata\":\"AQ==\"},\"yaxis\":\"y\",\"type\":\"bar\"},{\"hovertemplate\":\"subcategory=health-cancer\\u003cbr\\u003ecategory=%{x}\\u003cbr\\u003evalues=%{y}\\u003cextra\\u003e\\u003c\\u002fextra\\u003e\",\"legendgroup\":\"health-cancer\",\"marker\":{\"color\":\"#00cc96\",\"pattern\":{\"shape\":\"\"}},\"name\":\"health-cancer\",\"orientation\":\"v\",\"showlegend\":true,\"textposition\":\"auto\",\"x\":[\"health\"],\"xaxis\":\"x\",\"y\":{\"dtype\":\"i1\",\"bdata\":\"AQ==\"},\"yaxis\":\"y\",\"type\":\"bar\"},{\"hovertemplate\":\"subcategory=lifestyleanimals\\u003cbr\\u003ecategory=%{x}\\u003cbr\\u003evalues=%{y}\\u003cextra\\u003e\\u003c\\u002fextra\\u003e\",\"legendgroup\":\"lifestyleanimals\",\"marker\":{\"color\":\"#ab63fa\",\"pattern\":{\"shape\":\"\"}},\"name\":\"lifestyleanimals\",\"orientation\":\"v\",\"showlegend\":true,\"textposition\":\"auto\",\"x\":[\"lifestyle\"],\"xaxis\":\"x\",\"y\":{\"dtype\":\"i1\",\"bdata\":\"AQ==\"},\"yaxis\":\"y\",\"type\":\"bar\"},{\"hovertemplate\":\"subcategory=lifestyle-wedding\\u003cbr\\u003ecategory=%{x}\\u003cbr\\u003evalues=%{y}\\u003cextra\\u003e\\u003c\\u002fextra\\u003e\",\"legendgroup\":\"lifestyle-wedding\",\"marker\":{\"color\":\"#FFA15A\",\"pattern\":{\"shape\":\"\"}},\"name\":\"lifestyle-wedding\",\"orientation\":\"v\",\"showlegend\":true,\"textposition\":\"auto\",\"x\":[\"lifestyle\"],\"xaxis\":\"x\",\"y\":{\"dtype\":\"i1\",\"bdata\":\"AQ==\"},\"yaxis\":\"y\",\"type\":\"bar\"},{\"hovertemplate\":\"subcategory=halloween\\u003cbr\\u003ecategory=%{x}\\u003cbr\\u003evalues=%{y}\\u003cextra\\u003e\\u003c\\u002fextra\\u003e\",\"legendgroup\":\"halloween\",\"marker\":{\"color\":\"#19d3f3\",\"pattern\":{\"shape\":\"\"}},\"name\":\"halloween\",\"orientation\":\"v\",\"showlegend\":true,\"textposition\":\"auto\",\"x\":[\"lifestyle\"],\"xaxis\":\"x\",\"y\":{\"dtype\":\"i1\",\"bdata\":\"AQ==\"},\"yaxis\":\"y\",\"type\":\"bar\"},{\"hovertemplate\":\"subcategory=healthyliving\\u003cbr\\u003ecategory=%{x}\\u003cbr\\u003evalues=%{y}\\u003cextra\\u003e\\u003c\\u002fextra\\u003e\",\"legendgroup\":\"healthyliving\",\"marker\":{\"color\":\"#FF6692\",\"pattern\":{\"shape\":\"\"}},\"name\":\"healthyliving\",\"orientation\":\"v\",\"showlegend\":true,\"textposition\":\"auto\",\"x\":[\"health\"],\"xaxis\":\"x\",\"y\":{\"dtype\":\"i1\",\"bdata\":\"AQ==\"},\"yaxis\":\"y\",\"type\":\"bar\"},{\"hovertemplate\":\"subcategory=smartliving\\u003cbr\\u003ecategory=%{x}\\u003cbr\\u003evalues=%{y}\\u003cextra\\u003e\\u003c\\u002fextra\\u003e\",\"legendgroup\":\"smartliving\",\"marker\":{\"color\":\"#B6E880\",\"pattern\":{\"shape\":\"\"}},\"name\":\"smartliving\",\"orientation\":\"v\",\"showlegend\":true,\"textposition\":\"auto\",\"x\":[\"health\"],\"xaxis\":\"x\",\"y\":{\"dtype\":\"i1\",\"bdata\":\"AQ==\"},\"yaxis\":\"y\",\"type\":\"bar\"},{\"hovertemplate\":\"subcategory=causes-military-appreciation\\u003cbr\\u003ecategory=%{x}\\u003cbr\\u003evalues=%{y}\\u003cextra\\u003e\\u003c\\u002fextra\\u003e\",\"legendgroup\":\"causes-military-appreciation\",\"marker\":{\"color\":\"#FF97FF\",\"pattern\":{\"shape\":\"\"}},\"name\":\"causes-military-appreciation\",\"orientation\":\"v\",\"showlegend\":true,\"textposition\":\"auto\",\"x\":[\"news\"],\"xaxis\":\"x\",\"y\":{\"dtype\":\"i1\",\"bdata\":\"AQ==\"},\"yaxis\":\"y\",\"type\":\"bar\"},{\"hovertemplate\":\"subcategory=narendramodi_opinion\\u003cbr\\u003ecategory=%{x}\\u003cbr\\u003evalues=%{y}\\u003cextra\\u003e\\u003c\\u002fextra\\u003e\",\"legendgroup\":\"narendramodi_opinion\",\"marker\":{\"color\":\"#FECB52\",\"pattern\":{\"shape\":\"\"}},\"name\":\"narendramodi_opinion\",\"orientation\":\"v\",\"showlegend\":true,\"textposition\":\"auto\",\"x\":[\"news\"],\"xaxis\":\"x\",\"y\":{\"dtype\":\"i1\",\"bdata\":\"AQ==\"},\"yaxis\":\"y\",\"type\":\"bar\"},{\"hovertemplate\":\"subcategory=entertainmentmusic\\u003cbr\\u003ecategory=%{x}\\u003cbr\\u003evalues=%{y}\\u003cextra\\u003e\\u003c\\u002fextra\\u003e\",\"legendgroup\":\"entertainmentmusic\",\"marker\":{\"color\":\"#636efa\",\"pattern\":{\"shape\":\"\"}},\"name\":\"entertainmentmusic\",\"orientation\":\"v\",\"showlegend\":true,\"textposition\":\"auto\",\"x\":[\"entertainment\"],\"xaxis\":\"x\",\"y\":{\"dtype\":\"i1\",\"bdata\":\"AQ==\"},\"yaxis\":\"y\",\"type\":\"bar\"},{\"hovertemplate\":\"subcategory=baseball\\u003cbr\\u003ecategory=%{x}\\u003cbr\\u003evalues=%{y}\\u003cextra\\u003e\\u003c\\u002fextra\\u003e\",\"legendgroup\":\"baseball\",\"marker\":{\"color\":\"#EF553B\",\"pattern\":{\"shape\":\"\"}},\"name\":\"baseball\",\"orientation\":\"v\",\"showlegend\":true,\"textposition\":\"auto\",\"x\":[\"sports\"],\"xaxis\":\"x\",\"y\":{\"dtype\":\"i1\",\"bdata\":\"AQ==\"},\"yaxis\":\"y\",\"type\":\"bar\"},{\"hovertemplate\":\"subcategory=othersports\\u003cbr\\u003ecategory=%{x}\\u003cbr\\u003evalues=%{y}\\u003cextra\\u003e\\u003c\\u002fextra\\u003e\",\"legendgroup\":\"othersports\",\"marker\":{\"color\":\"#00cc96\",\"pattern\":{\"shape\":\"\"}},\"name\":\"othersports\",\"orientation\":\"v\",\"showlegend\":true,\"textposition\":\"auto\",\"x\":[\"sports\"],\"xaxis\":\"x\",\"y\":{\"dtype\":\"i1\",\"bdata\":\"AQ==\"},\"yaxis\":\"y\",\"type\":\"bar\"},{\"hovertemplate\":\"subcategory=olympics-videos\\u003cbr\\u003ecategory=%{x}\\u003cbr\\u003evalues=%{y}\\u003cextra\\u003e\\u003c\\u002fextra\\u003e\",\"legendgroup\":\"olympics-videos\",\"marker\":{\"color\":\"#ab63fa\",\"pattern\":{\"shape\":\"\"}},\"name\":\"olympics-videos\",\"orientation\":\"v\",\"showlegend\":true,\"textposition\":\"auto\",\"x\":[\"sports\"],\"xaxis\":\"x\",\"y\":{\"dtype\":\"i1\",\"bdata\":\"AQ==\"},\"yaxis\":\"y\",\"type\":\"bar\"},{\"hovertemplate\":\"subcategory=entertainmenttv\\u003cbr\\u003ecategory=%{x}\\u003cbr\\u003evalues=%{y}\\u003cextra\\u003e\\u003c\\u002fextra\\u003e\",\"legendgroup\":\"entertainmenttv\",\"marker\":{\"color\":\"#FFA15A\",\"pattern\":{\"shape\":\"\"}},\"name\":\"entertainmenttv\",\"orientation\":\"v\",\"showlegend\":true,\"textposition\":\"auto\",\"x\":[\"entertainment\"],\"xaxis\":\"x\",\"y\":{\"dtype\":\"i1\",\"bdata\":\"AQ==\"},\"yaxis\":\"y\",\"type\":\"bar\"},{\"hovertemplate\":\"subcategory=mmaufc\\u003cbr\\u003ecategory=%{x}\\u003cbr\\u003evalues=%{y}\\u003cextra\\u003e\\u003c\\u002fextra\\u003e\",\"legendgroup\":\"mmaufc\",\"marker\":{\"color\":\"#19d3f3\",\"pattern\":{\"shape\":\"\"}},\"name\":\"mmaufc\",\"orientation\":\"v\",\"showlegend\":true,\"textposition\":\"auto\",\"x\":[\"sports\"],\"xaxis\":\"x\",\"y\":{\"dtype\":\"i1\",\"bdata\":\"AQ==\"},\"yaxis\":\"y\",\"type\":\"bar\"},{\"hovertemplate\":\"subcategory=games\\u003cbr\\u003ecategory=%{x}\\u003cbr\\u003evalues=%{y}\\u003cextra\\u003e\\u003c\\u002fextra\\u003e\",\"legendgroup\":\"games\",\"marker\":{\"color\":\"#FF6692\",\"pattern\":{\"shape\":\"\"}},\"name\":\"games\",\"orientation\":\"v\",\"showlegend\":true,\"textposition\":\"auto\",\"x\":[\"entertainment\"],\"xaxis\":\"x\",\"y\":{\"dtype\":\"i1\",\"bdata\":\"AQ==\"},\"yaxis\":\"y\",\"type\":\"bar\"},{\"hovertemplate\":\"subcategory=hollywood\\u003cbr\\u003ecategory=%{x}\\u003cbr\\u003evalues=%{y}\\u003cextra\\u003e\\u003c\\u002fextra\\u003e\",\"legendgroup\":\"hollywood\",\"marker\":{\"color\":\"#B6E880\",\"pattern\":{\"shape\":\"\"}},\"name\":\"hollywood\",\"orientation\":\"v\",\"showlegend\":true,\"textposition\":\"auto\",\"x\":[\"entertainment\"],\"xaxis\":\"x\",\"y\":{\"dtype\":\"i1\",\"bdata\":\"AQ==\"},\"yaxis\":\"y\",\"type\":\"bar\"},{\"hovertemplate\":\"subcategory=golfvideos\\u003cbr\\u003ecategory=%{x}\\u003cbr\\u003evalues=%{y}\\u003cextra\\u003e\\u003c\\u002fextra\\u003e\",\"legendgroup\":\"golfvideos\",\"marker\":{\"color\":\"#FF97FF\",\"pattern\":{\"shape\":\"\"}},\"name\":\"golfvideos\",\"orientation\":\"v\",\"showlegend\":true,\"textposition\":\"auto\",\"x\":[\"sports\"],\"xaxis\":\"x\",\"y\":{\"dtype\":\"i1\",\"bdata\":\"AQ==\"},\"yaxis\":\"y\",\"type\":\"bar\"},{\"hovertemplate\":\"subcategory=tv\\u003cbr\\u003ecategory=%{x}\\u003cbr\\u003evalues=%{y}\\u003cextra\\u003e\\u003c\\u002fextra\\u003e\",\"legendgroup\":\"tv\",\"marker\":{\"color\":\"#FECB52\",\"pattern\":{\"shape\":\"\"}},\"name\":\"tv\",\"orientation\":\"v\",\"showlegend\":true,\"textposition\":\"auto\",\"x\":[\"entertainment\"],\"xaxis\":\"x\",\"y\":{\"dtype\":\"i1\",\"bdata\":\"AQ==\"},\"yaxis\":\"y\",\"type\":\"bar\"},{\"hovertemplate\":\"subcategory=basketball\\u003cbr\\u003ecategory=%{x}\\u003cbr\\u003evalues=%{y}\\u003cextra\\u003e\\u003c\\u002fextra\\u003e\",\"legendgroup\":\"basketball\",\"marker\":{\"color\":\"#636efa\",\"pattern\":{\"shape\":\"\"}},\"name\":\"basketball\",\"orientation\":\"v\",\"showlegend\":true,\"textposition\":\"auto\",\"x\":[\"sports\"],\"xaxis\":\"x\",\"y\":{\"dtype\":\"i1\",\"bdata\":\"AQ==\"},\"yaxis\":\"y\",\"type\":\"bar\"},{\"hovertemplate\":\"subcategory=company-news\\u003cbr\\u003ecategory=%{x}\\u003cbr\\u003evalues=%{y}\\u003cextra\\u003e\\u003c\\u002fextra\\u003e\",\"legendgroup\":\"company-news\",\"marker\":{\"color\":\"#EF553B\",\"pattern\":{\"shape\":\"\"}},\"name\":\"company-news\",\"orientation\":\"v\",\"showlegend\":true,\"textposition\":\"auto\",\"x\":[\"finance\"],\"xaxis\":\"x\",\"y\":{\"dtype\":\"i1\",\"bdata\":\"AQ==\"},\"yaxis\":\"y\",\"type\":\"bar\"},{\"hovertemplate\":\"subcategory=northamerica-video\\u003cbr\\u003ecategory=%{x}\\u003cbr\\u003evalues=%{y}\\u003cextra\\u003e\\u003c\\u002fextra\\u003e\",\"legendgroup\":\"northamerica-video\",\"marker\":{\"color\":\"#00cc96\",\"pattern\":{\"shape\":\"\"}},\"name\":\"northamerica-video\",\"orientation\":\"v\",\"showlegend\":true,\"textposition\":\"auto\",\"x\":[\"northamerica\"],\"xaxis\":\"x\",\"y\":{\"dtype\":\"i1\",\"bdata\":\"AQ==\"},\"yaxis\":\"y\",\"type\":\"bar\"},{\"hovertemplate\":\"subcategory=finance-insidetheticker\\u003cbr\\u003ecategory=%{x}\\u003cbr\\u003evalues=%{y}\\u003cextra\\u003e\\u003c\\u002fextra\\u003e\",\"legendgroup\":\"finance-insidetheticker\",\"marker\":{\"color\":\"#ab63fa\",\"pattern\":{\"shape\":\"\"}},\"name\":\"finance-insidetheticker\",\"orientation\":\"v\",\"showlegend\":true,\"textposition\":\"auto\",\"x\":[\"finance\"],\"xaxis\":\"x\",\"y\":{\"dtype\":\"i1\",\"bdata\":\"AQ==\"},\"yaxis\":\"y\",\"type\":\"bar\"},{\"hovertemplate\":\"subcategory=technology\\u003cbr\\u003ecategory=%{x}\\u003cbr\\u003evalues=%{y}\\u003cextra\\u003e\\u003c\\u002fextra\\u003e\",\"legendgroup\":\"technology\",\"marker\":{\"color\":\"#FFA15A\",\"pattern\":{\"shape\":\"\"}},\"name\":\"technology\",\"orientation\":\"v\",\"showlegend\":true,\"textposition\":\"auto\",\"x\":[\"news\"],\"xaxis\":\"x\",\"y\":{\"dtype\":\"i1\",\"bdata\":\"AQ==\"},\"yaxis\":\"y\",\"type\":\"bar\"},{\"hovertemplate\":\"subcategory=other\\u003cbr\\u003ecategory=%{x}\\u003cbr\\u003evalues=%{y}\\u003cextra\\u003e\\u003c\\u002fextra\\u003e\",\"legendgroup\":\"other\",\"marker\":{\"color\":\"#19d3f3\",\"pattern\":{\"shape\":\"\"}},\"name\":\"other\",\"orientation\":\"v\",\"showlegend\":true,\"textposition\":\"auto\",\"x\":[\"news\"],\"xaxis\":\"x\",\"y\":{\"dtype\":\"i1\",\"bdata\":\"AQ==\"},\"yaxis\":\"y\",\"type\":\"bar\"},{\"hovertemplate\":\"subcategory=finance-auto-insurance\\u003cbr\\u003ecategory=%{x}\\u003cbr\\u003evalues=%{y}\\u003cextra\\u003e\\u003c\\u002fextra\\u003e\",\"legendgroup\":\"finance-auto-insurance\",\"marker\":{\"color\":\"#FF6692\",\"pattern\":{\"shape\":\"\"}},\"name\":\"finance-auto-insurance\",\"orientation\":\"v\",\"showlegend\":true,\"textposition\":\"auto\",\"x\":[\"finance\"],\"xaxis\":\"x\",\"y\":{\"dtype\":\"i1\",\"bdata\":\"AQ==\"},\"yaxis\":\"y\",\"type\":\"bar\"},{\"hovertemplate\":\"subcategory=newsvideos\\u003cbr\\u003ecategory=%{x}\\u003cbr\\u003evalues=%{y}\\u003cextra\\u003e\\u003c\\u002fextra\\u003e\",\"legendgroup\":\"newsvideos\",\"marker\":{\"color\":\"#B6E880\",\"pattern\":{\"shape\":\"\"}},\"name\":\"newsvideos\",\"orientation\":\"v\",\"showlegend\":true,\"textposition\":\"auto\",\"x\":[\"news\"],\"xaxis\":\"x\",\"y\":{\"dtype\":\"i1\",\"bdata\":\"AQ==\"},\"yaxis\":\"y\",\"type\":\"bar\"},{\"hovertemplate\":\"subcategory=newstvmedia\\u003cbr\\u003ecategory=%{x}\\u003cbr\\u003evalues=%{y}\\u003cextra\\u003e\\u003c\\u002fextra\\u003e\",\"legendgroup\":\"newstvmedia\",\"marker\":{\"color\":\"#FF97FF\",\"pattern\":{\"shape\":\"\"}},\"name\":\"newstvmedia\",\"orientation\":\"v\",\"showlegend\":true,\"textposition\":\"auto\",\"x\":[\"news\"],\"xaxis\":\"x\",\"y\":{\"dtype\":\"i1\",\"bdata\":\"AQ==\"},\"yaxis\":\"y\",\"type\":\"bar\"},{\"hovertemplate\":\"subcategory=newsrealestate\\u003cbr\\u003ecategory=%{x}\\u003cbr\\u003evalues=%{y}\\u003cextra\\u003e\\u003c\\u002fextra\\u003e\",\"legendgroup\":\"newsrealestate\",\"marker\":{\"color\":\"#FECB52\",\"pattern\":{\"shape\":\"\"}},\"name\":\"newsrealestate\",\"orientation\":\"v\",\"showlegend\":true,\"textposition\":\"auto\",\"x\":[\"news\"],\"xaxis\":\"x\",\"y\":{\"dtype\":\"i1\",\"bdata\":\"AQ==\"},\"yaxis\":\"y\",\"type\":\"bar\"},{\"hovertemplate\":\"subcategory=newsother\\u003cbr\\u003ecategory=%{x}\\u003cbr\\u003evalues=%{y}\\u003cextra\\u003e\\u003c\\u002fextra\\u003e\",\"legendgroup\":\"newsother\",\"marker\":{\"color\":\"#636efa\",\"pattern\":{\"shape\":\"\"}},\"name\":\"newsother\",\"orientation\":\"v\",\"showlegend\":true,\"textposition\":\"auto\",\"x\":[\"news\"],\"xaxis\":\"x\",\"y\":{\"dtype\":\"i1\",\"bdata\":\"AQ==\"},\"yaxis\":\"y\",\"type\":\"bar\"},{\"hovertemplate\":\"subcategory=newsnational\\u003cbr\\u003ecategory=%{x}\\u003cbr\\u003evalues=%{y}\\u003cextra\\u003e\\u003c\\u002fextra\\u003e\",\"legendgroup\":\"newsnational\",\"marker\":{\"color\":\"#EF553B\",\"pattern\":{\"shape\":\"\"}},\"name\":\"newsnational\",\"orientation\":\"v\",\"showlegend\":true,\"textposition\":\"auto\",\"x\":[\"news\"],\"xaxis\":\"x\",\"y\":{\"dtype\":\"i1\",\"bdata\":\"AQ==\"},\"yaxis\":\"y\",\"type\":\"bar\"},{\"hovertemplate\":\"subcategory=newslocalpolitics\\u003cbr\\u003ecategory=%{x}\\u003cbr\\u003evalues=%{y}\\u003cextra\\u003e\\u003c\\u002fextra\\u003e\",\"legendgroup\":\"newslocalpolitics\",\"marker\":{\"color\":\"#00cc96\",\"pattern\":{\"shape\":\"\"}},\"name\":\"newslocalpolitics\",\"orientation\":\"v\",\"showlegend\":true,\"textposition\":\"auto\",\"x\":[\"news\"],\"xaxis\":\"x\",\"y\":{\"dtype\":\"i1\",\"bdata\":\"AQ==\"},\"yaxis\":\"y\",\"type\":\"bar\"},{\"hovertemplate\":\"subcategory=finance-homesandpropertysection\\u003cbr\\u003ecategory=%{x}\\u003cbr\\u003evalues=%{y}\\u003cextra\\u003e\\u003c\\u002fextra\\u003e\",\"legendgroup\":\"finance-homesandpropertysection\",\"marker\":{\"color\":\"#ab63fa\",\"pattern\":{\"shape\":\"\"}},\"name\":\"finance-homesandpropertysection\",\"orientation\":\"v\",\"showlegend\":true,\"textposition\":\"auto\",\"x\":[\"finance\"],\"xaxis\":\"x\",\"y\":{\"dtype\":\"i1\",\"bdata\":\"AQ==\"},\"yaxis\":\"y\",\"type\":\"bar\"},{\"hovertemplate\":\"subcategory=lifestyleshoppinghomegarden\\u003cbr\\u003ecategory=%{x}\\u003cbr\\u003evalues=%{y}\\u003cextra\\u003e\\u003c\\u002fextra\\u003e\",\"legendgroup\":\"lifestyleshoppinghomegarden\",\"marker\":{\"color\":\"#FFA15A\",\"pattern\":{\"shape\":\"\"}},\"name\":\"lifestyleshoppinghomegarden\",\"orientation\":\"v\",\"showlegend\":true,\"textposition\":\"auto\",\"x\":[\"lifestyle\"],\"xaxis\":\"x\",\"y\":{\"dtype\":\"i1\",\"bdata\":\"AQ==\"},\"yaxis\":\"y\",\"type\":\"bar\"}],                        {\"template\":{\"data\":{\"histogram2dcontour\":[{\"type\":\"histogram2dcontour\",\"colorbar\":{\"outlinewidth\":0,\"ticks\":\"\"},\"colorscale\":[[0.0,\"#0d0887\"],[0.1111111111111111,\"#46039f\"],[0.2222222222222222,\"#7201a8\"],[0.3333333333333333,\"#9c179e\"],[0.4444444444444444,\"#bd3786\"],[0.5555555555555556,\"#d8576b\"],[0.6666666666666666,\"#ed7953\"],[0.7777777777777778,\"#fb9f3a\"],[0.8888888888888888,\"#fdca26\"],[1.0,\"#f0f921\"]]}],\"choropleth\":[{\"type\":\"choropleth\",\"colorbar\":{\"outlinewidth\":0,\"ticks\":\"\"}}],\"histogram2d\":[{\"type\":\"histogram2d\",\"colorbar\":{\"outlinewidth\":0,\"ticks\":\"\"},\"colorscale\":[[0.0,\"#0d0887\"],[0.1111111111111111,\"#46039f\"],[0.2222222222222222,\"#7201a8\"],[0.3333333333333333,\"#9c179e\"],[0.4444444444444444,\"#bd3786\"],[0.5555555555555556,\"#d8576b\"],[0.6666666666666666,\"#ed7953\"],[0.7777777777777778,\"#fb9f3a\"],[0.8888888888888888,\"#fdca26\"],[1.0,\"#f0f921\"]]}],\"heatmap\":[{\"type\":\"heatmap\",\"colorbar\":{\"outlinewidth\":0,\"ticks\":\"\"},\"colorscale\":[[0.0,\"#0d0887\"],[0.1111111111111111,\"#46039f\"],[0.2222222222222222,\"#7201a8\"],[0.3333333333333333,\"#9c179e\"],[0.4444444444444444,\"#bd3786\"],[0.5555555555555556,\"#d8576b\"],[0.6666666666666666,\"#ed7953\"],[0.7777777777777778,\"#fb9f3a\"],[0.8888888888888888,\"#fdca26\"],[1.0,\"#f0f921\"]]}],\"contourcarpet\":[{\"type\":\"contourcarpet\",\"colorbar\":{\"outlinewidth\":0,\"ticks\":\"\"}}],\"contour\":[{\"type\":\"contour\",\"colorbar\":{\"outlinewidth\":0,\"ticks\":\"\"},\"colorscale\":[[0.0,\"#0d0887\"],[0.1111111111111111,\"#46039f\"],[0.2222222222222222,\"#7201a8\"],[0.3333333333333333,\"#9c179e\"],[0.4444444444444444,\"#bd3786\"],[0.5555555555555556,\"#d8576b\"],[0.6666666666666666,\"#ed7953\"],[0.7777777777777778,\"#fb9f3a\"],[0.8888888888888888,\"#fdca26\"],[1.0,\"#f0f921\"]]}],\"surface\":[{\"type\":\"surface\",\"colorbar\":{\"outlinewidth\":0,\"ticks\":\"\"},\"colorscale\":[[0.0,\"#0d0887\"],[0.1111111111111111,\"#46039f\"],[0.2222222222222222,\"#7201a8\"],[0.3333333333333333,\"#9c179e\"],[0.4444444444444444,\"#bd3786\"],[0.5555555555555556,\"#d8576b\"],[0.6666666666666666,\"#ed7953\"],[0.7777777777777778,\"#fb9f3a\"],[0.8888888888888888,\"#fdca26\"],[1.0,\"#f0f921\"]]}],\"mesh3d\":[{\"type\":\"mesh3d\",\"colorbar\":{\"outlinewidth\":0,\"ticks\":\"\"}}],\"scatter\":[{\"fillpattern\":{\"fillmode\":\"overlay\",\"size\":10,\"solidity\":0.2},\"type\":\"scatter\"}],\"parcoords\":[{\"type\":\"parcoords\",\"line\":{\"colorbar\":{\"outlinewidth\":0,\"ticks\":\"\"}}}],\"scatterpolargl\":[{\"type\":\"scatterpolargl\",\"marker\":{\"colorbar\":{\"outlinewidth\":0,\"ticks\":\"\"}}}],\"bar\":[{\"error_x\":{\"color\":\"#2a3f5f\"},\"error_y\":{\"color\":\"#2a3f5f\"},\"marker\":{\"line\":{\"color\":\"#E5ECF6\",\"width\":0.5},\"pattern\":{\"fillmode\":\"overlay\",\"size\":10,\"solidity\":0.2}},\"type\":\"bar\"}],\"scattergeo\":[{\"type\":\"scattergeo\",\"marker\":{\"colorbar\":{\"outlinewidth\":0,\"ticks\":\"\"}}}],\"scatterpolar\":[{\"type\":\"scatterpolar\",\"marker\":{\"colorbar\":{\"outlinewidth\":0,\"ticks\":\"\"}}}],\"histogram\":[{\"marker\":{\"pattern\":{\"fillmode\":\"overlay\",\"size\":10,\"solidity\":0.2}},\"type\":\"histogram\"}],\"scattergl\":[{\"type\":\"scattergl\",\"marker\":{\"colorbar\":{\"outlinewidth\":0,\"ticks\":\"\"}}}],\"scatter3d\":[{\"type\":\"scatter3d\",\"line\":{\"colorbar\":{\"outlinewidth\":0,\"ticks\":\"\"}},\"marker\":{\"colorbar\":{\"outlinewidth\":0,\"ticks\":\"\"}}}],\"scattermap\":[{\"type\":\"scattermap\",\"marker\":{\"colorbar\":{\"outlinewidth\":0,\"ticks\":\"\"}}}],\"scattermapbox\":[{\"type\":\"scattermapbox\",\"marker\":{\"colorbar\":{\"outlinewidth\":0,\"ticks\":\"\"}}}],\"scatterternary\":[{\"type\":\"scatterternary\",\"marker\":{\"colorbar\":{\"outlinewidth\":0,\"ticks\":\"\"}}}],\"scattercarpet\":[{\"type\":\"scattercarpet\",\"marker\":{\"colorbar\":{\"outlinewidth\":0,\"ticks\":\"\"}}}],\"carpet\":[{\"aaxis\":{\"endlinecolor\":\"#2a3f5f\",\"gridcolor\":\"white\",\"linecolor\":\"white\",\"minorgridcolor\":\"white\",\"startlinecolor\":\"#2a3f5f\"},\"baxis\":{\"endlinecolor\":\"#2a3f5f\",\"gridcolor\":\"white\",\"linecolor\":\"white\",\"minorgridcolor\":\"white\",\"startlinecolor\":\"#2a3f5f\"},\"type\":\"carpet\"}],\"table\":[{\"cells\":{\"fill\":{\"color\":\"#EBF0F8\"},\"line\":{\"color\":\"white\"}},\"header\":{\"fill\":{\"color\":\"#C8D4E3\"},\"line\":{\"color\":\"white\"}},\"type\":\"table\"}],\"barpolar\":[{\"marker\":{\"line\":{\"color\":\"#E5ECF6\",\"width\":0.5},\"pattern\":{\"fillmode\":\"overlay\",\"size\":10,\"solidity\":0.2}},\"type\":\"barpolar\"}],\"pie\":[{\"automargin\":true,\"type\":\"pie\"}]},\"layout\":{\"autotypenumbers\":\"strict\",\"colorway\":[\"#636efa\",\"#EF553B\",\"#00cc96\",\"#ab63fa\",\"#FFA15A\",\"#19d3f3\",\"#FF6692\",\"#B6E880\",\"#FF97FF\",\"#FECB52\"],\"font\":{\"color\":\"#2a3f5f\"},\"hovermode\":\"closest\",\"hoverlabel\":{\"align\":\"left\"},\"paper_bgcolor\":\"white\",\"plot_bgcolor\":\"#E5ECF6\",\"polar\":{\"bgcolor\":\"#E5ECF6\",\"angularaxis\":{\"gridcolor\":\"white\",\"linecolor\":\"white\",\"ticks\":\"\"},\"radialaxis\":{\"gridcolor\":\"white\",\"linecolor\":\"white\",\"ticks\":\"\"}},\"ternary\":{\"bgcolor\":\"#E5ECF6\",\"aaxis\":{\"gridcolor\":\"white\",\"linecolor\":\"white\",\"ticks\":\"\"},\"baxis\":{\"gridcolor\":\"white\",\"linecolor\":\"white\",\"ticks\":\"\"},\"caxis\":{\"gridcolor\":\"white\",\"linecolor\":\"white\",\"ticks\":\"\"}},\"coloraxis\":{\"colorbar\":{\"outlinewidth\":0,\"ticks\":\"\"}},\"colorscale\":{\"sequential\":[[0.0,\"#0d0887\"],[0.1111111111111111,\"#46039f\"],[0.2222222222222222,\"#7201a8\"],[0.3333333333333333,\"#9c179e\"],[0.4444444444444444,\"#bd3786\"],[0.5555555555555556,\"#d8576b\"],[0.6666666666666666,\"#ed7953\"],[0.7777777777777778,\"#fb9f3a\"],[0.8888888888888888,\"#fdca26\"],[1.0,\"#f0f921\"]],\"sequentialminus\":[[0.0,\"#0d0887\"],[0.1111111111111111,\"#46039f\"],[0.2222222222222222,\"#7201a8\"],[0.3333333333333333,\"#9c179e\"],[0.4444444444444444,\"#bd3786\"],[0.5555555555555556,\"#d8576b\"],[0.6666666666666666,\"#ed7953\"],[0.7777777777777778,\"#fb9f3a\"],[0.8888888888888888,\"#fdca26\"],[1.0,\"#f0f921\"]],\"diverging\":[[0,\"#8e0152\"],[0.1,\"#c51b7d\"],[0.2,\"#de77ae\"],[0.3,\"#f1b6da\"],[0.4,\"#fde0ef\"],[0.5,\"#f7f7f7\"],[0.6,\"#e6f5d0\"],[0.7,\"#b8e186\"],[0.8,\"#7fbc41\"],[0.9,\"#4d9221\"],[1,\"#276419\"]]},\"xaxis\":{\"gridcolor\":\"white\",\"linecolor\":\"white\",\"ticks\":\"\",\"title\":{\"standoff\":15},\"zerolinecolor\":\"white\",\"automargin\":true,\"zerolinewidth\":2},\"yaxis\":{\"gridcolor\":\"white\",\"linecolor\":\"white\",\"ticks\":\"\",\"title\":{\"standoff\":15},\"zerolinecolor\":\"white\",\"automargin\":true,\"zerolinewidth\":2},\"scene\":{\"xaxis\":{\"backgroundcolor\":\"#E5ECF6\",\"gridcolor\":\"white\",\"linecolor\":\"white\",\"showbackground\":true,\"ticks\":\"\",\"zerolinecolor\":\"white\",\"gridwidth\":2},\"yaxis\":{\"backgroundcolor\":\"#E5ECF6\",\"gridcolor\":\"white\",\"linecolor\":\"white\",\"showbackground\":true,\"ticks\":\"\",\"zerolinecolor\":\"white\",\"gridwidth\":2},\"zaxis\":{\"backgroundcolor\":\"#E5ECF6\",\"gridcolor\":\"white\",\"linecolor\":\"white\",\"showbackground\":true,\"ticks\":\"\",\"zerolinecolor\":\"white\",\"gridwidth\":2}},\"shapedefaults\":{\"line\":{\"color\":\"#2a3f5f\"}},\"annotationdefaults\":{\"arrowcolor\":\"#2a3f5f\",\"arrowhead\":0,\"arrowwidth\":1},\"geo\":{\"bgcolor\":\"white\",\"landcolor\":\"#E5ECF6\",\"subunitcolor\":\"white\",\"showland\":true,\"showlakes\":true,\"lakecolor\":\"white\"},\"title\":{\"x\":0.05},\"mapbox\":{\"style\":\"light\"}}},\"xaxis\":{\"anchor\":\"y\",\"domain\":[0.0,1.0],\"title\":{\"text\":\"category\"}},\"yaxis\":{\"anchor\":\"x\",\"domain\":[0.0,1.0],\"title\":{\"text\":\"values\"}},\"legend\":{\"title\":{\"text\":\"subcategory\"},\"tracegroupgap\":0},\"margin\":{\"t\":60},\"barmode\":\"relative\"},                        {\"responsive\": true}                    )                };            </script>        </div>"
      ],
      "text/plain": [
       "Figure({\n",
       "    'data': [{'hovertemplate': 'subcategory=newsus<br>category=%{x}<br>values=%{y}<extra></extra>',\n",
       "              'legendgroup': 'newsus',\n",
       "              'marker': {'color': '#636efa', 'pattern': {'shape': ''}},\n",
       "              'name': 'newsus',\n",
       "              'orientation': 'v',\n",
       "              'showlegend': True,\n",
       "              'textposition': 'auto',\n",
       "              'type': 'bar',\n",
       "              'x': array(['news'], dtype=object),\n",
       "              'xaxis': 'x',\n",
       "              'y': {'bdata': 'gzg=', 'dtype': 'i2'},\n",
       "              'yaxis': 'y'},\n",
       "             {'hovertemplate': 'subcategory=football_nfl<br>category=%{x}<br>values=%{y}<extra></extra>',\n",
       "              'legendgroup': 'football_nfl',\n",
       "              'marker': {'color': '#EF553B', 'pattern': {'shape': ''}},\n",
       "              'name': 'football_nfl',\n",
       "              'orientation': 'v',\n",
       "              'showlegend': True,\n",
       "              'textposition': 'auto',\n",
       "              'type': 'bar',\n",
       "              'x': array(['sports'], dtype=object),\n",
       "              'xaxis': 'x',\n",
       "              'y': {'bdata': 'JS4=', 'dtype': 'i2'},\n",
       "              'yaxis': 'y'},\n",
       "             {'hovertemplate': 'subcategory=newspolitics<br>category=%{x}<br>values=%{y}<extra></extra>',\n",
       "              'legendgroup': 'newspolitics',\n",
       "              'marker': {'color': '#00cc96', 'pattern': {'shape': ''}},\n",
       "              'name': 'newspolitics',\n",
       "              'orientation': 'v',\n",
       "              'showlegend': True,\n",
       "              'textposition': 'auto',\n",
       "              'type': 'bar',\n",
       "              'x': array(['news'], dtype=object),\n",
       "              'xaxis': 'x',\n",
       "              'y': {'bdata': 'GRQ=', 'dtype': 'i2'},\n",
       "              'yaxis': 'y'},\n",
       "             {'hovertemplate': 'subcategory=weathertopstories<br>category=%{x}<br>values=%{y}<extra></extra>',\n",
       "              'legendgroup': 'weathertopstories',\n",
       "              'marker': {'color': '#ab63fa', 'pattern': {'shape': ''}},\n",
       "              'name': 'weathertopstories',\n",
       "              'orientation': 'v',\n",
       "              'showlegend': True,\n",
       "              'textposition': 'auto',\n",
       "              'type': 'bar',\n",
       "              'x': array(['weather'], dtype=object),\n",
       "              'xaxis': 'x',\n",
       "              'y': {'bdata': 'nRA=', 'dtype': 'i2'},\n",
       "              'yaxis': 'y'},\n",
       "             {'hovertemplate': 'subcategory=newscrime<br>category=%{x}<br>values=%{y}<extra></extra>',\n",
       "              'legendgroup': 'newscrime',\n",
       "              'marker': {'color': '#FFA15A', 'pattern': {'shape': ''}},\n",
       "              'name': 'newscrime',\n",
       "              'orientation': 'v',\n",
       "              'showlegend': True,\n",
       "              'textposition': 'auto',\n",
       "              'type': 'bar',\n",
       "              'x': array(['news'], dtype=object),\n",
       "              'xaxis': 'x',\n",
       "              'y': {'bdata': 'XA4=', 'dtype': 'i2'},\n",
       "              'yaxis': 'y'},\n",
       "             {'hovertemplate': 'subcategory=baseball_mlb<br>category=%{x}<br>values=%{y}<extra></extra>',\n",
       "              'legendgroup': 'baseball_mlb',\n",
       "              'marker': {'color': '#19d3f3', 'pattern': {'shape': ''}},\n",
       "              'name': 'baseball_mlb',\n",
       "              'orientation': 'v',\n",
       "              'showlegend': True,\n",
       "              'textposition': 'auto',\n",
       "              'type': 'bar',\n",
       "              'x': array(['sports'], dtype=object),\n",
       "              'xaxis': 'x',\n",
       "              'y': {'bdata': 'IQ4=', 'dtype': 'i2'},\n",
       "              'yaxis': 'y'},\n",
       "             {'hovertemplate': 'subcategory=football_ncaa<br>category=%{x}<br>values=%{y}<extra></extra>',\n",
       "              'legendgroup': 'football_ncaa',\n",
       "              'marker': {'color': '#FF6692', 'pattern': {'shape': ''}},\n",
       "              'name': 'football_ncaa',\n",
       "              'orientation': 'v',\n",
       "              'showlegend': True,\n",
       "              'textposition': 'auto',\n",
       "              'type': 'bar',\n",
       "              'x': array(['sports'], dtype=object),\n",
       "              'xaxis': 'x',\n",
       "              'y': {'bdata': 'eg0=', 'dtype': 'i2'},\n",
       "              'yaxis': 'y'},\n",
       "             {'hovertemplate': 'subcategory=news<br>category=%{x}<br>values=%{y}<extra></extra>',\n",
       "              'legendgroup': 'news',\n",
       "              'marker': {'color': '#B6E880', 'pattern': {'shape': ''}},\n",
       "              'name': 'news',\n",
       "              'orientation': 'v',\n",
       "              'showlegend': True,\n",
       "              'textposition': 'auto',\n",
       "              'type': 'bar',\n",
       "              'x': array(['video', 'entertainment'], dtype=object),\n",
       "              'xaxis': 'x',\n",
       "              'y': {'bdata': '9AwjAA==', 'dtype': 'i2'},\n",
       "              'yaxis': 'y'},\n",
       "             {'hovertemplate': 'subcategory=basketball_nba<br>category=%{x}<br>values=%{y}<extra></extra>',\n",
       "              'legendgroup': 'basketball_nba',\n",
       "              'marker': {'color': '#FF97FF', 'pattern': {'shape': ''}},\n",
       "              'name': 'basketball_nba',\n",
       "              'orientation': 'v',\n",
       "              'showlegend': True,\n",
       "              'textposition': 'auto',\n",
       "              'type': 'bar',\n",
       "              'x': array(['sports'], dtype=object),\n",
       "              'xaxis': 'x',\n",
       "              'y': {'bdata': 'mgw=', 'dtype': 'i2'},\n",
       "              'yaxis': 'y'},\n",
       "             {'hovertemplate': 'subcategory=more_sports<br>category=%{x}<br>values=%{y}<extra></extra>',\n",
       "              'legendgroup': 'more_sports',\n",
       "              'marker': {'color': '#FECB52', 'pattern': {'shape': ''}},\n",
       "              'name': 'more_sports',\n",
       "              'orientation': 'v',\n",
       "              'showlegend': True,\n",
       "              'textposition': 'auto',\n",
       "              'type': 'bar',\n",
       "              'x': array(['sports'], dtype=object),\n",
       "              'xaxis': 'x',\n",
       "              'y': {'bdata': '8Qo=', 'dtype': 'i2'},\n",
       "              'yaxis': 'y'},\n",
       "             {'hovertemplate': ('subcategory=newsscienceandtech' ... '<br>values=%{y}<extra></extra>'),\n",
       "              'legendgroup': 'newsscienceandtechnology',\n",
       "              'marker': {'color': '#636efa', 'pattern': {'shape': ''}},\n",
       "              'name': 'newsscienceandtechnology',\n",
       "              'orientation': 'v',\n",
       "              'showlegend': True,\n",
       "              'textposition': 'auto',\n",
       "              'type': 'bar',\n",
       "              'x': array(['news'], dtype=object),\n",
       "              'xaxis': 'x',\n",
       "              'y': {'bdata': '0wo=', 'dtype': 'i2'},\n",
       "              'yaxis': 'y'},\n",
       "             {'hovertemplate': 'subcategory=newstrends<br>category=%{x}<br>values=%{y}<extra></extra>',\n",
       "              'legendgroup': 'newstrends',\n",
       "              'marker': {'color': '#EF553B', 'pattern': {'shape': ''}},\n",
       "              'name': 'newstrends',\n",
       "              'orientation': 'v',\n",
       "              'showlegend': True,\n",
       "              'textposition': 'auto',\n",
       "              'type': 'bar',\n",
       "              'x': array(['foodanddrink', 'travel'], dtype=object),\n",
       "              'xaxis': 'x',\n",
       "              'y': {'bdata': 'mgoBAA==', 'dtype': 'i2'},\n",
       "              'yaxis': 'y'},\n",
       "             {'hovertemplate': 'subcategory=travelarticle<br>category=%{x}<br>values=%{y}<extra></extra>',\n",
       "              'legendgroup': 'travelarticle',\n",
       "              'marker': {'color': '#00cc96', 'pattern': {'shape': ''}},\n",
       "              'name': 'travelarticle',\n",
       "              'orientation': 'v',\n",
       "              'showlegend': True,\n",
       "              'textposition': 'auto',\n",
       "              'type': 'bar',\n",
       "              'x': array(['travel'], dtype=object),\n",
       "              'xaxis': 'x',\n",
       "              'y': {'bdata': 'QAo=', 'dtype': 'i2'},\n",
       "              'yaxis': 'y'},\n",
       "             {'hovertemplate': 'subcategory=newsworld<br>category=%{x}<br>values=%{y}<extra></extra>',\n",
       "              'legendgroup': 'newsworld',\n",
       "              'marker': {'color': '#ab63fa', 'pattern': {'shape': ''}},\n",
       "              'name': 'newsworld',\n",
       "              'orientation': 'v',\n",
       "              'showlegend': True,\n",
       "              'textposition': 'auto',\n",
       "              'type': 'bar',\n",
       "              'x': array(['news'], dtype=object),\n",
       "              'xaxis': 'x',\n",
       "              'y': {'bdata': '2wk=', 'dtype': 'i2'},\n",
       "              'yaxis': 'y'},\n",
       "             {'hovertemplate': 'subcategory=lifestylebuzz<br>category=%{x}<br>values=%{y}<extra></extra>',\n",
       "              'legendgroup': 'lifestylebuzz',\n",
       "              'marker': {'color': '#FFA15A', 'pattern': {'shape': ''}},\n",
       "              'name': 'lifestylebuzz',\n",
       "              'orientation': 'v',\n",
       "              'showlegend': True,\n",
       "              'textposition': 'auto',\n",
       "              'type': 'bar',\n",
       "              'x': array(['lifestyle'], dtype=object),\n",
       "              'xaxis': 'x',\n",
       "              'y': {'bdata': 'mAc=', 'dtype': 'i2'},\n",
       "              'yaxis': 'y'},\n",
       "             {'hovertemplate': 'subcategory=financenews<br>category=%{x}<br>values=%{y}<extra></extra>',\n",
       "              'legendgroup': 'financenews',\n",
       "              'marker': {'color': '#19d3f3', 'pattern': {'shape': ''}},\n",
       "              'name': 'financenews',\n",
       "              'orientation': 'v',\n",
       "              'showlegend': True,\n",
       "              'textposition': 'auto',\n",
       "              'type': 'bar',\n",
       "              'x': array(['finance'], dtype=object),\n",
       "              'xaxis': 'x',\n",
       "              'y': {'bdata': 'jAc=', 'dtype': 'i2'},\n",
       "              'yaxis': 'y'},\n",
       "             {'hovertemplate': 'subcategory=travelnews<br>category=%{x}<br>values=%{y}<extra></extra>',\n",
       "              'legendgroup': 'travelnews',\n",
       "              'marker': {'color': '#FF6692', 'pattern': {'shape': ''}},\n",
       "              'name': 'travelnews',\n",
       "              'orientation': 'v',\n",
       "              'showlegend': True,\n",
       "              'textposition': 'auto',\n",
       "              'type': 'bar',\n",
       "              'x': array(['travel'], dtype=object),\n",
       "              'xaxis': 'x',\n",
       "              'y': {'bdata': 'FAc=', 'dtype': 'i2'},\n",
       "              'yaxis': 'y'},\n",
       "             {'hovertemplate': 'subcategory=autosnews<br>category=%{x}<br>values=%{y}<extra></extra>',\n",
       "              'legendgroup': 'autosnews',\n",
       "              'marker': {'color': '#B6E880', 'pattern': {'shape': ''}},\n",
       "              'name': 'autosnews',\n",
       "              'orientation': 'v',\n",
       "              'showlegend': True,\n",
       "              'textposition': 'auto',\n",
       "              'type': 'bar',\n",
       "              'x': array(['autos'], dtype=object),\n",
       "              'xaxis': 'x',\n",
       "              'y': {'bdata': 'pwY=', 'dtype': 'i2'},\n",
       "              'yaxis': 'y'},\n",
       "             {'hovertemplate': 'subcategory=basketball_ncaa<br>category=%{x}<br>values=%{y}<extra></extra>',\n",
       "              'legendgroup': 'basketball_ncaa',\n",
       "              'marker': {'color': '#FF97FF', 'pattern': {'shape': ''}},\n",
       "              'name': 'basketball_ncaa',\n",
       "              'orientation': 'v',\n",
       "              'showlegend': True,\n",
       "              'textposition': 'auto',\n",
       "              'type': 'bar',\n",
       "              'x': array(['sports'], dtype=object),\n",
       "              'xaxis': 'x',\n",
       "              'y': {'bdata': 'igY=', 'dtype': 'i2'},\n",
       "              'yaxis': 'y'},\n",
       "             {'hovertemplate': 'subcategory=icehockey_nhl<br>category=%{x}<br>values=%{y}<extra></extra>',\n",
       "              'legendgroup': 'icehockey_nhl',\n",
       "              'marker': {'color': '#FECB52', 'pattern': {'shape': ''}},\n",
       "              'name': 'icehockey_nhl',\n",
       "              'orientation': 'v',\n",
       "              'showlegend': True,\n",
       "              'textposition': 'auto',\n",
       "              'type': 'bar',\n",
       "              'x': array(['sports'], dtype=object),\n",
       "              'xaxis': 'x',\n",
       "              'y': {'bdata': '9AU=', 'dtype': 'i2'},\n",
       "              'yaxis': 'y'},\n",
       "             {'hovertemplate': 'subcategory=finance-real-estate<br>category=%{x}<br>values=%{y}<extra></extra>',\n",
       "              'legendgroup': 'finance-real-estate',\n",
       "              'marker': {'color': '#636efa', 'pattern': {'shape': ''}},\n",
       "              'name': 'finance-real-estate',\n",
       "              'orientation': 'v',\n",
       "              'showlegend': True,\n",
       "              'textposition': 'auto',\n",
       "              'type': 'bar',\n",
       "              'x': array(['finance'], dtype=object),\n",
       "              'xaxis': 'x',\n",
       "              'y': {'bdata': 'FwU=', 'dtype': 'i2'},\n",
       "              'yaxis': 'y'},\n",
       "             {'hovertemplate': 'subcategory=mma<br>category=%{x}<br>values=%{y}<extra></extra>',\n",
       "              'legendgroup': 'mma',\n",
       "              'marker': {'color': '#EF553B', 'pattern': {'shape': ''}},\n",
       "              'name': 'mma',\n",
       "              'orientation': 'v',\n",
       "              'showlegend': True,\n",
       "              'textposition': 'auto',\n",
       "              'type': 'bar',\n",
       "              'x': array(['sports'], dtype=object),\n",
       "              'xaxis': 'x',\n",
       "              'y': {'bdata': 'HQQ=', 'dtype': 'i2'},\n",
       "              'yaxis': 'y'},\n",
       "             {'hovertemplate': 'subcategory=medical<br>category=%{x}<br>values=%{y}<extra></extra>',\n",
       "              'legendgroup': 'medical',\n",
       "              'marker': {'color': '#00cc96', 'pattern': {'shape': ''}},\n",
       "              'name': 'medical',\n",
       "              'orientation': 'v',\n",
       "              'showlegend': True,\n",
       "              'textposition': 'auto',\n",
       "              'type': 'bar',\n",
       "              'x': array(['health'], dtype=object),\n",
       "              'xaxis': 'x',\n",
       "              'y': {'bdata': 'ugM=', 'dtype': 'i2'},\n",
       "              'yaxis': 'y'},\n",
       "             {'hovertemplate': 'subcategory=newsoffbeat<br>category=%{x}<br>values=%{y}<extra></extra>',\n",
       "              'legendgroup': 'newsoffbeat',\n",
       "              'marker': {'color': '#ab63fa', 'pattern': {'shape': ''}},\n",
       "              'name': 'newsoffbeat',\n",
       "              'orientation': 'v',\n",
       "              'showlegend': True,\n",
       "              'textposition': 'auto',\n",
       "              'type': 'bar',\n",
       "              'x': array(['news'], dtype=object),\n",
       "              'xaxis': 'x',\n",
       "              'y': {'bdata': 'lgM=', 'dtype': 'i2'},\n",
       "              'yaxis': 'y'},\n",
       "             {'hovertemplate': 'subcategory=musicnews<br>category=%{x}<br>values=%{y}<extra></extra>',\n",
       "              'legendgroup': 'musicnews',\n",
       "              'marker': {'color': '#FFA15A', 'pattern': {'shape': ''}},\n",
       "              'name': 'musicnews',\n",
       "              'orientation': 'v',\n",
       "              'showlegend': True,\n",
       "              'textposition': 'auto',\n",
       "              'type': 'bar',\n",
       "              'x': array(['music'], dtype=object),\n",
       "              'xaxis': 'x',\n",
       "              'y': {'bdata': 'agM=', 'dtype': 'i2'},\n",
       "              'yaxis': 'y'},\n",
       "             {'hovertemplate': 'subcategory=tvnews<br>category=%{x}<br>values=%{y}<extra></extra>',\n",
       "              'legendgroup': 'tvnews',\n",
       "              'marker': {'color': '#19d3f3', 'pattern': {'shape': ''}},\n",
       "              'name': 'tvnews',\n",
       "              'orientation': 'v',\n",
       "              'showlegend': True,\n",
       "              'textposition': 'auto',\n",
       "              'type': 'bar',\n",
       "              'x': array(['tv'], dtype=object),\n",
       "              'xaxis': 'x',\n",
       "              'y': {'bdata': 'CQM=', 'dtype': 'i2'},\n",
       "              'yaxis': 'y'},\n",
       "             {'hovertemplate': 'subcategory=golf<br>category=%{x}<br>values=%{y}<extra></extra>',\n",
       "              'legendgroup': 'golf',\n",
       "              'marker': {'color': '#FF6692', 'pattern': {'shape': ''}},\n",
       "              'name': 'golf',\n",
       "              'orientation': 'v',\n",
       "              'showlegend': True,\n",
       "              'textposition': 'auto',\n",
       "              'type': 'bar',\n",
       "              'x': array(['sports'], dtype=object),\n",
       "              'xaxis': 'x',\n",
       "              'y': {'bdata': '9wI=', 'dtype': 'i2'},\n",
       "              'yaxis': 'y'},\n",
       "             {'hovertemplate': 'subcategory=finance-companies<br>category=%{x}<br>values=%{y}<extra></extra>',\n",
       "              'legendgroup': 'finance-companies',\n",
       "              'marker': {'color': '#B6E880', 'pattern': {'shape': ''}},\n",
       "              'name': 'finance-companies',\n",
       "              'orientation': 'v',\n",
       "              'showlegend': True,\n",
       "              'textposition': 'auto',\n",
       "              'type': 'bar',\n",
       "              'x': array(['finance'], dtype=object),\n",
       "              'xaxis': 'x',\n",
       "              'y': {'bdata': 'zgI=', 'dtype': 'i2'},\n",
       "              'yaxis': 'y'},\n",
       "             {'hovertemplate': 'subcategory=racing<br>category=%{x}<br>values=%{y}<extra></extra>',\n",
       "              'legendgroup': 'racing',\n",
       "              'marker': {'color': '#FF97FF', 'pattern': {'shape': ''}},\n",
       "              'name': 'racing',\n",
       "              'orientation': 'v',\n",
       "              'showlegend': True,\n",
       "              'textposition': 'auto',\n",
       "              'type': 'bar',\n",
       "              'x': array(['sports'], dtype=object),\n",
       "              'xaxis': 'x',\n",
       "              'y': {'bdata': 'ugI=', 'dtype': 'i2'},\n",
       "              'yaxis': 'y'},\n",
       "             {'hovertemplate': 'subcategory=health-news<br>category=%{x}<br>values=%{y}<extra></extra>',\n",
       "              'legendgroup': 'health-news',\n",
       "              'marker': {'color': '#FECB52', 'pattern': {'shape': ''}},\n",
       "              'name': 'health-news',\n",
       "              'orientation': 'v',\n",
       "              'showlegend': True,\n",
       "              'textposition': 'auto',\n",
       "              'type': 'bar',\n",
       "              'x': array(['health'], dtype=object),\n",
       "              'xaxis': 'x',\n",
       "              'y': {'bdata': 'QAI=', 'dtype': 'i2'},\n",
       "              'yaxis': 'y'},\n",
       "             {'hovertemplate': 'subcategory=wellness<br>category=%{x}<br>values=%{y}<extra></extra>',\n",
       "              'legendgroup': 'wellness',\n",
       "              'marker': {'color': '#636efa', 'pattern': {'shape': ''}},\n",
       "              'name': 'wellness',\n",
       "              'orientation': 'v',\n",
       "              'showlegend': True,\n",
       "              'textposition': 'auto',\n",
       "              'type': 'bar',\n",
       "              'x': array(['health'], dtype=object),\n",
       "              'xaxis': 'x',\n",
       "              'y': {'bdata': 'PQI=', 'dtype': 'i2'},\n",
       "              'yaxis': 'y'},\n",
       "             {'hovertemplate': 'subcategory=recipes<br>category=%{x}<br>values=%{y}<extra></extra>',\n",
       "              'legendgroup': 'recipes',\n",
       "              'marker': {'color': '#EF553B', 'pattern': {'shape': ''}},\n",
       "              'name': 'recipes',\n",
       "              'orientation': 'v',\n",
       "              'showlegend': True,\n",
       "              'textposition': 'auto',\n",
       "              'type': 'bar',\n",
       "              'x': array(['foodanddrink', 'health'], dtype=object),\n",
       "              'xaxis': 'x',\n",
       "              'y': {'bdata': 'HQICAA==', 'dtype': 'i2'},\n",
       "              'yaxis': 'y'},\n",
       "             {'hovertemplate': 'subcategory=soccer<br>category=%{x}<br>values=%{y}<extra></extra>',\n",
       "              'legendgroup': 'soccer',\n",
       "              'marker': {'color': '#00cc96', 'pattern': {'shape': ''}},\n",
       "              'name': 'soccer',\n",
       "              'orientation': 'v',\n",
       "              'showlegend': True,\n",
       "              'textposition': 'auto',\n",
       "              'type': 'bar',\n",
       "              'x': array(['sports'], dtype=object),\n",
       "              'xaxis': 'x',\n",
       "              'y': {'bdata': '6AE=', 'dtype': 'i2'},\n",
       "              'yaxis': 'y'},\n",
       "             {'hovertemplate': 'subcategory=markets<br>category=%{x}<br>values=%{y}<extra></extra>',\n",
       "              'legendgroup': 'markets',\n",
       "              'marker': {'color': '#ab63fa', 'pattern': {'shape': ''}},\n",
       "              'name': 'markets',\n",
       "              'orientation': 'v',\n",
       "              'showlegend': True,\n",
       "              'textposition': 'auto',\n",
       "              'type': 'bar',\n",
       "              'x': array(['finance'], dtype=object),\n",
       "              'xaxis': 'x',\n",
       "              'y': {'bdata': 'zAE=', 'dtype': 'i2'},\n",
       "              'yaxis': 'y'},\n",
       "             {'hovertemplate': 'subcategory=movienews<br>category=%{x}<br>values=%{y}<extra></extra>',\n",
       "              'legendgroup': 'movienews',\n",
       "              'marker': {'color': '#FFA15A', 'pattern': {'shape': ''}},\n",
       "              'name': 'movienews',\n",
       "              'orientation': 'v',\n",
       "              'showlegend': True,\n",
       "              'textposition': 'auto',\n",
       "              'type': 'bar',\n",
       "              'x': array(['movies'], dtype=object),\n",
       "              'xaxis': 'x',\n",
       "              'y': {'bdata': 'lgE=', 'dtype': 'i2'},\n",
       "              'yaxis': 'y'},\n",
       "             {'hovertemplate': 'subcategory=autosmotorcycles<br>category=%{x}<br>values=%{y}<extra></extra>',\n",
       "              'legendgroup': 'autosmotorcycles',\n",
       "              'marker': {'color': '#19d3f3', 'pattern': {'shape': ''}},\n",
       "              'name': 'autosmotorcycles',\n",
       "              'orientation': 'v',\n",
       "              'showlegend': True,\n",
       "              'textposition': 'auto',\n",
       "              'type': 'bar',\n",
       "              'x': array(['autos'], dtype=object),\n",
       "              'xaxis': 'x',\n",
       "              'y': {'bdata': 'igE=', 'dtype': 'i2'},\n",
       "              'yaxis': 'y'},\n",
       "             {'hovertemplate': 'subcategory=tv-celebrity<br>category=%{x}<br>values=%{y}<extra></extra>',\n",
       "              'legendgroup': 'tv-celebrity',\n",
       "              'marker': {'color': '#FF6692', 'pattern': {'shape': ''}},\n",
       "              'name': 'tv-celebrity',\n",
       "              'orientation': 'v',\n",
       "              'showlegend': True,\n",
       "              'textposition': 'auto',\n",
       "              'type': 'bar',\n",
       "              'x': array(['tv'], dtype=object),\n",
       "              'xaxis': 'x',\n",
       "              'y': {'bdata': 'dwE=', 'dtype': 'i2'},\n",
       "              'yaxis': 'y'},\n",
       "             {'hovertemplate': 'subcategory=newsopinion<br>category=%{x}<br>values=%{y}<extra></extra>',\n",
       "              'legendgroup': 'newsopinion',\n",
       "              'marker': {'color': '#B6E880', 'pattern': {'shape': ''}},\n",
       "              'name': 'newsopinion',\n",
       "              'orientation': 'v',\n",
       "              'showlegend': True,\n",
       "              'textposition': 'auto',\n",
       "              'type': 'bar',\n",
       "              'x': array(['news'], dtype=object),\n",
       "              'xaxis': 'x',\n",
       "              'y': {'bdata': 'VwE=', 'dtype': 'i2'},\n",
       "              'yaxis': 'y'},\n",
       "             {'hovertemplate': 'subcategory=autosenthusiasts<br>category=%{x}<br>values=%{y}<extra></extra>',\n",
       "              'legendgroup': 'autosenthusiasts',\n",
       "              'marker': {'color': '#FF97FF', 'pattern': {'shape': ''}},\n",
       "              'name': 'autosenthusiasts',\n",
       "              'orientation': 'v',\n",
       "              'showlegend': True,\n",
       "              'textposition': 'auto',\n",
       "              'type': 'bar',\n",
       "              'x': array(['autos'], dtype=object),\n",
       "              'xaxis': 'x',\n",
       "              'y': {'bdata': 'TgE=', 'dtype': 'i2'},\n",
       "              'yaxis': 'y'},\n",
       "             {'hovertemplate': 'subcategory=animals<br>category=%{x}<br>values=%{y}<extra></extra>',\n",
       "              'legendgroup': 'animals',\n",
       "              'marker': {'color': '#FECB52', 'pattern': {'shape': ''}},\n",
       "              'name': 'animals',\n",
       "              'orientation': 'v',\n",
       "              'showlegend': True,\n",
       "              'textposition': 'auto',\n",
       "              'type': 'bar',\n",
       "              'x': array(['video', 'kids'], dtype=object),\n",
       "              'xaxis': 'x',\n",
       "              'y': {'bdata': 'SAEKAA==', 'dtype': 'i2'},\n",
       "              'yaxis': 'y'},\n",
       "             {'hovertemplate': 'subcategory=traveltripideas<br>category=%{x}<br>values=%{y}<extra></extra>',\n",
       "              'legendgroup': 'traveltripideas',\n",
       "              'marker': {'color': '#636efa', 'pattern': {'shape': ''}},\n",
       "              'name': 'traveltripideas',\n",
       "              'orientation': 'v',\n",
       "              'showlegend': True,\n",
       "              'textposition': 'auto',\n",
       "              'type': 'bar',\n",
       "              'x': array(['travel'], dtype=object),\n",
       "              'xaxis': 'x',\n",
       "              'y': {'bdata': 'PgE=', 'dtype': 'i2'},\n",
       "              'yaxis': 'y'},\n",
       "             {'hovertemplate': 'subcategory=foodnews<br>category=%{x}<br>values=%{y}<extra></extra>',\n",
       "              'legendgroup': 'foodnews',\n",
       "              'marker': {'color': '#EF553B', 'pattern': {'shape': ''}},\n",
       "              'name': 'foodnews',\n",
       "              'orientation': 'v',\n",
       "              'showlegend': True,\n",
       "              'textposition': 'auto',\n",
       "              'type': 'bar',\n",
       "              'x': array(['foodanddrink'], dtype=object),\n",
       "              'xaxis': 'x',\n",
       "              'y': {'bdata': 'PgE=', 'dtype': 'i2'},\n",
       "              'yaxis': 'y'},\n",
       "             {'hovertemplate': 'subcategory=tipsandtricks<br>category=%{x}<br>values=%{y}<extra></extra>',\n",
       "              'legendgroup': 'tipsandtricks',\n",
       "              'marker': {'color': '#00cc96', 'pattern': {'shape': ''}},\n",
       "              'name': 'tipsandtricks',\n",
       "              'orientation': 'v',\n",
       "              'showlegend': True,\n",
       "              'textposition': 'auto',\n",
       "              'type': 'bar',\n",
       "              'x': array(['foodanddrink'], dtype=object),\n",
       "              'xaxis': 'x',\n",
       "              'y': {'bdata': 'PAE=', 'dtype': 'i2'},\n",
       "              'yaxis': 'y'},\n",
       "             {'hovertemplate': ('subcategory=finance-career-edu' ... '<br>values=%{y}<extra></extra>'),\n",
       "              'legendgroup': 'finance-career-education',\n",
       "              'marker': {'color': '#ab63fa', 'pattern': {'shape': ''}},\n",
       "              'name': 'finance-career-education',\n",
       "              'orientation': 'v',\n",
       "              'showlegend': True,\n",
       "              'textposition': 'auto',\n",
       "              'type': 'bar',\n",
       "              'x': array(['finance'], dtype=object),\n",
       "              'xaxis': 'x',\n",
       "              'y': {'bdata': 'OgE=', 'dtype': 'i2'},\n",
       "              'yaxis': 'y'},\n",
       "             {'hovertemplate': 'subcategory=lifestylefamily<br>category=%{x}<br>values=%{y}<extra></extra>',\n",
       "              'legendgroup': 'lifestylefamily',\n",
       "              'marker': {'color': '#FFA15A', 'pattern': {'shape': ''}},\n",
       "              'name': 'lifestylefamily',\n",
       "              'orientation': 'v',\n",
       "              'showlegend': True,\n",
       "              'textposition': 'auto',\n",
       "              'type': 'bar',\n",
       "              'x': array(['lifestyle'], dtype=object),\n",
       "              'xaxis': 'x',\n",
       "              'y': {'bdata': 'OgE=', 'dtype': 'i2'},\n",
       "              'yaxis': 'y'},\n",
       "             {'hovertemplate': 'subcategory=nutrition<br>category=%{x}<br>values=%{y}<extra></extra>',\n",
       "              'legendgroup': 'nutrition',\n",
       "              'marker': {'color': '#19d3f3', 'pattern': {'shape': ''}},\n",
       "              'name': 'nutrition',\n",
       "              'orientation': 'v',\n",
       "              'showlegend': True,\n",
       "              'textposition': 'auto',\n",
       "              'type': 'bar',\n",
       "              'x': array(['health'], dtype=object),\n",
       "              'xaxis': 'x',\n",
       "              'y': {'bdata': 'GQE=', 'dtype': 'i2'},\n",
       "              'yaxis': 'y'},\n",
       "             {'hovertemplate': 'subcategory=lifestyleroyals<br>category=%{x}<br>values=%{y}<extra></extra>',\n",
       "              'legendgroup': 'lifestyleroyals',\n",
       "              'marker': {'color': '#FF6692', 'pattern': {'shape': ''}},\n",
       "              'name': 'lifestyleroyals',\n",
       "              'orientation': 'v',\n",
       "              'showlegend': True,\n",
       "              'textposition': 'auto',\n",
       "              'type': 'bar',\n",
       "              'x': array(['lifestyle'], dtype=object),\n",
       "              'xaxis': 'x',\n",
       "              'y': {'bdata': 'EQE=', 'dtype': 'i2'},\n",
       "              'yaxis': 'y'},\n",
       "             {'hovertemplate': 'subcategory=viral<br>category=%{x}<br>values=%{y}<extra></extra>',\n",
       "              'legendgroup': 'viral',\n",
       "              'marker': {'color': '#B6E880', 'pattern': {'shape': ''}},\n",
       "              'name': 'viral',\n",
       "              'orientation': 'v',\n",
       "              'showlegend': True,\n",
       "              'textposition': 'auto',\n",
       "              'type': 'bar',\n",
       "              'x': array(['video'], dtype=object),\n",
       "              'xaxis': 'x',\n",
       "              'y': {'bdata': 'DQE=', 'dtype': 'i2'},\n",
       "              'yaxis': 'y'},\n",
       "             {'hovertemplate': 'subcategory=gaming<br>category=%{x}<br>values=%{y}<extra></extra>',\n",
       "              'legendgroup': 'gaming',\n",
       "              'marker': {'color': '#FF97FF', 'pattern': {'shape': ''}},\n",
       "              'name': 'gaming',\n",
       "              'orientation': 'v',\n",
       "              'showlegend': True,\n",
       "              'textposition': 'auto',\n",
       "              'type': 'bar',\n",
       "              'x': array(['entertainment'], dtype=object),\n",
       "              'xaxis': 'x',\n",
       "              'y': {'bdata': 'AAE=', 'dtype': 'i2'},\n",
       "              'yaxis': 'y'},\n",
       "             {'hovertemplate': 'subcategory=tennis<br>category=%{x}<br>values=%{y}<extra></extra>',\n",
       "              'legendgroup': 'tennis',\n",
       "              'marker': {'color': '#FECB52', 'pattern': {'shape': ''}},\n",
       "              'name': 'tennis',\n",
       "              'orientation': 'v',\n",
       "              'showlegend': True,\n",
       "              'textposition': 'auto',\n",
       "              'type': 'bar',\n",
       "              'x': array(['sports'], dtype=object),\n",
       "              'xaxis': 'x',\n",
       "              'y': {'bdata': '/wA=', 'dtype': 'i2'},\n",
       "              'yaxis': 'y'},\n",
       "             {'hovertemplate': ('subcategory=lifestylehomeandga' ... '<br>values=%{y}<extra></extra>'),\n",
       "              'legendgroup': 'lifestylehomeandgarden',\n",
       "              'marker': {'color': '#636efa', 'pattern': {'shape': ''}},\n",
       "              'name': 'lifestylehomeandgarden',\n",
       "              'orientation': 'v',\n",
       "              'showlegend': True,\n",
       "              'textposition': 'auto',\n",
       "              'type': 'bar',\n",
       "              'x': array(['lifestyle'], dtype=object),\n",
       "              'xaxis': 'x',\n",
       "              'y': {'bdata': '7wA=', 'dtype': 'i2'},\n",
       "              'yaxis': 'y'},\n",
       "             {'hovertemplate': 'subcategory=music-celebrity<br>category=%{x}<br>values=%{y}<extra></extra>',\n",
       "              'legendgroup': 'music-celebrity',\n",
       "              'marker': {'color': '#EF553B', 'pattern': {'shape': ''}},\n",
       "              'name': 'music-celebrity',\n",
       "              'orientation': 'v',\n",
       "              'showlegend': True,\n",
       "              'textposition': 'auto',\n",
       "              'type': 'bar',\n",
       "              'x': array(['music'], dtype=object),\n",
       "              'xaxis': 'x',\n",
       "              'y': {'bdata': '4QA=', 'dtype': 'i2'},\n",
       "              'yaxis': 'y'},\n",
       "             {'hovertemplate': 'subcategory=movies-celebrity<br>category=%{x}<br>values=%{y}<extra></extra>',\n",
       "              'legendgroup': 'movies-celebrity',\n",
       "              'marker': {'color': '#00cc96', 'pattern': {'shape': ''}},\n",
       "              'name': 'movies-celebrity',\n",
       "              'orientation': 'v',\n",
       "              'showlegend': True,\n",
       "              'textposition': 'auto',\n",
       "              'type': 'bar',\n",
       "              'x': array(['movies'], dtype=object),\n",
       "              'xaxis': 'x',\n",
       "              'y': {'bdata': '4AA=', 'dtype': 'i2'},\n",
       "              'yaxis': 'y'},\n",
       "             {'hovertemplate': 'subcategory=football_nfl_videos<br>category=%{x}<br>values=%{y}<extra></extra>',\n",
       "              'legendgroup': 'football_nfl_videos',\n",
       "              'marker': {'color': '#ab63fa', 'pattern': {'shape': ''}},\n",
       "              'name': 'football_nfl_videos',\n",
       "              'orientation': 'v',\n",
       "              'showlegend': True,\n",
       "              'textposition': 'auto',\n",
       "              'type': 'bar',\n",
       "              'x': array(['sports'], dtype=object),\n",
       "              'xaxis': 'x',\n",
       "              'y': {'bdata': '2wA=', 'dtype': 'i2'},\n",
       "              'yaxis': 'y'},\n",
       "             {'hovertemplate': 'subcategory=finance-top-stocks<br>category=%{x}<br>values=%{y}<extra></extra>',\n",
       "              'legendgroup': 'finance-top-stocks',\n",
       "              'marker': {'color': '#FFA15A', 'pattern': {'shape': ''}},\n",
       "              'name': 'finance-top-stocks',\n",
       "              'orientation': 'v',\n",
       "              'showlegend': True,\n",
       "              'textposition': 'auto',\n",
       "              'type': 'bar',\n",
       "              'x': array(['finance'], dtype=object),\n",
       "              'xaxis': 'x',\n",
       "              'y': {'bdata': '1gA=', 'dtype': 'i2'},\n",
       "              'yaxis': 'y'},\n",
       "             {'hovertemplate': 'subcategory=autosclassics<br>category=%{x}<br>values=%{y}<extra></extra>',\n",
       "              'legendgroup': 'autosclassics',\n",
       "              'marker': {'color': '#19d3f3', 'pattern': {'shape': ''}},\n",
       "              'name': 'autosclassics',\n",
       "              'orientation': 'v',\n",
       "              'showlegend': True,\n",
       "              'textposition': 'auto',\n",
       "              'type': 'bar',\n",
       "              'x': array(['autos'], dtype=object),\n",
       "              'xaxis': 'x',\n",
       "              'y': {'bdata': '0wA=', 'dtype': 'i2'},\n",
       "              'yaxis': 'y'},\n",
       "             {'hovertemplate': 'subcategory=restaurantsandnews<br>category=%{x}<br>values=%{y}<extra></extra>',\n",
       "              'legendgroup': 'restaurantsandnews',\n",
       "              'marker': {'color': '#FF6692', 'pattern': {'shape': ''}},\n",
       "              'name': 'restaurantsandnews',\n",
       "              'orientation': 'v',\n",
       "              'showlegend': True,\n",
       "              'textposition': 'auto',\n",
       "              'type': 'bar',\n",
       "              'x': array(['foodanddrink'], dtype=object),\n",
       "              'xaxis': 'x',\n",
       "              'y': {'bdata': 'yAA=', 'dtype': 'i2'},\n",
       "              'yaxis': 'y'},\n",
       "             {'hovertemplate': 'subcategory=newsgoodnews<br>category=%{x}<br>values=%{y}<extra></extra>',\n",
       "              'legendgroup': 'newsgoodnews',\n",
       "              'marker': {'color': '#B6E880', 'pattern': {'shape': ''}},\n",
       "              'name': 'newsgoodnews',\n",
       "              'orientation': 'v',\n",
       "              'showlegend': True,\n",
       "              'textposition': 'auto',\n",
       "              'type': 'bar',\n",
       "              'x': array(['news'], dtype=object),\n",
       "              'xaxis': 'x',\n",
       "              'y': {'bdata': 'vgA=', 'dtype': 'i2'},\n",
       "              'yaxis': 'y'},\n",
       "             {'hovertemplate': 'subcategory=lifestylepets<br>category=%{x}<br>values=%{y}<extra></extra>',\n",
       "              'legendgroup': 'lifestylepets',\n",
       "              'marker': {'color': '#FF97FF', 'pattern': {'shape': ''}},\n",
       "              'name': 'lifestylepets',\n",
       "              'orientation': 'v',\n",
       "              'showlegend': True,\n",
       "              'textposition': 'auto',\n",
       "              'type': 'bar',\n",
       "              'x': array(['lifestyle'], dtype=object),\n",
       "              'xaxis': 'x',\n",
       "              'y': {'bdata': 'tgA=', 'dtype': 'i2'},\n",
       "              'yaxis': 'y'},\n",
       "             {'hovertemplate': 'subcategory=fitness<br>category=%{x}<br>values=%{y}<extra></extra>',\n",
       "              'legendgroup': 'fitness',\n",
       "              'marker': {'color': '#FECB52', 'pattern': {'shape': ''}},\n",
       "              'name': 'fitness',\n",
       "              'orientation': 'v',\n",
       "              'showlegend': True,\n",
       "              'textposition': 'auto',\n",
       "              'type': 'bar',\n",
       "              'x': array(['health'], dtype=object),\n",
       "              'xaxis': 'x',\n",
       "              'y': {'bdata': 'qwA=', 'dtype': 'i2'},\n",
       "              'yaxis': 'y'},\n",
       "             {'hovertemplate': 'subcategory=lifestyle<br>category=%{x}<br>values=%{y}<extra></extra>',\n",
       "              'legendgroup': 'lifestyle',\n",
       "              'marker': {'color': '#636efa', 'pattern': {'shape': ''}},\n",
       "              'name': 'lifestyle',\n",
       "              'orientation': 'v',\n",
       "              'showlegend': True,\n",
       "              'textposition': 'auto',\n",
       "              'type': 'bar',\n",
       "              'x': array(['video', 'lifestyle'], dtype=object),\n",
       "              'xaxis': 'x',\n",
       "              'y': {'bdata': 'qgABAA==', 'dtype': 'i2'},\n",
       "              'yaxis': 'y'},\n",
       "             {'hovertemplate': 'subcategory=weightloss<br>category=%{x}<br>values=%{y}<extra></extra>',\n",
       "              'legendgroup': 'weightloss',\n",
       "              'marker': {'color': '#EF553B', 'pattern': {'shape': ''}},\n",
       "              'name': 'weightloss',\n",
       "              'orientation': 'v',\n",
       "              'showlegend': True,\n",
       "              'textposition': 'auto',\n",
       "              'type': 'bar',\n",
       "              'x': array(['health'], dtype=object),\n",
       "              'xaxis': 'x',\n",
       "              'y': {'bdata': 'qAA=', 'dtype': 'i2'},\n",
       "              'yaxis': 'y'},\n",
       "             {'hovertemplate': ('subcategory=entertainment-cele' ... '<br>values=%{y}<extra></extra>'),\n",
       "              'legendgroup': 'entertainment-celebrity',\n",
       "              'marker': {'color': '#00cc96', 'pattern': {'shape': ''}},\n",
       "              'name': 'entertainment-celebrity',\n",
       "              'orientation': 'v',\n",
       "              'showlegend': True,\n",
       "              'textposition': 'auto',\n",
       "              'type': 'bar',\n",
       "              'x': array(['entertainment'], dtype=object),\n",
       "              'xaxis': 'x',\n",
       "              'y': {'bdata': 'qAA=', 'dtype': 'i2'},\n",
       "              'yaxis': 'y'},\n",
       "             {'hovertemplate': 'subcategory=finance-video<br>category=%{x}<br>values=%{y}<extra></extra>',\n",
       "              'legendgroup': 'finance-video',\n",
       "              'marker': {'color': '#ab63fa', 'pattern': {'shape': ''}},\n",
       "              'name': 'finance-video',\n",
       "              'orientation': 'v',\n",
       "              'showlegend': True,\n",
       "              'textposition': 'auto',\n",
       "              'type': 'bar',\n",
       "              'x': array(['finance'], dtype=object),\n",
       "              'xaxis': 'x',\n",
       "              'y': {'bdata': 'pgA=', 'dtype': 'i2'},\n",
       "              'yaxis': 'y'},\n",
       "             {'hovertemplate': 'subcategory=science<br>category=%{x}<br>values=%{y}<extra></extra>',\n",
       "              'legendgroup': 'science',\n",
       "              'marker': {'color': '#FFA15A', 'pattern': {'shape': ''}},\n",
       "              'name': 'science',\n",
       "              'orientation': 'v',\n",
       "              'showlegend': True,\n",
       "              'textposition': 'auto',\n",
       "              'type': 'bar',\n",
       "              'x': array(['video', 'kids'], dtype=object),\n",
       "              'xaxis': 'x',\n",
       "              'y': {'bdata': 'owATAA==', 'dtype': 'i2'},\n",
       "              'yaxis': 'y'},\n",
       "             {'hovertemplate': 'subcategory=celebrity<br>category=%{x}<br>values=%{y}<extra></extra>',\n",
       "              'legendgroup': 'celebrity',\n",
       "              'marker': {'color': '#19d3f3', 'pattern': {'shape': ''}},\n",
       "              'name': 'celebrity',\n",
       "              'orientation': 'v',\n",
       "              'showlegend': True,\n",
       "              'textposition': 'auto',\n",
       "              'type': 'bar',\n",
       "              'x': array(['entertainment'], dtype=object),\n",
       "              'xaxis': 'x',\n",
       "              'y': {'bdata': 'lwA=', 'dtype': 'i2'},\n",
       "              'yaxis': 'y'},\n",
       "             {'hovertemplate': 'subcategory=peopleandplaces<br>category=%{x}<br>values=%{y}<extra></extra>',\n",
       "              'legendgroup': 'peopleandplaces',\n",
       "              'marker': {'color': '#FF6692', 'pattern': {'shape': ''}},\n",
       "              'name': 'peopleandplaces',\n",
       "              'orientation': 'v',\n",
       "              'showlegend': True,\n",
       "              'textposition': 'auto',\n",
       "              'type': 'bar',\n",
       "              'x': array(['video'], dtype=object),\n",
       "              'xaxis': 'x',\n",
       "              'y': {'bdata': 'lgA=', 'dtype': 'i2'},\n",
       "              'yaxis': 'y'},\n",
       "             {'hovertemplate': 'subcategory=entertainment-books<br>category=%{x}<br>values=%{y}<extra></extra>',\n",
       "              'legendgroup': 'entertainment-books',\n",
       "              'marker': {'color': '#B6E880', 'pattern': {'shape': ''}},\n",
       "              'name': 'entertainment-books',\n",
       "              'orientation': 'v',\n",
       "              'showlegend': True,\n",
       "              'textposition': 'auto',\n",
       "              'type': 'bar',\n",
       "              'x': array(['entertainment'], dtype=object),\n",
       "              'xaxis': 'x',\n",
       "              'y': {'bdata': 'kwA=', 'dtype': 'i2'},\n",
       "              'yaxis': 'y'},\n",
       "             {'hovertemplate': 'subcategory=personalfinance<br>category=%{x}<br>values=%{y}<extra></extra>',\n",
       "              'legendgroup': 'personalfinance',\n",
       "              'marker': {'color': '#FF97FF', 'pattern': {'shape': ''}},\n",
       "              'name': 'personalfinance',\n",
       "              'orientation': 'v',\n",
       "              'showlegend': True,\n",
       "              'textposition': 'auto',\n",
       "              'type': 'bar',\n",
       "              'x': array(['finance', 'news'], dtype=object),\n",
       "              'xaxis': 'x',\n",
       "              'y': {'bdata': 'iwACAA==', 'dtype': 'i2'},\n",
       "              'yaxis': 'y'},\n",
       "             {'hovertemplate': 'subcategory=newsbusiness<br>category=%{x}<br>values=%{y}<extra></extra>',\n",
       "              'legendgroup': 'newsbusiness',\n",
       "              'marker': {'color': '#FECB52', 'pattern': {'shape': ''}},\n",
       "              'name': 'newsbusiness',\n",
       "              'orientation': 'v',\n",
       "              'showlegend': True,\n",
       "              'textposition': 'auto',\n",
       "              'type': 'bar',\n",
       "              'x': array(['news'], dtype=object),\n",
       "              'xaxis': 'x',\n",
       "              'y': {'bdata': 'igA=', 'dtype': 'i2'},\n",
       "              'yaxis': 'y'},\n",
       "             {'hovertemplate': 'subcategory=elections-2020-us<br>category=%{x}<br>values=%{y}<extra></extra>',\n",
       "              'legendgroup': 'elections-2020-us',\n",
       "              'marker': {'color': '#636efa', 'pattern': {'shape': ''}},\n",
       "              'name': 'elections-2020-us',\n",
       "              'orientation': 'v',\n",
       "              'showlegend': True,\n",
       "              'textposition': 'auto',\n",
       "              'type': 'bar',\n",
       "              'x': array(['news'], dtype=object),\n",
       "              'xaxis': 'x',\n",
       "              'y': {'bdata': 'hwA=', 'dtype': 'i2'},\n",
       "              'yaxis': 'y'},\n",
       "             {'hovertemplate': 'subcategory=lifestyledidyouknow<br>category=%{x}<br>values=%{y}<extra></extra>',\n",
       "              'legendgroup': 'lifestyledidyouknow',\n",
       "              'marker': {'color': '#EF553B', 'pattern': {'shape': ''}},\n",
       "              'name': 'lifestyledidyouknow',\n",
       "              'orientation': 'v',\n",
       "              'showlegend': True,\n",
       "              'textposition': 'auto',\n",
       "              'type': 'bar',\n",
       "              'x': array(['lifestyle'], dtype=object),\n",
       "              'xaxis': 'x',\n",
       "              'y': {'bdata': 'gAA=', 'dtype': 'i2'},\n",
       "              'yaxis': 'y'},\n",
       "             {'hovertemplate': 'subcategory=lifestylehoroscope<br>category=%{x}<br>values=%{y}<extra></extra>',\n",
       "              'legendgroup': 'lifestylehoroscope',\n",
       "              'marker': {'color': '#00cc96', 'pattern': {'shape': ''}},\n",
       "              'name': 'lifestylehoroscope',\n",
       "              'orientation': 'v',\n",
       "              'showlegend': True,\n",
       "              'textposition': 'auto',\n",
       "              'type': 'bar',\n",
       "              'x': array(['lifestyle'], dtype=object),\n",
       "              'xaxis': 'x',\n",
       "              'y': {'bdata': 'fg==', 'dtype': 'i1'},\n",
       "              'yaxis': 'y'},\n",
       "             {'hovertemplate': 'subcategory=lifestylesmartliving<br>category=%{x}<br>values=%{y}<extra></extra>',\n",
       "              'legendgroup': 'lifestylesmartliving',\n",
       "              'marker': {'color': '#ab63fa', 'pattern': {'shape': ''}},\n",
       "              'name': 'lifestylesmartliving',\n",
       "              'orientation': 'v',\n",
       "              'showlegend': True,\n",
       "              'textposition': 'auto',\n",
       "              'type': 'bar',\n",
       "              'x': array(['lifestyle'], dtype=object),\n",
       "              'xaxis': 'x',\n",
       "              'y': {'bdata': 'fQ==', 'dtype': 'i1'},\n",
       "              'yaxis': 'y'},\n",
       "             {'hovertemplate': 'subcategory=lifestylepetsanimals<br>category=%{x}<br>values=%{y}<extra></extra>',\n",
       "              'legendgroup': 'lifestylepetsanimals',\n",
       "              'marker': {'color': '#FFA15A', 'pattern': {'shape': ''}},\n",
       "              'name': 'lifestylepetsanimals',\n",
       "              'orientation': 'v',\n",
       "              'showlegend': True,\n",
       "              'textposition': 'auto',\n",
       "              'type': 'bar',\n",
       "              'x': array(['lifestyle'], dtype=object),\n",
       "              'xaxis': 'x',\n",
       "              'y': {'bdata': 'eg==', 'dtype': 'i1'},\n",
       "              'yaxis': 'y'},\n",
       "             {'hovertemplate': 'subcategory=popculture<br>category=%{x}<br>values=%{y}<extra></extra>',\n",
       "              'legendgroup': 'popculture',\n",
       "              'marker': {'color': '#19d3f3', 'pattern': {'shape': ''}},\n",
       "              'name': 'popculture',\n",
       "              'orientation': 'v',\n",
       "              'showlegend': True,\n",
       "              'textposition': 'auto',\n",
       "              'type': 'bar',\n",
       "              'x': array(['video'], dtype=object),\n",
       "              'xaxis': 'x',\n",
       "              'y': {'bdata': 'eg==', 'dtype': 'i1'},\n",
       "              'yaxis': 'y'},\n",
       "             {'hovertemplate': 'subcategory=videos<br>category=%{x}<br>values=%{y}<extra></extra>',\n",
       "              'legendgroup': 'videos',\n",
       "              'marker': {'color': '#FF6692', 'pattern': {'shape': ''}},\n",
       "              'name': 'videos',\n",
       "              'orientation': 'v',\n",
       "              'showlegend': True,\n",
       "              'textposition': 'auto',\n",
       "              'type': 'bar',\n",
       "              'x': array(['foodanddrink'], dtype=object),\n",
       "              'xaxis': 'x',\n",
       "              'y': {'bdata': 'eg==', 'dtype': 'i1'},\n",
       "              'yaxis': 'y'},\n",
       "             {'hovertemplate': ('subcategory=finance-saving-inv' ... '<br>values=%{y}<extra></extra>'),\n",
       "              'legendgroup': 'finance-saving-investing',\n",
       "              'marker': {'color': '#B6E880', 'pattern': {'shape': ''}},\n",
       "              'name': 'finance-saving-investing',\n",
       "              'orientation': 'v',\n",
       "              'showlegend': True,\n",
       "              'textposition': 'auto',\n",
       "              'type': 'bar',\n",
       "              'x': array(['finance'], dtype=object),\n",
       "              'xaxis': 'x',\n",
       "              'y': {'bdata': 'cQ==', 'dtype': 'i1'},\n",
       "              'yaxis': 'y'},\n",
       "             {'hovertemplate': 'subcategory=shop-holidays<br>category=%{x}<br>values=%{y}<extra></extra>',\n",
       "              'legendgroup': 'shop-holidays',\n",
       "              'marker': {'color': '#FF97FF', 'pattern': {'shape': ''}},\n",
       "              'name': 'shop-holidays',\n",
       "              'orientation': 'v',\n",
       "              'showlegend': True,\n",
       "              'textposition': 'auto',\n",
       "              'type': 'bar',\n",
       "              'x': array(['lifestyle'], dtype=object),\n",
       "              'xaxis': 'x',\n",
       "              'y': {'bdata': 'bw==', 'dtype': 'i1'},\n",
       "              'yaxis': 'y'},\n",
       "             {'hovertemplate': 'subcategory=voices<br>category=%{x}<br>values=%{y}<extra></extra>',\n",
       "              'legendgroup': 'voices',\n",
       "              'marker': {'color': '#FECB52', 'pattern': {'shape': ''}},\n",
       "              'name': 'voices',\n",
       "              'orientation': 'v',\n",
       "              'showlegend': True,\n",
       "              'textposition': 'auto',\n",
       "              'type': 'bar',\n",
       "              'x': array(['lifestyle', 'health', 'travel'], dtype=object),\n",
       "              'xaxis': 'x',\n",
       "              'y': {'bdata': 'bkkI', 'dtype': 'i1'},\n",
       "              'yaxis': 'y'},\n",
       "             {'hovertemplate': 'subcategory=finance-retirement<br>category=%{x}<br>values=%{y}<extra></extra>',\n",
       "              'legendgroup': 'finance-retirement',\n",
       "              'marker': {'color': '#636efa', 'pattern': {'shape': ''}},\n",
       "              'name': 'finance-retirement',\n",
       "              'orientation': 'v',\n",
       "              'showlegend': True,\n",
       "              'textposition': 'auto',\n",
       "              'type': 'bar',\n",
       "              'x': array(['finance'], dtype=object),\n",
       "              'xaxis': 'x',\n",
       "              'y': {'bdata': 'Zw==', 'dtype': 'i1'},\n",
       "              'yaxis': 'y'},\n",
       "             {'hovertemplate': 'subcategory=beverages<br>category=%{x}<br>values=%{y}<extra></extra>',\n",
       "              'legendgroup': 'beverages',\n",
       "              'marker': {'color': '#EF553B', 'pattern': {'shape': ''}},\n",
       "              'name': 'beverages',\n",
       "              'orientation': 'v',\n",
       "              'showlegend': True,\n",
       "              'textposition': 'auto',\n",
       "              'type': 'bar',\n",
       "              'x': array(['foodanddrink'], dtype=object),\n",
       "              'xaxis': 'x',\n",
       "              'y': {'bdata': 'ZA==', 'dtype': 'i1'},\n",
       "              'yaxis': 'y'},\n",
       "             {'hovertemplate': 'subcategory=outdoors<br>category=%{x}<br>values=%{y}<extra></extra>',\n",
       "              'legendgroup': 'outdoors',\n",
       "              'marker': {'color': '#00cc96', 'pattern': {'shape': ''}},\n",
       "              'name': 'outdoors',\n",
       "              'orientation': 'v',\n",
       "              'showlegend': True,\n",
       "              'textposition': 'auto',\n",
       "              'type': 'bar',\n",
       "              'x': array(['sports'], dtype=object),\n",
       "              'xaxis': 'x',\n",
       "              'y': {'bdata': 'Xg==', 'dtype': 'i1'},\n",
       "              'yaxis': 'y'},\n",
       "             {'hovertemplate': 'subcategory=finance-savemoney<br>category=%{x}<br>values=%{y}<extra></extra>',\n",
       "              'legendgroup': 'finance-savemoney',\n",
       "              'marker': {'color': '#ab63fa', 'pattern': {'shape': ''}},\n",
       "              'name': 'finance-savemoney',\n",
       "              'orientation': 'v',\n",
       "              'showlegend': True,\n",
       "              'textposition': 'auto',\n",
       "              'type': 'bar',\n",
       "              'x': array(['finance'], dtype=object),\n",
       "              'xaxis': 'x',\n",
       "              'y': {'bdata': 'XQ==', 'dtype': 'i1'},\n",
       "              'yaxis': 'y'},\n",
       "             {'hovertemplate': ('subcategory=lifestylerelations' ... '<br>values=%{y}<extra></extra>'),\n",
       "              'legendgroup': 'lifestylerelationships',\n",
       "              'marker': {'color': '#FFA15A', 'pattern': {'shape': ''}},\n",
       "              'name': 'lifestylerelationships',\n",
       "              'orientation': 'v',\n",
       "              'showlegend': True,\n",
       "              'textposition': 'auto',\n",
       "              'type': 'bar',\n",
       "              'x': array(['lifestyle'], dtype=object),\n",
       "              'xaxis': 'x',\n",
       "              'y': {'bdata': 'Ww==', 'dtype': 'i1'},\n",
       "              'yaxis': 'y'},\n",
       "             {'hovertemplate': ('subcategory=finance-small-busi' ... '<br>values=%{y}<extra></extra>'),\n",
       "              'legendgroup': 'finance-small-business',\n",
       "              'marker': {'color': '#19d3f3', 'pattern': {'shape': ''}},\n",
       "              'name': 'finance-small-business',\n",
       "              'orientation': 'v',\n",
       "              'showlegend': True,\n",
       "              'textposition': 'auto',\n",
       "              'type': 'bar',\n",
       "              'x': array(['finance'], dtype=object),\n",
       "              'xaxis': 'x',\n",
       "              'y': {'bdata': 'WQ==', 'dtype': 'i1'},\n",
       "              'yaxis': 'y'},\n",
       "             {'hovertemplate': 'subcategory=movievideo<br>category=%{x}<br>values=%{y}<extra></extra>',\n",
       "              'legendgroup': 'movievideo',\n",
       "              'marker': {'color': '#FF6692', 'pattern': {'shape': ''}},\n",
       "              'name': 'movievideo',\n",
       "              'orientation': 'v',\n",
       "              'showlegend': True,\n",
       "              'textposition': 'auto',\n",
       "              'type': 'bar',\n",
       "              'x': array(['movies'], dtype=object),\n",
       "              'xaxis': 'x',\n",
       "              'y': {'bdata': 'WQ==', 'dtype': 'i1'},\n",
       "              'yaxis': 'y'},\n",
       "             {'hovertemplate': 'subcategory=soccer_mls<br>category=%{x}<br>values=%{y}<extra></extra>',\n",
       "              'legendgroup': 'soccer_mls',\n",
       "              'marker': {'color': '#B6E880', 'pattern': {'shape': ''}},\n",
       "              'name': 'soccer_mls',\n",
       "              'orientation': 'v',\n",
       "              'showlegend': True,\n",
       "              'textposition': 'auto',\n",
       "              'type': 'bar',\n",
       "              'x': array(['sports'], dtype=object),\n",
       "              'xaxis': 'x',\n",
       "              'y': {'bdata': 'WA==', 'dtype': 'i1'},\n",
       "              'yaxis': 'y'},\n",
       "             {'hovertemplate': 'subcategory=traveltips<br>category=%{x}<br>values=%{y}<extra></extra>',\n",
       "              'legendgroup': 'traveltips',\n",
       "              'marker': {'color': '#FF97FF', 'pattern': {'shape': ''}},\n",
       "              'name': 'traveltips',\n",
       "              'orientation': 'v',\n",
       "              'showlegend': True,\n",
       "              'textposition': 'auto',\n",
       "              'type': 'bar',\n",
       "              'x': array(['travel'], dtype=object),\n",
       "              'xaxis': 'x',\n",
       "              'y': {'bdata': 'Vg==', 'dtype': 'i1'},\n",
       "              'yaxis': 'y'},\n",
       "             {'hovertemplate': 'subcategory=tv-gallery<br>category=%{x}<br>values=%{y}<extra></extra>',\n",
       "              'legendgroup': 'tv-gallery',\n",
       "              'marker': {'color': '#FECB52', 'pattern': {'shape': ''}},\n",
       "              'name': 'tv-gallery',\n",
       "              'orientation': 'v',\n",
       "              'showlegend': True,\n",
       "              'textposition': 'auto',\n",
       "              'type': 'bar',\n",
       "              'x': array(['tv'], dtype=object),\n",
       "              'xaxis': 'x',\n",
       "              'y': {'bdata': 'Uw==', 'dtype': 'i1'},\n",
       "              'yaxis': 'y'},\n",
       "             {'hovertemplate': 'subcategory=autossports<br>category=%{x}<br>values=%{y}<extra></extra>',\n",
       "              'legendgroup': 'autossports',\n",
       "              'marker': {'color': '#636efa', 'pattern': {'shape': ''}},\n",
       "              'name': 'autossports',\n",
       "              'orientation': 'v',\n",
       "              'showlegend': True,\n",
       "              'textposition': 'auto',\n",
       "              'type': 'bar',\n",
       "              'x': array(['autos'], dtype=object),\n",
       "              'xaxis': 'x',\n",
       "              'y': {'bdata': 'UA==', 'dtype': 'i1'},\n",
       "              'yaxis': 'y'},\n",
       "             {'hovertemplate': 'subcategory=autossuvs<br>category=%{x}<br>values=%{y}<extra></extra>',\n",
       "              'legendgroup': 'autossuvs',\n",
       "              'marker': {'color': '#EF553B', 'pattern': {'shape': ''}},\n",
       "              'name': 'autossuvs',\n",
       "              'orientation': 'v',\n",
       "              'showlegend': True,\n",
       "              'textposition': 'auto',\n",
       "              'type': 'bar',\n",
       "              'x': array(['autos'], dtype=object),\n",
       "              'xaxis': 'x',\n",
       "              'y': {'bdata': 'Tw==', 'dtype': 'i1'},\n",
       "              'yaxis': 'y'},\n",
       "             {'hovertemplate': 'subcategory=lifestylemindandsoul<br>category=%{x}<br>values=%{y}<extra></extra>',\n",
       "              'legendgroup': 'lifestylemindandsoul',\n",
       "              'marker': {'color': '#00cc96', 'pattern': {'shape': ''}},\n",
       "              'name': 'lifestylemindandsoul',\n",
       "              'orientation': 'v',\n",
       "              'showlegend': True,\n",
       "              'textposition': 'auto',\n",
       "              'type': 'bar',\n",
       "              'x': array(['lifestyle'], dtype=object),\n",
       "              'xaxis': 'x',\n",
       "              'y': {'bdata': 'Sg==', 'dtype': 'i1'},\n",
       "              'yaxis': 'y'},\n",
       "             {'hovertemplate': 'subcategory=movies-gallery<br>category=%{x}<br>values=%{y}<extra></extra>',\n",
       "              'legendgroup': 'movies-gallery',\n",
       "              'marker': {'color': '#ab63fa', 'pattern': {'shape': ''}},\n",
       "              'name': 'movies-gallery',\n",
       "              'orientation': 'v',\n",
       "              'showlegend': True,\n",
       "              'textposition': 'auto',\n",
       "              'type': 'bar',\n",
       "              'x': array(['movies'], dtype=object),\n",
       "              'xaxis': 'x',\n",
       "              'y': {'bdata': 'SA==', 'dtype': 'i1'},\n",
       "              'yaxis': 'y'},\n",
       "             {'hovertemplate': 'subcategory=lifestylecelebstyle<br>category=%{x}<br>values=%{y}<extra></extra>',\n",
       "              'legendgroup': 'lifestylecelebstyle',\n",
       "              'marker': {'color': '#FFA15A', 'pattern': {'shape': ''}},\n",
       "              'name': 'lifestylecelebstyle',\n",
       "              'orientation': 'v',\n",
       "              'showlegend': True,\n",
       "              'textposition': 'auto',\n",
       "              'type': 'bar',\n",
       "              'x': array(['lifestyle'], dtype=object),\n",
       "              'xaxis': 'x',\n",
       "              'y': {'bdata': 'Rw==', 'dtype': 'i1'},\n",
       "              'yaxis': 'y'},\n",
       "             {'hovertemplate': 'subcategory=lifestylecareer<br>category=%{x}<br>values=%{y}<extra></extra>',\n",
       "              'legendgroup': 'lifestylecareer',\n",
       "              'marker': {'color': '#19d3f3', 'pattern': {'shape': ''}},\n",
       "              'name': 'lifestylecareer',\n",
       "              'orientation': 'v',\n",
       "              'showlegend': True,\n",
       "              'textposition': 'auto',\n",
       "              'type': 'bar',\n",
       "              'x': array(['lifestyle'], dtype=object),\n",
       "              'xaxis': 'x',\n",
       "              'y': {'bdata': 'Rw==', 'dtype': 'i1'},\n",
       "              'yaxis': 'y'},\n",
       "             {'hovertemplate': 'subcategory=video<br>category=%{x}<br>values=%{y}<extra></extra>',\n",
       "              'legendgroup': 'video',\n",
       "              'marker': {'color': '#FF6692', 'pattern': {'shape': ''}},\n",
       "              'name': 'video',\n",
       "              'orientation': 'v',\n",
       "              'showlegend': True,\n",
       "              'textposition': 'auto',\n",
       "              'type': 'bar',\n",
       "              'x': array(['travel', 'entertainment', 'kids', 'health'], dtype=object),\n",
       "              'xaxis': 'x',\n",
       "              'y': {'bdata': 'Qh8YEA==', 'dtype': 'i1'},\n",
       "              'yaxis': 'y'},\n",
       "             {'hovertemplate': 'subcategory=lifestyleparenting<br>category=%{x}<br>values=%{y}<extra></extra>',\n",
       "              'legendgroup': 'lifestyleparenting',\n",
       "              'marker': {'color': '#B6E880', 'pattern': {'shape': ''}},\n",
       "              'name': 'lifestyleparenting',\n",
       "              'orientation': 'v',\n",
       "              'showlegend': True,\n",
       "              'textposition': 'auto',\n",
       "              'type': 'bar',\n",
       "              'x': array(['lifestyle'], dtype=object),\n",
       "              'xaxis': 'x',\n",
       "              'y': {'bdata': 'QA==', 'dtype': 'i1'},\n",
       "              'yaxis': 'y'},\n",
       "             {'hovertemplate': 'subcategory=lifestylebeauty<br>category=%{x}<br>values=%{y}<extra></extra>',\n",
       "              'legendgroup': 'lifestylebeauty',\n",
       "              'marker': {'color': '#FF97FF', 'pattern': {'shape': ''}},\n",
       "              'name': 'lifestylebeauty',\n",
       "              'orientation': 'v',\n",
       "              'showlegend': True,\n",
       "              'textposition': 'auto',\n",
       "              'type': 'bar',\n",
       "              'x': array(['lifestyle'], dtype=object),\n",
       "              'xaxis': 'x',\n",
       "              'y': {'bdata': 'Pg==', 'dtype': 'i1'},\n",
       "              'yaxis': 'y'},\n",
       "             {'hovertemplate': 'subcategory=finance-taxes<br>category=%{x}<br>values=%{y}<extra></extra>',\n",
       "              'legendgroup': 'finance-taxes',\n",
       "              'marker': {'color': '#FECB52', 'pattern': {'shape': ''}},\n",
       "              'name': 'finance-taxes',\n",
       "              'orientation': 'v',\n",
       "              'showlegend': True,\n",
       "              'textposition': 'auto',\n",
       "              'type': 'bar',\n",
       "              'x': array(['finance'], dtype=object),\n",
       "              'xaxis': 'x',\n",
       "              'y': {'bdata': 'PA==', 'dtype': 'i1'},\n",
       "              'yaxis': 'y'},\n",
       "             {'hovertemplate': 'subcategory=soccer_epl<br>category=%{x}<br>values=%{y}<extra></extra>',\n",
       "              'legendgroup': 'soccer_epl',\n",
       "              'marker': {'color': '#636efa', 'pattern': {'shape': ''}},\n",
       "              'name': 'soccer_epl',\n",
       "              'orientation': 'v',\n",
       "              'showlegend': True,\n",
       "              'textposition': 'auto',\n",
       "              'type': 'bar',\n",
       "              'x': array(['sports'], dtype=object),\n",
       "              'xaxis': 'x',\n",
       "              'y': {'bdata': 'OQ==', 'dtype': 'i1'},\n",
       "              'yaxis': 'y'},\n",
       "             {'hovertemplate': 'subcategory=autosbuying<br>category=%{x}<br>values=%{y}<extra></extra>',\n",
       "              'legendgroup': 'autosbuying',\n",
       "              'marker': {'color': '#EF553B', 'pattern': {'shape': ''}},\n",
       "              'name': 'autosbuying',\n",
       "              'orientation': 'v',\n",
       "              'showlegend': True,\n",
       "              'textposition': 'auto',\n",
       "              'type': 'bar',\n",
       "              'x': array(['autos'], dtype=object),\n",
       "              'xaxis': 'x',\n",
       "              'y': {'bdata': 'OA==', 'dtype': 'i1'},\n",
       "              'yaxis': 'y'},\n",
       "             {'hovertemplate': 'subcategory=quickandeasy<br>category=%{x}<br>values=%{y}<extra></extra>',\n",
       "              'legendgroup': 'quickandeasy',\n",
       "              'marker': {'color': '#00cc96', 'pattern': {'shape': ''}},\n",
       "              'name': 'quickandeasy',\n",
       "              'orientation': 'v',\n",
       "              'showlegend': True,\n",
       "              'textposition': 'auto',\n",
       "              'type': 'bar',\n",
       "              'x': array(['foodanddrink'], dtype=object),\n",
       "              'xaxis': 'x',\n",
       "              'y': {'bdata': 'OA==', 'dtype': 'i1'},\n",
       "              'yaxis': 'y'},\n",
       "             {'hovertemplate': 'subcategory=shop-all<br>category=%{x}<br>values=%{y}<extra></extra>',\n",
       "              'legendgroup': 'shop-all',\n",
       "              'marker': {'color': '#ab63fa', 'pattern': {'shape': ''}},\n",
       "              'name': 'shop-all',\n",
       "              'orientation': 'v',\n",
       "              'showlegend': True,\n",
       "              'textposition': 'auto',\n",
       "              'type': 'bar',\n",
       "              'x': array(['lifestyle'], dtype=object),\n",
       "              'xaxis': 'x',\n",
       "              'y': {'bdata': 'Ng==', 'dtype': 'i1'},\n",
       "              'yaxis': 'y'},\n",
       "             {'hovertemplate': 'subcategory=music-gallery<br>category=%{x}<br>values=%{y}<extra></extra>',\n",
       "              'legendgroup': 'music-gallery',\n",
       "              'marker': {'color': '#FFA15A', 'pattern': {'shape': ''}},\n",
       "              'name': 'music-gallery',\n",
       "              'orientation': 'v',\n",
       "              'showlegend': True,\n",
       "              'textposition': 'auto',\n",
       "              'type': 'bar',\n",
       "              'x': array(['music'], dtype=object),\n",
       "              'xaxis': 'x',\n",
       "              'y': {'bdata': 'NQ==', 'dtype': 'i1'},\n",
       "              'yaxis': 'y'},\n",
       "             {'hovertemplate': 'subcategory=baseball_mlb_videos<br>category=%{x}<br>values=%{y}<extra></extra>',\n",
       "              'legendgroup': 'baseball_mlb_videos',\n",
       "              'marker': {'color': '#19d3f3', 'pattern': {'shape': ''}},\n",
       "              'name': 'baseball_mlb_videos',\n",
       "              'orientation': 'v',\n",
       "              'showlegend': True,\n",
       "              'textposition': 'auto',\n",
       "              'type': 'bar',\n",
       "              'x': array(['sports'], dtype=object),\n",
       "              'xaxis': 'x',\n",
       "              'y': {'bdata': 'MQ==', 'dtype': 'i1'},\n",
       "              'yaxis': 'y'},\n",
       "             {'hovertemplate': 'subcategory=football_ncaa_videos<br>category=%{x}<br>values=%{y}<extra></extra>',\n",
       "              'legendgroup': 'football_ncaa_videos',\n",
       "              'marker': {'color': '#FF6692', 'pattern': {'shape': ''}},\n",
       "              'name': 'football_ncaa_videos',\n",
       "              'orientation': 'v',\n",
       "              'showlegend': True,\n",
       "              'textposition': 'auto',\n",
       "              'type': 'bar',\n",
       "              'x': array(['sports'], dtype=object),\n",
       "              'xaxis': 'x',\n",
       "              'y': {'bdata': 'MA==', 'dtype': 'i1'},\n",
       "              'yaxis': 'y'},\n",
       "             {'hovertemplate': 'subcategory=boxing<br>category=%{x}<br>values=%{y}<extra></extra>',\n",
       "              'legendgroup': 'boxing',\n",
       "              'marker': {'color': '#B6E880', 'pattern': {'shape': ''}},\n",
       "              'name': 'boxing',\n",
       "              'orientation': 'v',\n",
       "              'showlegend': True,\n",
       "              'textposition': 'auto',\n",
       "              'type': 'bar',\n",
       "              'x': array(['sports'], dtype=object),\n",
       "              'xaxis': 'x',\n",
       "              'y': {'bdata': 'Lw==', 'dtype': 'i1'},\n",
       "              'yaxis': 'y'},\n",
       "             {'hovertemplate': 'subcategory=healthnews<br>category=%{x}<br>values=%{y}<extra></extra>',\n",
       "              'legendgroup': 'healthnews',\n",
       "              'marker': {'color': '#FF97FF', 'pattern': {'shape': ''}},\n",
       "              'name': 'healthnews',\n",
       "              'orientation': 'v',\n",
       "              'showlegend': True,\n",
       "              'textposition': 'auto',\n",
       "              'type': 'bar',\n",
       "              'x': array(['health'], dtype=object),\n",
       "              'xaxis': 'x',\n",
       "              'y': {'bdata': 'Lg==', 'dtype': 'i1'},\n",
       "              'yaxis': 'y'},\n",
       "             {'hovertemplate': 'subcategory=finance-technology<br>category=%{x}<br>values=%{y}<extra></extra>',\n",
       "              'legendgroup': 'finance-technology',\n",
       "              'marker': {'color': '#FECB52', 'pattern': {'shape': ''}},\n",
       "              'name': 'finance-technology',\n",
       "              'orientation': 'v',\n",
       "              'showlegend': True,\n",
       "              'textposition': 'auto',\n",
       "              'type': 'bar',\n",
       "              'x': array(['finance'], dtype=object),\n",
       "              'xaxis': 'x',\n",
       "              'y': {'bdata': 'LQ==', 'dtype': 'i1'},\n",
       "              'yaxis': 'y'},\n",
       "             {'hovertemplate': 'subcategory=tvvideos<br>category=%{x}<br>values=%{y}<extra></extra>',\n",
       "              'legendgroup': 'tvvideos',\n",
       "              'marker': {'color': '#636efa', 'pattern': {'shape': ''}},\n",
       "              'name': 'tvvideos',\n",
       "              'orientation': 'v',\n",
       "              'showlegend': True,\n",
       "              'textposition': 'auto',\n",
       "              'type': 'bar',\n",
       "              'x': array(['tv'], dtype=object),\n",
       "              'xaxis': 'x',\n",
       "              'y': {'bdata': 'LA==', 'dtype': 'i1'},\n",
       "              'yaxis': 'y'},\n",
       "             {'hovertemplate': 'subcategory=factcheck<br>category=%{x}<br>values=%{y}<extra></extra>',\n",
       "              'legendgroup': 'factcheck',\n",
       "              'marker': {'color': '#EF553B', 'pattern': {'shape': ''}},\n",
       "              'name': 'factcheck',\n",
       "              'orientation': 'v',\n",
       "              'showlegend': True,\n",
       "              'textposition': 'auto',\n",
       "              'type': 'bar',\n",
       "              'x': array(['news'], dtype=object),\n",
       "              'xaxis': 'x',\n",
       "              'y': {'bdata': 'Kg==', 'dtype': 'i1'},\n",
       "              'yaxis': 'y'},\n",
       "             {'hovertemplate': ('subcategory=lifestylecleaninga' ... '<br>values=%{y}<extra></extra>'),\n",
       "              'legendgroup': 'lifestylecleaningandorganizing',\n",
       "              'marker': {'color': '#00cc96', 'pattern': {'shape': ''}},\n",
       "              'name': 'lifestylecleaningandorganizing',\n",
       "              'orientation': 'v',\n",
       "              'showlegend': True,\n",
       "              'textposition': 'auto',\n",
       "              'type': 'bar',\n",
       "              'x': array(['lifestyle'], dtype=object),\n",
       "              'xaxis': 'x',\n",
       "              'y': {'bdata': 'KQ==', 'dtype': 'i1'},\n",
       "              'yaxis': 'y'},\n",
       "             {'hovertemplate': 'subcategory=lifestylefashion<br>category=%{x}<br>values=%{y}<extra></extra>',\n",
       "              'legendgroup': 'lifestylefashion',\n",
       "              'marker': {'color': '#ab63fa', 'pattern': {'shape': ''}},\n",
       "              'name': 'lifestylefashion',\n",
       "              'orientation': 'v',\n",
       "              'showlegend': True,\n",
       "              'textposition': 'auto',\n",
       "              'type': 'bar',\n",
       "              'x': array(['lifestyle'], dtype=object),\n",
       "              'xaxis': 'x',\n",
       "              'y': {'bdata': 'KA==', 'dtype': 'i1'},\n",
       "              'yaxis': 'y'},\n",
       "             {'hovertemplate': 'subcategory=cma-awards<br>category=%{x}<br>values=%{y}<extra></extra>',\n",
       "              'legendgroup': 'cma-awards',\n",
       "              'marker': {'color': '#FFA15A', 'pattern': {'shape': ''}},\n",
       "              'name': 'cma-awards',\n",
       "              'orientation': 'v',\n",
       "              'showlegend': True,\n",
       "              'textposition': 'auto',\n",
       "              'type': 'bar',\n",
       "              'x': array(['music'], dtype=object),\n",
       "              'xaxis': 'x',\n",
       "              'y': {'bdata': 'Jg==', 'dtype': 'i1'},\n",
       "              'yaxis': 'y'},\n",
       "             {'hovertemplate': 'subcategory=autostrucks<br>category=%{x}<br>values=%{y}<extra></extra>',\n",
       "              'legendgroup': 'autostrucks',\n",
       "              'marker': {'color': '#19d3f3', 'pattern': {'shape': ''}},\n",
       "              'name': 'autostrucks',\n",
       "              'orientation': 'v',\n",
       "              'showlegend': True,\n",
       "              'textposition': 'auto',\n",
       "              'type': 'bar',\n",
       "              'x': array(['autos'], dtype=object),\n",
       "              'xaxis': 'x',\n",
       "              'y': {'bdata': 'Jg==', 'dtype': 'i1'},\n",
       "              'yaxis': 'y'},\n",
       "             {'hovertemplate': 'subcategory=finance-insurance<br>category=%{x}<br>values=%{y}<extra></extra>',\n",
       "              'legendgroup': 'finance-insurance',\n",
       "              'marker': {'color': '#FF6692', 'pattern': {'shape': ''}},\n",
       "              'name': 'finance-insurance',\n",
       "              'orientation': 'v',\n",
       "              'showlegend': True,\n",
       "              'textposition': 'auto',\n",
       "              'type': 'bar',\n",
       "              'x': array(['finance'], dtype=object),\n",
       "              'xaxis': 'x',\n",
       "              'y': {'bdata': 'Jg==', 'dtype': 'i1'},\n",
       "              'yaxis': 'y'},\n",
       "             {'hovertemplate': ('subcategory=lifestylefamilyand' ... '<br>values=%{y}<extra></extra>'),\n",
       "              'legendgroup': 'lifestylefamilyandrelationships',\n",
       "              'marker': {'color': '#B6E880', 'pattern': {'shape': ''}},\n",
       "              'name': 'lifestylefamilyandrelationships',\n",
       "              'orientation': 'v',\n",
       "              'showlegend': True,\n",
       "              'textposition': 'auto',\n",
       "              'type': 'bar',\n",
       "              'x': array(['lifestyle'], dtype=object),\n",
       "              'xaxis': 'x',\n",
       "              'y': {'bdata': 'IQ==', 'dtype': 'i1'},\n",
       "              'yaxis': 'y'},\n",
       "             {'hovertemplate': 'subcategory=awards<br>category=%{x}<br>values=%{y}<extra></extra>',\n",
       "              'legendgroup': 'awards',\n",
       "              'marker': {'color': '#FF97FF', 'pattern': {'shape': ''}},\n",
       "              'name': 'awards',\n",
       "              'orientation': 'v',\n",
       "              'showlegend': True,\n",
       "              'textposition': 'auto',\n",
       "              'type': 'bar',\n",
       "              'x': array(['entertainment'], dtype=object),\n",
       "              'xaxis': 'x',\n",
       "              'y': {'bdata': 'Hw==', 'dtype': 'i1'},\n",
       "              'yaxis': 'y'},\n",
       "             {'hovertemplate': 'subcategory=music-awards<br>category=%{x}<br>values=%{y}<extra></extra>',\n",
       "              'legendgroup': 'music-awards',\n",
       "              'marker': {'color': '#FECB52', 'pattern': {'shape': ''}},\n",
       "              'name': 'music-awards',\n",
       "              'orientation': 'v',\n",
       "              'showlegend': True,\n",
       "              'textposition': 'auto',\n",
       "              'type': 'bar',\n",
       "              'x': array(['music'], dtype=object),\n",
       "              'xaxis': 'x',\n",
       "              'y': {'bdata': 'Hw==', 'dtype': 'i1'},\n",
       "              'yaxis': 'y'},\n",
       "             {'hovertemplate': 'subcategory=autosluxury<br>category=%{x}<br>values=%{y}<extra></extra>',\n",
       "              'legendgroup': 'autosluxury',\n",
       "              'marker': {'color': '#636efa', 'pattern': {'shape': ''}},\n",
       "              'name': 'autosluxury',\n",
       "              'orientation': 'v',\n",
       "              'showlegend': True,\n",
       "              'textposition': 'auto',\n",
       "              'type': 'bar',\n",
       "              'x': array(['autos'], dtype=object),\n",
       "              'xaxis': 'x',\n",
       "              'y': {'bdata': 'Hw==', 'dtype': 'i1'},\n",
       "              'yaxis': 'y'},\n",
       "             {'hovertemplate': 'subcategory=autosownership<br>category=%{x}<br>values=%{y}<extra></extra>',\n",
       "              'legendgroup': 'autosownership',\n",
       "              'marker': {'color': '#EF553B', 'pattern': {'shape': ''}},\n",
       "              'name': 'autosownership',\n",
       "              'orientation': 'v',\n",
       "              'showlegend': True,\n",
       "              'textposition': 'auto',\n",
       "              'type': 'bar',\n",
       "              'x': array(['autos'], dtype=object),\n",
       "              'xaxis': 'x',\n",
       "              'y': {'bdata': 'Hg==', 'dtype': 'i1'},\n",
       "              'yaxis': 'y'},\n",
       "             {'hovertemplate': 'subcategory=advice<br>category=%{x}<br>values=%{y}<extra></extra>',\n",
       "              'legendgroup': 'advice',\n",
       "              'marker': {'color': '#00cc96', 'pattern': {'shape': ''}},\n",
       "              'name': 'advice',\n",
       "              'orientation': 'v',\n",
       "              'showlegend': True,\n",
       "              'textposition': 'auto',\n",
       "              'type': 'bar',\n",
       "              'x': array(['lifestyle'], dtype=object),\n",
       "              'xaxis': 'x',\n",
       "              'y': {'bdata': 'Hg==', 'dtype': 'i1'},\n",
       "              'yaxis': 'y'},\n",
       "             {'hovertemplate': 'subcategory=wines<br>category=%{x}<br>values=%{y}<extra></extra>',\n",
       "              'legendgroup': 'wines',\n",
       "              'marker': {'color': '#ab63fa', 'pattern': {'shape': ''}},\n",
       "              'name': 'wines',\n",
       "              'orientation': 'v',\n",
       "              'showlegend': True,\n",
       "              'textposition': 'auto',\n",
       "              'type': 'bar',\n",
       "              'x': array(['foodanddrink'], dtype=object),\n",
       "              'xaxis': 'x',\n",
       "              'y': {'bdata': 'Hg==', 'dtype': 'i1'},\n",
       "              'yaxis': 'y'},\n",
       "             {'hovertemplate': 'subcategory=lifestyleweddings<br>category=%{x}<br>values=%{y}<extra></extra>',\n",
       "              'legendgroup': 'lifestyleweddings',\n",
       "              'marker': {'color': '#FFA15A', 'pattern': {'shape': ''}},\n",
       "              'name': 'lifestyleweddings',\n",
       "              'orientation': 'v',\n",
       "              'showlegend': True,\n",
       "              'textposition': 'auto',\n",
       "              'type': 'bar',\n",
       "              'x': array(['lifestyle'], dtype=object),\n",
       "              'xaxis': 'x',\n",
       "              'y': {'bdata': 'HQ==', 'dtype': 'i1'},\n",
       "              'yaxis': 'y'},\n",
       "             {'hovertemplate': 'subcategory=finance-credit<br>category=%{x}<br>values=%{y}<extra></extra>',\n",
       "              'legendgroup': 'finance-credit',\n",
       "              'marker': {'color': '#19d3f3', 'pattern': {'shape': ''}},\n",
       "              'name': 'finance-credit',\n",
       "              'orientation': 'v',\n",
       "              'showlegend': True,\n",
       "              'textposition': 'auto',\n",
       "              'type': 'bar',\n",
       "              'x': array(['finance'], dtype=object),\n",
       "              'xaxis': 'x',\n",
       "              'y': {'bdata': 'HA==', 'dtype': 'i1'},\n",
       "              'yaxis': 'y'},\n",
       "             {'hovertemplate': 'subcategory=shop-apparel<br>category=%{x}<br>values=%{y}<extra></extra>',\n",
       "              'legendgroup': 'shop-apparel',\n",
       "              'marker': {'color': '#FF6692', 'pattern': {'shape': ''}},\n",
       "              'name': 'shop-apparel',\n",
       "              'orientation': 'v',\n",
       "              'showlegend': True,\n",
       "              'textposition': 'auto',\n",
       "              'type': 'bar',\n",
       "              'x': array(['lifestyle'], dtype=object),\n",
       "              'xaxis': 'x',\n",
       "              'y': {'bdata': 'Gg==', 'dtype': 'i1'},\n",
       "              'yaxis': 'y'},\n",
       "             {'hovertemplate': 'subcategory=lifestylevideo<br>category=%{x}<br>values=%{y}<extra></extra>',\n",
       "              'legendgroup': 'lifestylevideo',\n",
       "              'marker': {'color': '#B6E880', 'pattern': {'shape': ''}},\n",
       "              'name': 'lifestylevideo',\n",
       "              'orientation': 'v',\n",
       "              'showlegend': True,\n",
       "              'textposition': 'auto',\n",
       "              'type': 'bar',\n",
       "              'x': array(['lifestyle'], dtype=object),\n",
       "              'xaxis': 'x',\n",
       "              'y': {'bdata': 'GQ==', 'dtype': 'i1'},\n",
       "              'yaxis': 'y'},\n",
       "             {'hovertemplate': 'subcategory=lifestylelovesex<br>category=%{x}<br>values=%{y}<extra></extra>',\n",
       "              'legendgroup': 'lifestylelovesex',\n",
       "              'marker': {'color': '#FF97FF', 'pattern': {'shape': ''}},\n",
       "              'name': 'lifestylelovesex',\n",
       "              'orientation': 'v',\n",
       "              'showlegend': True,\n",
       "              'textposition': 'auto',\n",
       "              'type': 'bar',\n",
       "              'x': array(['lifestyle'], dtype=object),\n",
       "              'xaxis': 'x',\n",
       "              'y': {'bdata': 'GQ==', 'dtype': 'i1'},\n",
       "              'yaxis': 'y'},\n",
       "             {'hovertemplate': 'subcategory=autosresearchguides<br>category=%{x}<br>values=%{y}<extra></extra>',\n",
       "              'legendgroup': 'autosresearchguides',\n",
       "              'marker': {'color': '#FECB52', 'pattern': {'shape': ''}},\n",
       "              'name': 'autosresearchguides',\n",
       "              'orientation': 'v',\n",
       "              'showlegend': True,\n",
       "              'textposition': 'auto',\n",
       "              'type': 'bar',\n",
       "              'x': array(['autos'], dtype=object),\n",
       "              'xaxis': 'x',\n",
       "              'y': {'bdata': 'GA==', 'dtype': 'i1'},\n",
       "              'yaxis': 'y'},\n",
       "             {'hovertemplate': 'subcategory=newsphotos<br>category=%{x}<br>values=%{y}<extra></extra>',\n",
       "              'legendgroup': 'newsphotos',\n",
       "              'marker': {'color': '#636efa', 'pattern': {'shape': ''}},\n",
       "              'name': 'newsphotos',\n",
       "              'orientation': 'v',\n",
       "              'showlegend': True,\n",
       "              'textposition': 'auto',\n",
       "              'type': 'bar',\n",
       "              'x': array(['news'], dtype=object),\n",
       "              'xaxis': 'x',\n",
       "              'y': {'bdata': 'GA==', 'dtype': 'i1'},\n",
       "              'yaxis': 'y'},\n",
       "             {'hovertemplate': 'subcategory=people-places<br>category=%{x}<br>values=%{y}<extra></extra>',\n",
       "              'legendgroup': 'people-places',\n",
       "              'marker': {'color': '#EF553B', 'pattern': {'shape': ''}},\n",
       "              'name': 'people-places',\n",
       "              'orientation': 'v',\n",
       "              'showlegend': True,\n",
       "              'textposition': 'auto',\n",
       "              'type': 'bar',\n",
       "              'x': array(['kids'], dtype=object),\n",
       "              'xaxis': 'x',\n",
       "              'y': {'bdata': 'GA==', 'dtype': 'i1'},\n",
       "              'yaxis': 'y'},\n",
       "             {'hovertemplate': 'subcategory=finance-career<br>category=%{x}<br>values=%{y}<extra></extra>',\n",
       "              'legendgroup': 'finance-career',\n",
       "              'marker': {'color': '#00cc96', 'pattern': {'shape': ''}},\n",
       "              'name': 'finance-career',\n",
       "              'orientation': 'v',\n",
       "              'showlegend': True,\n",
       "              'textposition': 'auto',\n",
       "              'type': 'bar',\n",
       "              'x': array(['finance'], dtype=object),\n",
       "              'xaxis': 'x',\n",
       "              'y': {'bdata': 'Fw==', 'dtype': 'i1'},\n",
       "              'yaxis': 'y'},\n",
       "             {'hovertemplate': 'subcategory=autossema<br>category=%{x}<br>values=%{y}<extra></extra>',\n",
       "              'legendgroup': 'autossema',\n",
       "              'marker': {'color': '#ab63fa', 'pattern': {'shape': ''}},\n",
       "              'name': 'autossema',\n",
       "              'orientation': 'v',\n",
       "              'showlegend': True,\n",
       "              'textposition': 'auto',\n",
       "              'type': 'bar',\n",
       "              'x': array(['autos'], dtype=object),\n",
       "              'xaxis': 'x',\n",
       "              'y': {'bdata': 'Fw==', 'dtype': 'i1'},\n",
       "              'yaxis': 'y'},\n",
       "             {'hovertemplate': 'subcategory=fun<br>category=%{x}<br>values=%{y}<extra></extra>',\n",
       "              'legendgroup': 'fun',\n",
       "              'marker': {'color': '#FFA15A', 'pattern': {'shape': ''}},\n",
       "              'name': 'fun',\n",
       "              'orientation': 'v',\n",
       "              'showlegend': True,\n",
       "              'textposition': 'auto',\n",
       "              'type': 'bar',\n",
       "              'x': array(['kids'], dtype=object),\n",
       "              'xaxis': 'x',\n",
       "              'y': {'bdata': 'Fg==', 'dtype': 'i1'},\n",
       "              'yaxis': 'y'},\n",
       "             {'hovertemplate': 'subcategory=lifestyleshopping<br>category=%{x}<br>values=%{y}<extra></extra>',\n",
       "              'legendgroup': 'lifestyleshopping',\n",
       "              'marker': {'color': '#19d3f3', 'pattern': {'shape': ''}},\n",
       "              'name': 'lifestyleshopping',\n",
       "              'orientation': 'v',\n",
       "              'showlegend': True,\n",
       "              'textposition': 'auto',\n",
       "              'type': 'bar',\n",
       "              'x': array(['lifestyle'], dtype=object),\n",
       "              'xaxis': 'x',\n",
       "              'y': {'bdata': 'Fg==', 'dtype': 'i1'},\n",
       "              'yaxis': 'y'},\n",
       "             {'hovertemplate': 'subcategory=tunedin<br>category=%{x}<br>values=%{y}<extra></extra>',\n",
       "              'legendgroup': 'tunedin',\n",
       "              'marker': {'color': '#FF6692', 'pattern': {'shape': ''}},\n",
       "              'name': 'tunedin',\n",
       "              'orientation': 'v',\n",
       "              'showlegend': True,\n",
       "              'textposition': 'auto',\n",
       "              'type': 'bar',\n",
       "              'x': array(['video'], dtype=object),\n",
       "              'xaxis': 'x',\n",
       "              'y': {'bdata': 'FQ==', 'dtype': 'i1'},\n",
       "              'yaxis': 'y'},\n",
       "             {'hovertemplate': 'subcategory=newsfactcheck<br>category=%{x}<br>values=%{y}<extra></extra>',\n",
       "              'legendgroup': 'newsfactcheck',\n",
       "              'marker': {'color': '#B6E880', 'pattern': {'shape': ''}},\n",
       "              'name': 'newsfactcheck',\n",
       "              'orientation': 'v',\n",
       "              'showlegend': True,\n",
       "              'textposition': 'auto',\n",
       "              'type': 'bar',\n",
       "              'x': array(['news'], dtype=object),\n",
       "              'xaxis': 'x',\n",
       "              'y': {'bdata': 'FQ==', 'dtype': 'i1'},\n",
       "              'yaxis': 'y'},\n",
       "             {'hovertemplate': 'subcategory=musicvideos<br>category=%{x}<br>values=%{y}<extra></extra>',\n",
       "              'legendgroup': 'musicvideos',\n",
       "              'marker': {'color': '#FF97FF', 'pattern': {'shape': ''}},\n",
       "              'name': 'musicvideos',\n",
       "              'orientation': 'v',\n",
       "              'showlegend': True,\n",
       "              'textposition': 'auto',\n",
       "              'type': 'bar',\n",
       "              'x': array(['music'], dtype=object),\n",
       "              'xaxis': 'x',\n",
       "              'y': {'bdata': 'FA==', 'dtype': 'i1'},\n",
       "              'yaxis': 'y'},\n",
       "             {'hovertemplate': 'subcategory=newsscience<br>category=%{x}<br>values=%{y}<extra></extra>',\n",
       "              'legendgroup': 'newsscience',\n",
       "              'marker': {'color': '#FECB52', 'pattern': {'shape': ''}},\n",
       "              'name': 'newsscience',\n",
       "              'orientation': 'v',\n",
       "              'showlegend': True,\n",
       "              'textposition': 'auto',\n",
       "              'type': 'bar',\n",
       "              'x': array(['news'], dtype=object),\n",
       "              'xaxis': 'x',\n",
       "              'y': {'bdata': 'Eg==', 'dtype': 'i1'},\n",
       "              'yaxis': 'y'},\n",
       "             {'hovertemplate': 'subcategory=autosresearch<br>category=%{x}<br>values=%{y}<extra></extra>',\n",
       "              'legendgroup': 'autosresearch',\n",
       "              'marker': {'color': '#636efa', 'pattern': {'shape': ''}},\n",
       "              'name': 'autosresearch',\n",
       "              'orientation': 'v',\n",
       "              'showlegend': True,\n",
       "              'textposition': 'auto',\n",
       "              'type': 'bar',\n",
       "              'x': array(['autos'], dtype=object),\n",
       "              'xaxis': 'x',\n",
       "              'y': {'bdata': 'Eg==', 'dtype': 'i1'},\n",
       "              'yaxis': 'y'},\n",
       "             {'hovertemplate': 'subcategory=tv-recaps<br>category=%{x}<br>values=%{y}<extra></extra>',\n",
       "              'legendgroup': 'tv-recaps',\n",
       "              'marker': {'color': '#EF553B', 'pattern': {'shape': ''}},\n",
       "              'name': 'tv-recaps',\n",
       "              'orientation': 'v',\n",
       "              'showlegend': True,\n",
       "              'textposition': 'auto',\n",
       "              'type': 'bar',\n",
       "              'x': array(['tv'], dtype=object),\n",
       "              'xaxis': 'x',\n",
       "              'y': {'bdata': 'Eg==', 'dtype': 'i1'},\n",
       "              'yaxis': 'y'},\n",
       "             {'hovertemplate': 'subcategory=humor<br>category=%{x}<br>values=%{y}<extra></extra>',\n",
       "              'legendgroup': 'humor',\n",
       "              'marker': {'color': '#00cc96', 'pattern': {'shape': ''}},\n",
       "              'name': 'humor',\n",
       "              'orientation': 'v',\n",
       "              'showlegend': True,\n",
       "              'textposition': 'auto',\n",
       "              'type': 'bar',\n",
       "              'x': array(['tv', 'entertainment', 'music'], dtype=object),\n",
       "              'xaxis': 'x',\n",
       "              'y': {'bdata': 'EgoB', 'dtype': 'i1'},\n",
       "              'yaxis': 'y'},\n",
       "             {'hovertemplate': 'subcategory=causes-animals<br>category=%{x}<br>values=%{y}<extra></extra>',\n",
       "              'legendgroup': 'causes-animals',\n",
       "              'marker': {'color': '#ab63fa', 'pattern': {'shape': ''}},\n",
       "              'name': 'causes-animals',\n",
       "              'orientation': 'v',\n",
       "              'showlegend': True,\n",
       "              'textposition': 'auto',\n",
       "              'type': 'bar',\n",
       "              'x': array(['lifestyle'], dtype=object),\n",
       "              'xaxis': 'x',\n",
       "              'y': {'bdata': 'EQ==', 'dtype': 'i1'},\n",
       "              'yaxis': 'y'},\n",
       "             {'hovertemplate': 'subcategory=newsweather<br>category=%{x}<br>values=%{y}<extra></extra>',\n",
       "              'legendgroup': 'newsweather',\n",
       "              'marker': {'color': '#FFA15A', 'pattern': {'shape': ''}},\n",
       "              'name': 'newsweather',\n",
       "              'orientation': 'v',\n",
       "              'showlegend': True,\n",
       "              'textposition': 'auto',\n",
       "              'type': 'bar',\n",
       "              'x': array(['news'], dtype=object),\n",
       "              'xaxis': 'x',\n",
       "              'y': {'bdata': 'EQ==', 'dtype': 'i1'},\n",
       "              'yaxis': 'y'},\n",
       "             {'hovertemplate': 'subcategory=lifestylediy<br>category=%{x}<br>values=%{y}<extra></extra>',\n",
       "              'legendgroup': 'lifestylediy',\n",
       "              'marker': {'color': '#19d3f3', 'pattern': {'shape': ''}},\n",
       "              'name': 'lifestylediy',\n",
       "              'orientation': 'v',\n",
       "              'showlegend': True,\n",
       "              'textposition': 'auto',\n",
       "              'type': 'bar',\n",
       "              'x': array(['lifestyle'], dtype=object),\n",
       "              'xaxis': 'x',\n",
       "              'y': {'bdata': 'EQ==', 'dtype': 'i1'},\n",
       "              'yaxis': 'y'},\n",
       "             {'hovertemplate': ('subcategory=basketball_ncaa_vi' ... '<br>values=%{y}<extra></extra>'),\n",
       "              'legendgroup': 'basketball_ncaa_videos',\n",
       "              'marker': {'color': '#FF6692', 'pattern': {'shape': ''}},\n",
       "              'name': 'basketball_ncaa_videos',\n",
       "              'orientation': 'v',\n",
       "              'showlegend': True,\n",
       "              'textposition': 'auto',\n",
       "              'type': 'bar',\n",
       "              'x': array(['sports'], dtype=object),\n",
       "              'xaxis': 'x',\n",
       "              'y': {'bdata': 'EQ==', 'dtype': 'i1'},\n",
       "              'yaxis': 'y'},\n",
       "             {'hovertemplate': ('subcategory=lifestyle-news-fea' ... '<br>values=%{y}<extra></extra>'),\n",
       "              'legendgroup': 'lifestyle-news-feature',\n",
       "              'marker': {'color': '#B6E880', 'pattern': {'shape': ''}},\n",
       "              'name': 'lifestyle-news-feature',\n",
       "              'orientation': 'v',\n",
       "              'showlegend': True,\n",
       "              'textposition': 'auto',\n",
       "              'type': 'bar',\n",
       "              'x': array(['lifestyle'], dtype=object),\n",
       "              'xaxis': 'x',\n",
       "              'y': {'bdata': 'EQ==', 'dtype': 'i1'},\n",
       "              'yaxis': 'y'},\n",
       "             {'hovertemplate': 'subcategory=causes<br>category=%{x}<br>values=%{y}<extra></extra>',\n",
       "              'legendgroup': 'causes',\n",
       "              'marker': {'color': '#FF97FF', 'pattern': {'shape': ''}},\n",
       "              'name': 'causes',\n",
       "              'orientation': 'v',\n",
       "              'showlegend': True,\n",
       "              'textposition': 'auto',\n",
       "              'type': 'bar',\n",
       "              'x': array(['lifestyle', 'health', 'finance', 'news', 'travel'], dtype=object),\n",
       "              'xaxis': 'x',\n",
       "              'y': {'bdata': 'EA8GAwE=', 'dtype': 'i1'},\n",
       "              'yaxis': 'y'},\n",
       "             {'hovertemplate': 'subcategory=lifestyledecor<br>category=%{x}<br>values=%{y}<extra></extra>',\n",
       "              'legendgroup': 'lifestyledecor',\n",
       "              'marker': {'color': '#FECB52', 'pattern': {'shape': ''}},\n",
       "              'name': 'lifestyledecor',\n",
       "              'orientation': 'v',\n",
       "              'showlegend': True,\n",
       "              'textposition': 'auto',\n",
       "              'type': 'bar',\n",
       "              'x': array(['lifestyle'], dtype=object),\n",
       "              'xaxis': 'x',\n",
       "              'y': {'bdata': 'EA==', 'dtype': 'i1'},\n",
       "              'yaxis': 'y'},\n",
       "             {'hovertemplate': 'subcategory=finance-healthcare<br>category=%{x}<br>values=%{y}<extra></extra>',\n",
       "              'legendgroup': 'finance-healthcare',\n",
       "              'marker': {'color': '#636efa', 'pattern': {'shape': ''}},\n",
       "              'name': 'finance-healthcare',\n",
       "              'orientation': 'v',\n",
       "              'showlegend': True,\n",
       "              'textposition': 'auto',\n",
       "              'type': 'bar',\n",
       "              'x': array(['finance'], dtype=object),\n",
       "              'xaxis': 'x',\n",
       "              'y': {'bdata': 'Dg==', 'dtype': 'i1'},\n",
       "              'yaxis': 'y'},\n",
       "             {'hovertemplate': 'subcategory=autosvideonew<br>category=%{x}<br>values=%{y}<extra></extra>',\n",
       "              'legendgroup': 'autosvideonew',\n",
       "              'marker': {'color': '#EF553B', 'pattern': {'shape': ''}},\n",
       "              'name': 'autosvideonew',\n",
       "              'orientation': 'v',\n",
       "              'showlegend': True,\n",
       "              'textposition': 'auto',\n",
       "              'type': 'bar',\n",
       "              'x': array(['autos'], dtype=object),\n",
       "              'xaxis': 'x',\n",
       "              'y': {'bdata': 'Dg==', 'dtype': 'i1'},\n",
       "              'yaxis': 'y'},\n",
       "             {'hovertemplate': 'subcategory=pregnancyparenting<br>category=%{x}<br>values=%{y}<extra></extra>',\n",
       "              'legendgroup': 'pregnancyparenting',\n",
       "              'marker': {'color': '#00cc96', 'pattern': {'shape': ''}},\n",
       "              'name': 'pregnancyparenting',\n",
       "              'orientation': 'v',\n",
       "              'showlegend': True,\n",
       "              'textposition': 'auto',\n",
       "              'type': 'bar',\n",
       "              'x': array(['health', 'lifestyle'], dtype=object),\n",
       "              'xaxis': 'x',\n",
       "              'y': {'bdata': 'DQE=', 'dtype': 'i1'},\n",
       "              'yaxis': 'y'},\n",
       "             {'hovertemplate': 'subcategory=finance-education<br>category=%{x}<br>values=%{y}<extra></extra>',\n",
       "              'legendgroup': 'finance-education',\n",
       "              'marker': {'color': '#ab63fa', 'pattern': {'shape': ''}},\n",
       "              'name': 'finance-education',\n",
       "              'orientation': 'v',\n",
       "              'showlegend': True,\n",
       "              'textposition': 'auto',\n",
       "              'type': 'bar',\n",
       "              'x': array(['finance'], dtype=object),\n",
       "              'xaxis': 'x',\n",
       "              'y': {'bdata': 'DQ==', 'dtype': 'i1'},\n",
       "              'yaxis': 'y'},\n",
       "             {'hovertemplate': 'subcategory=finance-billstopay<br>category=%{x}<br>values=%{y}<extra></extra>',\n",
       "              'legendgroup': 'finance-billstopay',\n",
       "              'marker': {'color': '#FFA15A', 'pattern': {'shape': ''}},\n",
       "              'name': 'finance-billstopay',\n",
       "              'orientation': 'v',\n",
       "              'showlegend': True,\n",
       "              'textposition': 'auto',\n",
       "              'type': 'bar',\n",
       "              'x': array(['finance'], dtype=object),\n",
       "              'xaxis': 'x',\n",
       "              'y': {'bdata': 'DQ==', 'dtype': 'i1'},\n",
       "              'yaxis': 'y'},\n",
       "             {'hovertemplate': 'subcategory=movies-awards<br>category=%{x}<br>values=%{y}<extra></extra>',\n",
       "              'legendgroup': 'movies-awards',\n",
       "              'marker': {'color': '#19d3f3', 'pattern': {'shape': ''}},\n",
       "              'name': 'movies-awards',\n",
       "              'orientation': 'v',\n",
       "              'showlegend': True,\n",
       "              'textposition': 'auto',\n",
       "              'type': 'bar',\n",
       "              'x': array(['movies'], dtype=object),\n",
       "              'xaxis': 'x',\n",
       "              'y': {'bdata': 'DA==', 'dtype': 'i1'},\n",
       "              'yaxis': 'y'},\n",
       "             {'hovertemplate': 'subcategory=basketball_nba_videos<br>category=%{x}<br>values=%{y}<extra></extra>',\n",
       "              'legendgroup': 'basketball_nba_videos',\n",
       "              'marker': {'color': '#FF6692', 'pattern': {'shape': ''}},\n",
       "              'name': 'basketball_nba_videos',\n",
       "              'orientation': 'v',\n",
       "              'showlegend': True,\n",
       "              'textposition': 'auto',\n",
       "              'type': 'bar',\n",
       "              'x': array(['sports'], dtype=object),\n",
       "              'xaxis': 'x',\n",
       "              'y': {'bdata': 'DA==', 'dtype': 'i1'},\n",
       "              'yaxis': 'y'},\n",
       "             {'hovertemplate': 'subcategory=awardstyle<br>category=%{x}<br>values=%{y}<extra></extra>',\n",
       "              'legendgroup': 'awardstyle',\n",
       "              'marker': {'color': '#B6E880', 'pattern': {'shape': ''}},\n",
       "              'name': 'awardstyle',\n",
       "              'orientation': 'v',\n",
       "              'showlegend': True,\n",
       "              'textposition': 'auto',\n",
       "              'type': 'bar',\n",
       "              'x': array(['lifestyle'], dtype=object),\n",
       "              'xaxis': 'x',\n",
       "              'y': {'bdata': 'DA==', 'dtype': 'i1'},\n",
       "              'yaxis': 'y'},\n",
       "             {'hovertemplate': 'subcategory=travel-points-rewards<br>category=%{x}<br>values=%{y}<extra></extra>',\n",
       "              'legendgroup': 'travel-points-rewards',\n",
       "              'marker': {'color': '#FF97FF', 'pattern': {'shape': ''}},\n",
       "              'name': 'travel-points-rewards',\n",
       "              'orientation': 'v',\n",
       "              'showlegend': True,\n",
       "              'textposition': 'auto',\n",
       "              'type': 'bar',\n",
       "              'x': array(['travel'], dtype=object),\n",
       "              'xaxis': 'x',\n",
       "              'y': {'bdata': 'Cw==', 'dtype': 'i1'},\n",
       "              'yaxis': 'y'},\n",
       "             {'hovertemplate': 'subcategory=mentalhealth<br>category=%{x}<br>values=%{y}<extra></extra>',\n",
       "              'legendgroup': 'mentalhealth',\n",
       "              'marker': {'color': '#FECB52', 'pattern': {'shape': ''}},\n",
       "              'name': 'mentalhealth',\n",
       "              'orientation': 'v',\n",
       "              'showlegend': True,\n",
       "              'textposition': 'auto',\n",
       "              'type': 'bar',\n",
       "              'x': array(['health'], dtype=object),\n",
       "              'xaxis': 'x',\n",
       "              'y': {'bdata': 'Cw==', 'dtype': 'i1'},\n",
       "              'yaxis': 'y'},\n",
       "             {'hovertemplate': 'subcategory=ads-lung-health<br>category=%{x}<br>values=%{y}<extra></extra>',\n",
       "              'legendgroup': 'ads-lung-health',\n",
       "              'marker': {'color': '#636efa', 'pattern': {'shape': ''}},\n",
       "              'name': 'ads-lung-health',\n",
       "              'orientation': 'v',\n",
       "              'showlegend': True,\n",
       "              'textposition': 'auto',\n",
       "              'type': 'bar',\n",
       "              'x': array(['health'], dtype=object),\n",
       "              'xaxis': 'x',\n",
       "              'y': {'bdata': 'Cw==', 'dtype': 'i1'},\n",
       "              'yaxis': 'y'},\n",
       "             {'hovertemplate': 'subcategory=retirement<br>category=%{x}<br>values=%{y}<extra></extra>',\n",
       "              'legendgroup': 'retirement',\n",
       "              'marker': {'color': '#EF553B', 'pattern': {'shape': ''}},\n",
       "              'name': 'retirement',\n",
       "              'orientation': 'v',\n",
       "              'showlegend': True,\n",
       "              'textposition': 'auto',\n",
       "              'type': 'bar',\n",
       "              'x': array(['finance'], dtype=object),\n",
       "              'xaxis': 'x',\n",
       "              'y': {'bdata': 'Cg==', 'dtype': 'i1'},\n",
       "              'yaxis': 'y'},\n",
       "             {'hovertemplate': ('subcategory=travel-adventure-t' ... '<br>values=%{y}<extra></extra>'),\n",
       "              'legendgroup': 'travel-adventure-travel',\n",
       "              'marker': {'color': '#00cc96', 'pattern': {'shape': ''}},\n",
       "              'name': 'travel-adventure-travel',\n",
       "              'orientation': 'v',\n",
       "              'showlegend': True,\n",
       "              'textposition': 'auto',\n",
       "              'type': 'bar',\n",
       "              'x': array(['travel'], dtype=object),\n",
       "              'xaxis': 'x',\n",
       "              'y': {'bdata': 'Cg==', 'dtype': 'i1'},\n",
       "              'yaxis': 'y'},\n",
       "             {'hovertemplate': 'subcategory=newselection2020<br>category=%{x}<br>values=%{y}<extra></extra>',\n",
       "              'legendgroup': 'newselection2020',\n",
       "              'marker': {'color': '#ab63fa', 'pattern': {'shape': ''}},\n",
       "              'name': 'newselection2020',\n",
       "              'orientation': 'v',\n",
       "              'showlegend': True,\n",
       "              'textposition': 'auto',\n",
       "              'type': 'bar',\n",
       "              'x': array(['news'], dtype=object),\n",
       "              'xaxis': 'x',\n",
       "              'y': {'bdata': 'Cg==', 'dtype': 'i1'},\n",
       "              'yaxis': 'y'},\n",
       "             {'hovertemplate': 'subcategory=wonder<br>category=%{x}<br>values=%{y}<extra></extra>',\n",
       "              'legendgroup': 'wonder',\n",
       "              'marker': {'color': '#FFA15A', 'pattern': {'shape': ''}},\n",
       "              'name': 'wonder',\n",
       "              'orientation': 'v',\n",
       "              'showlegend': True,\n",
       "              'textposition': 'auto',\n",
       "              'type': 'bar',\n",
       "              'x': array(['video'], dtype=object),\n",
       "              'xaxis': 'x',\n",
       "              'y': {'bdata': 'Cg==', 'dtype': 'i1'},\n",
       "              'yaxis': 'y'},\n",
       "             {'hovertemplate': 'subcategory=ads-latingrammys<br>category=%{x}<br>values=%{y}<extra></extra>',\n",
       "              'legendgroup': 'ads-latingrammys',\n",
       "              'marker': {'color': '#19d3f3', 'pattern': {'shape': ''}},\n",
       "              'name': 'ads-latingrammys',\n",
       "              'orientation': 'v',\n",
       "              'showlegend': True,\n",
       "              'textposition': 'auto',\n",
       "              'type': 'bar',\n",
       "              'x': array(['music'], dtype=object),\n",
       "              'xaxis': 'x',\n",
       "              'y': {'bdata': 'Cg==', 'dtype': 'i1'},\n",
       "              'yaxis': 'y'},\n",
       "             {'hovertemplate': 'subcategory=shop-home-goods<br>category=%{x}<br>values=%{y}<extra></extra>',\n",
       "              'legendgroup': 'shop-home-goods',\n",
       "              'marker': {'color': '#FF6692', 'pattern': {'shape': ''}},\n",
       "              'name': 'shop-home-goods',\n",
       "              'orientation': 'v',\n",
       "              'showlegend': True,\n",
       "              'textposition': 'auto',\n",
       "              'type': 'bar',\n",
       "              'x': array(['lifestyle'], dtype=object),\n",
       "              'xaxis': 'x',\n",
       "              'y': {'bdata': 'CQ==', 'dtype': 'i1'},\n",
       "              'yaxis': 'y'},\n",
       "             {'hovertemplate': 'subcategory=boxing-mma<br>category=%{x}<br>values=%{y}<extra></extra>',\n",
       "              'legendgroup': 'boxing-mma',\n",
       "              'marker': {'color': '#B6E880', 'pattern': {'shape': ''}},\n",
       "              'name': 'boxing-mma',\n",
       "              'orientation': 'v',\n",
       "              'showlegend': True,\n",
       "              'textposition': 'auto',\n",
       "              'type': 'bar',\n",
       "              'x': array(['sports'], dtype=object),\n",
       "              'xaxis': 'x',\n",
       "              'y': {'bdata': 'CQ==', 'dtype': 'i1'},\n",
       "              'yaxis': 'y'},\n",
       "             {'hovertemplate': 'subcategory=basketball_wnba<br>category=%{x}<br>values=%{y}<extra></extra>',\n",
       "              'legendgroup': 'basketball_wnba',\n",
       "              'marker': {'color': '#FF97FF', 'pattern': {'shape': ''}},\n",
       "              'name': 'basketball_wnba',\n",
       "              'orientation': 'v',\n",
       "              'showlegend': True,\n",
       "              'textposition': 'auto',\n",
       "              'type': 'bar',\n",
       "              'x': array(['sports'], dtype=object),\n",
       "              'xaxis': 'x',\n",
       "              'y': {'bdata': 'CA==', 'dtype': 'i1'},\n",
       "              'yaxis': 'y'},\n",
       "             {'hovertemplate': 'subcategory=autoshybrids<br>category=%{x}<br>values=%{y}<extra></extra>',\n",
       "              'legendgroup': 'autoshybrids',\n",
       "              'marker': {'color': '#FECB52', 'pattern': {'shape': ''}},\n",
       "              'name': 'autoshybrids',\n",
       "              'orientation': 'v',\n",
       "              'showlegend': True,\n",
       "              'textposition': 'auto',\n",
       "              'type': 'bar',\n",
       "              'x': array(['autos'], dtype=object),\n",
       "              'xaxis': 'x',\n",
       "              'y': {'bdata': 'CA==', 'dtype': 'i1'},\n",
       "              'yaxis': 'y'},\n",
       "             {'hovertemplate': 'subcategory=causes-green-living<br>category=%{x}<br>values=%{y}<extra></extra>',\n",
       "              'legendgroup': 'causes-green-living',\n",
       "              'marker': {'color': '#636efa', 'pattern': {'shape': ''}},\n",
       "              'name': 'causes-green-living',\n",
       "              'orientation': 'v',\n",
       "              'showlegend': True,\n",
       "              'textposition': 'auto',\n",
       "              'type': 'bar',\n",
       "              'x': array(['lifestyle'], dtype=object),\n",
       "              'xaxis': 'x',\n",
       "              'y': {'bdata': 'CA==', 'dtype': 'i1'},\n",
       "              'yaxis': 'y'},\n",
       "             {'hovertemplate': 'subcategory=weight-loss<br>category=%{x}<br>values=%{y}<extra></extra>',\n",
       "              'legendgroup': 'weight-loss',\n",
       "              'marker': {'color': '#EF553B', 'pattern': {'shape': ''}},\n",
       "              'name': 'weight-loss',\n",
       "              'orientation': 'v',\n",
       "              'showlegend': True,\n",
       "              'textposition': 'auto',\n",
       "              'type': 'bar',\n",
       "              'x': array(['health'], dtype=object),\n",
       "              'xaxis': 'x',\n",
       "              'y': {'bdata': 'Bw==', 'dtype': 'i1'},\n",
       "              'yaxis': 'y'},\n",
       "             {'hovertemplate': 'subcategory=movies-oscars<br>category=%{x}<br>values=%{y}<extra></extra>',\n",
       "              'legendgroup': 'movies-oscars',\n",
       "              'marker': {'color': '#00cc96', 'pattern': {'shape': ''}},\n",
       "              'name': 'movies-oscars',\n",
       "              'orientation': 'v',\n",
       "              'showlegend': True,\n",
       "              'textposition': 'auto',\n",
       "              'type': 'bar',\n",
       "              'x': array(['movies'], dtype=object),\n",
       "              'xaxis': 'x',\n",
       "              'y': {'bdata': 'Bw==', 'dtype': 'i1'},\n",
       "              'yaxis': 'y'},\n",
       "             {'hovertemplate': 'subcategory=sports<br>category=%{x}<br>values=%{y}<extra></extra>',\n",
       "              'legendgroup': 'sports',\n",
       "              'marker': {'color': '#ab63fa', 'pattern': {'shape': ''}},\n",
       "              'name': 'sports',\n",
       "              'orientation': 'v',\n",
       "              'showlegend': True,\n",
       "              'textposition': 'auto',\n",
       "              'type': 'bar',\n",
       "              'x': array(['video', 'kids'], dtype=object),\n",
       "              'xaxis': 'x',\n",
       "              'y': {'bdata': 'BwU=', 'dtype': 'i1'},\n",
       "              'yaxis': 'y'},\n",
       "             {'hovertemplate': 'subcategory=autostokyo<br>category=%{x}<br>values=%{y}<extra></extra>',\n",
       "              'legendgroup': 'autostokyo',\n",
       "              'marker': {'color': '#FFA15A', 'pattern': {'shape': ''}},\n",
       "              'name': 'autostokyo',\n",
       "              'orientation': 'v',\n",
       "              'showlegend': True,\n",
       "              'textposition': 'auto',\n",
       "              'type': 'bar',\n",
       "              'x': array(['autos'], dtype=object),\n",
       "              'xaxis': 'x',\n",
       "              'y': {'bdata': 'Bw==', 'dtype': 'i1'},\n",
       "              'yaxis': 'y'},\n",
       "             {'hovertemplate': 'subcategory=music-reviews<br>category=%{x}<br>values=%{y}<extra></extra>',\n",
       "              'legendgroup': 'music-reviews',\n",
       "              'marker': {'color': '#19d3f3', 'pattern': {'shape': ''}},\n",
       "              'name': 'music-reviews',\n",
       "              'orientation': 'v',\n",
       "              'showlegend': True,\n",
       "              'textposition': 'auto',\n",
       "              'type': 'bar',\n",
       "              'x': array(['music'], dtype=object),\n",
       "              'xaxis': 'x',\n",
       "              'y': {'bdata': 'Bg==', 'dtype': 'i1'},\n",
       "              'yaxis': 'y'},\n",
       "             {'hovertemplate': 'subcategory=downtime<br>category=%{x}<br>values=%{y}<extra></extra>',\n",
       "              'legendgroup': 'downtime',\n",
       "              'marker': {'color': '#FF6692', 'pattern': {'shape': ''}},\n",
       "              'name': 'downtime',\n",
       "              'orientation': 'v',\n",
       "              'showlegend': True,\n",
       "              'textposition': 'auto',\n",
       "              'type': 'bar',\n",
       "              'x': array(['video'], dtype=object),\n",
       "              'xaxis': 'x',\n",
       "              'y': {'bdata': 'Bg==', 'dtype': 'i1'},\n",
       "              'yaxis': 'y'},\n",
       "             {'hovertemplate': 'subcategory=autospassenger<br>category=%{x}<br>values=%{y}<extra></extra>',\n",
       "              'legendgroup': 'autospassenger',\n",
       "              'marker': {'color': '#B6E880', 'pattern': {'shape': ''}},\n",
       "              'name': 'autospassenger',\n",
       "              'orientation': 'v',\n",
       "              'showlegend': True,\n",
       "              'textposition': 'auto',\n",
       "              'type': 'bar',\n",
       "              'x': array(['autos'], dtype=object),\n",
       "              'xaxis': 'x',\n",
       "              'y': {'bdata': 'Bg==', 'dtype': 'i1'},\n",
       "              'yaxis': 'y'},\n",
       "             {'hovertemplate': 'subcategory=technologyinvesting<br>category=%{x}<br>values=%{y}<extra></extra>',\n",
       "              'legendgroup': 'technologyinvesting',\n",
       "              'marker': {'color': '#FF97FF', 'pattern': {'shape': ''}},\n",
       "              'name': 'technologyinvesting',\n",
       "              'orientation': 'v',\n",
       "              'showlegend': True,\n",
       "              'textposition': 'auto',\n",
       "              'type': 'bar',\n",
       "              'x': array(['finance'], dtype=object),\n",
       "              'xaxis': 'x',\n",
       "              'y': {'bdata': 'Bg==', 'dtype': 'i1'},\n",
       "              'yaxis': 'y'},\n",
       "             {'hovertemplate': 'subcategory=ustravel<br>category=%{x}<br>values=%{y}<extra></extra>',\n",
       "              'legendgroup': 'ustravel',\n",
       "              'marker': {'color': '#FECB52', 'pattern': {'shape': ''}},\n",
       "              'name': 'ustravel',\n",
       "              'orientation': 'v',\n",
       "              'showlegend': True,\n",
       "              'textposition': 'auto',\n",
       "              'type': 'bar',\n",
       "              'x': array(['travel'], dtype=object),\n",
       "              'xaxis': 'x',\n",
       "              'y': {'bdata': 'Bg==', 'dtype': 'i1'},\n",
       "              'yaxis': 'y'},\n",
       "             {'hovertemplate': 'subcategory=newsworldpolitics<br>category=%{x}<br>values=%{y}<extra></extra>',\n",
       "              'legendgroup': 'newsworldpolitics',\n",
       "              'marker': {'color': '#636efa', 'pattern': {'shape': ''}},\n",
       "              'name': 'newsworldpolitics',\n",
       "              'orientation': 'v',\n",
       "              'showlegend': True,\n",
       "              'textposition': 'auto',\n",
       "              'type': 'bar',\n",
       "              'x': array(['news'], dtype=object),\n",
       "              'xaxis': 'x',\n",
       "              'y': {'bdata': 'BQ==', 'dtype': 'i1'},\n",
       "              'yaxis': 'y'},\n",
       "             {'hovertemplate': 'subcategory=autosvideos<br>category=%{x}<br>values=%{y}<extra></extra>',\n",
       "              'legendgroup': 'autosvideos',\n",
       "              'marker': {'color': '#EF553B', 'pattern': {'shape': ''}},\n",
       "              'name': 'autosvideos',\n",
       "              'orientation': 'v',\n",
       "              'showlegend': True,\n",
       "              'textposition': 'auto',\n",
       "              'type': 'bar',\n",
       "              'x': array(['autos'], dtype=object),\n",
       "              'xaxis': 'x',\n",
       "              'y': {'bdata': 'BQ==', 'dtype': 'i1'},\n",
       "              'yaxis': 'y'},\n",
       "             {'hovertemplate': 'subcategory=internationaltravel<br>category=%{x}<br>values=%{y}<extra></extra>',\n",
       "              'legendgroup': 'internationaltravel',\n",
       "              'marker': {'color': '#00cc96', 'pattern': {'shape': ''}},\n",
       "              'name': 'internationaltravel',\n",
       "              'orientation': 'v',\n",
       "              'showlegend': True,\n",
       "              'textposition': 'auto',\n",
       "              'type': 'bar',\n",
       "              'x': array(['travel'], dtype=object),\n",
       "              'xaxis': 'x',\n",
       "              'y': {'bdata': 'BQ==', 'dtype': 'i1'},\n",
       "              'yaxis': 'y'},\n",
       "             {'hovertemplate': 'subcategory=reviews<br>category=%{x}<br>values=%{y}<extra></extra>',\n",
       "              'legendgroup': 'reviews',\n",
       "              'marker': {'color': '#ab63fa', 'pattern': {'shape': ''}},\n",
       "              'name': 'reviews',\n",
       "              'orientation': 'v',\n",
       "              'showlegend': True,\n",
       "              'textposition': 'auto',\n",
       "              'type': 'bar',\n",
       "              'x': array(['movies'], dtype=object),\n",
       "              'xaxis': 'x',\n",
       "              'y': {'bdata': 'BQ==', 'dtype': 'i1'},\n",
       "              'yaxis': 'y'},\n",
       "             {'hovertemplate': ('subcategory=causes-food-insecu' ... '<br>values=%{y}<extra></extra>'),\n",
       "              'legendgroup': 'causes-food-insecurity',\n",
       "              'marker': {'color': '#FFA15A', 'pattern': {'shape': ''}},\n",
       "              'name': 'causes-food-insecurity',\n",
       "              'orientation': 'v',\n",
       "              'showlegend': True,\n",
       "              'textposition': 'auto',\n",
       "              'type': 'bar',\n",
       "              'x': array(['foodanddrink'], dtype=object),\n",
       "              'xaxis': 'x',\n",
       "              'y': {'bdata': 'BQ==', 'dtype': 'i1'},\n",
       "              'yaxis': 'y'},\n",
       "             {'hovertemplate': 'subcategory=finance-mutual-funds<br>category=%{x}<br>values=%{y}<extra></extra>',\n",
       "              'legendgroup': 'finance-mutual-funds',\n",
       "              'marker': {'color': '#19d3f3', 'pattern': {'shape': ''}},\n",
       "              'name': 'finance-mutual-funds',\n",
       "              'orientation': 'v',\n",
       "              'showlegend': True,\n",
       "              'textposition': 'auto',\n",
       "              'type': 'bar',\n",
       "              'x': array(['finance'], dtype=object),\n",
       "              'xaxis': 'x',\n",
       "              'y': {'bdata': 'BQ==', 'dtype': 'i1'},\n",
       "              'yaxis': 'y'},\n",
       "             {'hovertemplate': 'subcategory=cocktails<br>category=%{x}<br>values=%{y}<extra></extra>',\n",
       "              'legendgroup': 'cocktails',\n",
       "              'marker': {'color': '#FF6692', 'pattern': {'shape': ''}},\n",
       "              'name': 'cocktails',\n",
       "              'orientation': 'v',\n",
       "              'showlegend': True,\n",
       "              'textposition': 'auto',\n",
       "              'type': 'bar',\n",
       "              'x': array(['foodanddrink'], dtype=object),\n",
       "              'xaxis': 'x',\n",
       "              'y': {'bdata': 'BQ==', 'dtype': 'i1'},\n",
       "              'yaxis': 'y'},\n",
       "             {'hovertemplate': 'subcategory=foodrecipes<br>category=%{x}<br>values=%{y}<extra></extra>',\n",
       "              'legendgroup': 'foodrecipes',\n",
       "              'marker': {'color': '#B6E880', 'pattern': {'shape': ''}},\n",
       "              'name': 'foodrecipes',\n",
       "              'orientation': 'v',\n",
       "              'showlegend': True,\n",
       "              'textposition': 'auto',\n",
       "              'type': 'bar',\n",
       "              'x': array(['foodanddrink'], dtype=object),\n",
       "              'xaxis': 'x',\n",
       "              'y': {'bdata': 'BA==', 'dtype': 'i1'},\n",
       "              'yaxis': 'y'},\n",
       "             {'hovertemplate': 'subcategory=lifestylemarriage<br>category=%{x}<br>values=%{y}<extra></extra>',\n",
       "              'legendgroup': 'lifestylemarriage',\n",
       "              'marker': {'color': '#FF97FF', 'pattern': {'shape': ''}},\n",
       "              'name': 'lifestylemarriage',\n",
       "              'orientation': 'v',\n",
       "              'showlegend': True,\n",
       "              'textposition': 'auto',\n",
       "              'type': 'bar',\n",
       "              'x': array(['lifestyle'], dtype=object),\n",
       "              'xaxis': 'x',\n",
       "              'y': {'bdata': 'BA==', 'dtype': 'i1'},\n",
       "              'yaxis': 'y'},\n",
       "             {'hovertemplate': 'subcategory=music-grammys<br>category=%{x}<br>values=%{y}<extra></extra>',\n",
       "              'legendgroup': 'music-grammys',\n",
       "              'marker': {'color': '#FECB52', 'pattern': {'shape': ''}},\n",
       "              'name': 'music-grammys',\n",
       "              'orientation': 'v',\n",
       "              'showlegend': True,\n",
       "              'textposition': 'auto',\n",
       "              'type': 'bar',\n",
       "              'x': array(['music'], dtype=object),\n",
       "              'xaxis': 'x',\n",
       "              'y': {'bdata': 'BA==', 'dtype': 'i1'},\n",
       "              'yaxis': 'y'},\n",
       "             {'hovertemplate': 'subcategory=tv-golden-globes<br>category=%{x}<br>values=%{y}<extra></extra>',\n",
       "              'legendgroup': 'tv-golden-globes',\n",
       "              'marker': {'color': '#636efa', 'pattern': {'shape': ''}},\n",
       "              'name': 'tv-golden-globes',\n",
       "              'orientation': 'v',\n",
       "              'showlegend': True,\n",
       "              'textposition': 'auto',\n",
       "              'type': 'bar',\n",
       "              'x': array(['tv'], dtype=object),\n",
       "              'xaxis': 'x',\n",
       "              'y': {'bdata': 'BA==', 'dtype': 'i1'},\n",
       "              'yaxis': 'y'},\n",
       "             {'hovertemplate': 'subcategory=sports_news<br>category=%{x}<br>values=%{y}<extra></extra>',\n",
       "              'legendgroup': 'sports_news',\n",
       "              'marker': {'color': '#EF553B', 'pattern': {'shape': ''}},\n",
       "              'name': 'sports_news',\n",
       "              'orientation': 'v',\n",
       "              'showlegend': True,\n",
       "              'textposition': 'auto',\n",
       "              'type': 'bar',\n",
       "              'x': array(['sports'], dtype=object),\n",
       "              'xaxis': 'x',\n",
       "              'y': {'bdata': 'BA==', 'dtype': 'i1'},\n",
       "              'yaxis': 'y'},\n",
       "             {'hovertemplate': 'subcategory=autosreview<br>category=%{x}<br>values=%{y}<extra></extra>',\n",
       "              'legendgroup': 'autosreview',\n",
       "              'marker': {'color': '#00cc96', 'pattern': {'shape': ''}},\n",
       "              'name': 'autosreview',\n",
       "              'orientation': 'v',\n",
       "              'showlegend': True,\n",
       "              'textposition': 'auto',\n",
       "              'type': 'bar',\n",
       "              'x': array(['autos'], dtype=object),\n",
       "              'xaxis': 'x',\n",
       "              'y': {'bdata': 'Aw==', 'dtype': 'i1'},\n",
       "              'yaxis': 'y'},\n",
       "             {'hovertemplate': 'subcategory=watch<br>category=%{x}<br>values=%{y}<extra></extra>',\n",
       "              'legendgroup': 'watch',\n",
       "              'marker': {'color': '#ab63fa', 'pattern': {'shape': ''}},\n",
       "              'name': 'watch',\n",
       "              'orientation': 'v',\n",
       "              'showlegend': True,\n",
       "              'textposition': 'auto',\n",
       "              'type': 'bar',\n",
       "              'x': array(['video'], dtype=object),\n",
       "              'xaxis': 'x',\n",
       "              'y': {'bdata': 'Aw==', 'dtype': 'i1'},\n",
       "              'yaxis': 'y'},\n",
       "             {'hovertemplate': 'subcategory=cooking<br>category=%{x}<br>values=%{y}<extra></extra>',\n",
       "              'legendgroup': 'cooking',\n",
       "              'marker': {'color': '#FFA15A', 'pattern': {'shape': ''}},\n",
       "              'name': 'cooking',\n",
       "              'orientation': 'v',\n",
       "              'showlegend': True,\n",
       "              'textposition': 'auto',\n",
       "              'type': 'bar',\n",
       "              'x': array(['foodanddrink'], dtype=object),\n",
       "              'xaxis': 'x',\n",
       "              'y': {'bdata': 'Aw==', 'dtype': 'i1'},\n",
       "              'yaxis': 'y'},\n",
       "             {'hovertemplate': 'subcategory=causes-environment<br>category=%{x}<br>values=%{y}<extra></extra>',\n",
       "              'legendgroup': 'causes-environment',\n",
       "              'marker': {'color': '#19d3f3', 'pattern': {'shape': ''}},\n",
       "              'name': 'causes-environment',\n",
       "              'orientation': 'v',\n",
       "              'showlegend': True,\n",
       "              'textposition': 'auto',\n",
       "              'type': 'bar',\n",
       "              'x': array(['news'], dtype=object),\n",
       "              'xaxis': 'x',\n",
       "              'y': {'bdata': 'Aw==', 'dtype': 'i1'},\n",
       "              'yaxis': 'y'},\n",
       "             {'hovertemplate': 'subcategory=travel-videos<br>category=%{x}<br>values=%{y}<extra></extra>',\n",
       "              'legendgroup': 'travel-videos',\n",
       "              'marker': {'color': '#FF6692', 'pattern': {'shape': ''}},\n",
       "              'name': 'travel-videos',\n",
       "              'orientation': 'v',\n",
       "              'showlegend': True,\n",
       "              'textposition': 'auto',\n",
       "              'type': 'bar',\n",
       "              'x': array(['travel'], dtype=object),\n",
       "              'xaxis': 'x',\n",
       "              'y': {'bdata': 'Aw==', 'dtype': 'i1'},\n",
       "              'yaxis': 'y'},\n",
       "             {'hovertemplate': 'subcategory=career-news<br>category=%{x}<br>values=%{y}<extra></extra>',\n",
       "              'legendgroup': 'career-news',\n",
       "              'marker': {'color': '#B6E880', 'pattern': {'shape': ''}},\n",
       "              'name': 'career-news',\n",
       "              'orientation': 'v',\n",
       "              'showlegend': True,\n",
       "              'textposition': 'auto',\n",
       "              'type': 'bar',\n",
       "              'x': array(['finance'], dtype=object),\n",
       "              'xaxis': 'x',\n",
       "              'y': {'bdata': 'Aw==', 'dtype': 'i1'},\n",
       "              'yaxis': 'y'},\n",
       "             {'hovertemplate': 'subcategory=newsvideo<br>category=%{x}<br>values=%{y}<extra></extra>',\n",
       "              'legendgroup': 'newsvideo',\n",
       "              'marker': {'color': '#FF97FF', 'pattern': {'shape': ''}},\n",
       "              'name': 'newsvideo',\n",
       "              'orientation': 'v',\n",
       "              'showlegend': True,\n",
       "              'textposition': 'auto',\n",
       "              'type': 'bar',\n",
       "              'x': array(['news'], dtype=object),\n",
       "              'xaxis': 'x',\n",
       "              'y': {'bdata': 'Aw==', 'dtype': 'i1'},\n",
       "              'yaxis': 'y'},\n",
       "             {'hovertemplate': 'subcategory=newstechnology<br>category=%{x}<br>values=%{y}<extra></extra>',\n",
       "              'legendgroup': 'newstechnology',\n",
       "              'marker': {'color': '#FECB52', 'pattern': {'shape': ''}},\n",
       "              'name': 'newstechnology',\n",
       "              'orientation': 'v',\n",
       "              'showlegend': True,\n",
       "              'textposition': 'auto',\n",
       "              'type': 'bar',\n",
       "              'x': array(['news'], dtype=object),\n",
       "              'xaxis': 'x',\n",
       "              'y': {'bdata': 'Aw==', 'dtype': 'i1'},\n",
       "              'yaxis': 'y'},\n",
       "             {'hovertemplate': 'subcategory=strength<br>category=%{x}<br>values=%{y}<extra></extra>',\n",
       "              'legendgroup': 'strength',\n",
       "              'marker': {'color': '#636efa', 'pattern': {'shape': ''}},\n",
       "              'name': 'strength',\n",
       "              'orientation': 'v',\n",
       "              'showlegend': True,\n",
       "              'textposition': 'auto',\n",
       "              'type': 'bar',\n",
       "              'x': array(['health'], dtype=object),\n",
       "              'xaxis': 'x',\n",
       "              'y': {'bdata': 'Ag==', 'dtype': 'i1'},\n",
       "              'yaxis': 'y'},\n",
       "             {'hovertemplate': 'subcategory=yearinoffbeatgoodnews<br>category=%{x}<br>values=%{y}<extra></extra>',\n",
       "              'legendgroup': 'yearinoffbeatgoodnews',\n",
       "              'marker': {'color': '#EF553B', 'pattern': {'shape': ''}},\n",
       "              'name': 'yearinoffbeatgoodnews',\n",
       "              'orientation': 'v',\n",
       "              'showlegend': True,\n",
       "              'textposition': 'auto',\n",
       "              'type': 'bar',\n",
       "              'x': array(['news'], dtype=object),\n",
       "              'xaxis': 'x',\n",
       "              'y': {'bdata': 'Ag==', 'dtype': 'i1'},\n",
       "              'yaxis': 'y'},\n",
       "             {'hovertemplate': 'subcategory=celebritynews<br>category=%{x}<br>values=%{y}<extra></extra>',\n",
       "              'legendgroup': 'celebritynews',\n",
       "              'marker': {'color': '#00cc96', 'pattern': {'shape': ''}},\n",
       "              'name': 'celebritynews',\n",
       "              'orientation': 'v',\n",
       "              'showlegend': True,\n",
       "              'textposition': 'auto',\n",
       "              'type': 'bar',\n",
       "              'x': array(['entertainment'], dtype=object),\n",
       "              'xaxis': 'x',\n",
       "              'y': {'bdata': 'Ag==', 'dtype': 'i1'},\n",
       "              'yaxis': 'y'},\n",
       "             {'hovertemplate': ('subcategory=lifestylehoroscope' ... '<br>values=%{y}<extra></extra>'),\n",
       "              'legendgroup': 'lifestylehoroscopefish',\n",
       "              'marker': {'color': '#ab63fa', 'pattern': {'shape': ''}},\n",
       "              'name': 'lifestylehoroscopefish',\n",
       "              'orientation': 'v',\n",
       "              'showlegend': True,\n",
       "              'textposition': 'auto',\n",
       "              'type': 'bar',\n",
       "              'x': array(['lifestyle'], dtype=object),\n",
       "              'xaxis': 'x',\n",
       "              'y': {'bdata': 'Ag==', 'dtype': 'i1'},\n",
       "              'yaxis': 'y'},\n",
       "             {'hovertemplate': 'subcategory=seasonal<br>category=%{x}<br>values=%{y}<extra></extra>',\n",
       "              'legendgroup': 'seasonal',\n",
       "              'marker': {'color': '#FFA15A', 'pattern': {'shape': ''}},\n",
       "              'name': 'seasonal',\n",
       "              'orientation': 'v',\n",
       "              'showlegend': True,\n",
       "              'textposition': 'auto',\n",
       "              'type': 'bar',\n",
       "              'x': array(['foodanddrink'], dtype=object),\n",
       "              'xaxis': 'x',\n",
       "              'y': {'bdata': 'Ag==', 'dtype': 'i1'},\n",
       "              'yaxis': 'y'},\n",
       "             {'hovertemplate': 'subcategory=holidays<br>category=%{x}<br>values=%{y}<extra></extra>',\n",
       "              'legendgroup': 'holidays',\n",
       "              'marker': {'color': '#19d3f3', 'pattern': {'shape': ''}},\n",
       "              'name': 'holidays',\n",
       "              'orientation': 'v',\n",
       "              'showlegend': True,\n",
       "              'textposition': 'auto',\n",
       "              'type': 'bar',\n",
       "              'x': array(['travel', 'lifestyle'], dtype=object),\n",
       "              'xaxis': 'x',\n",
       "              'y': {'bdata': 'AgI=', 'dtype': 'i1'},\n",
       "              'yaxis': 'y'},\n",
       "             {'hovertemplate': 'subcategory=cardio<br>category=%{x}<br>values=%{y}<extra></extra>',\n",
       "              'legendgroup': 'cardio',\n",
       "              'marker': {'color': '#FF6692', 'pattern': {'shape': ''}},\n",
       "              'name': 'cardio',\n",
       "              'orientation': 'v',\n",
       "              'showlegend': True,\n",
       "              'textposition': 'auto',\n",
       "              'type': 'bar',\n",
       "              'x': array(['health'], dtype=object),\n",
       "              'xaxis': 'x',\n",
       "              'y': {'bdata': 'Ag==', 'dtype': 'i1'},\n",
       "              'yaxis': 'y'},\n",
       "             {'hovertemplate': 'subcategory=familyhealth<br>category=%{x}<br>values=%{y}<extra></extra>',\n",
       "              'legendgroup': 'familyhealth',\n",
       "              'marker': {'color': '#B6E880', 'pattern': {'shape': ''}},\n",
       "              'name': 'familyhealth',\n",
       "              'orientation': 'v',\n",
       "              'showlegend': True,\n",
       "              'textposition': 'auto',\n",
       "              'type': 'bar',\n",
       "              'x': array(['health'], dtype=object),\n",
       "              'xaxis': 'x',\n",
       "              'y': {'bdata': 'Ag==', 'dtype': 'i1'},\n",
       "              'yaxis': 'y'},\n",
       "             {'hovertemplate': 'subcategory=healthagingwell<br>category=%{x}<br>values=%{y}<extra></extra>',\n",
       "              'legendgroup': 'healthagingwell',\n",
       "              'marker': {'color': '#FF97FF', 'pattern': {'shape': ''}},\n",
       "              'name': 'healthagingwell',\n",
       "              'orientation': 'v',\n",
       "              'showlegend': True,\n",
       "              'textposition': 'auto',\n",
       "              'type': 'bar',\n",
       "              'x': array(['health'], dtype=object),\n",
       "              'xaxis': 'x',\n",
       "              'y': {'bdata': 'Ag==', 'dtype': 'i1'},\n",
       "              'yaxis': 'y'},\n",
       "             {'hovertemplate': 'subcategory=photos<br>category=%{x}<br>values=%{y}<extra></extra>',\n",
       "              'legendgroup': 'photos',\n",
       "              'marker': {'color': '#FECB52', 'pattern': {'shape': ''}},\n",
       "              'name': 'photos',\n",
       "              'orientation': 'v',\n",
       "              'showlegend': True,\n",
       "              'textposition': 'auto',\n",
       "              'type': 'bar',\n",
       "              'x': array(['news', 'weather'], dtype=object),\n",
       "              'xaxis': 'x',\n",
       "              'y': {'bdata': 'AgE=', 'dtype': 'i1'},\n",
       "              'yaxis': 'y'},\n",
       "             {'hovertemplate': ('subcategory=middleeast-top-sto' ... '<br>values=%{y}<extra></extra>'),\n",
       "              'legendgroup': 'middleeast-top-stories',\n",
       "              'marker': {'color': '#636efa', 'pattern': {'shape': ''}},\n",
       "              'name': 'middleeast-top-stories',\n",
       "              'orientation': 'v',\n",
       "              'showlegend': True,\n",
       "              'textposition': 'auto',\n",
       "              'type': 'bar',\n",
       "              'x': array(['middleeast'], dtype=object),\n",
       "              'xaxis': 'x',\n",
       "              'y': {'bdata': 'Ag==', 'dtype': 'i1'},\n",
       "              'yaxis': 'y'},\n",
       "             {'hovertemplate': 'subcategory=indepth<br>category=%{x}<br>values=%{y}<extra></extra>',\n",
       "              'legendgroup': 'indepth',\n",
       "              'marker': {'color': '#EF553B', 'pattern': {'shape': ''}},\n",
       "              'name': 'indepth',\n",
       "              'orientation': 'v',\n",
       "              'showlegend': True,\n",
       "              'textposition': 'auto',\n",
       "              'type': 'bar',\n",
       "              'x': array(['news'], dtype=object),\n",
       "              'xaxis': 'x',\n",
       "              'y': {'bdata': 'Ag==', 'dtype': 'i1'},\n",
       "              'yaxis': 'y'},\n",
       "             {'hovertemplate': 'subcategory=autoscartech<br>category=%{x}<br>values=%{y}<extra></extra>',\n",
       "              'legendgroup': 'autoscartech',\n",
       "              'marker': {'color': '#00cc96', 'pattern': {'shape': ''}},\n",
       "              'name': 'autoscartech',\n",
       "              'orientation': 'v',\n",
       "              'showlegend': True,\n",
       "              'textposition': 'auto',\n",
       "              'type': 'bar',\n",
       "              'x': array(['autos'], dtype=object),\n",
       "              'xaxis': 'x',\n",
       "              'y': {'bdata': 'Ag==', 'dtype': 'i1'},\n",
       "              'yaxis': 'y'},\n",
       "             {'hovertemplate': 'subcategory=comedy<br>category=%{x}<br>values=%{y}<extra></extra>',\n",
       "              'legendgroup': 'comedy',\n",
       "              'marker': {'color': '#ab63fa', 'pattern': {'shape': ''}},\n",
       "              'name': 'comedy',\n",
       "              'orientation': 'v',\n",
       "              'showlegend': True,\n",
       "              'textposition': 'auto',\n",
       "              'type': 'bar',\n",
       "              'x': array(['video'], dtype=object),\n",
       "              'xaxis': 'x',\n",
       "              'y': {'bdata': 'Ag==', 'dtype': 'i1'},\n",
       "              'yaxis': 'y'},\n",
       "             {'hovertemplate': ('subcategory=shop-computers-ele' ... '<br>values=%{y}<extra></extra>'),\n",
       "              'legendgroup': 'shop-computers-electronics',\n",
       "              'marker': {'color': '#FFA15A', 'pattern': {'shape': ''}},\n",
       "              'name': 'shop-computers-electronics',\n",
       "              'orientation': 'v',\n",
       "              'showlegend': True,\n",
       "              'textposition': 'auto',\n",
       "              'type': 'bar',\n",
       "              'x': array(['lifestyle'], dtype=object),\n",
       "              'xaxis': 'x',\n",
       "              'y': {'bdata': 'Ag==', 'dtype': 'i1'},\n",
       "              'yaxis': 'y'},\n",
       "             {'hovertemplate': 'subcategory=shop-books-movies-tv<br>category=%{x}<br>values=%{y}<extra></extra>',\n",
       "              'legendgroup': 'shop-books-movies-tv',\n",
       "              'marker': {'color': '#19d3f3', 'pattern': {'shape': ''}},\n",
       "              'name': 'shop-books-movies-tv',\n",
       "              'orientation': 'v',\n",
       "              'showlegend': True,\n",
       "              'textposition': 'auto',\n",
       "              'type': 'bar',\n",
       "              'x': array(['lifestyle'], dtype=object),\n",
       "              'xaxis': 'x',\n",
       "              'y': {'bdata': 'Ag==', 'dtype': 'i1'},\n",
       "              'yaxis': 'y'},\n",
       "             {'hovertemplate': 'subcategory=tv-reviews<br>category=%{x}<br>values=%{y}<extra></extra>',\n",
       "              'legendgroup': 'tv-reviews',\n",
       "              'marker': {'color': '#FF6692', 'pattern': {'shape': ''}},\n",
       "              'name': 'tv-reviews',\n",
       "              'orientation': 'v',\n",
       "              'showlegend': True,\n",
       "              'textposition': 'auto',\n",
       "              'type': 'bar',\n",
       "              'x': array(['tv'], dtype=object),\n",
       "              'xaxis': 'x',\n",
       "              'y': {'bdata': 'Ag==', 'dtype': 'i1'},\n",
       "              'yaxis': 'y'},\n",
       "             {'hovertemplate': ('subcategory=causes-disaster-re' ... '<br>values=%{y}<extra></extra>'),\n",
       "              'legendgroup': 'causes-disaster-relief',\n",
       "              'marker': {'color': '#B6E880', 'pattern': {'shape': ''}},\n",
       "              'name': 'causes-disaster-relief',\n",
       "              'orientation': 'v',\n",
       "              'showlegend': True,\n",
       "              'textposition': 'auto',\n",
       "              'type': 'bar',\n",
       "              'x': array(['news'], dtype=object),\n",
       "              'xaxis': 'x',\n",
       "              'y': {'bdata': 'Ag==', 'dtype': 'i1'},\n",
       "              'yaxis': 'y'},\n",
       "             {'hovertemplate': 'subcategory=lifestyletravel<br>category=%{x}<br>values=%{y}<extra></extra>',\n",
       "              'legendgroup': 'lifestyletravel',\n",
       "              'marker': {'color': '#FF97FF', 'pattern': {'shape': ''}},\n",
       "              'name': 'lifestyletravel',\n",
       "              'orientation': 'v',\n",
       "              'showlegend': True,\n",
       "              'textposition': 'auto',\n",
       "              'type': 'bar',\n",
       "              'x': array(['lifestyle'], dtype=object),\n",
       "              'xaxis': 'x',\n",
       "              'y': {'bdata': 'Ag==', 'dtype': 'i1'},\n",
       "              'yaxis': 'y'},\n",
       "             {'hovertemplate': 'subcategory=empowering-the-planet<br>category=%{x}<br>values=%{y}<extra></extra>',\n",
       "              'legendgroup': 'empowering-the-planet',\n",
       "              'marker': {'color': '#FECB52', 'pattern': {'shape': ''}},\n",
       "              'name': 'empowering-the-planet',\n",
       "              'orientation': 'v',\n",
       "              'showlegend': True,\n",
       "              'textposition': 'auto',\n",
       "              'type': 'bar',\n",
       "              'x': array(['news'], dtype=object),\n",
       "              'xaxis': 'x',\n",
       "              'y': {'bdata': 'Ag==', 'dtype': 'i1'},\n",
       "              'yaxis': 'y'},\n",
       "             {'hovertemplate': 'subcategory=soccer_videos<br>category=%{x}<br>values=%{y}<extra></extra>',\n",
       "              'legendgroup': 'soccer_videos',\n",
       "              'marker': {'color': '#636efa', 'pattern': {'shape': ''}},\n",
       "              'name': 'soccer_videos',\n",
       "              'orientation': 'v',\n",
       "              'showlegend': True,\n",
       "              'textposition': 'auto',\n",
       "              'type': 'bar',\n",
       "              'x': array(['sports'], dtype=object),\n",
       "              'xaxis': 'x',\n",
       "              'y': {'bdata': 'AQ==', 'dtype': 'i1'},\n",
       "              'yaxis': 'y'},\n",
       "             {'hovertemplate': 'subcategory=weatherfullscreenmaps<br>category=%{x}<br>values=%{y}<extra></extra>',\n",
       "              'legendgroup': 'weatherfullscreenmaps',\n",
       "              'marker': {'color': '#EF553B', 'pattern': {'shape': ''}},\n",
       "              'name': 'weatherfullscreenmaps',\n",
       "              'orientation': 'v',\n",
       "              'showlegend': True,\n",
       "              'textposition': 'auto',\n",
       "              'type': 'bar',\n",
       "              'x': array(['weather'], dtype=object),\n",
       "              'xaxis': 'x',\n",
       "              'y': {'bdata': 'AQ==', 'dtype': 'i1'},\n",
       "              'yaxis': 'y'},\n",
       "             {'hovertemplate': 'subcategory=soccer_fifa_wwc<br>category=%{x}<br>values=%{y}<extra></extra>',\n",
       "              'legendgroup': 'soccer_fifa_wwc',\n",
       "              'marker': {'color': '#00cc96', 'pattern': {'shape': ''}},\n",
       "              'name': 'soccer_fifa_wwc',\n",
       "              'orientation': 'v',\n",
       "              'showlegend': True,\n",
       "              'textposition': 'auto',\n",
       "              'type': 'bar',\n",
       "              'x': array(['sports'], dtype=object),\n",
       "              'xaxis': 'x',\n",
       "              'y': {'bdata': 'AQ==', 'dtype': 'i1'},\n",
       "              'yaxis': 'y'},\n",
       "             {'hovertemplate': 'subcategory=topnews<br>category=%{x}<br>values=%{y}<extra></extra>',\n",
       "              'legendgroup': 'topnews',\n",
       "              'marker': {'color': '#ab63fa', 'pattern': {'shape': ''}},\n",
       "              'name': 'topnews',\n",
       "              'orientation': 'v',\n",
       "              'showlegend': True,\n",
       "              'textposition': 'auto',\n",
       "              'type': 'bar',\n",
       "              'x': array(['tv', 'music'], dtype=object),\n",
       "              'xaxis': 'x',\n",
       "              'y': {'bdata': 'AQE=', 'dtype': 'i1'},\n",
       "              'yaxis': 'y'},\n",
       "             {'hovertemplate': ('subcategory=tv-golden-globes-v' ... '<br>values=%{y}<extra></extra>'),\n",
       "              'legendgroup': 'tv-golden-globes-video',\n",
       "              'marker': {'color': '#FFA15A', 'pattern': {'shape': ''}},\n",
       "              'name': 'tv-golden-globes-video',\n",
       "              'orientation': 'v',\n",
       "              'showlegend': True,\n",
       "              'textposition': 'auto',\n",
       "              'type': 'bar',\n",
       "              'x': array(['tv'], dtype=object),\n",
       "              'xaxis': 'x',\n",
       "              'y': {'bdata': 'AQ==', 'dtype': 'i1'},\n",
       "              'yaxis': 'y'},\n",
       "             {'hovertemplate': 'subcategory=tennis_intl<br>category=%{x}<br>values=%{y}<extra></extra>',\n",
       "              'legendgroup': 'tennis_intl',\n",
       "              'marker': {'color': '#19d3f3', 'pattern': {'shape': ''}},\n",
       "              'name': 'tennis_intl',\n",
       "              'orientation': 'v',\n",
       "              'showlegend': True,\n",
       "              'textposition': 'auto',\n",
       "              'type': 'bar',\n",
       "              'x': array(['sports'], dtype=object),\n",
       "              'xaxis': 'x',\n",
       "              'y': {'bdata': 'AQ==', 'dtype': 'i1'},\n",
       "              'yaxis': 'y'},\n",
       "             {'hovertemplate': 'subcategory=autosvans<br>category=%{x}<br>values=%{y}<extra></extra>',\n",
       "              'legendgroup': 'autosvans',\n",
       "              'marker': {'color': '#FF6692', 'pattern': {'shape': ''}},\n",
       "              'name': 'autosvans',\n",
       "              'orientation': 'v',\n",
       "              'showlegend': True,\n",
       "              'textposition': 'auto',\n",
       "              'type': 'bar',\n",
       "              'x': array(['autos'], dtype=object),\n",
       "              'xaxis': 'x',\n",
       "              'y': {'bdata': 'AQ==', 'dtype': 'i1'},\n",
       "              'yaxis': 'y'},\n",
       "             {'hovertemplate': 'subcategory=soccer_bund<br>category=%{x}<br>values=%{y}<extra></extra>',\n",
       "              'legendgroup': 'soccer_bund',\n",
       "              'marker': {'color': '#B6E880', 'pattern': {'shape': ''}},\n",
       "              'name': 'soccer_bund',\n",
       "              'orientation': 'v',\n",
       "              'showlegend': True,\n",
       "              'textposition': 'auto',\n",
       "              'type': 'bar',\n",
       "              'x': array(['sports'], dtype=object),\n",
       "              'xaxis': 'x',\n",
       "              'y': {'bdata': 'AQ==', 'dtype': 'i1'},\n",
       "              'yaxis': 'y'},\n",
       "             {'hovertemplate': 'subcategory=autoscompact<br>category=%{x}<br>values=%{y}<extra></extra>',\n",
       "              'legendgroup': 'autoscompact',\n",
       "              'marker': {'color': '#FF97FF', 'pattern': {'shape': ''}},\n",
       "              'name': 'autoscompact',\n",
       "              'orientation': 'v',\n",
       "              'showlegend': True,\n",
       "              'textposition': 'auto',\n",
       "              'type': 'bar',\n",
       "              'x': array(['autos'], dtype=object),\n",
       "              'xaxis': 'x',\n",
       "              'y': {'bdata': 'AQ==', 'dtype': 'i1'},\n",
       "              'yaxis': 'y'},\n",
       "             {'hovertemplate': 'subcategory=autosconvertibles<br>category=%{x}<br>values=%{y}<extra></extra>',\n",
       "              'legendgroup': 'autosconvertibles',\n",
       "              'marker': {'color': '#FECB52', 'pattern': {'shape': ''}},\n",
       "              'name': 'autosconvertibles',\n",
       "              'orientation': 'v',\n",
       "              'showlegend': True,\n",
       "              'textposition': 'auto',\n",
       "              'type': 'bar',\n",
       "              'x': array(['autos'], dtype=object),\n",
       "              'xaxis': 'x',\n",
       "              'y': {'bdata': 'AQ==', 'dtype': 'i1'},\n",
       "              'yaxis': 'y'},\n",
       "             {'hovertemplate': 'subcategory=traveltrivia<br>category=%{x}<br>values=%{y}<extra></extra>',\n",
       "              'legendgroup': 'traveltrivia',\n",
       "              'marker': {'color': '#636efa', 'pattern': {'shape': ''}},\n",
       "              'name': 'traveltrivia',\n",
       "              'orientation': 'v',\n",
       "              'showlegend': True,\n",
       "              'textposition': 'auto',\n",
       "              'type': 'bar',\n",
       "              'x': array(['travel'], dtype=object),\n",
       "              'xaxis': 'x',\n",
       "              'y': {'bdata': 'AQ==', 'dtype': 'i1'},\n",
       "              'yaxis': 'y'},\n",
       "             {'hovertemplate': 'subcategory=foodanddrink<br>category=%{x}<br>values=%{y}<extra></extra>',\n",
       "              'legendgroup': 'foodanddrink',\n",
       "              'marker': {'color': '#EF553B', 'pattern': {'shape': ''}},\n",
       "              'name': 'foodanddrink',\n",
       "              'orientation': 'v',\n",
       "              'showlegend': True,\n",
       "              'textposition': 'auto',\n",
       "              'type': 'bar',\n",
       "              'x': array(['video'], dtype=object),\n",
       "              'xaxis': 'x',\n",
       "              'y': {'bdata': 'AQ==', 'dtype': 'i1'},\n",
       "              'yaxis': 'y'},\n",
       "             {'hovertemplate': 'subcategory=healthandfitness<br>category=%{x}<br>values=%{y}<extra></extra>',\n",
       "              'legendgroup': 'healthandfitness',\n",
       "              'marker': {'color': '#00cc96', 'pattern': {'shape': ''}},\n",
       "              'name': 'healthandfitness',\n",
       "              'orientation': 'v',\n",
       "              'showlegend': True,\n",
       "              'textposition': 'auto',\n",
       "              'type': 'bar',\n",
       "              'x': array(['video'], dtype=object),\n",
       "              'xaxis': 'x',\n",
       "              'y': {'bdata': 'AQ==', 'dtype': 'i1'},\n",
       "              'yaxis': 'y'},\n",
       "             {'hovertemplate': 'subcategory=travel-accessible<br>category=%{x}<br>values=%{y}<extra></extra>',\n",
       "              'legendgroup': 'travel-accessible',\n",
       "              'marker': {'color': '#ab63fa', 'pattern': {'shape': ''}},\n",
       "              'name': 'travel-accessible',\n",
       "              'orientation': 'v',\n",
       "              'showlegend': True,\n",
       "              'textposition': 'auto',\n",
       "              'type': 'bar',\n",
       "              'x': array(['travel'], dtype=object),\n",
       "              'xaxis': 'x',\n",
       "              'y': {'bdata': 'AQ==', 'dtype': 'i1'},\n",
       "              'yaxis': 'y'},\n",
       "             {'hovertemplate': 'subcategory=autoslosangeles<br>category=%{x}<br>values=%{y}<extra></extra>',\n",
       "              'legendgroup': 'autoslosangeles',\n",
       "              'marker': {'color': '#FFA15A', 'pattern': {'shape': ''}},\n",
       "              'name': 'autoslosangeles',\n",
       "              'orientation': 'v',\n",
       "              'showlegend': True,\n",
       "              'textposition': 'auto',\n",
       "              'type': 'bar',\n",
       "              'x': array(['autos'], dtype=object),\n",
       "              'xaxis': 'x',\n",
       "              'y': {'bdata': 'AQ==', 'dtype': 'i1'},\n",
       "              'yaxis': 'y'},\n",
       "             {'hovertemplate': 'subcategory=autosmidsize<br>category=%{x}<br>values=%{y}<extra></extra>',\n",
       "              'legendgroup': 'autosmidsize',\n",
       "              'marker': {'color': '#19d3f3', 'pattern': {'shape': ''}},\n",
       "              'name': 'autosmidsize',\n",
       "              'orientation': 'v',\n",
       "              'showlegend': True,\n",
       "              'textposition': 'auto',\n",
       "              'type': 'bar',\n",
       "              'x': array(['autos'], dtype=object),\n",
       "              'xaxis': 'x',\n",
       "              'y': {'bdata': 'AQ==', 'dtype': 'i1'},\n",
       "              'yaxis': 'y'},\n",
       "             {'hovertemplate': 'subcategory=mindandbody<br>category=%{x}<br>values=%{y}<extra></extra>',\n",
       "              'legendgroup': 'mindandbody',\n",
       "              'marker': {'color': '#FF6692', 'pattern': {'shape': ''}},\n",
       "              'name': 'mindandbody',\n",
       "              'orientation': 'v',\n",
       "              'showlegend': True,\n",
       "              'textposition': 'auto',\n",
       "              'type': 'bar',\n",
       "              'x': array(['health'], dtype=object),\n",
       "              'xaxis': 'x',\n",
       "              'y': {'bdata': 'AQ==', 'dtype': 'i1'},\n",
       "              'yaxis': 'y'},\n",
       "             {'hovertemplate': 'subcategory=finance-home-loans<br>category=%{x}<br>values=%{y}<extra></extra>',\n",
       "              'legendgroup': 'finance-home-loans',\n",
       "              'marker': {'color': '#B6E880', 'pattern': {'shape': ''}},\n",
       "              'name': 'finance-home-loans',\n",
       "              'orientation': 'v',\n",
       "              'showlegend': True,\n",
       "              'textposition': 'auto',\n",
       "              'type': 'bar',\n",
       "              'x': array(['finance'], dtype=object),\n",
       "              'xaxis': 'x',\n",
       "              'y': {'bdata': 'AQ==', 'dtype': 'i1'},\n",
       "              'yaxis': 'y'},\n",
       "             {'hovertemplate': 'subcategory=celebhub<br>category=%{x}<br>values=%{y}<extra></extra>',\n",
       "              'legendgroup': 'celebhub',\n",
       "              'marker': {'color': '#FF97FF', 'pattern': {'shape': ''}},\n",
       "              'name': 'celebhub',\n",
       "              'orientation': 'v',\n",
       "              'showlegend': True,\n",
       "              'textposition': 'auto',\n",
       "              'type': 'bar',\n",
       "              'x': array(['entertainment'], dtype=object),\n",
       "              'xaxis': 'x',\n",
       "              'y': {'bdata': 'AQ==', 'dtype': 'i1'},\n",
       "              'yaxis': 'y'},\n",
       "             {'hovertemplate': 'subcategory=lifestylestyle<br>category=%{x}<br>values=%{y}<extra></extra>',\n",
       "              'legendgroup': 'lifestylestyle',\n",
       "              'marker': {'color': '#FECB52', 'pattern': {'shape': ''}},\n",
       "              'name': 'lifestylestyle',\n",
       "              'orientation': 'v',\n",
       "              'showlegend': True,\n",
       "              'textposition': 'auto',\n",
       "              'type': 'bar',\n",
       "              'x': array(['lifestyle'], dtype=object),\n",
       "              'xaxis': 'x',\n",
       "              'y': {'bdata': 'AQ==', 'dtype': 'i1'},\n",
       "              'yaxis': 'y'},\n",
       "             {'hovertemplate': 'subcategory=finance-savingsrates<br>category=%{x}<br>values=%{y}<extra></extra>',\n",
       "              'legendgroup': 'finance-savingsrates',\n",
       "              'marker': {'color': '#636efa', 'pattern': {'shape': ''}},\n",
       "              'name': 'finance-savingsrates',\n",
       "              'orientation': 'v',\n",
       "              'showlegend': True,\n",
       "              'textposition': 'auto',\n",
       "              'type': 'bar',\n",
       "              'x': array(['finance'], dtype=object),\n",
       "              'xaxis': 'x',\n",
       "              'y': {'bdata': 'AQ==', 'dtype': 'i1'},\n",
       "              'yaxis': 'y'},\n",
       "             {'hovertemplate': ('subcategory=finance-startinves' ... '<br>values=%{y}<extra></extra>'),\n",
       "              'legendgroup': 'finance-startinvesting',\n",
       "              'marker': {'color': '#EF553B', 'pattern': {'shape': ''}},\n",
       "              'name': 'finance-startinvesting',\n",
       "              'orientation': 'v',\n",
       "              'showlegend': True,\n",
       "              'textposition': 'auto',\n",
       "              'type': 'bar',\n",
       "              'x': array(['finance'], dtype=object),\n",
       "              'xaxis': 'x',\n",
       "              'y': {'bdata': 'AQ==', 'dtype': 'i1'},\n",
       "              'yaxis': 'y'},\n",
       "             {'hovertemplate': 'subcategory=spendingandborrowing<br>category=%{x}<br>values=%{y}<extra></extra>',\n",
       "              'legendgroup': 'spendingandborrowing',\n",
       "              'marker': {'color': '#00cc96', 'pattern': {'shape': ''}},\n",
       "              'name': 'spendingandborrowing',\n",
       "              'orientation': 'v',\n",
       "              'showlegend': True,\n",
       "              'textposition': 'auto',\n",
       "              'type': 'bar',\n",
       "              'x': array(['finance'], dtype=object),\n",
       "              'xaxis': 'x',\n",
       "              'y': {'bdata': 'AQ==', 'dtype': 'i1'},\n",
       "              'yaxis': 'y'},\n",
       "             {'hovertemplate': 'subcategory=travel<br>category=%{x}<br>values=%{y}<extra></extra>',\n",
       "              'legendgroup': 'travel',\n",
       "              'marker': {'color': '#ab63fa', 'pattern': {'shape': ''}},\n",
       "              'name': 'travel',\n",
       "              'orientation': 'v',\n",
       "              'showlegend': True,\n",
       "              'textposition': 'auto',\n",
       "              'type': 'bar',\n",
       "              'x': array(['lifestyle'], dtype=object),\n",
       "              'xaxis': 'x',\n",
       "              'y': {'bdata': 'AQ==', 'dtype': 'i1'},\n",
       "              'yaxis': 'y'},\n",
       "             {'hovertemplate': 'subcategory=shop-toys<br>category=%{x}<br>values=%{y}<extra></extra>',\n",
       "              'legendgroup': 'shop-toys',\n",
       "              'marker': {'color': '#FFA15A', 'pattern': {'shape': ''}},\n",
       "              'name': 'shop-toys',\n",
       "              'orientation': 'v',\n",
       "              'showlegend': True,\n",
       "              'textposition': 'auto',\n",
       "              'type': 'bar',\n",
       "              'x': array(['lifestyle'], dtype=object),\n",
       "              'xaxis': 'x',\n",
       "              'y': {'bdata': 'AQ==', 'dtype': 'i1'},\n",
       "              'yaxis': 'y'},\n",
       "             {'hovertemplate': 'subcategory=relationships<br>category=%{x}<br>values=%{y}<extra></extra>',\n",
       "              'legendgroup': 'relationships',\n",
       "              'marker': {'color': '#19d3f3', 'pattern': {'shape': ''}},\n",
       "              'name': 'relationships',\n",
       "              'orientation': 'v',\n",
       "              'showlegend': True,\n",
       "              'textposition': 'auto',\n",
       "              'type': 'bar',\n",
       "              'x': array(['lifestyle'], dtype=object),\n",
       "              'xaxis': 'x',\n",
       "              'y': {'bdata': 'AQ==', 'dtype': 'i1'},\n",
       "              'yaxis': 'y'},\n",
       "             {'hovertemplate': 'subcategory=lifestylewhatshot<br>category=%{x}<br>values=%{y}<extra></extra>',\n",
       "              'legendgroup': 'lifestylewhatshot',\n",
       "              'marker': {'color': '#FF6692', 'pattern': {'shape': ''}},\n",
       "              'name': 'lifestylewhatshot',\n",
       "              'orientation': 'v',\n",
       "              'showlegend': True,\n",
       "              'textposition': 'auto',\n",
       "              'type': 'bar',\n",
       "              'x': array(['lifestyle'], dtype=object),\n",
       "              'xaxis': 'x',\n",
       "              'y': {'bdata': 'AQ==', 'dtype': 'i1'},\n",
       "              'yaxis': 'y'},\n",
       "             {'hovertemplate': 'subcategory=cookingschool<br>category=%{x}<br>values=%{y}<extra></extra>',\n",
       "              'legendgroup': 'cookingschool',\n",
       "              'marker': {'color': '#B6E880', 'pattern': {'shape': ''}},\n",
       "              'name': 'cookingschool',\n",
       "              'orientation': 'v',\n",
       "              'showlegend': True,\n",
       "              'textposition': 'auto',\n",
       "              'type': 'bar',\n",
       "              'x': array(['foodanddrink'], dtype=object),\n",
       "              'xaxis': 'x',\n",
       "              'y': {'bdata': 'AQ==', 'dtype': 'i1'},\n",
       "              'yaxis': 'y'},\n",
       "             {'hovertemplate': 'subcategory=causes-poverty<br>category=%{x}<br>values=%{y}<extra></extra>',\n",
       "              'legendgroup': 'causes-poverty',\n",
       "              'marker': {'color': '#FF97FF', 'pattern': {'shape': ''}},\n",
       "              'name': 'causes-poverty',\n",
       "              'orientation': 'v',\n",
       "              'showlegend': True,\n",
       "              'textposition': 'auto',\n",
       "              'type': 'bar',\n",
       "              'x': array(['news'], dtype=object),\n",
       "              'xaxis': 'x',\n",
       "              'y': {'bdata': 'AQ==', 'dtype': 'i1'},\n",
       "              'yaxis': 'y'},\n",
       "             {'hovertemplate': 'subcategory=foodtips<br>category=%{x}<br>values=%{y}<extra></extra>',\n",
       "              'legendgroup': 'foodtips',\n",
       "              'marker': {'color': '#FECB52', 'pattern': {'shape': ''}},\n",
       "              'name': 'foodtips',\n",
       "              'orientation': 'v',\n",
       "              'showlegend': True,\n",
       "              'textposition': 'auto',\n",
       "              'type': 'bar',\n",
       "              'x': array(['foodanddrink'], dtype=object),\n",
       "              'xaxis': 'x',\n",
       "              'y': {'bdata': 'AQ==', 'dtype': 'i1'},\n",
       "              'yaxis': 'y'},\n",
       "             {'hovertemplate': 'subcategory=games-news<br>category=%{x}<br>values=%{y}<extra></extra>',\n",
       "              'legendgroup': 'games-news',\n",
       "              'marker': {'color': '#636efa', 'pattern': {'shape': ''}},\n",
       "              'name': 'games-news',\n",
       "              'orientation': 'v',\n",
       "              'showlegend': True,\n",
       "              'textposition': 'auto',\n",
       "              'type': 'bar',\n",
       "              'x': array(['games'], dtype=object),\n",
       "              'xaxis': 'x',\n",
       "              'y': {'bdata': 'AQ==', 'dtype': 'i1'},\n",
       "              'yaxis': 'y'},\n",
       "             {'hovertemplate': 'subcategory=lifestyledesign<br>category=%{x}<br>values=%{y}<extra></extra>',\n",
       "              'legendgroup': 'lifestyledesign',\n",
       "              'marker': {'color': '#EF553B', 'pattern': {'shape': ''}},\n",
       "              'name': 'lifestyledesign',\n",
       "              'orientation': 'v',\n",
       "              'showlegend': True,\n",
       "              'textposition': 'auto',\n",
       "              'type': 'bar',\n",
       "              'x': array(['lifestyle'], dtype=object),\n",
       "              'xaxis': 'x',\n",
       "              'y': {'bdata': 'AQ==', 'dtype': 'i1'},\n",
       "              'yaxis': 'y'},\n",
       "             {'hovertemplate': 'subcategory=health-cancer<br>category=%{x}<br>values=%{y}<extra></extra>',\n",
       "              'legendgroup': 'health-cancer',\n",
       "              'marker': {'color': '#00cc96', 'pattern': {'shape': ''}},\n",
       "              'name': 'health-cancer',\n",
       "              'orientation': 'v',\n",
       "              'showlegend': True,\n",
       "              'textposition': 'auto',\n",
       "              'type': 'bar',\n",
       "              'x': array(['health'], dtype=object),\n",
       "              'xaxis': 'x',\n",
       "              'y': {'bdata': 'AQ==', 'dtype': 'i1'},\n",
       "              'yaxis': 'y'},\n",
       "             {'hovertemplate': 'subcategory=lifestyleanimals<br>category=%{x}<br>values=%{y}<extra></extra>',\n",
       "              'legendgroup': 'lifestyleanimals',\n",
       "              'marker': {'color': '#ab63fa', 'pattern': {'shape': ''}},\n",
       "              'name': 'lifestyleanimals',\n",
       "              'orientation': 'v',\n",
       "              'showlegend': True,\n",
       "              'textposition': 'auto',\n",
       "              'type': 'bar',\n",
       "              'x': array(['lifestyle'], dtype=object),\n",
       "              'xaxis': 'x',\n",
       "              'y': {'bdata': 'AQ==', 'dtype': 'i1'},\n",
       "              'yaxis': 'y'},\n",
       "             {'hovertemplate': 'subcategory=lifestyle-wedding<br>category=%{x}<br>values=%{y}<extra></extra>',\n",
       "              'legendgroup': 'lifestyle-wedding',\n",
       "              'marker': {'color': '#FFA15A', 'pattern': {'shape': ''}},\n",
       "              'name': 'lifestyle-wedding',\n",
       "              'orientation': 'v',\n",
       "              'showlegend': True,\n",
       "              'textposition': 'auto',\n",
       "              'type': 'bar',\n",
       "              'x': array(['lifestyle'], dtype=object),\n",
       "              'xaxis': 'x',\n",
       "              'y': {'bdata': 'AQ==', 'dtype': 'i1'},\n",
       "              'yaxis': 'y'},\n",
       "             {'hovertemplate': 'subcategory=halloween<br>category=%{x}<br>values=%{y}<extra></extra>',\n",
       "              'legendgroup': 'halloween',\n",
       "              'marker': {'color': '#19d3f3', 'pattern': {'shape': ''}},\n",
       "              'name': 'halloween',\n",
       "              'orientation': 'v',\n",
       "              'showlegend': True,\n",
       "              'textposition': 'auto',\n",
       "              'type': 'bar',\n",
       "              'x': array(['lifestyle'], dtype=object),\n",
       "              'xaxis': 'x',\n",
       "              'y': {'bdata': 'AQ==', 'dtype': 'i1'},\n",
       "              'yaxis': 'y'},\n",
       "             {'hovertemplate': 'subcategory=healthyliving<br>category=%{x}<br>values=%{y}<extra></extra>',\n",
       "              'legendgroup': 'healthyliving',\n",
       "              'marker': {'color': '#FF6692', 'pattern': {'shape': ''}},\n",
       "              'name': 'healthyliving',\n",
       "              'orientation': 'v',\n",
       "              'showlegend': True,\n",
       "              'textposition': 'auto',\n",
       "              'type': 'bar',\n",
       "              'x': array(['health'], dtype=object),\n",
       "              'xaxis': 'x',\n",
       "              'y': {'bdata': 'AQ==', 'dtype': 'i1'},\n",
       "              'yaxis': 'y'},\n",
       "             {'hovertemplate': 'subcategory=smartliving<br>category=%{x}<br>values=%{y}<extra></extra>',\n",
       "              'legendgroup': 'smartliving',\n",
       "              'marker': {'color': '#B6E880', 'pattern': {'shape': ''}},\n",
       "              'name': 'smartliving',\n",
       "              'orientation': 'v',\n",
       "              'showlegend': True,\n",
       "              'textposition': 'auto',\n",
       "              'type': 'bar',\n",
       "              'x': array(['health'], dtype=object),\n",
       "              'xaxis': 'x',\n",
       "              'y': {'bdata': 'AQ==', 'dtype': 'i1'},\n",
       "              'yaxis': 'y'},\n",
       "             {'hovertemplate': ('subcategory=causes-military-ap' ... '<br>values=%{y}<extra></extra>'),\n",
       "              'legendgroup': 'causes-military-appreciation',\n",
       "              'marker': {'color': '#FF97FF', 'pattern': {'shape': ''}},\n",
       "              'name': 'causes-military-appreciation',\n",
       "              'orientation': 'v',\n",
       "              'showlegend': True,\n",
       "              'textposition': 'auto',\n",
       "              'type': 'bar',\n",
       "              'x': array(['news'], dtype=object),\n",
       "              'xaxis': 'x',\n",
       "              'y': {'bdata': 'AQ==', 'dtype': 'i1'},\n",
       "              'yaxis': 'y'},\n",
       "             {'hovertemplate': 'subcategory=narendramodi_opinion<br>category=%{x}<br>values=%{y}<extra></extra>',\n",
       "              'legendgroup': 'narendramodi_opinion',\n",
       "              'marker': {'color': '#FECB52', 'pattern': {'shape': ''}},\n",
       "              'name': 'narendramodi_opinion',\n",
       "              'orientation': 'v',\n",
       "              'showlegend': True,\n",
       "              'textposition': 'auto',\n",
       "              'type': 'bar',\n",
       "              'x': array(['news'], dtype=object),\n",
       "              'xaxis': 'x',\n",
       "              'y': {'bdata': 'AQ==', 'dtype': 'i1'},\n",
       "              'yaxis': 'y'},\n",
       "             {'hovertemplate': 'subcategory=entertainmentmusic<br>category=%{x}<br>values=%{y}<extra></extra>',\n",
       "              'legendgroup': 'entertainmentmusic',\n",
       "              'marker': {'color': '#636efa', 'pattern': {'shape': ''}},\n",
       "              'name': 'entertainmentmusic',\n",
       "              'orientation': 'v',\n",
       "              'showlegend': True,\n",
       "              'textposition': 'auto',\n",
       "              'type': 'bar',\n",
       "              'x': array(['entertainment'], dtype=object),\n",
       "              'xaxis': 'x',\n",
       "              'y': {'bdata': 'AQ==', 'dtype': 'i1'},\n",
       "              'yaxis': 'y'},\n",
       "             {'hovertemplate': 'subcategory=baseball<br>category=%{x}<br>values=%{y}<extra></extra>',\n",
       "              'legendgroup': 'baseball',\n",
       "              'marker': {'color': '#EF553B', 'pattern': {'shape': ''}},\n",
       "              'name': 'baseball',\n",
       "              'orientation': 'v',\n",
       "              'showlegend': True,\n",
       "              'textposition': 'auto',\n",
       "              'type': 'bar',\n",
       "              'x': array(['sports'], dtype=object),\n",
       "              'xaxis': 'x',\n",
       "              'y': {'bdata': 'AQ==', 'dtype': 'i1'},\n",
       "              'yaxis': 'y'},\n",
       "             {'hovertemplate': 'subcategory=othersports<br>category=%{x}<br>values=%{y}<extra></extra>',\n",
       "              'legendgroup': 'othersports',\n",
       "              'marker': {'color': '#00cc96', 'pattern': {'shape': ''}},\n",
       "              'name': 'othersports',\n",
       "              'orientation': 'v',\n",
       "              'showlegend': True,\n",
       "              'textposition': 'auto',\n",
       "              'type': 'bar',\n",
       "              'x': array(['sports'], dtype=object),\n",
       "              'xaxis': 'x',\n",
       "              'y': {'bdata': 'AQ==', 'dtype': 'i1'},\n",
       "              'yaxis': 'y'},\n",
       "             {'hovertemplate': 'subcategory=olympics-videos<br>category=%{x}<br>values=%{y}<extra></extra>',\n",
       "              'legendgroup': 'olympics-videos',\n",
       "              'marker': {'color': '#ab63fa', 'pattern': {'shape': ''}},\n",
       "              'name': 'olympics-videos',\n",
       "              'orientation': 'v',\n",
       "              'showlegend': True,\n",
       "              'textposition': 'auto',\n",
       "              'type': 'bar',\n",
       "              'x': array(['sports'], dtype=object),\n",
       "              'xaxis': 'x',\n",
       "              'y': {'bdata': 'AQ==', 'dtype': 'i1'},\n",
       "              'yaxis': 'y'},\n",
       "             {'hovertemplate': 'subcategory=entertainmenttv<br>category=%{x}<br>values=%{y}<extra></extra>',\n",
       "              'legendgroup': 'entertainmenttv',\n",
       "              'marker': {'color': '#FFA15A', 'pattern': {'shape': ''}},\n",
       "              'name': 'entertainmenttv',\n",
       "              'orientation': 'v',\n",
       "              'showlegend': True,\n",
       "              'textposition': 'auto',\n",
       "              'type': 'bar',\n",
       "              'x': array(['entertainment'], dtype=object),\n",
       "              'xaxis': 'x',\n",
       "              'y': {'bdata': 'AQ==', 'dtype': 'i1'},\n",
       "              'yaxis': 'y'},\n",
       "             {'hovertemplate': 'subcategory=mmaufc<br>category=%{x}<br>values=%{y}<extra></extra>',\n",
       "              'legendgroup': 'mmaufc',\n",
       "              'marker': {'color': '#19d3f3', 'pattern': {'shape': ''}},\n",
       "              'name': 'mmaufc',\n",
       "              'orientation': 'v',\n",
       "              'showlegend': True,\n",
       "              'textposition': 'auto',\n",
       "              'type': 'bar',\n",
       "              'x': array(['sports'], dtype=object),\n",
       "              'xaxis': 'x',\n",
       "              'y': {'bdata': 'AQ==', 'dtype': 'i1'},\n",
       "              'yaxis': 'y'},\n",
       "             {'hovertemplate': 'subcategory=games<br>category=%{x}<br>values=%{y}<extra></extra>',\n",
       "              'legendgroup': 'games',\n",
       "              'marker': {'color': '#FF6692', 'pattern': {'shape': ''}},\n",
       "              'name': 'games',\n",
       "              'orientation': 'v',\n",
       "              'showlegend': True,\n",
       "              'textposition': 'auto',\n",
       "              'type': 'bar',\n",
       "              'x': array(['entertainment'], dtype=object),\n",
       "              'xaxis': 'x',\n",
       "              'y': {'bdata': 'AQ==', 'dtype': 'i1'},\n",
       "              'yaxis': 'y'},\n",
       "             {'hovertemplate': 'subcategory=hollywood<br>category=%{x}<br>values=%{y}<extra></extra>',\n",
       "              'legendgroup': 'hollywood',\n",
       "              'marker': {'color': '#B6E880', 'pattern': {'shape': ''}},\n",
       "              'name': 'hollywood',\n",
       "              'orientation': 'v',\n",
       "              'showlegend': True,\n",
       "              'textposition': 'auto',\n",
       "              'type': 'bar',\n",
       "              'x': array(['entertainment'], dtype=object),\n",
       "              'xaxis': 'x',\n",
       "              'y': {'bdata': 'AQ==', 'dtype': 'i1'},\n",
       "              'yaxis': 'y'},\n",
       "             {'hovertemplate': 'subcategory=golfvideos<br>category=%{x}<br>values=%{y}<extra></extra>',\n",
       "              'legendgroup': 'golfvideos',\n",
       "              'marker': {'color': '#FF97FF', 'pattern': {'shape': ''}},\n",
       "              'name': 'golfvideos',\n",
       "              'orientation': 'v',\n",
       "              'showlegend': True,\n",
       "              'textposition': 'auto',\n",
       "              'type': 'bar',\n",
       "              'x': array(['sports'], dtype=object),\n",
       "              'xaxis': 'x',\n",
       "              'y': {'bdata': 'AQ==', 'dtype': 'i1'},\n",
       "              'yaxis': 'y'},\n",
       "             {'hovertemplate': 'subcategory=tv<br>category=%{x}<br>values=%{y}<extra></extra>',\n",
       "              'legendgroup': 'tv',\n",
       "              'marker': {'color': '#FECB52', 'pattern': {'shape': ''}},\n",
       "              'name': 'tv',\n",
       "              'orientation': 'v',\n",
       "              'showlegend': True,\n",
       "              'textposition': 'auto',\n",
       "              'type': 'bar',\n",
       "              'x': array(['entertainment'], dtype=object),\n",
       "              'xaxis': 'x',\n",
       "              'y': {'bdata': 'AQ==', 'dtype': 'i1'},\n",
       "              'yaxis': 'y'},\n",
       "             {'hovertemplate': 'subcategory=basketball<br>category=%{x}<br>values=%{y}<extra></extra>',\n",
       "              'legendgroup': 'basketball',\n",
       "              'marker': {'color': '#636efa', 'pattern': {'shape': ''}},\n",
       "              'name': 'basketball',\n",
       "              'orientation': 'v',\n",
       "              'showlegend': True,\n",
       "              'textposition': 'auto',\n",
       "              'type': 'bar',\n",
       "              'x': array(['sports'], dtype=object),\n",
       "              'xaxis': 'x',\n",
       "              'y': {'bdata': 'AQ==', 'dtype': 'i1'},\n",
       "              'yaxis': 'y'},\n",
       "             {'hovertemplate': 'subcategory=company-news<br>category=%{x}<br>values=%{y}<extra></extra>',\n",
       "              'legendgroup': 'company-news',\n",
       "              'marker': {'color': '#EF553B', 'pattern': {'shape': ''}},\n",
       "              'name': 'company-news',\n",
       "              'orientation': 'v',\n",
       "              'showlegend': True,\n",
       "              'textposition': 'auto',\n",
       "              'type': 'bar',\n",
       "              'x': array(['finance'], dtype=object),\n",
       "              'xaxis': 'x',\n",
       "              'y': {'bdata': 'AQ==', 'dtype': 'i1'},\n",
       "              'yaxis': 'y'},\n",
       "             {'hovertemplate': 'subcategory=northamerica-video<br>category=%{x}<br>values=%{y}<extra></extra>',\n",
       "              'legendgroup': 'northamerica-video',\n",
       "              'marker': {'color': '#00cc96', 'pattern': {'shape': ''}},\n",
       "              'name': 'northamerica-video',\n",
       "              'orientation': 'v',\n",
       "              'showlegend': True,\n",
       "              'textposition': 'auto',\n",
       "              'type': 'bar',\n",
       "              'x': array(['northamerica'], dtype=object),\n",
       "              'xaxis': 'x',\n",
       "              'y': {'bdata': 'AQ==', 'dtype': 'i1'},\n",
       "              'yaxis': 'y'},\n",
       "             {'hovertemplate': ('subcategory=finance-insidethet' ... '<br>values=%{y}<extra></extra>'),\n",
       "              'legendgroup': 'finance-insidetheticker',\n",
       "              'marker': {'color': '#ab63fa', 'pattern': {'shape': ''}},\n",
       "              'name': 'finance-insidetheticker',\n",
       "              'orientation': 'v',\n",
       "              'showlegend': True,\n",
       "              'textposition': 'auto',\n",
       "              'type': 'bar',\n",
       "              'x': array(['finance'], dtype=object),\n",
       "              'xaxis': 'x',\n",
       "              'y': {'bdata': 'AQ==', 'dtype': 'i1'},\n",
       "              'yaxis': 'y'},\n",
       "             {'hovertemplate': 'subcategory=technology<br>category=%{x}<br>values=%{y}<extra></extra>',\n",
       "              'legendgroup': 'technology',\n",
       "              'marker': {'color': '#FFA15A', 'pattern': {'shape': ''}},\n",
       "              'name': 'technology',\n",
       "              'orientation': 'v',\n",
       "              'showlegend': True,\n",
       "              'textposition': 'auto',\n",
       "              'type': 'bar',\n",
       "              'x': array(['news'], dtype=object),\n",
       "              'xaxis': 'x',\n",
       "              'y': {'bdata': 'AQ==', 'dtype': 'i1'},\n",
       "              'yaxis': 'y'},\n",
       "             {'hovertemplate': 'subcategory=other<br>category=%{x}<br>values=%{y}<extra></extra>',\n",
       "              'legendgroup': 'other',\n",
       "              'marker': {'color': '#19d3f3', 'pattern': {'shape': ''}},\n",
       "              'name': 'other',\n",
       "              'orientation': 'v',\n",
       "              'showlegend': True,\n",
       "              'textposition': 'auto',\n",
       "              'type': 'bar',\n",
       "              'x': array(['news'], dtype=object),\n",
       "              'xaxis': 'x',\n",
       "              'y': {'bdata': 'AQ==', 'dtype': 'i1'},\n",
       "              'yaxis': 'y'},\n",
       "             {'hovertemplate': ('subcategory=finance-auto-insur' ... '<br>values=%{y}<extra></extra>'),\n",
       "              'legendgroup': 'finance-auto-insurance',\n",
       "              'marker': {'color': '#FF6692', 'pattern': {'shape': ''}},\n",
       "              'name': 'finance-auto-insurance',\n",
       "              'orientation': 'v',\n",
       "              'showlegend': True,\n",
       "              'textposition': 'auto',\n",
       "              'type': 'bar',\n",
       "              'x': array(['finance'], dtype=object),\n",
       "              'xaxis': 'x',\n",
       "              'y': {'bdata': 'AQ==', 'dtype': 'i1'},\n",
       "              'yaxis': 'y'},\n",
       "             {'hovertemplate': 'subcategory=newsvideos<br>category=%{x}<br>values=%{y}<extra></extra>',\n",
       "              'legendgroup': 'newsvideos',\n",
       "              'marker': {'color': '#B6E880', 'pattern': {'shape': ''}},\n",
       "              'name': 'newsvideos',\n",
       "              'orientation': 'v',\n",
       "              'showlegend': True,\n",
       "              'textposition': 'auto',\n",
       "              'type': 'bar',\n",
       "              'x': array(['news'], dtype=object),\n",
       "              'xaxis': 'x',\n",
       "              'y': {'bdata': 'AQ==', 'dtype': 'i1'},\n",
       "              'yaxis': 'y'},\n",
       "             {'hovertemplate': 'subcategory=newstvmedia<br>category=%{x}<br>values=%{y}<extra></extra>',\n",
       "              'legendgroup': 'newstvmedia',\n",
       "              'marker': {'color': '#FF97FF', 'pattern': {'shape': ''}},\n",
       "              'name': 'newstvmedia',\n",
       "              'orientation': 'v',\n",
       "              'showlegend': True,\n",
       "              'textposition': 'auto',\n",
       "              'type': 'bar',\n",
       "              'x': array(['news'], dtype=object),\n",
       "              'xaxis': 'x',\n",
       "              'y': {'bdata': 'AQ==', 'dtype': 'i1'},\n",
       "              'yaxis': 'y'},\n",
       "             {'hovertemplate': 'subcategory=newsrealestate<br>category=%{x}<br>values=%{y}<extra></extra>',\n",
       "              'legendgroup': 'newsrealestate',\n",
       "              'marker': {'color': '#FECB52', 'pattern': {'shape': ''}},\n",
       "              'name': 'newsrealestate',\n",
       "              'orientation': 'v',\n",
       "              'showlegend': True,\n",
       "              'textposition': 'auto',\n",
       "              'type': 'bar',\n",
       "              'x': array(['news'], dtype=object),\n",
       "              'xaxis': 'x',\n",
       "              'y': {'bdata': 'AQ==', 'dtype': 'i1'},\n",
       "              'yaxis': 'y'},\n",
       "             {'hovertemplate': 'subcategory=newsother<br>category=%{x}<br>values=%{y}<extra></extra>',\n",
       "              'legendgroup': 'newsother',\n",
       "              'marker': {'color': '#636efa', 'pattern': {'shape': ''}},\n",
       "              'name': 'newsother',\n",
       "              'orientation': 'v',\n",
       "              'showlegend': True,\n",
       "              'textposition': 'auto',\n",
       "              'type': 'bar',\n",
       "              'x': array(['news'], dtype=object),\n",
       "              'xaxis': 'x',\n",
       "              'y': {'bdata': 'AQ==', 'dtype': 'i1'},\n",
       "              'yaxis': 'y'},\n",
       "             {'hovertemplate': 'subcategory=newsnational<br>category=%{x}<br>values=%{y}<extra></extra>',\n",
       "              'legendgroup': 'newsnational',\n",
       "              'marker': {'color': '#EF553B', 'pattern': {'shape': ''}},\n",
       "              'name': 'newsnational',\n",
       "              'orientation': 'v',\n",
       "              'showlegend': True,\n",
       "              'textposition': 'auto',\n",
       "              'type': 'bar',\n",
       "              'x': array(['news'], dtype=object),\n",
       "              'xaxis': 'x',\n",
       "              'y': {'bdata': 'AQ==', 'dtype': 'i1'},\n",
       "              'yaxis': 'y'},\n",
       "             {'hovertemplate': 'subcategory=newslocalpolitics<br>category=%{x}<br>values=%{y}<extra></extra>',\n",
       "              'legendgroup': 'newslocalpolitics',\n",
       "              'marker': {'color': '#00cc96', 'pattern': {'shape': ''}},\n",
       "              'name': 'newslocalpolitics',\n",
       "              'orientation': 'v',\n",
       "              'showlegend': True,\n",
       "              'textposition': 'auto',\n",
       "              'type': 'bar',\n",
       "              'x': array(['news'], dtype=object),\n",
       "              'xaxis': 'x',\n",
       "              'y': {'bdata': 'AQ==', 'dtype': 'i1'},\n",
       "              'yaxis': 'y'},\n",
       "             {'hovertemplate': ('subcategory=finance-homesandpr' ... '<br>values=%{y}<extra></extra>'),\n",
       "              'legendgroup': 'finance-homesandpropertysection',\n",
       "              'marker': {'color': '#ab63fa', 'pattern': {'shape': ''}},\n",
       "              'name': 'finance-homesandpropertysection',\n",
       "              'orientation': 'v',\n",
       "              'showlegend': True,\n",
       "              'textposition': 'auto',\n",
       "              'type': 'bar',\n",
       "              'x': array(['finance'], dtype=object),\n",
       "              'xaxis': 'x',\n",
       "              'y': {'bdata': 'AQ==', 'dtype': 'i1'},\n",
       "              'yaxis': 'y'},\n",
       "             {'hovertemplate': ('subcategory=lifestyleshoppingh' ... '<br>values=%{y}<extra></extra>'),\n",
       "              'legendgroup': 'lifestyleshoppinghomegarden',\n",
       "              'marker': {'color': '#FFA15A', 'pattern': {'shape': ''}},\n",
       "              'name': 'lifestyleshoppinghomegarden',\n",
       "              'orientation': 'v',\n",
       "              'showlegend': True,\n",
       "              'textposition': 'auto',\n",
       "              'type': 'bar',\n",
       "              'x': array(['lifestyle'], dtype=object),\n",
       "              'xaxis': 'x',\n",
       "              'y': {'bdata': 'AQ==', 'dtype': 'i1'},\n",
       "              'yaxis': 'y'}],\n",
       "    'layout': {'barmode': 'relative',\n",
       "               'legend': {'title': {'text': 'subcategory'}, 'tracegroupgap': 0},\n",
       "               'margin': {'t': 60},\n",
       "               'template': '...',\n",
       "               'xaxis': {'anchor': 'y', 'domain': [0.0, 1.0], 'title': {'text': 'category'}},\n",
       "               'yaxis': {'anchor': 'x', 'domain': [0.0, 1.0], 'title': {'text': 'values'}}}\n",
       "})"
      ]
     },
     "execution_count": 18,
     "metadata": {},
     "output_type": "execute_result"
    }
   ],
   "source": [
    "c=news_data[['category','subcategory']].value_counts()\n",
    "\n",
    "index=[]\n",
    "for i in c.index:\n",
    "    index.append(np.array(i))\n",
    "index=np.array(index)\n",
    "\n",
    "distribution_df=pd.DataFrame(columns=['category','subcategory','values'])\n",
    "distribution_df['category']=index[:,0]\n",
    "distribution_df['subcategory']=index[:,1]\n",
    "distribution_df['values']=c.values\n",
    "\n",
    "px.bar(data_frame=distribution_df,x='category',y='values',color='subcategory')"
   ]
  },
  {
   "cell_type": "code",
   "execution_count": null,
   "metadata": {},
   "outputs": [],
   "source": []
  },
  {
   "cell_type": "code",
   "execution_count": null,
   "metadata": {},
   "outputs": [],
   "source": []
  }
 ],
 "metadata": {
  "kernelspec": {
   "display_name": ".venv",
   "language": "python",
   "name": "python3"
  },
  "language_info": {
   "codemirror_mode": {
    "name": "ipython",
    "version": 3
   },
   "file_extension": ".py",
   "mimetype": "text/x-python",
   "name": "python",
   "nbconvert_exporter": "python",
   "pygments_lexer": "ipython3",
   "version": "3.12.4"
  }
 },
 "nbformat": 4,
 "nbformat_minor": 2
}
