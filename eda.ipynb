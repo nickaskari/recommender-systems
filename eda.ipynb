{
 "cells": [
  {
   "cell_type": "code",
   "execution_count": 2,
   "metadata": {},
   "outputs": [],
   "source": [
    "import pandas as pd"
   ]
  },
  {
   "cell_type": "code",
   "execution_count": 8,
   "metadata": {},
   "outputs": [],
   "source": [
    "news_data = pd.read_csv('data/MINDlarge_train/news.tsv', sep='\\t', header=None)\n",
    "news_data.columns = ['article_id', 'category', 'subcategory', 'title', 'abstract', 'url', 'title_entities', 'abstract_entities']"
   ]
  },
  {
   "cell_type": "code",
   "execution_count": 13,
   "metadata": {},
   "outputs": [
    {
     "data": {
      "text/html": [
       "<div>\n",
       "<style scoped>\n",
       "    .dataframe tbody tr th:only-of-type {\n",
       "        vertical-align: middle;\n",
       "    }\n",
       "\n",
       "    .dataframe tbody tr th {\n",
       "        vertical-align: top;\n",
       "    }\n",
       "\n",
       "    .dataframe thead th {\n",
       "        text-align: right;\n",
       "    }\n",
       "</style>\n",
       "<table border=\"1\" class=\"dataframe\">\n",
       "  <thead>\n",
       "    <tr style=\"text-align: right;\">\n",
       "      <th></th>\n",
       "      <th>article_id</th>\n",
       "      <th>category</th>\n",
       "      <th>subcategory</th>\n",
       "      <th>title</th>\n",
       "      <th>abstract</th>\n",
       "      <th>url</th>\n",
       "      <th>title_entities</th>\n",
       "      <th>abstract_entities</th>\n",
       "    </tr>\n",
       "  </thead>\n",
       "  <tbody>\n",
       "    <tr>\n",
       "      <th>count</th>\n",
       "      <td>101527</td>\n",
       "      <td>101527</td>\n",
       "      <td>101527</td>\n",
       "      <td>101527</td>\n",
       "      <td>96112</td>\n",
       "      <td>101527</td>\n",
       "      <td>101524</td>\n",
       "      <td>101521</td>\n",
       "    </tr>\n",
       "    <tr>\n",
       "      <th>unique</th>\n",
       "      <td>101527</td>\n",
       "      <td>18</td>\n",
       "      <td>285</td>\n",
       "      <td>98388</td>\n",
       "      <td>91654</td>\n",
       "      <td>101526</td>\n",
       "      <td>66863</td>\n",
       "      <td>72168</td>\n",
       "    </tr>\n",
       "    <tr>\n",
       "      <th>top</th>\n",
       "      <td>N88753</td>\n",
       "      <td>sports</td>\n",
       "      <td>newsus</td>\n",
       "      <td>Powerball Winning Numbers For 10/26/2019 Drawi...</td>\n",
       "      <td>What's the weather today? What's the weather f...</td>\n",
       "      <td>[]</td>\n",
       "      <td>[]</td>\n",
       "      <td>[]</td>\n",
       "    </tr>\n",
       "    <tr>\n",
       "      <th>freq</th>\n",
       "      <td>1</td>\n",
       "      <td>32020</td>\n",
       "      <td>14467</td>\n",
       "      <td>27</td>\n",
       "      <td>435</td>\n",
       "      <td>2</td>\n",
       "      <td>26053</td>\n",
       "      <td>25480</td>\n",
       "    </tr>\n",
       "  </tbody>\n",
       "</table>\n",
       "</div>"
      ],
      "text/plain": [
       "       article_id category subcategory  \\\n",
       "count      101527   101527      101527   \n",
       "unique     101527       18         285   \n",
       "top        N88753   sports      newsus   \n",
       "freq            1    32020       14467   \n",
       "\n",
       "                                                    title  \\\n",
       "count                                              101527   \n",
       "unique                                              98388   \n",
       "top     Powerball Winning Numbers For 10/26/2019 Drawi...   \n",
       "freq                                                   27   \n",
       "\n",
       "                                                 abstract     url  \\\n",
       "count                                               96112  101527   \n",
       "unique                                              91654  101526   \n",
       "top     What's the weather today? What's the weather f...      []   \n",
       "freq                                                  435       2   \n",
       "\n",
       "       title_entities abstract_entities  \n",
       "count          101524            101521  \n",
       "unique          66863             72168  \n",
       "top                []                []  \n",
       "freq            26053             25480  "
      ]
     },
     "execution_count": 13,
     "metadata": {},
     "output_type": "execute_result"
    }
   ],
   "source": [
    "news_data.describe()"
   ]
  },
  {
   "cell_type": "code",
   "execution_count": 15,
   "metadata": {},
   "outputs": [
    {
     "name": "stdout",
     "output_type": "stream",
     "text": [
      "<class 'pandas.core.frame.DataFrame'>\n",
      "RangeIndex: 101527 entries, 0 to 101526\n",
      "Data columns (total 8 columns):\n",
      " #   Column             Non-Null Count   Dtype \n",
      "---  ------             --------------   ----- \n",
      " 0   article_id         101527 non-null  object\n",
      " 1   category           101527 non-null  object\n",
      " 2   subcategory        101527 non-null  object\n",
      " 3   title              101527 non-null  object\n",
      " 4   abstract           96112 non-null   object\n",
      " 5   url                101527 non-null  object\n",
      " 6   title_entities     101524 non-null  object\n",
      " 7   abstract_entities  101521 non-null  object\n",
      "dtypes: object(8)\n",
      "memory usage: 6.2+ MB\n"
     ]
    }
   ],
   "source": [
    "news_data.info()"
   ]
  }
 ],
 "metadata": {
  "kernelspec": {
   "display_name": ".venv",
   "language": "python",
   "name": "python3"
  },
  "language_info": {
   "codemirror_mode": {
    "name": "ipython",
    "version": 3
   },
   "file_extension": ".py",
   "mimetype": "text/x-python",
   "name": "python",
   "nbconvert_exporter": "python",
   "pygments_lexer": "ipython3",
   "version": "3.12.4"
  }
 },
 "nbformat": 4,
 "nbformat_minor": 2
}
